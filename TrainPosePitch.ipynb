{
 "cells": [
  {
   "cell_type": "code",
   "execution_count": 11,
   "id": "69878fce",
   "metadata": {},
   "outputs": [
    {
     "data": {
      "text/plain": [
       "'C:/Users/abdul/Desktop/YoloV8_New_Attempt/datasets/football_pitch'"
      ]
     },
     "execution_count": 11,
     "metadata": {},
     "output_type": "execute_result"
    }
   ],
   "source": [
    "import os\n",
    "import shutil\n",
    "import random\n",
    "from pathlib import Path\n",
    "\n",
    "# إعداد المسارات\n",
    "images_folder = Path(r\"C:\\Users\\abdul\\Desktop\\YoloV8_New_Attempt\\datasets\\images_all\\Train\")\n",
    "labels_folder = Path(r\"C:\\Users\\abdul\\Desktop\\YoloV8_New_Attempt\\output_labels\")\n",
    "base_output = Path(r\"C:/Users/abdul/Desktop/YoloV8_New_Attempt/datasets/football_pitch\")\n",
    "\n",
    "# إنشاء مجلدات الإخراج\n",
    "for split in [\"train\", \"val\", \"test\"]:\n",
    "    os.makedirs(base_output / \"images\" / split, exist_ok=True)\n",
    "    os.makedirs(base_output / \"labels\" / split, exist_ok=True)\n",
    "\n",
    "# جمع كل الصور\n",
    "image_files = list(images_folder.glob(\"*.jpg\")) + list(images_folder.glob(\"*.png\"))\n",
    "random.seed(42)\n",
    "random.shuffle(image_files)\n",
    "\n",
    "# التقسيم: 80% train, 10% val, 10% test\n",
    "n_total = len(image_files)\n",
    "n_train = int(0.8 * n_total)\n",
    "n_val = int(0.1 * n_total)\n",
    "n_test = n_total - n_train - n_val\n",
    "\n",
    "splits = {\n",
    "    \"train\": image_files[:n_train],\n",
    "    \"val\": image_files[n_train:n_train + n_val],\n",
    "    \"test\": image_files[n_train + n_val:]\n",
    "}\n",
    "\n",
    "# نقل الصور وملفات .txt إلى أماكنها المناسبة\n",
    "for split, files in splits.items():\n",
    "    for img_path in files:\n",
    "        label_path = labels_folder / (img_path.stem + \".txt\")\n",
    "        if label_path.exists():\n",
    "            shutil.copy(img_path, base_output / \"images\" / split / img_path.name)\n",
    "            shutil.copy(label_path, base_output / \"labels\" / split / label_path.name)\n",
    "\n",
    "# توليد ملف data.yaml\n",
    "data_yaml = f\"\"\"path: {base_output.as_posix()}\n",
    "train: images/train\n",
    "val: images/val\n",
    "test: images/test\n",
    "\n",
    "nc: 1\n",
    "names: ['pitch_layout']\n",
    "kpt_shape: [14, 3]\n",
    "flip_idx: [2, 1, 0, 9, 10, 8, 6, 7, 5, 3, 4, 13, 12, 11]\n",
    "\"\"\"\n",
    "\n",
    "with open(base_output / \"football_pitch_data.yaml\", \"w\", encoding=\"utf-8\") as f:\n",
    "    f.write(data_yaml)\n",
    "\n",
    "base_output.as_posix()\n"
   ]
  },
  {
   "cell_type": "code",
   "execution_count": 12,
   "id": "f66e078b",
   "metadata": {},
   "outputs": [
    {
     "data": {
      "text/plain": [
       "{'عدد الصور': 466,\n",
       " 'عدد الليبلات': 579,\n",
       " 'عدد الملفات المتطابقة': 462,\n",
       " 'صور بدون ليبل': ['frame_009054',\n",
       "  'frame_009074',\n",
       "  'frame_009114',\n",
       "  'frame_009134'],\n",
       " 'ليبلات بدون صور': ['frame_000305',\n",
       "  'frame_000310',\n",
       "  'frame_000315',\n",
       "  'frame_000320',\n",
       "  'frame_000325']}"
      ]
     },
     "execution_count": 12,
     "metadata": {},
     "output_type": "execute_result"
    }
   ],
   "source": [
    "from pathlib import Path\n",
    "\n",
    "# المسارات الجديدة حسب كلامك\n",
    "image_dir = Path(r\"C:\\Users\\abdul\\Desktop\\YoloV8_New_Attempt\\datasets\\images_all\\Train\")\n",
    "label_dir = Path(r\"C:\\Users\\abdul\\Desktop\\YoloV8_New_Attempt\\output_labels\")\n",
    "\n",
    "# نقرأ أسماء الصور والليبلات\n",
    "image_files = {img.name.rsplit(\".\", 1)[0]: img for img in image_dir.glob(\"*\") if img.suffix.lower() in [\".jpg\", \".jpeg\", \".png\"]}\n",
    "label_files = {lbl.name.rsplit(\".\", 1)[0]: lbl for lbl in label_dir.glob(\"*.txt\")}\n",
    "\n",
    "# المفاتيح المتطابقة\n",
    "matched_keys = sorted(set(image_files) & set(label_files))\n",
    "\n",
    "# نطبع حالة التناسق\n",
    "{\n",
    "    \"عدد الصور\": len(image_files),\n",
    "    \"عدد الليبلات\": len(label_files),\n",
    "    \"عدد الملفات المتطابقة\": len(matched_keys),\n",
    "    \"صور بدون ليبل\": sorted(set(image_files) - set(label_files))[:5],\n",
    "    \"ليبلات بدون صور\": sorted(set(label_files) - set(image_files))[:5],\n",
    "}\n"
   ]
  },
  {
   "cell_type": "code",
   "execution_count": null,
   "id": "c1b0c2a4",
   "metadata": {},
   "outputs": [
    {
     "data": {
      "text/plain": [
       "{'train': 369, 'val': 46, 'test': 47}"
      ]
     },
     "execution_count": 15,
     "metadata": {},
     "output_type": "execute_result"
    }
   ],
   "source": [
    "import os, shutil, random\n",
    "from math import floor\n",
    "from pathlib import Path\n",
    "\n",
    "image_dir = Path(r\"datasets\\images\\Train\")  \n",
    "label_dir = Path(r\"output_labels\")  \n",
    "\n",
    "output_base = Path(r\"datasets\\football_pitch\") \n",
    "\n",
    "\n",
    "for split in [\"train\", \"val\", \"test\"]:\n",
    "    (output_base / \"images\" / split).mkdir(parents=True, exist_ok=True)\n",
    "    (output_base / \"labels\" / split).mkdir(parents=True, exist_ok=True)\n",
    "\n",
    "\n",
    "image_files = {img.stem: img for img in image_dir.glob(\"*\") if img.suffix.lower() in [\".png\", \".jpg\", \".jpeg\"]}\n",
    "label_files = {lbl.stem: lbl for lbl in label_dir.glob(\"*.txt\")}\n",
    "matched_keys = sorted(set(image_files) & set(label_files))\n",
    "\n",
    "total = len(matched_keys)  \n",
    "train_count = floor(total * 0.8)  \n",
    "val_count = floor(total * 0.1)    \n",
    "test_count = total - train_count - val_count\n",
    "random.shuffle(matched_keys)\n",
    "\n",
    "split_map = {\n",
    "    'train': matched_keys[:train_count],\n",
    "    'val': matched_keys[train_count:train_count + val_count],\n",
    "    'test': matched_keys[train_count + val_count:]\n",
    "}\n",
    "\n",
    "for split, keys in split_map.items():\n",
    "    for k in keys:\n",
    "        shutil.copy(image_files[k], output_base / \"images\" / split / image_files[k].name)\n",
    "        shutil.copy(label_files[k], output_base / \"labels\" / split / (k + \".txt\"))\n",
    "\n",
    "{split: len(keys) for split, keys in split_map.items()}\n"
   ]
  },
  {
   "cell_type": "code",
   "execution_count": null,
   "id": "e557f1bb",
   "metadata": {},
   "outputs": [
    {
     "name": "stdout",
     "output_type": "stream",
     "text": [
      "Training started at: 2025-04-09 14:02:56.972639\n",
      "Model yolov8m-pose.pt loaded successfully.\n",
      "Starting model training...\n",
      "New https://pypi.org/project/ultralytics/8.3.105 available  Update with 'pip install -U ultralytics'\n",
      "Ultralytics 8.3.103  Python-3.10.9 torch-2.6.0+cu118 CUDA:0 (NVIDIA GeForce RTX 4060, 8188MiB)\n",
      "\u001b[34m\u001b[1mengine\\trainer: \u001b[0mtask=pose, mode=train, model=yolov8m-pose.pt, data=C:\\Users\\abdul\\Desktop\\YoloV8_New_Attempt\\data.yaml, epochs=250, time=None, patience=50, batch=8, imgsz=960, save=True, save_period=-1, cache=ram, device=0, workers=0, project=Pitch_Pose_Project_ColorAugOnly, name=pose_e250_img960_clrAug_1744196576, exist_ok=True, pretrained=True, optimizer=AdamW, verbose=True, seed=0, deterministic=True, single_cls=False, rect=False, cos_lr=False, close_mosaic=10, resume=False, amp=True, fraction=1.0, profile=False, freeze=None, multi_scale=False, overlap_mask=True, mask_ratio=4, dropout=0.0, val=True, split=val, save_json=False, save_hybrid=False, conf=None, iou=0.7, max_det=300, half=False, dnn=False, plots=True, source=None, vid_stride=1, stream_buffer=False, visualize=False, augment=False, agnostic_nms=False, classes=None, retina_masks=False, embed=None, show=False, save_frames=False, save_txt=False, save_conf=False, save_crop=False, show_labels=True, show_conf=True, show_boxes=True, line_width=None, format=torchscript, keras=False, optimize=False, int8=False, dynamic=False, simplify=True, opset=None, workspace=None, nms=False, lr0=0.001, lrf=0.01, momentum=0.937, weight_decay=0.0005, warmup_epochs=5, warmup_momentum=0.8, warmup_bias_lr=0.1, box=7.5, cls=0.5, dfl=1.5, pose=12.0, kobj=1.0, nbs=64, hsv_h=0.015, hsv_s=0.7, hsv_v=0.4, degrees=0.0, translate=0.0, scale=0.0, shear=0.0, perspective=0.0, flipud=0.0, fliplr=0.0, bgr=0.0, mosaic=0.0, mixup=0.0, copy_paste=0.0, copy_paste_mode=flip, auto_augment=randaugment, erasing=0.4, crop_fraction=1.0, cfg=None, tracker=botsort.yaml, save_dir=Pitch_Pose_Project_ColorAugOnly\\pose_e250_img960_clrAug_1744196576\n",
      "Overriding model.yaml kpt_shape=[17, 3] with kpt_shape=[14, 3]\n",
      "\n",
      "                   from  n    params  module                                       arguments                     \n",
      "  0                  -1  1      1392  ultralytics.nn.modules.conv.Conv             [3, 48, 3, 2]                 \n",
      "  1                  -1  1     41664  ultralytics.nn.modules.conv.Conv             [48, 96, 3, 2]                \n",
      "  2                  -1  2    111360  ultralytics.nn.modules.block.C2f             [96, 96, 2, True]             \n",
      "  3                  -1  1    166272  ultralytics.nn.modules.conv.Conv             [96, 192, 3, 2]               \n",
      "  4                  -1  4    813312  ultralytics.nn.modules.block.C2f             [192, 192, 4, True]           \n",
      "  5                  -1  1    664320  ultralytics.nn.modules.conv.Conv             [192, 384, 3, 2]              \n",
      "  6                  -1  4   3248640  ultralytics.nn.modules.block.C2f             [384, 384, 4, True]           \n",
      "  7                  -1  1   1991808  ultralytics.nn.modules.conv.Conv             [384, 576, 3, 2]              \n",
      "  8                  -1  2   3985920  ultralytics.nn.modules.block.C2f             [576, 576, 2, True]           \n",
      "  9                  -1  1    831168  ultralytics.nn.modules.block.SPPF            [576, 576, 5]                 \n",
      " 10                  -1  1         0  torch.nn.modules.upsampling.Upsample         [None, 2, 'nearest']          \n",
      " 11             [-1, 6]  1         0  ultralytics.nn.modules.conv.Concat           [1]                           \n",
      " 12                  -1  2   1993728  ultralytics.nn.modules.block.C2f             [960, 384, 2]                 \n",
      " 13                  -1  1         0  torch.nn.modules.upsampling.Upsample         [None, 2, 'nearest']          \n",
      " 14             [-1, 4]  1         0  ultralytics.nn.modules.conv.Concat           [1]                           \n",
      " 15                  -1  2    517632  ultralytics.nn.modules.block.C2f             [576, 192, 2]                 \n",
      " 16                  -1  1    332160  ultralytics.nn.modules.conv.Conv             [192, 192, 3, 2]              \n",
      " 17            [-1, 12]  1         0  ultralytics.nn.modules.conv.Concat           [1]                           \n",
      " 18                  -1  2   1846272  ultralytics.nn.modules.block.C2f             [576, 384, 2]                 \n",
      " 19                  -1  1   1327872  ultralytics.nn.modules.conv.Conv             [384, 384, 3, 2]              \n",
      " 20             [-1, 9]  1         0  ultralytics.nn.modules.conv.Concat           [1]                           \n",
      " 21                  -1  2   4207104  ultralytics.nn.modules.block.C2f             [960, 576, 2]                 \n",
      " 22        [15, 18, 21]  1   4342897  ultralytics.nn.modules.head.Pose             [1, [14, 3], [192, 384, 576]] \n",
      "YOLOv8m-pose summary: 184 layers, 26,423,521 parameters, 26,423,505 gradients, 81.2 GFLOPs\n",
      "\n",
      "Transferred 481/517 items from pretrained weights\n",
      "Freezing layer 'model.22.dfl.conv.weight'\n",
      "\u001b[34m\u001b[1mAMP: \u001b[0mrunning Automatic Mixed Precision (AMP) checks...\n",
      "\u001b[34m\u001b[1mAMP: \u001b[0mchecks passed \n"
     ]
    },
    {
     "name": "stderr",
     "output_type": "stream",
     "text": [
      "\u001b[34m\u001b[1mtrain: \u001b[0mScanning C:\\Users\\abdul\\Desktop\\YoloV8_New_Attempt\\datasets\\football_pitch\\labels\\train.cache... 435 images, 0 backgrounds, 0 corrupt: 100%|██████████| 435/435 [00:00<?, ?it/s]\n"
     ]
    },
    {
     "name": "stdout",
     "output_type": "stream",
     "text": [
      "WARNING  cache='ram' may produce non-deterministic training results. Consider cache='disk' as a deterministic alternative if your disk space allows.\n"
     ]
    },
    {
     "name": "stderr",
     "output_type": "stream",
     "text": [
      "\u001b[34m\u001b[1mtrain: \u001b[0mCaching images (0.6GB RAM): 100%|██████████| 435/435 [00:03<00:00, 126.12it/s]\n",
      "\u001b[34m\u001b[1mval: \u001b[0mScanning C:\\Users\\abdul\\Desktop\\YoloV8_New_Attempt\\datasets\\football_pitch\\labels\\val.cache... 82 images, 0 backgrounds, 0 corrupt: 100%|██████████| 82/82 [00:00<?, ?it/s]\n"
     ]
    },
    {
     "name": "stdout",
     "output_type": "stream",
     "text": [
      "WARNING  cache='ram' may produce non-deterministic training results. Consider cache='disk' as a deterministic alternative if your disk space allows.\n"
     ]
    },
    {
     "name": "stderr",
     "output_type": "stream",
     "text": [
      "\u001b[34m\u001b[1mval: \u001b[0mCaching images (0.1GB RAM): 100%|██████████| 82/82 [00:00<00:00, 156.95it/s]"
     ]
    },
    {
     "name": "stdout",
     "output_type": "stream",
     "text": [
      "Plotting labels to Pitch_Pose_Project_ColorAugOnly\\pose_e250_img960_clrAug_1744196576\\labels.jpg... \n"
     ]
    },
    {
     "name": "stderr",
     "output_type": "stream",
     "text": [
      "\n"
     ]
    },
    {
     "name": "stdout",
     "output_type": "stream",
     "text": [
      "\u001b[34m\u001b[1moptimizer:\u001b[0m AdamW(lr=0.001, momentum=0.937) with parameter groups 83 weight(decay=0.0), 93 weight(decay=0.0005), 92 bias(decay=0.0)\n",
      "Image sizes 960 train, 960 val\n",
      "Using 0 dataloader workers\n",
      "Logging results to \u001b[1mPitch_Pose_Project_ColorAugOnly\\pose_e250_img960_clrAug_1744196576\u001b[0m\n",
      "Starting training for 250 epochs...\n",
      "\n",
      "      Epoch    GPU_mem   box_loss  pose_loss  kobj_loss   cls_loss   dfl_loss  Instances       Size\n"
     ]
    },
    {
     "name": "stderr",
     "output_type": "stream",
     "text": [
      "      1/250      7.68G      2.357      9.507     0.6426      5.747      2.935          3        960: 100%|██████████| 55/55 [02:13<00:00,  2.42s/it]\n",
      "                 Class     Images  Instances      Box(P          R      mAP50  mAP50-95)     Pose(P          R      mAP50  mAP50-95): 100%|██████████| 6/6 [00:03<00:00,  1.88it/s]"
     ]
    },
    {
     "name": "stdout",
     "output_type": "stream",
     "text": [
      "                   all         82         82      0.276      0.732      0.399      0.153     0.0213      0.061    0.00484    0.00162\n"
     ]
    },
    {
     "name": "stderr",
     "output_type": "stream",
     "text": [
      "\n"
     ]
    },
    {
     "name": "stdout",
     "output_type": "stream",
     "text": [
      "\n",
      "      Epoch    GPU_mem   box_loss  pose_loss  kobj_loss   cls_loss   dfl_loss  Instances       Size\n"
     ]
    },
    {
     "name": "stderr",
     "output_type": "stream",
     "text": [
      "      2/250      7.91G      1.476      8.747     0.6038      1.801      2.244          3        960: 100%|██████████| 55/55 [01:40<00:00,  1.84s/it]\n",
      "                 Class     Images  Instances      Box(P          R      mAP50  mAP50-95)     Pose(P          R      mAP50  mAP50-95): 100%|██████████| 6/6 [00:04<00:00,  1.29it/s]"
     ]
    },
    {
     "name": "stdout",
     "output_type": "stream",
     "text": [
      "                   all         82         82      0.432       0.61      0.542      0.277     0.0682     0.0488    0.00783    0.00276\n"
     ]
    },
    {
     "name": "stderr",
     "output_type": "stream",
     "text": [
      "\n"
     ]
    },
    {
     "name": "stdout",
     "output_type": "stream",
     "text": [
      "\n",
      "      Epoch    GPU_mem   box_loss  pose_loss  kobj_loss   cls_loss   dfl_loss  Instances       Size\n"
     ]
    },
    {
     "name": "stderr",
     "output_type": "stream",
     "text": [
      "      3/250      7.92G      1.411      8.377     0.5875      1.732      2.172          3        960: 100%|██████████| 55/55 [02:26<00:00,  2.67s/it]\n",
      "                 Class     Images  Instances      Box(P          R      mAP50  mAP50-95)     Pose(P          R      mAP50  mAP50-95): 100%|██████████| 6/6 [00:06<00:00,  1.17s/it]"
     ]
    },
    {
     "name": "stdout",
     "output_type": "stream",
     "text": [
      "                   all         82         82      0.403      0.598      0.366      0.164     0.0403      0.061    0.00757    0.00247\n"
     ]
    },
    {
     "name": "stderr",
     "output_type": "stream",
     "text": [
      "\n"
     ]
    },
    {
     "name": "stdout",
     "output_type": "stream",
     "text": [
      "\n",
      "      Epoch    GPU_mem   box_loss  pose_loss  kobj_loss   cls_loss   dfl_loss  Instances       Size\n"
     ]
    },
    {
     "name": "stderr",
     "output_type": "stream",
     "text": [
      "      4/250      7.88G      1.307       7.99     0.5786      1.758      2.063          3        960: 100%|██████████| 55/55 [04:47<00:00,  5.23s/it]\n",
      "                 Class     Images  Instances      Box(P          R      mAP50  mAP50-95)     Pose(P          R      mAP50  mAP50-95): 100%|██████████| 6/6 [00:06<00:00,  1.02s/it]"
     ]
    },
    {
     "name": "stdout",
     "output_type": "stream",
     "text": [
      "                   all         82         82      0.488      0.622      0.533      0.269     0.0181      0.061    0.00338   0.000954\n"
     ]
    },
    {
     "name": "stderr",
     "output_type": "stream",
     "text": [
      "\n"
     ]
    },
    {
     "name": "stdout",
     "output_type": "stream",
     "text": [
      "\n",
      "      Epoch    GPU_mem   box_loss  pose_loss  kobj_loss   cls_loss   dfl_loss  Instances       Size\n"
     ]
    },
    {
     "name": "stderr",
     "output_type": "stream",
     "text": [
      "      5/250      7.82G       1.26      7.699     0.5658      1.687      2.014          3        960: 100%|██████████| 55/55 [01:54<00:00,  2.08s/it]\n",
      "                 Class     Images  Instances      Box(P          R      mAP50  mAP50-95)     Pose(P          R      mAP50  mAP50-95): 100%|██████████| 6/6 [00:12<00:00,  2.06s/it]"
     ]
    },
    {
     "name": "stdout",
     "output_type": "stream",
     "text": [
      "                   all         82         82      0.234       0.43      0.275      0.101      0.065     0.0488     0.0107    0.00214\n"
     ]
    },
    {
     "name": "stderr",
     "output_type": "stream",
     "text": [
      "\n"
     ]
    },
    {
     "name": "stdout",
     "output_type": "stream",
     "text": [
      "\n",
      "      Epoch    GPU_mem   box_loss  pose_loss  kobj_loss   cls_loss   dfl_loss  Instances       Size\n"
     ]
    },
    {
     "name": "stderr",
     "output_type": "stream",
     "text": [
      "      6/250      7.89G       1.26      7.268     0.5648      1.586      1.987          3        960: 100%|██████████| 55/55 [01:53<00:00,  2.06s/it]\n",
      "                 Class     Images  Instances      Box(P          R      mAP50  mAP50-95)     Pose(P          R      mAP50  mAP50-95): 100%|██████████| 6/6 [00:11<00:00,  1.94s/it]"
     ]
    },
    {
     "name": "stdout",
     "output_type": "stream",
     "text": [
      "                   all         82         82      0.351      0.561      0.384      0.196     0.0801      0.134     0.0295    0.00707\n"
     ]
    },
    {
     "name": "stderr",
     "output_type": "stream",
     "text": [
      "\n"
     ]
    },
    {
     "name": "stdout",
     "output_type": "stream",
     "text": [
      "\n",
      "      Epoch    GPU_mem   box_loss  pose_loss  kobj_loss   cls_loss   dfl_loss  Instances       Size\n"
     ]
    },
    {
     "name": "stderr",
     "output_type": "stream",
     "text": [
      "      7/250      7.88G      1.247       7.04     0.5632       1.54      1.968          3        960: 100%|██████████| 55/55 [03:12<00:00,  3.50s/it]\n",
      "                 Class     Images  Instances      Box(P          R      mAP50  mAP50-95)     Pose(P          R      mAP50  mAP50-95): 100%|██████████| 6/6 [00:06<00:00,  1.14s/it]"
     ]
    },
    {
     "name": "stdout",
     "output_type": "stream",
     "text": [
      "                   all         82         82      0.449      0.634      0.529      0.283      0.102      0.134     0.0382    0.00971\n"
     ]
    },
    {
     "name": "stderr",
     "output_type": "stream",
     "text": [
      "\n"
     ]
    },
    {
     "name": "stdout",
     "output_type": "stream",
     "text": [
      "\n",
      "      Epoch    GPU_mem   box_loss  pose_loss  kobj_loss   cls_loss   dfl_loss  Instances       Size\n"
     ]
    },
    {
     "name": "stderr",
     "output_type": "stream",
     "text": [
      "      8/250      7.86G      1.184      6.846     0.5459      1.523      1.918          3        960: 100%|██████████| 55/55 [02:23<00:00,  2.60s/it]\n",
      "                 Class     Images  Instances      Box(P          R      mAP50  mAP50-95)     Pose(P          R      mAP50  mAP50-95): 100%|██████████| 6/6 [00:10<00:00,  1.68s/it]"
     ]
    },
    {
     "name": "stdout",
     "output_type": "stream",
     "text": [
      "                   all         82         82       0.56      0.357      0.436       0.22      0.262      0.122      0.066     0.0191\n"
     ]
    },
    {
     "name": "stderr",
     "output_type": "stream",
     "text": [
      "\n"
     ]
    },
    {
     "name": "stdout",
     "output_type": "stream",
     "text": [
      "\n",
      "      Epoch    GPU_mem   box_loss  pose_loss  kobj_loss   cls_loss   dfl_loss  Instances       Size\n"
     ]
    },
    {
     "name": "stderr",
     "output_type": "stream",
     "text": [
      "      9/250      7.92G      1.161      6.577     0.5391      1.498      1.894          3        960: 100%|██████████| 55/55 [04:00<00:00,  4.37s/it]\n",
      "                 Class     Images  Instances      Box(P          R      mAP50  mAP50-95)     Pose(P          R      mAP50  mAP50-95): 100%|██████████| 6/6 [00:06<00:00,  1.09s/it]"
     ]
    },
    {
     "name": "stdout",
     "output_type": "stream",
     "text": [
      "                   all         82         82      0.447      0.493      0.439      0.171      0.224     0.0976     0.0868     0.0362\n"
     ]
    },
    {
     "name": "stderr",
     "output_type": "stream",
     "text": [
      "\n"
     ]
    },
    {
     "name": "stdout",
     "output_type": "stream",
     "text": [
      "\n",
      "      Epoch    GPU_mem   box_loss  pose_loss  kobj_loss   cls_loss   dfl_loss  Instances       Size\n"
     ]
    },
    {
     "name": "stderr",
     "output_type": "stream",
     "text": [
      "     10/250      7.81G      1.154      6.398     0.5267      1.423      1.875          3        960: 100%|██████████| 55/55 [01:59<00:00,  2.17s/it]\n",
      "                 Class     Images  Instances      Box(P          R      mAP50  mAP50-95)     Pose(P          R      mAP50  mAP50-95): 100%|██████████| 6/6 [00:10<00:00,  1.79s/it]"
     ]
    },
    {
     "name": "stdout",
     "output_type": "stream",
     "text": [
      "                   all         82         82      0.389      0.551      0.433      0.236       0.33       0.15      0.117     0.0364\n"
     ]
    },
    {
     "name": "stderr",
     "output_type": "stream",
     "text": [
      "\n"
     ]
    },
    {
     "name": "stdout",
     "output_type": "stream",
     "text": [
      "\n",
      "      Epoch    GPU_mem   box_loss  pose_loss  kobj_loss   cls_loss   dfl_loss  Instances       Size\n"
     ]
    },
    {
     "name": "stderr",
     "output_type": "stream",
     "text": [
      "     11/250      7.89G      1.089      6.252     0.5173      1.401      1.827          3        960: 100%|██████████| 55/55 [01:48<00:00,  1.96s/it]\n",
      "                 Class     Images  Instances      Box(P          R      mAP50  mAP50-95)     Pose(P          R      mAP50  mAP50-95): 100%|██████████| 6/6 [00:07<00:00,  1.17s/it]"
     ]
    },
    {
     "name": "stdout",
     "output_type": "stream",
     "text": [
      "                   all         82         82       0.43       0.61      0.496      0.249      0.334      0.171      0.135     0.0559\n"
     ]
    },
    {
     "name": "stderr",
     "output_type": "stream",
     "text": [
      "\n"
     ]
    },
    {
     "name": "stdout",
     "output_type": "stream",
     "text": [
      "\n",
      "      Epoch    GPU_mem   box_loss  pose_loss  kobj_loss   cls_loss   dfl_loss  Instances       Size\n"
     ]
    },
    {
     "name": "stderr",
     "output_type": "stream",
     "text": [
      "     12/250      7.89G      1.099       6.21     0.5036      1.383      1.829          3        960: 100%|██████████| 55/55 [02:54<00:00,  3.18s/it]\n",
      "                 Class     Images  Instances      Box(P          R      mAP50  mAP50-95)     Pose(P          R      mAP50  mAP50-95): 100%|██████████| 6/6 [00:03<00:00,  1.73it/s]"
     ]
    },
    {
     "name": "stdout",
     "output_type": "stream",
     "text": [
      "                   all         82         82      0.392      0.488       0.43      0.245      0.321      0.134     0.0918     0.0347\n"
     ]
    },
    {
     "name": "stderr",
     "output_type": "stream",
     "text": [
      "\n"
     ]
    },
    {
     "name": "stdout",
     "output_type": "stream",
     "text": [
      "\n",
      "      Epoch    GPU_mem   box_loss  pose_loss  kobj_loss   cls_loss   dfl_loss  Instances       Size\n"
     ]
    },
    {
     "name": "stderr",
     "output_type": "stream",
     "text": [
      "     13/250      7.87G      1.059      6.067     0.5032      1.314      1.799          3        960: 100%|██████████| 55/55 [02:02<00:00,  2.23s/it]\n",
      "                 Class     Images  Instances      Box(P          R      mAP50  mAP50-95)     Pose(P          R      mAP50  mAP50-95): 100%|██████████| 6/6 [00:03<00:00,  1.82it/s]"
     ]
    },
    {
     "name": "stdout",
     "output_type": "stream",
     "text": [
      "                   all         82         82      0.632        0.5      0.572      0.347      0.196      0.134     0.0584     0.0233\n"
     ]
    },
    {
     "name": "stderr",
     "output_type": "stream",
     "text": [
      "\n"
     ]
    },
    {
     "name": "stdout",
     "output_type": "stream",
     "text": [
      "\n",
      "      Epoch    GPU_mem   box_loss  pose_loss  kobj_loss   cls_loss   dfl_loss  Instances       Size\n"
     ]
    },
    {
     "name": "stderr",
     "output_type": "stream",
     "text": [
      "     14/250      7.87G      1.016       5.81     0.4877      1.249      1.741          3        960: 100%|██████████| 55/55 [02:21<00:00,  2.58s/it]\n",
      "                 Class     Images  Instances      Box(P          R      mAP50  mAP50-95)     Pose(P          R      mAP50  mAP50-95): 100%|██████████| 6/6 [00:08<00:00,  1.47s/it]"
     ]
    },
    {
     "name": "stdout",
     "output_type": "stream",
     "text": [
      "                   all         82         82      0.357      0.598      0.471      0.278      0.251      0.171      0.106     0.0481\n"
     ]
    },
    {
     "name": "stderr",
     "output_type": "stream",
     "text": [
      "\n"
     ]
    },
    {
     "name": "stdout",
     "output_type": "stream",
     "text": [
      "\n",
      "      Epoch    GPU_mem   box_loss  pose_loss  kobj_loss   cls_loss   dfl_loss  Instances       Size\n"
     ]
    },
    {
     "name": "stderr",
     "output_type": "stream",
     "text": [
      "     15/250      7.88G     0.9726      5.703     0.4893       1.21       1.69          3        960: 100%|██████████| 55/55 [01:56<00:00,  2.12s/it]\n",
      "                 Class     Images  Instances      Box(P          R      mAP50  mAP50-95)     Pose(P          R      mAP50  mAP50-95): 100%|██████████| 6/6 [00:04<00:00,  1.39it/s]"
     ]
    },
    {
     "name": "stdout",
     "output_type": "stream",
     "text": [
      "                   all         82         82      0.488      0.685      0.597      0.376      0.243      0.224      0.137     0.0441\n"
     ]
    },
    {
     "name": "stderr",
     "output_type": "stream",
     "text": [
      "\n"
     ]
    },
    {
     "name": "stdout",
     "output_type": "stream",
     "text": [
      "\n",
      "      Epoch    GPU_mem   box_loss  pose_loss  kobj_loss   cls_loss   dfl_loss  Instances       Size\n"
     ]
    },
    {
     "name": "stderr",
     "output_type": "stream",
     "text": [
      "     16/250      7.88G     0.9767      5.533     0.4713      1.169      1.683          3        960: 100%|██████████| 55/55 [01:52<00:00,  2.05s/it]\n",
      "                 Class     Images  Instances      Box(P          R      mAP50  mAP50-95)     Pose(P          R      mAP50  mAP50-95): 100%|██████████| 6/6 [00:12<00:00,  2.00s/it]"
     ]
    },
    {
     "name": "stdout",
     "output_type": "stream",
     "text": [
      "                   all         82         82      0.588       0.75      0.715      0.445      0.304      0.183       0.11     0.0449\n"
     ]
    },
    {
     "name": "stderr",
     "output_type": "stream",
     "text": [
      "\n"
     ]
    },
    {
     "name": "stdout",
     "output_type": "stream",
     "text": [
      "\n",
      "      Epoch    GPU_mem   box_loss  pose_loss  kobj_loss   cls_loss   dfl_loss  Instances       Size\n"
     ]
    },
    {
     "name": "stderr",
     "output_type": "stream",
     "text": [
      "     17/250      7.91G     0.9353      5.354     0.4733       1.11      1.647          3        960: 100%|██████████| 55/55 [01:30<00:00,  1.65s/it]\n",
      "                 Class     Images  Instances      Box(P          R      mAP50  mAP50-95)     Pose(P          R      mAP50  mAP50-95): 100%|██████████| 6/6 [00:05<00:00,  1.02it/s]"
     ]
    },
    {
     "name": "stdout",
     "output_type": "stream",
     "text": [
      "                   all         82         82      0.627      0.677      0.719       0.46      0.426      0.305      0.237     0.0767\n"
     ]
    },
    {
     "name": "stderr",
     "output_type": "stream",
     "text": [
      "\n"
     ]
    },
    {
     "name": "stdout",
     "output_type": "stream",
     "text": [
      "\n",
      "      Epoch    GPU_mem   box_loss  pose_loss  kobj_loss   cls_loss   dfl_loss  Instances       Size\n"
     ]
    },
    {
     "name": "stderr",
     "output_type": "stream",
     "text": [
      "     18/250      7.82G     0.9221      5.327      0.459      1.105      1.636          3        960: 100%|██████████| 55/55 [01:33<00:00,  1.70s/it]\n",
      "                 Class     Images  Instances      Box(P          R      mAP50  mAP50-95)     Pose(P          R      mAP50  mAP50-95): 100%|██████████| 6/6 [00:03<00:00,  1.72it/s]"
     ]
    },
    {
     "name": "stdout",
     "output_type": "stream",
     "text": [
      "                   all         82         82      0.523      0.707      0.665      0.382      0.342      0.183      0.167     0.0764\n"
     ]
    },
    {
     "name": "stderr",
     "output_type": "stream",
     "text": [
      "\n"
     ]
    },
    {
     "name": "stdout",
     "output_type": "stream",
     "text": [
      "\n",
      "      Epoch    GPU_mem   box_loss  pose_loss  kobj_loss   cls_loss   dfl_loss  Instances       Size\n"
     ]
    },
    {
     "name": "stderr",
     "output_type": "stream",
     "text": [
      "     19/250      7.88G     0.8765      5.159     0.4539      1.057      1.588          3        960: 100%|██████████| 55/55 [01:49<00:00,  1.99s/it]\n",
      "                 Class     Images  Instances      Box(P          R      mAP50  mAP50-95)     Pose(P          R      mAP50  mAP50-95): 100%|██████████| 6/6 [00:05<00:00,  1.13it/s]"
     ]
    },
    {
     "name": "stdout",
     "output_type": "stream",
     "text": [
      "                   all         82         82      0.491      0.585      0.546      0.349      0.311      0.317       0.23     0.0805\n"
     ]
    },
    {
     "name": "stderr",
     "output_type": "stream",
     "text": [
      "\n"
     ]
    },
    {
     "name": "stdout",
     "output_type": "stream",
     "text": [
      "\n",
      "      Epoch    GPU_mem   box_loss  pose_loss  kobj_loss   cls_loss   dfl_loss  Instances       Size\n"
     ]
    },
    {
     "name": "stderr",
     "output_type": "stream",
     "text": [
      "     20/250      7.89G     0.8397      4.994     0.4478      1.002      1.549          3        960: 100%|██████████| 55/55 [01:30<00:00,  1.64s/it]\n",
      "                 Class     Images  Instances      Box(P          R      mAP50  mAP50-95)     Pose(P          R      mAP50  mAP50-95): 100%|██████████| 6/6 [00:06<00:00,  1.11s/it]"
     ]
    },
    {
     "name": "stdout",
     "output_type": "stream",
     "text": [
      "                   all         82         82      0.564       0.72      0.697      0.446      0.261      0.244      0.133     0.0621\n"
     ]
    },
    {
     "name": "stderr",
     "output_type": "stream",
     "text": [
      "\n"
     ]
    },
    {
     "name": "stdout",
     "output_type": "stream",
     "text": [
      "\n",
      "      Epoch    GPU_mem   box_loss  pose_loss  kobj_loss   cls_loss   dfl_loss  Instances       Size\n"
     ]
    },
    {
     "name": "stderr",
     "output_type": "stream",
     "text": [
      "     21/250      7.89G     0.8106      5.019     0.4407     0.9552      1.529          3        960: 100%|██████████| 55/55 [01:41<00:00,  1.85s/it]\n",
      "                 Class     Images  Instances      Box(P          R      mAP50  mAP50-95)     Pose(P          R      mAP50  mAP50-95): 100%|██████████| 6/6 [00:04<00:00,  1.39it/s]"
     ]
    },
    {
     "name": "stdout",
     "output_type": "stream",
     "text": [
      "                   all         82         82      0.555      0.609      0.621      0.408      0.457      0.329      0.257     0.0923\n"
     ]
    },
    {
     "name": "stderr",
     "output_type": "stream",
     "text": [
      "\n"
     ]
    },
    {
     "name": "stdout",
     "output_type": "stream",
     "text": [
      "\n",
      "      Epoch    GPU_mem   box_loss  pose_loss  kobj_loss   cls_loss   dfl_loss  Instances       Size\n"
     ]
    },
    {
     "name": "stderr",
     "output_type": "stream",
     "text": [
      "     22/250      7.88G     0.7808      4.787     0.4325     0.8849      1.488          3        960: 100%|██████████| 55/55 [02:22<00:00,  2.59s/it]\n",
      "                 Class     Images  Instances      Box(P          R      mAP50  mAP50-95)     Pose(P          R      mAP50  mAP50-95): 100%|██████████| 6/6 [00:03<00:00,  1.71it/s]"
     ]
    },
    {
     "name": "stdout",
     "output_type": "stream",
     "text": [
      "                   all         82         82      0.628      0.761      0.728       0.49      0.649      0.341      0.347      0.167\n"
     ]
    },
    {
     "name": "stderr",
     "output_type": "stream",
     "text": [
      "\n"
     ]
    },
    {
     "name": "stdout",
     "output_type": "stream",
     "text": [
      "\n",
      "      Epoch    GPU_mem   box_loss  pose_loss  kobj_loss   cls_loss   dfl_loss  Instances       Size\n"
     ]
    },
    {
     "name": "stderr",
     "output_type": "stream",
     "text": [
      "     23/250      7.88G     0.7418      4.724     0.4326     0.8594      1.476          3        960: 100%|██████████| 55/55 [03:17<00:00,  3.59s/it]\n",
      "                 Class     Images  Instances      Box(P          R      mAP50  mAP50-95)     Pose(P          R      mAP50  mAP50-95): 100%|██████████| 6/6 [00:09<00:00,  1.56s/it]"
     ]
    },
    {
     "name": "stdout",
     "output_type": "stream",
     "text": [
      "                   all         82         82      0.614      0.768      0.707      0.472      0.438      0.361      0.306       0.12\n"
     ]
    },
    {
     "name": "stderr",
     "output_type": "stream",
     "text": [
      "\n"
     ]
    },
    {
     "name": "stdout",
     "output_type": "stream",
     "text": [
      "\n",
      "      Epoch    GPU_mem   box_loss  pose_loss  kobj_loss   cls_loss   dfl_loss  Instances       Size\n"
     ]
    },
    {
     "name": "stderr",
     "output_type": "stream",
     "text": [
      "     24/250      7.87G     0.7061       4.58     0.4333     0.8248      1.428          3        960: 100%|██████████| 55/55 [02:53<00:00,  3.15s/it]\n",
      "                 Class     Images  Instances      Box(P          R      mAP50  mAP50-95)     Pose(P          R      mAP50  mAP50-95): 100%|██████████| 6/6 [00:11<00:00,  1.95s/it]"
     ]
    },
    {
     "name": "stdout",
     "output_type": "stream",
     "text": [
      "                   all         82         82      0.724      0.671      0.778      0.519      0.395      0.366      0.259      0.129\n"
     ]
    },
    {
     "name": "stderr",
     "output_type": "stream",
     "text": [
      "\n"
     ]
    },
    {
     "name": "stdout",
     "output_type": "stream",
     "text": [
      "\n",
      "      Epoch    GPU_mem   box_loss  pose_loss  kobj_loss   cls_loss   dfl_loss  Instances       Size\n"
     ]
    },
    {
     "name": "stderr",
     "output_type": "stream",
     "text": [
      "     25/250       7.9G     0.6674      4.458     0.4214     0.7686      1.381          3        960: 100%|██████████| 55/55 [02:01<00:00,  2.20s/it]\n",
      "                 Class     Images  Instances      Box(P          R      mAP50  mAP50-95)     Pose(P          R      mAP50  mAP50-95): 100%|██████████| 6/6 [00:09<00:00,  1.58s/it]"
     ]
    },
    {
     "name": "stdout",
     "output_type": "stream",
     "text": [
      "                   all         82         82      0.733      0.668       0.72       0.51      0.429      0.415      0.329      0.168\n"
     ]
    },
    {
     "name": "stderr",
     "output_type": "stream",
     "text": [
      "\n"
     ]
    },
    {
     "name": "stdout",
     "output_type": "stream",
     "text": [
      "\n",
      "      Epoch    GPU_mem   box_loss  pose_loss  kobj_loss   cls_loss   dfl_loss  Instances       Size\n"
     ]
    },
    {
     "name": "stderr",
     "output_type": "stream",
     "text": [
      "     26/250      7.81G     0.6555       4.36     0.4129     0.7449      1.381          3        960: 100%|██████████| 55/55 [01:28<00:00,  1.62s/it]\n",
      "                 Class     Images  Instances      Box(P          R      mAP50  mAP50-95)     Pose(P          R      mAP50  mAP50-95): 100%|██████████| 6/6 [00:04<00:00,  1.30it/s]"
     ]
    },
    {
     "name": "stdout",
     "output_type": "stream",
     "text": [
      "                   all         82         82      0.714      0.731      0.799      0.567      0.514      0.402      0.389      0.212\n"
     ]
    },
    {
     "name": "stderr",
     "output_type": "stream",
     "text": [
      "\n"
     ]
    },
    {
     "name": "stdout",
     "output_type": "stream",
     "text": [
      "\n",
      "      Epoch    GPU_mem   box_loss  pose_loss  kobj_loss   cls_loss   dfl_loss  Instances       Size\n"
     ]
    },
    {
     "name": "stderr",
     "output_type": "stream",
     "text": [
      "     27/250       7.9G     0.6274       4.23      0.414     0.7008      1.328          3        960: 100%|██████████| 55/55 [01:14<00:00,  1.35s/it]\n",
      "                 Class     Images  Instances      Box(P          R      mAP50  mAP50-95)     Pose(P          R      mAP50  mAP50-95): 100%|██████████| 6/6 [00:02<00:00,  2.30it/s]"
     ]
    },
    {
     "name": "stdout",
     "output_type": "stream",
     "text": [
      "                   all         82         82      0.656      0.744      0.772      0.537      0.584      0.427      0.423      0.227\n"
     ]
    },
    {
     "name": "stderr",
     "output_type": "stream",
     "text": [
      "\n"
     ]
    },
    {
     "name": "stdout",
     "output_type": "stream",
     "text": [
      "\n",
      "      Epoch    GPU_mem   box_loss  pose_loss  kobj_loss   cls_loss   dfl_loss  Instances       Size\n"
     ]
    },
    {
     "name": "stderr",
     "output_type": "stream",
     "text": [
      "     28/250      7.88G     0.5806      4.106      0.403     0.6528      1.285          3        960: 100%|██████████| 55/55 [02:13<00:00,  2.43s/it]\n",
      "                 Class     Images  Instances      Box(P          R      mAP50  mAP50-95)     Pose(P          R      mAP50  mAP50-95): 100%|██████████| 6/6 [00:12<00:00,  2.02s/it]"
     ]
    },
    {
     "name": "stdout",
     "output_type": "stream",
     "text": [
      "                   all         82         82      0.733      0.772      0.792      0.587       0.62      0.378       0.41      0.171\n"
     ]
    },
    {
     "name": "stderr",
     "output_type": "stream",
     "text": [
      "\n"
     ]
    },
    {
     "name": "stdout",
     "output_type": "stream",
     "text": [
      "\n",
      "      Epoch    GPU_mem   box_loss  pose_loss  kobj_loss   cls_loss   dfl_loss  Instances       Size\n"
     ]
    },
    {
     "name": "stderr",
     "output_type": "stream",
     "text": [
      "     29/250      7.87G     0.5696      3.978      0.398      0.642       1.28          3        960: 100%|██████████| 55/55 [03:52<00:00,  4.23s/it]\n",
      "                 Class     Images  Instances      Box(P          R      mAP50  mAP50-95)     Pose(P          R      mAP50  mAP50-95): 100%|██████████| 6/6 [00:05<00:00,  1.01it/s]"
     ]
    },
    {
     "name": "stdout",
     "output_type": "stream",
     "text": [
      "                   all         82         82      0.663      0.732      0.717       0.53      0.446      0.472      0.303      0.157\n"
     ]
    },
    {
     "name": "stderr",
     "output_type": "stream",
     "text": [
      "\n"
     ]
    },
    {
     "name": "stdout",
     "output_type": "stream",
     "text": [
      "\n",
      "      Epoch    GPU_mem   box_loss  pose_loss  kobj_loss   cls_loss   dfl_loss  Instances       Size\n"
     ]
    },
    {
     "name": "stderr",
     "output_type": "stream",
     "text": [
      "     30/250      7.87G     0.5563      3.877     0.3948     0.6493      1.248          3        960: 100%|██████████| 55/55 [07:47<00:00,  8.50s/it]\n",
      "                 Class     Images  Instances      Box(P          R      mAP50  mAP50-95)     Pose(P          R      mAP50  mAP50-95): 100%|██████████| 6/6 [00:04<00:00,  1.47it/s]"
     ]
    },
    {
     "name": "stdout",
     "output_type": "stream",
     "text": [
      "                   all         82         82      0.808      0.707      0.809      0.585      0.705       0.39      0.436      0.242\n"
     ]
    },
    {
     "name": "stderr",
     "output_type": "stream",
     "text": [
      "\n"
     ]
    },
    {
     "name": "stdout",
     "output_type": "stream",
     "text": [
      "\n",
      "      Epoch    GPU_mem   box_loss  pose_loss  kobj_loss   cls_loss   dfl_loss  Instances       Size\n"
     ]
    },
    {
     "name": "stderr",
     "output_type": "stream",
     "text": [
      "     31/250      7.87G     0.5434      3.837     0.3995     0.6194      1.237          3        960: 100%|██████████| 55/55 [04:59<00:00,  5.45s/it]\n",
      "                 Class     Images  Instances      Box(P          R      mAP50  mAP50-95)     Pose(P          R      mAP50  mAP50-95): 100%|██████████| 6/6 [00:06<00:00,  1.06s/it]"
     ]
    },
    {
     "name": "stdout",
     "output_type": "stream",
     "text": [
      "                   all         82         82      0.749      0.764      0.765      0.569      0.375       0.44       0.33      0.186\n"
     ]
    },
    {
     "name": "stderr",
     "output_type": "stream",
     "text": [
      "\n"
     ]
    },
    {
     "name": "stdout",
     "output_type": "stream",
     "text": [
      "\n",
      "      Epoch    GPU_mem   box_loss  pose_loss  kobj_loss   cls_loss   dfl_loss  Instances       Size\n"
     ]
    },
    {
     "name": "stderr",
     "output_type": "stream",
     "text": [
      "     32/250      7.87G     0.5286      3.806      0.397     0.5842      1.217          3        960: 100%|██████████| 55/55 [03:05<00:00,  3.37s/it]\n",
      "                 Class     Images  Instances      Box(P          R      mAP50  mAP50-95)     Pose(P          R      mAP50  mAP50-95): 100%|██████████| 6/6 [00:09<00:00,  1.60s/it]"
     ]
    },
    {
     "name": "stdout",
     "output_type": "stream",
     "text": [
      "                   all         82         82      0.671      0.793      0.806      0.593      0.477      0.402      0.325      0.164\n"
     ]
    },
    {
     "name": "stderr",
     "output_type": "stream",
     "text": [
      "\n"
     ]
    },
    {
     "name": "stdout",
     "output_type": "stream",
     "text": [
      "\n",
      "      Epoch    GPU_mem   box_loss  pose_loss  kobj_loss   cls_loss   dfl_loss  Instances       Size\n"
     ]
    },
    {
     "name": "stderr",
     "output_type": "stream",
     "text": [
      "     33/250      7.92G     0.4941      3.699     0.3914      0.565      1.184          3        960: 100%|██████████| 55/55 [02:01<00:00,  2.21s/it]\n",
      "                 Class     Images  Instances      Box(P          R      mAP50  mAP50-95)     Pose(P          R      mAP50  mAP50-95): 100%|██████████| 6/6 [00:06<00:00,  1.07s/it]"
     ]
    },
    {
     "name": "stdout",
     "output_type": "stream",
     "text": [
      "                   all         82         82      0.656       0.78      0.807      0.592      0.469      0.561      0.473      0.235\n"
     ]
    },
    {
     "name": "stderr",
     "output_type": "stream",
     "text": [
      "\n"
     ]
    },
    {
     "name": "stdout",
     "output_type": "stream",
     "text": [
      "\n",
      "      Epoch    GPU_mem   box_loss  pose_loss  kobj_loss   cls_loss   dfl_loss  Instances       Size\n"
     ]
    },
    {
     "name": "stderr",
     "output_type": "stream",
     "text": [
      "     34/250      7.81G     0.4905      3.555      0.385     0.5328      1.168          3        960: 100%|██████████| 55/55 [01:15<00:00,  1.37s/it]\n",
      "                 Class     Images  Instances      Box(P          R      mAP50  mAP50-95)     Pose(P          R      mAP50  mAP50-95): 100%|██████████| 6/6 [00:12<00:00,  2.02s/it]"
     ]
    },
    {
     "name": "stdout",
     "output_type": "stream",
     "text": [
      "                   all         82         82      0.799      0.629      0.785      0.605      0.697      0.439      0.457      0.235\n"
     ]
    },
    {
     "name": "stderr",
     "output_type": "stream",
     "text": [
      "\n"
     ]
    },
    {
     "name": "stdout",
     "output_type": "stream",
     "text": [
      "\n",
      "      Epoch    GPU_mem   box_loss  pose_loss  kobj_loss   cls_loss   dfl_loss  Instances       Size\n"
     ]
    },
    {
     "name": "stderr",
     "output_type": "stream",
     "text": [
      "     35/250      7.88G     0.4776      3.616     0.3792     0.5232      1.151          3        960: 100%|██████████| 55/55 [01:51<00:00,  2.03s/it]\n",
      "                 Class     Images  Instances      Box(P          R      mAP50  mAP50-95)     Pose(P          R      mAP50  mAP50-95): 100%|██████████| 6/6 [00:02<00:00,  2.59it/s]"
     ]
    },
    {
     "name": "stdout",
     "output_type": "stream",
     "text": [
      "                   all         82         82      0.755      0.768      0.815       0.58      0.601      0.415      0.444      0.228\n"
     ]
    },
    {
     "name": "stderr",
     "output_type": "stream",
     "text": [
      "\n"
     ]
    },
    {
     "name": "stdout",
     "output_type": "stream",
     "text": [
      "\n",
      "      Epoch    GPU_mem   box_loss  pose_loss  kobj_loss   cls_loss   dfl_loss  Instances       Size\n"
     ]
    },
    {
     "name": "stderr",
     "output_type": "stream",
     "text": [
      "     36/250      7.87G      0.451      3.468     0.3698     0.5136      1.119          3        960: 100%|██████████| 55/55 [03:24<00:00,  3.72s/it]\n",
      "                 Class     Images  Instances      Box(P          R      mAP50  mAP50-95)     Pose(P          R      mAP50  mAP50-95): 100%|██████████| 6/6 [00:03<00:00,  1.57it/s]"
     ]
    },
    {
     "name": "stdout",
     "output_type": "stream",
     "text": [
      "                   all         82         82      0.694      0.744      0.793      0.573      0.519      0.355      0.332       0.18\n"
     ]
    },
    {
     "name": "stderr",
     "output_type": "stream",
     "text": [
      "\n"
     ]
    },
    {
     "name": "stdout",
     "output_type": "stream",
     "text": [
      "\n",
      "      Epoch    GPU_mem   box_loss  pose_loss  kobj_loss   cls_loss   dfl_loss  Instances       Size\n"
     ]
    },
    {
     "name": "stderr",
     "output_type": "stream",
     "text": [
      "     37/250      7.87G     0.4424      3.458      0.375     0.5026      1.107          3        960: 100%|██████████| 55/55 [04:03<00:00,  4.43s/it]\n",
      "                 Class     Images  Instances      Box(P          R      mAP50  mAP50-95)     Pose(P          R      mAP50  mAP50-95): 100%|██████████| 6/6 [00:07<00:00,  1.30s/it]"
     ]
    },
    {
     "name": "stdout",
     "output_type": "stream",
     "text": [
      "                   all         82         82      0.755      0.756      0.819      0.625      0.569      0.415      0.429      0.242\n"
     ]
    },
    {
     "name": "stderr",
     "output_type": "stream",
     "text": [
      "\n"
     ]
    },
    {
     "name": "stdout",
     "output_type": "stream",
     "text": [
      "\n",
      "      Epoch    GPU_mem   box_loss  pose_loss  kobj_loss   cls_loss   dfl_loss  Instances       Size\n"
     ]
    },
    {
     "name": "stderr",
     "output_type": "stream",
     "text": [
      "     38/250      7.88G     0.4399      3.363     0.3693     0.4881      1.101          3        960: 100%|██████████| 55/55 [04:21<00:00,  4.75s/it]\n",
      "                 Class     Images  Instances      Box(P          R      mAP50  mAP50-95)     Pose(P          R      mAP50  mAP50-95): 100%|██████████| 6/6 [00:04<00:00,  1.23it/s]"
     ]
    },
    {
     "name": "stdout",
     "output_type": "stream",
     "text": [
      "                   all         82         82      0.769      0.812      0.845      0.636      0.546      0.537      0.431      0.201\n"
     ]
    },
    {
     "name": "stderr",
     "output_type": "stream",
     "text": [
      "\n"
     ]
    },
    {
     "name": "stdout",
     "output_type": "stream",
     "text": [
      "\n",
      "      Epoch    GPU_mem   box_loss  pose_loss  kobj_loss   cls_loss   dfl_loss  Instances       Size\n"
     ]
    },
    {
     "name": "stderr",
     "output_type": "stream",
     "text": [
      "     39/250      7.87G     0.4127      3.259     0.3676     0.4638       1.08          3        960: 100%|██████████| 55/55 [02:56<00:00,  3.22s/it]\n",
      "                 Class     Images  Instances      Box(P          R      mAP50  mAP50-95)     Pose(P          R      mAP50  mAP50-95): 100%|██████████| 6/6 [00:13<00:00,  2.24s/it]"
     ]
    },
    {
     "name": "stdout",
     "output_type": "stream",
     "text": [
      "                   all         82         82      0.814      0.747      0.837      0.644      0.587      0.504      0.477       0.24\n"
     ]
    },
    {
     "name": "stderr",
     "output_type": "stream",
     "text": [
      "\n"
     ]
    },
    {
     "name": "stdout",
     "output_type": "stream",
     "text": [
      "\n",
      "      Epoch    GPU_mem   box_loss  pose_loss  kobj_loss   cls_loss   dfl_loss  Instances       Size\n"
     ]
    },
    {
     "name": "stderr",
     "output_type": "stream",
     "text": [
      "     40/250      7.86G     0.4051      3.288     0.3619     0.4609      1.048          3        960: 100%|██████████| 55/55 [03:06<00:00,  3.39s/it]\n",
      "                 Class     Images  Instances      Box(P          R      mAP50  mAP50-95)     Pose(P          R      mAP50  mAP50-95): 100%|██████████| 6/6 [00:48<00:00,  8.15s/it]"
     ]
    },
    {
     "name": "stdout",
     "output_type": "stream",
     "text": [
      "                   all         82         82      0.756      0.866      0.848      0.628      0.527      0.524      0.427      0.237\n"
     ]
    },
    {
     "name": "stderr",
     "output_type": "stream",
     "text": [
      "\n"
     ]
    },
    {
     "name": "stdout",
     "output_type": "stream",
     "text": [
      "\n",
      "      Epoch    GPU_mem   box_loss  pose_loss  kobj_loss   cls_loss   dfl_loss  Instances       Size\n"
     ]
    },
    {
     "name": "stderr",
     "output_type": "stream",
     "text": [
      "     41/250      7.91G     0.3964      3.183     0.3551     0.4639      1.047          3        960: 100%|██████████| 55/55 [02:21<00:00,  2.57s/it]\n",
      "                 Class     Images  Instances      Box(P          R      mAP50  mAP50-95)     Pose(P          R      mAP50  mAP50-95): 100%|██████████| 6/6 [00:07<00:00,  1.30s/it]"
     ]
    },
    {
     "name": "stdout",
     "output_type": "stream",
     "text": [
      "                   all         82         82      0.802       0.72      0.816      0.604      0.563        0.5      0.486      0.251\n"
     ]
    },
    {
     "name": "stderr",
     "output_type": "stream",
     "text": [
      "\n"
     ]
    },
    {
     "name": "stdout",
     "output_type": "stream",
     "text": [
      "\n",
      "      Epoch    GPU_mem   box_loss  pose_loss  kobj_loss   cls_loss   dfl_loss  Instances       Size\n"
     ]
    },
    {
     "name": "stderr",
     "output_type": "stream",
     "text": [
      "     42/250      7.82G     0.3995      3.152     0.3553     0.4478      1.042          3        960: 100%|██████████| 55/55 [01:46<00:00,  1.93s/it]\n",
      "                 Class     Images  Instances      Box(P          R      mAP50  mAP50-95)     Pose(P          R      mAP50  mAP50-95): 100%|██████████| 6/6 [00:05<00:00,  1.12it/s]"
     ]
    },
    {
     "name": "stdout",
     "output_type": "stream",
     "text": [
      "                   all         82         82      0.785      0.758      0.821      0.594      0.512      0.451      0.421      0.201\n"
     ]
    },
    {
     "name": "stderr",
     "output_type": "stream",
     "text": [
      "\n"
     ]
    },
    {
     "name": "stdout",
     "output_type": "stream",
     "text": [
      "\n",
      "      Epoch    GPU_mem   box_loss  pose_loss  kobj_loss   cls_loss   dfl_loss  Instances       Size\n"
     ]
    },
    {
     "name": "stderr",
     "output_type": "stream",
     "text": [
      "     43/250      7.88G     0.3601       3.11     0.3457     0.4304      1.004          3        960: 100%|██████████| 55/55 [02:00<00:00,  2.20s/it]\n",
      "                 Class     Images  Instances      Box(P          R      mAP50  mAP50-95)     Pose(P          R      mAP50  mAP50-95): 100%|██████████| 6/6 [00:04<00:00,  1.22it/s]"
     ]
    },
    {
     "name": "stdout",
     "output_type": "stream",
     "text": [
      "                   all         82         82      0.732      0.707      0.773      0.599      0.606      0.449      0.429      0.212\n"
     ]
    },
    {
     "name": "stderr",
     "output_type": "stream",
     "text": [
      "\n"
     ]
    },
    {
     "name": "stdout",
     "output_type": "stream",
     "text": [
      "\n",
      "      Epoch    GPU_mem   box_loss  pose_loss  kobj_loss   cls_loss   dfl_loss  Instances       Size\n"
     ]
    },
    {
     "name": "stderr",
     "output_type": "stream",
     "text": [
      "     44/250      7.89G     0.3551      2.976     0.3431     0.4273     0.9932          3        960: 100%|██████████| 55/55 [04:07<00:00,  4.50s/it]\n",
      "                 Class     Images  Instances      Box(P          R      mAP50  mAP50-95)     Pose(P          R      mAP50  mAP50-95): 100%|██████████| 6/6 [00:10<00:00,  1.70s/it]"
     ]
    },
    {
     "name": "stdout",
     "output_type": "stream",
     "text": [
      "                   all         82         82      0.844      0.793      0.861      0.676      0.615      0.585      0.524      0.295\n"
     ]
    },
    {
     "name": "stderr",
     "output_type": "stream",
     "text": [
      "\n"
     ]
    },
    {
     "name": "stdout",
     "output_type": "stream",
     "text": [
      "\n",
      "      Epoch    GPU_mem   box_loss  pose_loss  kobj_loss   cls_loss   dfl_loss  Instances       Size\n"
     ]
    },
    {
     "name": "stderr",
     "output_type": "stream",
     "text": [
      "     45/250      7.87G     0.3343      2.946     0.3469     0.3998     0.9668          3        960: 100%|██████████| 55/55 [03:52<00:00,  4.23s/it]\n",
      "                 Class     Images  Instances      Box(P          R      mAP50  mAP50-95)     Pose(P          R      mAP50  mAP50-95): 100%|██████████| 6/6 [00:05<00:00,  1.08it/s]"
     ]
    },
    {
     "name": "stdout",
     "output_type": "stream",
     "text": [
      "                   all         82         82      0.749      0.835      0.856      0.657      0.624      0.488      0.475       0.26\n"
     ]
    },
    {
     "name": "stderr",
     "output_type": "stream",
     "text": [
      "\n"
     ]
    },
    {
     "name": "stdout",
     "output_type": "stream",
     "text": [
      "\n",
      "      Epoch    GPU_mem   box_loss  pose_loss  kobj_loss   cls_loss   dfl_loss  Instances       Size\n"
     ]
    },
    {
     "name": "stderr",
     "output_type": "stream",
     "text": [
      "     46/250      7.87G     0.3308      2.871     0.3358     0.3967     0.9609          3        960: 100%|██████████| 55/55 [07:55<00:00,  8.65s/it]\n",
      "                 Class     Images  Instances      Box(P          R      mAP50  mAP50-95)     Pose(P          R      mAP50  mAP50-95): 100%|██████████| 6/6 [00:06<00:00,  1.09s/it]"
     ]
    },
    {
     "name": "stdout",
     "output_type": "stream",
     "text": [
      "                   all         82         82      0.733      0.841      0.822      0.659      0.503      0.531      0.431      0.248\n"
     ]
    },
    {
     "name": "stderr",
     "output_type": "stream",
     "text": [
      "\n"
     ]
    },
    {
     "name": "stdout",
     "output_type": "stream",
     "text": [
      "\n",
      "      Epoch    GPU_mem   box_loss  pose_loss  kobj_loss   cls_loss   dfl_loss  Instances       Size\n"
     ]
    },
    {
     "name": "stderr",
     "output_type": "stream",
     "text": [
      "     47/250      7.87G     0.3302      2.963     0.3322     0.3813     0.9581          3        960: 100%|██████████| 55/55 [02:54<00:00,  3.18s/it]\n",
      "                 Class     Images  Instances      Box(P          R      mAP50  mAP50-95)     Pose(P          R      mAP50  mAP50-95): 100%|██████████| 6/6 [00:04<00:00,  1.28it/s]"
     ]
    },
    {
     "name": "stdout",
     "output_type": "stream",
     "text": [
      "                   all         82         82      0.717      0.803      0.825      0.633      0.493       0.51      0.433      0.233\n"
     ]
    },
    {
     "name": "stderr",
     "output_type": "stream",
     "text": [
      "\n"
     ]
    },
    {
     "name": "stdout",
     "output_type": "stream",
     "text": [
      "\n",
      "      Epoch    GPU_mem   box_loss  pose_loss  kobj_loss   cls_loss   dfl_loss  Instances       Size\n"
     ]
    },
    {
     "name": "stderr",
     "output_type": "stream",
     "text": [
      "     48/250      7.86G     0.3181      2.848     0.3265     0.3678     0.9509          3        960: 100%|██████████| 55/55 [03:43<00:00,  4.07s/it]\n",
      "                 Class     Images  Instances      Box(P          R      mAP50  mAP50-95)     Pose(P          R      mAP50  mAP50-95): 100%|██████████| 6/6 [00:13<00:00,  2.27s/it]"
     ]
    },
    {
     "name": "stdout",
     "output_type": "stream",
     "text": [
      "                   all         82         82      0.725      0.793      0.797      0.621       0.56      0.463      0.469      0.264\n"
     ]
    },
    {
     "name": "stderr",
     "output_type": "stream",
     "text": [
      "\n"
     ]
    },
    {
     "name": "stdout",
     "output_type": "stream",
     "text": [
      "\n",
      "      Epoch    GPU_mem   box_loss  pose_loss  kobj_loss   cls_loss   dfl_loss  Instances       Size\n"
     ]
    },
    {
     "name": "stderr",
     "output_type": "stream",
     "text": [
      "     49/250       7.9G     0.3066      2.811     0.3225     0.3585     0.9352          3        960: 100%|██████████| 55/55 [02:27<00:00,  2.68s/it]\n",
      "                 Class     Images  Instances      Box(P          R      mAP50  mAP50-95)     Pose(P          R      mAP50  mAP50-95): 100%|██████████| 6/6 [00:08<00:00,  1.35s/it]"
     ]
    },
    {
     "name": "stdout",
     "output_type": "stream",
     "text": [
      "                   all         82         82      0.847      0.813      0.869       0.68       0.64       0.61       0.55      0.286\n"
     ]
    },
    {
     "name": "stderr",
     "output_type": "stream",
     "text": [
      "\n"
     ]
    },
    {
     "name": "stdout",
     "output_type": "stream",
     "text": [
      "\n",
      "      Epoch    GPU_mem   box_loss  pose_loss  kobj_loss   cls_loss   dfl_loss  Instances       Size\n"
     ]
    },
    {
     "name": "stderr",
     "output_type": "stream",
     "text": [
      "     50/250       7.8G     0.3026      2.732     0.3144     0.3541     0.9344          3        960: 100%|██████████| 55/55 [01:27<00:00,  1.59s/it]\n",
      "                 Class     Images  Instances      Box(P          R      mAP50  mAP50-95)     Pose(P          R      mAP50  mAP50-95): 100%|██████████| 6/6 [00:05<00:00,  1.07it/s]"
     ]
    },
    {
     "name": "stdout",
     "output_type": "stream",
     "text": [
      "                   all         82         82      0.818      0.877      0.902      0.685       0.67      0.549      0.547      0.332\n"
     ]
    },
    {
     "name": "stderr",
     "output_type": "stream",
     "text": [
      "\n"
     ]
    },
    {
     "name": "stdout",
     "output_type": "stream",
     "text": [
      "\n",
      "      Epoch    GPU_mem   box_loss  pose_loss  kobj_loss   cls_loss   dfl_loss  Instances       Size\n"
     ]
    },
    {
     "name": "stderr",
     "output_type": "stream",
     "text": [
      "     51/250      7.88G     0.2921      2.675     0.3156     0.3488     0.9163          3        960: 100%|██████████| 55/55 [01:17<00:00,  1.40s/it]\n",
      "                 Class     Images  Instances      Box(P          R      mAP50  mAP50-95)     Pose(P          R      mAP50  mAP50-95): 100%|██████████| 6/6 [00:04<00:00,  1.41it/s]"
     ]
    },
    {
     "name": "stdout",
     "output_type": "stream",
     "text": [
      "                   all         82         82      0.909      0.848      0.919      0.732      0.614      0.573      0.533      0.323\n"
     ]
    },
    {
     "name": "stderr",
     "output_type": "stream",
     "text": [
      "\n"
     ]
    },
    {
     "name": "stdout",
     "output_type": "stream",
     "text": [
      "\n",
      "      Epoch    GPU_mem   box_loss  pose_loss  kobj_loss   cls_loss   dfl_loss  Instances       Size\n"
     ]
    },
    {
     "name": "stderr",
     "output_type": "stream",
     "text": [
      "     52/250      7.88G     0.2876      2.653     0.3111     0.3471     0.9157          3        960: 100%|██████████| 55/55 [02:17<00:00,  2.51s/it]\n",
      "                 Class     Images  Instances      Box(P          R      mAP50  mAP50-95)     Pose(P          R      mAP50  mAP50-95): 100%|██████████| 6/6 [00:03<00:00,  1.85it/s]"
     ]
    },
    {
     "name": "stdout",
     "output_type": "stream",
     "text": [
      "                   all         82         82      0.743      0.878      0.854      0.669      0.604      0.488       0.49      0.282\n"
     ]
    },
    {
     "name": "stderr",
     "output_type": "stream",
     "text": [
      "\n"
     ]
    },
    {
     "name": "stdout",
     "output_type": "stream",
     "text": [
      "\n",
      "      Epoch    GPU_mem   box_loss  pose_loss  kobj_loss   cls_loss   dfl_loss  Instances       Size\n"
     ]
    },
    {
     "name": "stderr",
     "output_type": "stream",
     "text": [
      "     53/250      7.87G      0.278       2.65     0.3094     0.3407     0.9003          3        960: 100%|██████████| 55/55 [02:29<00:00,  2.71s/it]\n",
      "                 Class     Images  Instances      Box(P          R      mAP50  mAP50-95)     Pose(P          R      mAP50  mAP50-95): 100%|██████████| 6/6 [00:04<00:00,  1.37it/s]"
     ]
    },
    {
     "name": "stdout",
     "output_type": "stream",
     "text": [
      "                   all         82         82      0.898      0.866      0.891      0.709      0.665       0.61       0.56      0.334\n"
     ]
    },
    {
     "name": "stderr",
     "output_type": "stream",
     "text": [
      "\n"
     ]
    },
    {
     "name": "stdout",
     "output_type": "stream",
     "text": [
      "\n",
      "      Epoch    GPU_mem   box_loss  pose_loss  kobj_loss   cls_loss   dfl_loss  Instances       Size\n"
     ]
    },
    {
     "name": "stderr",
     "output_type": "stream",
     "text": [
      "     54/250      7.87G      0.264      2.609     0.3084     0.3175     0.8792          3        960: 100%|██████████| 55/55 [02:54<00:00,  3.17s/it]\n",
      "                 Class     Images  Instances      Box(P          R      mAP50  mAP50-95)     Pose(P          R      mAP50  mAP50-95): 100%|██████████| 6/6 [00:13<00:00,  2.25s/it]"
     ]
    },
    {
     "name": "stdout",
     "output_type": "stream",
     "text": [
      "                   all         82         82      0.846      0.805       0.86      0.675      0.642       0.61      0.519      0.287\n"
     ]
    },
    {
     "name": "stderr",
     "output_type": "stream",
     "text": [
      "\n"
     ]
    },
    {
     "name": "stdout",
     "output_type": "stream",
     "text": [
      "\n",
      "      Epoch    GPU_mem   box_loss  pose_loss  kobj_loss   cls_loss   dfl_loss  Instances       Size\n"
     ]
    },
    {
     "name": "stderr",
     "output_type": "stream",
     "text": [
      "     55/250      7.87G      0.272      2.569      0.303     0.3245      0.888          3        960: 100%|██████████| 55/55 [04:31<00:00,  4.94s/it]\n",
      "                 Class     Images  Instances      Box(P          R      mAP50  mAP50-95)     Pose(P          R      mAP50  mAP50-95): 100%|██████████| 6/6 [00:05<00:00,  1.02it/s]"
     ]
    },
    {
     "name": "stdout",
     "output_type": "stream",
     "text": [
      "                   all         82         82      0.785      0.866      0.871      0.693      0.616      0.561      0.508      0.281\n"
     ]
    },
    {
     "name": "stderr",
     "output_type": "stream",
     "text": [
      "\n"
     ]
    },
    {
     "name": "stdout",
     "output_type": "stream",
     "text": [
      "\n",
      "      Epoch    GPU_mem   box_loss  pose_loss  kobj_loss   cls_loss   dfl_loss  Instances       Size\n"
     ]
    },
    {
     "name": "stderr",
     "output_type": "stream",
     "text": [
      "     56/250      7.86G     0.2698       2.49     0.2972     0.3073     0.8829          3        960: 100%|██████████| 55/55 [04:51<00:00,  5.29s/it]\n",
      "                 Class     Images  Instances      Box(P          R      mAP50  mAP50-95)     Pose(P          R      mAP50  mAP50-95): 100%|██████████| 6/6 [00:10<00:00,  1.73s/it]"
     ]
    },
    {
     "name": "stdout",
     "output_type": "stream",
     "text": [
      "                   all         82         82       0.87      0.818      0.885      0.709       0.63      0.585      0.562      0.296\n"
     ]
    },
    {
     "name": "stderr",
     "output_type": "stream",
     "text": [
      "\n"
     ]
    },
    {
     "name": "stdout",
     "output_type": "stream",
     "text": [
      "\n",
      "      Epoch    GPU_mem   box_loss  pose_loss  kobj_loss   cls_loss   dfl_loss  Instances       Size\n"
     ]
    },
    {
     "name": "stderr",
     "output_type": "stream",
     "text": [
      "     57/250       7.9G     0.2579      2.441     0.2936     0.3053     0.8705          3        960: 100%|██████████| 55/55 [03:33<00:00,  3.89s/it]\n",
      "                 Class     Images  Instances      Box(P          R      mAP50  mAP50-95)     Pose(P          R      mAP50  mAP50-95): 100%|██████████| 6/6 [00:19<00:00,  3.22s/it]"
     ]
    },
    {
     "name": "stdout",
     "output_type": "stream",
     "text": [
      "                   all         82         82      0.887       0.78      0.861      0.683      0.675      0.585      0.534      0.312\n"
     ]
    },
    {
     "name": "stderr",
     "output_type": "stream",
     "text": [
      "\n"
     ]
    },
    {
     "name": "stdout",
     "output_type": "stream",
     "text": [
      "\n",
      "      Epoch    GPU_mem   box_loss  pose_loss  kobj_loss   cls_loss   dfl_loss  Instances       Size\n"
     ]
    },
    {
     "name": "stderr",
     "output_type": "stream",
     "text": [
      "     58/250      7.81G     0.2545        2.4     0.2901     0.2943     0.8709          3        960: 100%|██████████| 55/55 [02:48<00:00,  3.07s/it]\n",
      "                 Class     Images  Instances      Box(P          R      mAP50  mAP50-95)     Pose(P          R      mAP50  mAP50-95): 100%|██████████| 6/6 [00:04<00:00,  1.22it/s]"
     ]
    },
    {
     "name": "stdout",
     "output_type": "stream",
     "text": [
      "                   all         82         82      0.797       0.89      0.873      0.697      0.605      0.659      0.545      0.296\n"
     ]
    },
    {
     "name": "stderr",
     "output_type": "stream",
     "text": [
      "\n"
     ]
    },
    {
     "name": "stdout",
     "output_type": "stream",
     "text": [
      "\n",
      "      Epoch    GPU_mem   box_loss  pose_loss  kobj_loss   cls_loss   dfl_loss  Instances       Size\n"
     ]
    },
    {
     "name": "stderr",
     "output_type": "stream",
     "text": [
      "     59/250      7.89G     0.2394      2.325     0.2858     0.2769      0.853          3        960: 100%|██████████| 55/55 [03:23<00:00,  3.71s/it]\n",
      "                 Class     Images  Instances      Box(P          R      mAP50  mAP50-95)     Pose(P          R      mAP50  mAP50-95): 100%|██████████| 6/6 [00:10<00:00,  1.74s/it]"
     ]
    },
    {
     "name": "stdout",
     "output_type": "stream",
     "text": [
      "                   all         82         82      0.882      0.819      0.888      0.726      0.672      0.626      0.596      0.354\n"
     ]
    },
    {
     "name": "stderr",
     "output_type": "stream",
     "text": [
      "\n"
     ]
    },
    {
     "name": "stdout",
     "output_type": "stream",
     "text": [
      "\n",
      "      Epoch    GPU_mem   box_loss  pose_loss  kobj_loss   cls_loss   dfl_loss  Instances       Size\n"
     ]
    },
    {
     "name": "stderr",
     "output_type": "stream",
     "text": [
      "     60/250      7.87G     0.2437      2.325     0.2841     0.2833     0.8621          3        960: 100%|██████████| 55/55 [03:37<00:00,  3.96s/it]\n",
      "                 Class     Images  Instances      Box(P          R      mAP50  mAP50-95)     Pose(P          R      mAP50  mAP50-95): 100%|██████████| 6/6 [00:07<00:00,  1.17s/it]"
     ]
    },
    {
     "name": "stdout",
     "output_type": "stream",
     "text": [
      "                   all         82         82      0.917      0.793      0.905      0.727      0.677      0.585      0.565      0.331\n"
     ]
    },
    {
     "name": "stderr",
     "output_type": "stream",
     "text": [
      "\n"
     ]
    },
    {
     "name": "stdout",
     "output_type": "stream",
     "text": [
      "\n",
      "      Epoch    GPU_mem   box_loss  pose_loss  kobj_loss   cls_loss   dfl_loss  Instances       Size\n"
     ]
    },
    {
     "name": "stderr",
     "output_type": "stream",
     "text": [
      "     61/250      7.88G     0.2411      2.342     0.2818     0.2755     0.8563          3        960: 100%|██████████| 55/55 [05:45<00:00,  6.28s/it]\n",
      "                 Class     Images  Instances      Box(P          R      mAP50  mAP50-95)     Pose(P          R      mAP50  mAP50-95): 100%|██████████| 6/6 [00:09<00:00,  1.60s/it]"
     ]
    },
    {
     "name": "stdout",
     "output_type": "stream",
     "text": [
      "                   all         82         82      0.894      0.829      0.915      0.738      0.714      0.634       0.62      0.352\n"
     ]
    },
    {
     "name": "stderr",
     "output_type": "stream",
     "text": [
      "\n"
     ]
    },
    {
     "name": "stdout",
     "output_type": "stream",
     "text": [
      "\n",
      "      Epoch    GPU_mem   box_loss  pose_loss  kobj_loss   cls_loss   dfl_loss  Instances       Size\n"
     ]
    },
    {
     "name": "stderr",
     "output_type": "stream",
     "text": [
      "     62/250      7.88G     0.2353      2.341     0.2769     0.2777     0.8518          3        960: 100%|██████████| 55/55 [03:30<00:00,  3.84s/it]\n",
      "                 Class     Images  Instances      Box(P          R      mAP50  mAP50-95)     Pose(P          R      mAP50  mAP50-95): 100%|██████████| 6/6 [00:15<00:00,  2.62s/it]"
     ]
    },
    {
     "name": "stdout",
     "output_type": "stream",
     "text": [
      "                   all         82         82      0.884      0.836      0.899      0.734      0.677      0.646      0.619      0.365\n"
     ]
    },
    {
     "name": "stderr",
     "output_type": "stream",
     "text": [
      "\n"
     ]
    },
    {
     "name": "stdout",
     "output_type": "stream",
     "text": [
      "\n",
      "      Epoch    GPU_mem   box_loss  pose_loss  kobj_loss   cls_loss   dfl_loss  Instances       Size\n"
     ]
    },
    {
     "name": "stderr",
     "output_type": "stream",
     "text": [
      "     63/250      7.87G     0.2257      2.246     0.2735     0.2587     0.8373          3        960: 100%|██████████| 55/55 [03:08<00:00,  3.42s/it]\n",
      "                 Class     Images  Instances      Box(P          R      mAP50  mAP50-95)     Pose(P          R      mAP50  mAP50-95): 100%|██████████| 6/6 [00:08<00:00,  1.49s/it]"
     ]
    },
    {
     "name": "stdout",
     "output_type": "stream",
     "text": [
      "                   all         82         82      0.875      0.851      0.903      0.737      0.699      0.596      0.584      0.345\n"
     ]
    },
    {
     "name": "stderr",
     "output_type": "stream",
     "text": [
      "\n"
     ]
    },
    {
     "name": "stdout",
     "output_type": "stream",
     "text": [
      "\n",
      "      Epoch    GPU_mem   box_loss  pose_loss  kobj_loss   cls_loss   dfl_loss  Instances       Size\n"
     ]
    },
    {
     "name": "stderr",
     "output_type": "stream",
     "text": [
      "     64/250      7.86G     0.2157      2.251     0.2731     0.2685     0.8345          3        960: 100%|██████████| 55/55 [04:15<00:00,  4.64s/it]\n",
      "                 Class     Images  Instances      Box(P          R      mAP50  mAP50-95)     Pose(P          R      mAP50  mAP50-95): 100%|██████████| 6/6 [00:21<00:00,  3.65s/it]"
     ]
    },
    {
     "name": "stdout",
     "output_type": "stream",
     "text": [
      "                   all         82         82      0.845      0.866      0.905      0.729      0.704       0.61       0.57       0.31\n"
     ]
    },
    {
     "name": "stderr",
     "output_type": "stream",
     "text": [
      "\n"
     ]
    },
    {
     "name": "stdout",
     "output_type": "stream",
     "text": [
      "\n",
      "      Epoch    GPU_mem   box_loss  pose_loss  kobj_loss   cls_loss   dfl_loss  Instances       Size\n"
     ]
    },
    {
     "name": "stderr",
     "output_type": "stream",
     "text": [
      "     65/250      7.91G     0.2191      2.215     0.2658      0.254     0.8312          3        960: 100%|██████████| 55/55 [03:11<00:00,  3.49s/it]\n",
      "                 Class     Images  Instances      Box(P          R      mAP50  mAP50-95)     Pose(P          R      mAP50  mAP50-95): 100%|██████████| 6/6 [00:11<00:00,  1.86s/it]"
     ]
    },
    {
     "name": "stdout",
     "output_type": "stream",
     "text": [
      "                   all         82         82      0.842      0.866      0.908      0.718      0.706      0.634      0.576      0.344\n"
     ]
    },
    {
     "name": "stderr",
     "output_type": "stream",
     "text": [
      "\n"
     ]
    },
    {
     "name": "stdout",
     "output_type": "stream",
     "text": [
      "\n",
      "      Epoch    GPU_mem   box_loss  pose_loss  kobj_loss   cls_loss   dfl_loss  Instances       Size\n"
     ]
    },
    {
     "name": "stderr",
     "output_type": "stream",
     "text": [
      "     66/250      7.81G     0.2151      2.145     0.2646      0.249     0.8241          3        960: 100%|██████████| 55/55 [02:06<00:00,  2.29s/it]\n",
      "                 Class     Images  Instances      Box(P          R      mAP50  mAP50-95)     Pose(P          R      mAP50  mAP50-95): 100%|██████████| 6/6 [00:06<00:00,  1.10s/it]"
     ]
    },
    {
     "name": "stdout",
     "output_type": "stream",
     "text": [
      "                   all         82         82       0.85      0.826      0.867      0.689      0.641      0.622      0.537      0.332\n"
     ]
    },
    {
     "name": "stderr",
     "output_type": "stream",
     "text": [
      "\n"
     ]
    },
    {
     "name": "stdout",
     "output_type": "stream",
     "text": [
      "\n",
      "      Epoch    GPU_mem   box_loss  pose_loss  kobj_loss   cls_loss   dfl_loss  Instances       Size\n"
     ]
    },
    {
     "name": "stderr",
     "output_type": "stream",
     "text": [
      "     67/250      7.88G      0.215      2.153     0.2594     0.2506     0.8254          3        960: 100%|██████████| 55/55 [01:46<00:00,  1.93s/it]\n",
      "                 Class     Images  Instances      Box(P          R      mAP50  mAP50-95)     Pose(P          R      mAP50  mAP50-95): 100%|██████████| 6/6 [00:06<00:00,  1.04s/it]"
     ]
    },
    {
     "name": "stdout",
     "output_type": "stream",
     "text": [
      "                   all         82         82      0.845      0.878        0.9      0.719      0.639      0.671      0.567      0.325\n"
     ]
    },
    {
     "name": "stderr",
     "output_type": "stream",
     "text": [
      "\n"
     ]
    },
    {
     "name": "stdout",
     "output_type": "stream",
     "text": [
      "\n",
      "      Epoch    GPU_mem   box_loss  pose_loss  kobj_loss   cls_loss   dfl_loss  Instances       Size\n"
     ]
    },
    {
     "name": "stderr",
     "output_type": "stream",
     "text": [
      "     68/250      7.88G     0.2067      2.081     0.2564     0.2359     0.8219          3        960: 100%|██████████| 55/55 [02:07<00:00,  2.32s/it]\n",
      "                 Class     Images  Instances      Box(P          R      mAP50  mAP50-95)     Pose(P          R      mAP50  mAP50-95): 100%|██████████| 6/6 [00:07<00:00,  1.26s/it]"
     ]
    },
    {
     "name": "stdout",
     "output_type": "stream",
     "text": [
      "                   all         82         82      0.814      0.866      0.891      0.715      0.634      0.622      0.575      0.342\n"
     ]
    },
    {
     "name": "stderr",
     "output_type": "stream",
     "text": [
      "\n"
     ]
    },
    {
     "name": "stdout",
     "output_type": "stream",
     "text": [
      "\n",
      "      Epoch    GPU_mem   box_loss  pose_loss  kobj_loss   cls_loss   dfl_loss  Instances       Size\n"
     ]
    },
    {
     "name": "stderr",
     "output_type": "stream",
     "text": [
      "     69/250      7.87G     0.2008      2.118     0.2576     0.2291     0.8108          3        960: 100%|██████████| 55/55 [01:46<00:00,  1.94s/it]\n",
      "                 Class     Images  Instances      Box(P          R      mAP50  mAP50-95)     Pose(P          R      mAP50  mAP50-95): 100%|██████████| 6/6 [00:22<00:00,  3.76s/it]"
     ]
    },
    {
     "name": "stdout",
     "output_type": "stream",
     "text": [
      "                   all         82         82      0.921      0.854      0.915      0.749      0.697      0.646      0.597      0.345\n"
     ]
    },
    {
     "name": "stderr",
     "output_type": "stream",
     "text": [
      "\n"
     ]
    },
    {
     "name": "stdout",
     "output_type": "stream",
     "text": [
      "\n",
      "      Epoch    GPU_mem   box_loss  pose_loss  kobj_loss   cls_loss   dfl_loss  Instances       Size\n"
     ]
    },
    {
     "name": "stderr",
     "output_type": "stream",
     "text": [
      "     70/250      7.88G     0.2028      2.095     0.2528     0.2326     0.8152          3        960: 100%|██████████| 55/55 [04:50<00:00,  5.28s/it]\n",
      "                 Class     Images  Instances      Box(P          R      mAP50  mAP50-95)     Pose(P          R      mAP50  mAP50-95): 100%|██████████| 6/6 [00:11<00:00,  1.88s/it]"
     ]
    },
    {
     "name": "stdout",
     "output_type": "stream",
     "text": [
      "                   all         82         82      0.863      0.848      0.895      0.732      0.674      0.646      0.561      0.326\n"
     ]
    },
    {
     "name": "stderr",
     "output_type": "stream",
     "text": [
      "\n"
     ]
    },
    {
     "name": "stdout",
     "output_type": "stream",
     "text": [
      "\n",
      "      Epoch    GPU_mem   box_loss  pose_loss  kobj_loss   cls_loss   dfl_loss  Instances       Size\n"
     ]
    },
    {
     "name": "stderr",
     "output_type": "stream",
     "text": [
      "     71/250      7.86G     0.1974      2.046     0.2506     0.2285     0.8037          3        960: 100%|██████████| 55/55 [02:45<00:00,  3.01s/it]\n",
      "                 Class     Images  Instances      Box(P          R      mAP50  mAP50-95)     Pose(P          R      mAP50  mAP50-95): 100%|██████████| 6/6 [00:05<00:00,  1.09it/s]"
     ]
    },
    {
     "name": "stdout",
     "output_type": "stream",
     "text": [
      "                   all         82         82      0.873      0.841      0.908      0.743      0.701      0.657      0.641      0.346\n"
     ]
    },
    {
     "name": "stderr",
     "output_type": "stream",
     "text": [
      "\n"
     ]
    },
    {
     "name": "stdout",
     "output_type": "stream",
     "text": [
      "\n",
      "      Epoch    GPU_mem   box_loss  pose_loss  kobj_loss   cls_loss   dfl_loss  Instances       Size\n"
     ]
    },
    {
     "name": "stderr",
     "output_type": "stream",
     "text": [
      "     72/250      7.86G     0.1959      2.064     0.2494     0.2273     0.8042          3        960: 100%|██████████| 55/55 [04:34<00:00,  4.99s/it]\n",
      "                 Class     Images  Instances      Box(P          R      mAP50  mAP50-95)     Pose(P          R      mAP50  mAP50-95): 100%|██████████| 6/6 [00:07<00:00,  1.27s/it]"
     ]
    },
    {
     "name": "stdout",
     "output_type": "stream",
     "text": [
      "                   all         82         82      0.865      0.854      0.898       0.73      0.609      0.664      0.552      0.354\n"
     ]
    },
    {
     "name": "stderr",
     "output_type": "stream",
     "text": [
      "\n"
     ]
    },
    {
     "name": "stdout",
     "output_type": "stream",
     "text": [
      "\n",
      "      Epoch    GPU_mem   box_loss  pose_loss  kobj_loss   cls_loss   dfl_loss  Instances       Size\n"
     ]
    },
    {
     "name": "stderr",
     "output_type": "stream",
     "text": [
      "     73/250       7.9G     0.1984       2.09      0.246     0.2291     0.8017          3        960: 100%|██████████| 55/55 [01:51<00:00,  2.02s/it]\n",
      "                 Class     Images  Instances      Box(P          R      mAP50  mAP50-95)     Pose(P          R      mAP50  mAP50-95): 100%|██████████| 6/6 [00:06<00:00,  1.15s/it]"
     ]
    },
    {
     "name": "stdout",
     "output_type": "stream",
     "text": [
      "                   all         82         82      0.885      0.793      0.895      0.719      0.688      0.622      0.579      0.361\n"
     ]
    },
    {
     "name": "stderr",
     "output_type": "stream",
     "text": [
      "\n"
     ]
    },
    {
     "name": "stdout",
     "output_type": "stream",
     "text": [
      "\n",
      "      Epoch    GPU_mem   box_loss  pose_loss  kobj_loss   cls_loss   dfl_loss  Instances       Size\n"
     ]
    },
    {
     "name": "stderr",
     "output_type": "stream",
     "text": [
      "     74/250      7.81G     0.1957      2.012     0.2368     0.2209      0.798          3        960: 100%|██████████| 55/55 [01:17<00:00,  1.41s/it]\n",
      "                 Class     Images  Instances      Box(P          R      mAP50  mAP50-95)     Pose(P          R      mAP50  mAP50-95): 100%|██████████| 6/6 [00:05<00:00,  1.09it/s]"
     ]
    },
    {
     "name": "stdout",
     "output_type": "stream",
     "text": [
      "                   all         82         82      0.841      0.838      0.892      0.746      0.641      0.634      0.566      0.351\n"
     ]
    },
    {
     "name": "stderr",
     "output_type": "stream",
     "text": [
      "\n"
     ]
    },
    {
     "name": "stdout",
     "output_type": "stream",
     "text": [
      "\n",
      "      Epoch    GPU_mem   box_loss  pose_loss  kobj_loss   cls_loss   dfl_loss  Instances       Size\n"
     ]
    },
    {
     "name": "stderr",
     "output_type": "stream",
     "text": [
      "     75/250      7.88G     0.1913      1.986     0.2329     0.2234      0.797          3        960: 100%|██████████| 55/55 [01:35<00:00,  1.74s/it]\n",
      "                 Class     Images  Instances      Box(P          R      mAP50  mAP50-95)     Pose(P          R      mAP50  mAP50-95): 100%|██████████| 6/6 [00:05<00:00,  1.02it/s]"
     ]
    },
    {
     "name": "stdout",
     "output_type": "stream",
     "text": [
      "                   all         82         82      0.819      0.841      0.905       0.74      0.617      0.634      0.565      0.379\n"
     ]
    },
    {
     "name": "stderr",
     "output_type": "stream",
     "text": [
      "\n"
     ]
    },
    {
     "name": "stdout",
     "output_type": "stream",
     "text": [
      "\n",
      "      Epoch    GPU_mem   box_loss  pose_loss  kobj_loss   cls_loss   dfl_loss  Instances       Size\n"
     ]
    },
    {
     "name": "stderr",
     "output_type": "stream",
     "text": [
      "     76/250      7.87G     0.1883      2.025     0.2322     0.2175     0.7934          3        960: 100%|██████████| 55/55 [04:19<00:00,  4.71s/it]\n",
      "                 Class     Images  Instances      Box(P          R      mAP50  mAP50-95)     Pose(P          R      mAP50  mAP50-95): 100%|██████████| 6/6 [00:07<00:00,  1.28s/it]"
     ]
    },
    {
     "name": "stdout",
     "output_type": "stream",
     "text": [
      "                   all         82         82      0.868       0.89      0.918      0.737      0.696       0.61      0.584      0.349\n"
     ]
    },
    {
     "name": "stderr",
     "output_type": "stream",
     "text": [
      "\n"
     ]
    },
    {
     "name": "stdout",
     "output_type": "stream",
     "text": [
      "\n",
      "      Epoch    GPU_mem   box_loss  pose_loss  kobj_loss   cls_loss   dfl_loss  Instances       Size\n"
     ]
    },
    {
     "name": "stderr",
     "output_type": "stream",
     "text": [
      "     77/250      7.88G     0.1806      1.997     0.2328     0.2085     0.7892          3        960: 100%|██████████| 55/55 [03:08<00:00,  3.44s/it]\n",
      "                 Class     Images  Instances      Box(P          R      mAP50  mAP50-95)     Pose(P          R      mAP50  mAP50-95): 100%|██████████| 6/6 [01:04<00:00, 10.67s/it]"
     ]
    },
    {
     "name": "stdout",
     "output_type": "stream",
     "text": [
      "                   all         82         82      0.895      0.866      0.923      0.739       0.69      0.622      0.566      0.333\n"
     ]
    },
    {
     "name": "stderr",
     "output_type": "stream",
     "text": [
      "\n"
     ]
    },
    {
     "name": "stdout",
     "output_type": "stream",
     "text": [
      "\n",
      "      Epoch    GPU_mem   box_loss  pose_loss  kobj_loss   cls_loss   dfl_loss  Instances       Size\n"
     ]
    },
    {
     "name": "stderr",
     "output_type": "stream",
     "text": [
      "     78/250      7.87G     0.1761          2      0.228     0.2075     0.7846          3        960: 100%|██████████| 55/55 [03:54<00:00,  4.26s/it]\n",
      "                 Class     Images  Instances      Box(P          R      mAP50  mAP50-95)     Pose(P          R      mAP50  mAP50-95): 100%|██████████| 6/6 [00:12<00:00,  2.16s/it]"
     ]
    },
    {
     "name": "stdout",
     "output_type": "stream",
     "text": [
      "                   all         82         82      0.909      0.854      0.911       0.75      0.685      0.634      0.603      0.336\n"
     ]
    },
    {
     "name": "stderr",
     "output_type": "stream",
     "text": [
      "\n"
     ]
    },
    {
     "name": "stdout",
     "output_type": "stream",
     "text": [
      "\n",
      "      Epoch    GPU_mem   box_loss  pose_loss  kobj_loss   cls_loss   dfl_loss  Instances       Size\n"
     ]
    },
    {
     "name": "stderr",
     "output_type": "stream",
     "text": [
      "     79/250      7.86G     0.1781      1.971     0.2284     0.2122     0.7902          3        960: 100%|██████████| 55/55 [03:10<00:00,  3.47s/it]\n",
      "                 Class     Images  Instances      Box(P          R      mAP50  mAP50-95)     Pose(P          R      mAP50  mAP50-95): 100%|██████████| 6/6 [00:07<00:00,  1.33s/it]"
     ]
    },
    {
     "name": "stdout",
     "output_type": "stream",
     "text": [
      "                   all         82         82      0.887       0.86      0.912      0.726      0.673      0.653      0.583      0.359\n"
     ]
    },
    {
     "name": "stderr",
     "output_type": "stream",
     "text": [
      "\n"
     ]
    },
    {
     "name": "stdout",
     "output_type": "stream",
     "text": [
      "\n",
      "      Epoch    GPU_mem   box_loss  pose_loss  kobj_loss   cls_loss   dfl_loss  Instances       Size\n"
     ]
    },
    {
     "name": "stderr",
     "output_type": "stream",
     "text": [
      "     80/250      7.86G     0.1757      1.919     0.2245     0.2041     0.7833          3        960: 100%|██████████| 55/55 [04:11<00:00,  4.57s/it]\n",
      "                 Class     Images  Instances      Box(P          R      mAP50  mAP50-95)     Pose(P          R      mAP50  mAP50-95): 100%|██████████| 6/6 [00:08<00:00,  1.48s/it]"
     ]
    },
    {
     "name": "stdout",
     "output_type": "stream",
     "text": [
      "                   all         82         82      0.825      0.854      0.889      0.731      0.603      0.622      0.527      0.337\n"
     ]
    },
    {
     "name": "stderr",
     "output_type": "stream",
     "text": [
      "\n"
     ]
    },
    {
     "name": "stdout",
     "output_type": "stream",
     "text": [
      "\n",
      "      Epoch    GPU_mem   box_loss  pose_loss  kobj_loss   cls_loss   dfl_loss  Instances       Size\n"
     ]
    },
    {
     "name": "stderr",
     "output_type": "stream",
     "text": [
      "     81/250      7.91G     0.1719        1.9     0.2211     0.1963       0.78          3        960: 100%|██████████| 55/55 [01:48<00:00,  1.97s/it]\n",
      "                 Class     Images  Instances      Box(P          R      mAP50  mAP50-95)     Pose(P          R      mAP50  mAP50-95): 100%|██████████| 6/6 [00:05<00:00,  1.05it/s]"
     ]
    },
    {
     "name": "stdout",
     "output_type": "stream",
     "text": [
      "                   all         82         82      0.918      0.817      0.918      0.754       0.71      0.634        0.6      0.394\n"
     ]
    },
    {
     "name": "stderr",
     "output_type": "stream",
     "text": [
      "\n"
     ]
    },
    {
     "name": "stdout",
     "output_type": "stream",
     "text": [
      "\n",
      "      Epoch    GPU_mem   box_loss  pose_loss  kobj_loss   cls_loss   dfl_loss  Instances       Size\n"
     ]
    },
    {
     "name": "stderr",
     "output_type": "stream",
     "text": [
      "     82/250      7.81G     0.1697      1.837     0.2187      0.192     0.7797          3        960: 100%|██████████| 55/55 [01:35<00:00,  1.73s/it]\n",
      "                 Class     Images  Instances      Box(P          R      mAP50  mAP50-95)     Pose(P          R      mAP50  mAP50-95): 100%|██████████| 6/6 [00:04<00:00,  1.28it/s]"
     ]
    },
    {
     "name": "stdout",
     "output_type": "stream",
     "text": [
      "                   all         82         82      0.923      0.829      0.917      0.752      0.709      0.622      0.587      0.402\n"
     ]
    },
    {
     "name": "stderr",
     "output_type": "stream",
     "text": [
      "\n"
     ]
    },
    {
     "name": "stdout",
     "output_type": "stream",
     "text": [
      "\n",
      "      Epoch    GPU_mem   box_loss  pose_loss  kobj_loss   cls_loss   dfl_loss  Instances       Size\n"
     ]
    },
    {
     "name": "stderr",
     "output_type": "stream",
     "text": [
      "     83/250      7.89G     0.1702       1.82     0.2185     0.1936     0.7828          3        960: 100%|██████████| 55/55 [02:24<00:00,  2.62s/it]\n",
      "                 Class     Images  Instances      Box(P          R      mAP50  mAP50-95)     Pose(P          R      mAP50  mAP50-95): 100%|██████████| 6/6 [00:05<00:00,  1.00it/s]"
     ]
    },
    {
     "name": "stdout",
     "output_type": "stream",
     "text": [
      "                   all         82         82      0.842      0.854      0.902      0.731      0.648      0.659      0.621      0.392\n"
     ]
    },
    {
     "name": "stderr",
     "output_type": "stream",
     "text": [
      "\n"
     ]
    },
    {
     "name": "stdout",
     "output_type": "stream",
     "text": [
      "\n",
      "      Epoch    GPU_mem   box_loss  pose_loss  kobj_loss   cls_loss   dfl_loss  Instances       Size\n"
     ]
    },
    {
     "name": "stderr",
     "output_type": "stream",
     "text": [
      "     84/250      7.88G     0.1651      1.793     0.2167     0.1902     0.7747          3        960: 100%|██████████| 55/55 [02:53<00:00,  3.16s/it]\n",
      "                 Class     Images  Instances      Box(P          R      mAP50  mAP50-95)     Pose(P          R      mAP50  mAP50-95): 100%|██████████| 6/6 [00:06<00:00,  1.04s/it]"
     ]
    },
    {
     "name": "stdout",
     "output_type": "stream",
     "text": [
      "                   all         82         82      0.906      0.854      0.913      0.747      0.711      0.659      0.623       0.38\n"
     ]
    },
    {
     "name": "stderr",
     "output_type": "stream",
     "text": [
      "\n"
     ]
    },
    {
     "name": "stdout",
     "output_type": "stream",
     "text": [
      "\n",
      "      Epoch    GPU_mem   box_loss  pose_loss  kobj_loss   cls_loss   dfl_loss  Instances       Size\n"
     ]
    },
    {
     "name": "stderr",
     "output_type": "stream",
     "text": [
      "     85/250      7.87G     0.1686      1.794     0.2116     0.1936     0.7759          3        960: 100%|██████████| 55/55 [02:58<00:00,  3.24s/it]\n",
      "                 Class     Images  Instances      Box(P          R      mAP50  mAP50-95)     Pose(P          R      mAP50  mAP50-95): 100%|██████████| 6/6 [00:06<00:00,  1.05s/it]"
     ]
    },
    {
     "name": "stdout",
     "output_type": "stream",
     "text": [
      "                   all         82         82      0.839      0.817      0.899      0.725      0.665      0.683      0.619      0.378\n"
     ]
    },
    {
     "name": "stderr",
     "output_type": "stream",
     "text": [
      "\n"
     ]
    },
    {
     "name": "stdout",
     "output_type": "stream",
     "text": [
      "\n",
      "      Epoch    GPU_mem   box_loss  pose_loss  kobj_loss   cls_loss   dfl_loss  Instances       Size\n"
     ]
    },
    {
     "name": "stderr",
     "output_type": "stream",
     "text": [
      "     86/250      7.86G     0.1634      1.784     0.2101      0.189     0.7737          3        960: 100%|██████████| 55/55 [03:51<00:00,  4.21s/it]\n",
      "                 Class     Images  Instances      Box(P          R      mAP50  mAP50-95)     Pose(P          R      mAP50  mAP50-95): 100%|██████████| 6/6 [00:03<00:00,  1.71it/s]"
     ]
    },
    {
     "name": "stdout",
     "output_type": "stream",
     "text": [
      "                   all         82         82      0.862      0.854      0.916       0.73      0.673      0.671      0.599      0.389\n"
     ]
    },
    {
     "name": "stderr",
     "output_type": "stream",
     "text": [
      "\n"
     ]
    },
    {
     "name": "stdout",
     "output_type": "stream",
     "text": [
      "\n",
      "      Epoch    GPU_mem   box_loss  pose_loss  kobj_loss   cls_loss   dfl_loss  Instances       Size\n"
     ]
    },
    {
     "name": "stderr",
     "output_type": "stream",
     "text": [
      "     87/250      7.87G      0.163      1.773     0.2081     0.1921     0.7695          3        960: 100%|██████████| 55/55 [02:11<00:00,  2.39s/it]\n",
      "                 Class     Images  Instances      Box(P          R      mAP50  mAP50-95)     Pose(P          R      mAP50  mAP50-95): 100%|██████████| 6/6 [00:04<00:00,  1.26it/s]"
     ]
    },
    {
     "name": "stdout",
     "output_type": "stream",
     "text": [
      "                   all         82         82      0.881      0.854       0.91      0.751       0.72      0.671      0.614      0.397\n"
     ]
    },
    {
     "name": "stderr",
     "output_type": "stream",
     "text": [
      "\n"
     ]
    },
    {
     "name": "stdout",
     "output_type": "stream",
     "text": [
      "\n",
      "      Epoch    GPU_mem   box_loss  pose_loss  kobj_loss   cls_loss   dfl_loss  Instances       Size\n"
     ]
    },
    {
     "name": "stderr",
     "output_type": "stream",
     "text": [
      "     88/250      7.88G     0.1573      1.756     0.2055     0.1894     0.7697          3        960: 100%|██████████| 55/55 [03:04<00:00,  3.36s/it]\n",
      "                 Class     Images  Instances      Box(P          R      mAP50  mAP50-95)     Pose(P          R      mAP50  mAP50-95): 100%|██████████| 6/6 [00:28<00:00,  4.78s/it]"
     ]
    },
    {
     "name": "stdout",
     "output_type": "stream",
     "text": [
      "                   all         82         82      0.867      0.841      0.896      0.755      0.692      0.671      0.626      0.425\n"
     ]
    },
    {
     "name": "stderr",
     "output_type": "stream",
     "text": [
      "\n"
     ]
    },
    {
     "name": "stdout",
     "output_type": "stream",
     "text": [
      "\n",
      "      Epoch    GPU_mem   box_loss  pose_loss  kobj_loss   cls_loss   dfl_loss  Instances       Size\n"
     ]
    },
    {
     "name": "stderr",
     "output_type": "stream",
     "text": [
      "     89/250       7.9G     0.1583      1.742     0.2036     0.1869      0.765          3        960: 100%|██████████| 55/55 [04:05<00:00,  4.46s/it]\n",
      "                 Class     Images  Instances      Box(P          R      mAP50  mAP50-95)     Pose(P          R      mAP50  mAP50-95): 100%|██████████| 6/6 [00:09<00:00,  1.66s/it]"
     ]
    },
    {
     "name": "stdout",
     "output_type": "stream",
     "text": [
      "                   all         82         82      0.894      0.825      0.902      0.758      0.723      0.668      0.605      0.394\n"
     ]
    },
    {
     "name": "stderr",
     "output_type": "stream",
     "text": [
      "\n"
     ]
    },
    {
     "name": "stdout",
     "output_type": "stream",
     "text": [
      "\n",
      "      Epoch    GPU_mem   box_loss  pose_loss  kobj_loss   cls_loss   dfl_loss  Instances       Size\n"
     ]
    },
    {
     "name": "stderr",
     "output_type": "stream",
     "text": [
      "     90/250      7.81G     0.1528      1.739     0.2006     0.1847      0.763          3        960: 100%|██████████| 55/55 [02:45<00:00,  3.01s/it]\n",
      "                 Class     Images  Instances      Box(P          R      mAP50  mAP50-95)     Pose(P          R      mAP50  mAP50-95): 100%|██████████| 6/6 [00:13<00:00,  2.32s/it]"
     ]
    },
    {
     "name": "stdout",
     "output_type": "stream",
     "text": [
      "                   all         82         82      0.825      0.793      0.878      0.732      0.623      0.664      0.554       0.37\n"
     ]
    },
    {
     "name": "stderr",
     "output_type": "stream",
     "text": [
      "\n"
     ]
    },
    {
     "name": "stdout",
     "output_type": "stream",
     "text": [
      "\n",
      "      Epoch    GPU_mem   box_loss  pose_loss  kobj_loss   cls_loss   dfl_loss  Instances       Size\n"
     ]
    },
    {
     "name": "stderr",
     "output_type": "stream",
     "text": [
      "     91/250      7.88G     0.1532      1.672     0.2003     0.1778     0.7613          3        960: 100%|██████████| 55/55 [02:32<00:00,  2.78s/it]\n",
      "                 Class     Images  Instances      Box(P          R      mAP50  mAP50-95)     Pose(P          R      mAP50  mAP50-95): 100%|██████████| 6/6 [00:07<00:00,  1.18s/it]"
     ]
    },
    {
     "name": "stdout",
     "output_type": "stream",
     "text": [
      "                   all         82         82      0.834      0.829      0.894      0.725      0.642      0.659      0.585      0.406\n"
     ]
    },
    {
     "name": "stderr",
     "output_type": "stream",
     "text": [
      "\n"
     ]
    },
    {
     "name": "stdout",
     "output_type": "stream",
     "text": [
      "\n",
      "      Epoch    GPU_mem   box_loss  pose_loss  kobj_loss   cls_loss   dfl_loss  Instances       Size\n"
     ]
    },
    {
     "name": "stderr",
     "output_type": "stream",
     "text": [
      "     92/250      7.88G     0.1568      1.266     0.2047     0.1851     0.7493          8        960:   9%|▉         | 5/55 [01:05<10:56, 13.12s/it]\n"
     ]
    },
    {
     "ename": "KeyboardInterrupt",
     "evalue": "",
     "output_type": "error",
     "traceback": [
      "\u001b[1;31m---------------------------------------------------------------------------\u001b[0m",
      "\u001b[1;31mKeyboardInterrupt\u001b[0m                         Traceback (most recent call last)",
      "Cell \u001b[1;32mIn[19], line 118\u001b[0m\n\u001b[0;32m    115\u001b[0m         traceback\u001b[38;5;241m.\u001b[39mprint_exc() \u001b[38;5;66;03m# لطباعة تتبع الخطأ الكامل\u001b[39;00m\n\u001b[0;32m    117\u001b[0m \u001b[38;5;28;01mif\u001b[39;00m \u001b[38;5;18m__name__\u001b[39m \u001b[38;5;241m==\u001b[39m \u001b[38;5;124m\"\u001b[39m\u001b[38;5;124m__main__\u001b[39m\u001b[38;5;124m\"\u001b[39m:\n\u001b[1;32m--> 118\u001b[0m     \u001b[43mtrain_pitch_pose_model\u001b[49m\u001b[43m(\u001b[49m\u001b[43m)\u001b[49m\n",
      "Cell \u001b[1;32mIn[19], line 64\u001b[0m, in \u001b[0;36mtrain_pitch_pose_model\u001b[1;34m()\u001b[0m\n\u001b[0;32m     62\u001b[0m \u001b[38;5;28;01mtry\u001b[39;00m:\n\u001b[0;32m     63\u001b[0m     \u001b[38;5;28mprint\u001b[39m(\u001b[38;5;124m\"\u001b[39m\u001b[38;5;124mStarting model training...\u001b[39m\u001b[38;5;124m\"\u001b[39m)\n\u001b[1;32m---> 64\u001b[0m     results \u001b[38;5;241m=\u001b[39m \u001b[43mmodel\u001b[49m\u001b[38;5;241;43m.\u001b[39;49m\u001b[43mtrain\u001b[49m\u001b[43m(\u001b[49m\n\u001b[0;32m     65\u001b[0m \u001b[43m        \u001b[49m\u001b[43mdata\u001b[49m\u001b[38;5;241;43m=\u001b[39;49m\u001b[43mDATA_YAML_PATH\u001b[49m\u001b[43m,\u001b[49m\n\u001b[0;32m     66\u001b[0m \u001b[43m        \u001b[49m\u001b[43mepochs\u001b[49m\u001b[38;5;241;43m=\u001b[39;49m\u001b[43mEPOCHS\u001b[49m\u001b[43m,\u001b[49m\n\u001b[0;32m     67\u001b[0m \u001b[43m        \u001b[49m\u001b[43mimgsz\u001b[49m\u001b[38;5;241;43m=\u001b[39;49m\u001b[43mIMG_SIZE\u001b[49m\u001b[43m,\u001b[49m\n\u001b[0;32m     68\u001b[0m \u001b[43m        \u001b[49m\u001b[43mbatch\u001b[49m\u001b[38;5;241;43m=\u001b[39;49m\u001b[43mBATCH_SIZE\u001b[49m\u001b[43m,\u001b[49m\n\u001b[0;32m     69\u001b[0m \u001b[43m        \u001b[49m\u001b[43mdevice\u001b[49m\u001b[38;5;241;43m=\u001b[39;49m\u001b[43mDEVICE\u001b[49m\u001b[43m,\u001b[49m\n\u001b[0;32m     70\u001b[0m \u001b[43m        \u001b[49m\u001b[43moptimizer\u001b[49m\u001b[38;5;241;43m=\u001b[39;49m\u001b[43mOPTIMIZER\u001b[49m\u001b[43m,\u001b[49m\n\u001b[0;32m     71\u001b[0m \u001b[43m        \u001b[49m\u001b[43mlr0\u001b[49m\u001b[38;5;241;43m=\u001b[39;49m\u001b[43mLR\u001b[49m\u001b[43m,\u001b[49m\n\u001b[0;32m     72\u001b[0m \u001b[43m        \u001b[49m\u001b[43mpatience\u001b[49m\u001b[38;5;241;43m=\u001b[39;49m\u001b[43mPATIENCE\u001b[49m\u001b[43m,\u001b[49m\n\u001b[0;32m     73\u001b[0m \u001b[43m        \u001b[49m\u001b[43mwarmup_epochs\u001b[49m\u001b[38;5;241;43m=\u001b[39;49m\u001b[43mWARMUP_EPOCHS\u001b[49m\u001b[43m,\u001b[49m\n\u001b[0;32m     74\u001b[0m \u001b[43m        \u001b[49m\u001b[43mweight_decay\u001b[49m\u001b[38;5;241;43m=\u001b[39;49m\u001b[43mWEIGHT_DECAY\u001b[49m\u001b[43m,\u001b[49m\n\u001b[0;32m     75\u001b[0m \u001b[43m        \u001b[49m\u001b[43mlrf\u001b[49m\u001b[38;5;241;43m=\u001b[39;49m\u001b[43mLRF\u001b[49m\u001b[43m,\u001b[49m\n\u001b[0;32m     76\u001b[0m \u001b[43m        \u001b[49m\u001b[38;5;66;43;03m# --- تمرير قيم Augmentation المعدلة ---\u001b[39;49;00m\n\u001b[0;32m     77\u001b[0m \u001b[43m        \u001b[49m\u001b[43mmosaic\u001b[49m\u001b[38;5;241;43m=\u001b[39;49m\u001b[43mMOSAIC\u001b[49m\u001b[43m,\u001b[49m\n\u001b[0;32m     78\u001b[0m \u001b[43m        \u001b[49m\u001b[43mmixup\u001b[49m\u001b[38;5;241;43m=\u001b[39;49m\u001b[43mMIXUP\u001b[49m\u001b[43m,\u001b[49m\n\u001b[0;32m     79\u001b[0m \u001b[43m        \u001b[49m\u001b[43mdegrees\u001b[49m\u001b[38;5;241;43m=\u001b[39;49m\u001b[43mDEGREES\u001b[49m\u001b[43m,\u001b[49m\n\u001b[0;32m     80\u001b[0m \u001b[43m        \u001b[49m\u001b[43mtranslate\u001b[49m\u001b[38;5;241;43m=\u001b[39;49m\u001b[43mTRANSLATE\u001b[49m\u001b[43m,\u001b[49m\n\u001b[0;32m     81\u001b[0m \u001b[43m        \u001b[49m\u001b[43mscale\u001b[49m\u001b[38;5;241;43m=\u001b[39;49m\u001b[43mSCALE\u001b[49m\u001b[43m,\u001b[49m\n\u001b[0;32m     82\u001b[0m \u001b[43m        \u001b[49m\u001b[43mshear\u001b[49m\u001b[38;5;241;43m=\u001b[39;49m\u001b[43mSHEAR\u001b[49m\u001b[43m,\u001b[49m\n\u001b[0;32m     83\u001b[0m \u001b[43m        \u001b[49m\u001b[43mperspective\u001b[49m\u001b[38;5;241;43m=\u001b[39;49m\u001b[43mPERSPECTIVE\u001b[49m\u001b[43m,\u001b[49m\n\u001b[0;32m     84\u001b[0m \u001b[43m        \u001b[49m\u001b[43mflipud\u001b[49m\u001b[38;5;241;43m=\u001b[39;49m\u001b[43mFLIPUD\u001b[49m\u001b[43m,\u001b[49m\n\u001b[0;32m     85\u001b[0m \u001b[43m        \u001b[49m\u001b[43mfliplr\u001b[49m\u001b[38;5;241;43m=\u001b[39;49m\u001b[43mFLIPLR\u001b[49m\u001b[43m,\u001b[49m\u001b[43m \u001b[49m\u001b[38;5;66;43;03m# <-- القيمة أصبحت 0.0\u001b[39;49;00m\n\u001b[0;32m     86\u001b[0m \u001b[43m        \u001b[49m\u001b[43mhsv_h\u001b[49m\u001b[38;5;241;43m=\u001b[39;49m\u001b[43mHSV_H\u001b[49m\u001b[43m,\u001b[49m\n\u001b[0;32m     87\u001b[0m \u001b[43m        \u001b[49m\u001b[43mhsv_s\u001b[49m\u001b[38;5;241;43m=\u001b[39;49m\u001b[43mHSV_S\u001b[49m\u001b[43m,\u001b[49m\n\u001b[0;32m     88\u001b[0m \u001b[43m        \u001b[49m\u001b[43mhsv_v\u001b[49m\u001b[38;5;241;43m=\u001b[39;49m\u001b[43mHSV_V\u001b[49m\u001b[43m,\u001b[49m\n\u001b[0;32m     89\u001b[0m \u001b[43m        \u001b[49m\u001b[38;5;66;43;03m# إعدادات أخرى\u001b[39;49;00m\n\u001b[0;32m     90\u001b[0m \u001b[43m        \u001b[49m\u001b[43mproject\u001b[49m\u001b[38;5;241;43m=\u001b[39;49m\u001b[43mPROJECT_NAME\u001b[49m\u001b[43m,\u001b[49m\n\u001b[0;32m     91\u001b[0m \u001b[43m        \u001b[49m\u001b[43mname\u001b[49m\u001b[38;5;241;43m=\u001b[39;49m\u001b[43mRUN_NAME\u001b[49m\u001b[43m,\u001b[49m\n\u001b[0;32m     92\u001b[0m \u001b[43m        \u001b[49m\u001b[43mcache\u001b[49m\u001b[38;5;241;43m=\u001b[39;49m\u001b[38;5;124;43m\"\u001b[39;49m\u001b[38;5;124;43mram\u001b[39;49m\u001b[38;5;124;43m\"\u001b[39;49m\u001b[43m,\u001b[49m\n\u001b[0;32m     93\u001b[0m \u001b[43m        \u001b[49m\u001b[43mworkers\u001b[49m\u001b[38;5;241;43m=\u001b[39;49m\u001b[38;5;241;43m0\u001b[39;49m\u001b[43m,\u001b[49m\n\u001b[0;32m     94\u001b[0m \u001b[43m        \u001b[49m\u001b[43mexist_ok\u001b[49m\u001b[38;5;241;43m=\u001b[39;49m\u001b[38;5;28;43;01mTrue\u001b[39;49;00m\u001b[43m,\u001b[49m\n\u001b[0;32m     95\u001b[0m \u001b[43m        \u001b[49m\u001b[43msave\u001b[49m\u001b[38;5;241;43m=\u001b[39;49m\u001b[38;5;28;43;01mTrue\u001b[39;49;00m\u001b[43m,\u001b[49m\n\u001b[0;32m     96\u001b[0m \u001b[43m        \u001b[49m\u001b[43msave_period\u001b[49m\u001b[38;5;241;43m=\u001b[39;49m\u001b[38;5;241;43m-\u001b[39;49m\u001b[38;5;241;43m1\u001b[39;49m\u001b[43m,\u001b[49m\n\u001b[0;32m     97\u001b[0m \u001b[43m        \u001b[49m\u001b[43mval\u001b[49m\u001b[38;5;241;43m=\u001b[39;49m\u001b[38;5;28;43;01mTrue\u001b[39;49;00m\u001b[43m,\u001b[49m\n\u001b[0;32m     98\u001b[0m \u001b[43m        \u001b[49m\u001b[43mplots\u001b[49m\u001b[38;5;241;43m=\u001b[39;49m\u001b[38;5;28;43;01mTrue\u001b[39;49;00m\n\u001b[0;32m     99\u001b[0m \u001b[43m    \u001b[49m\u001b[43m)\u001b[49m\n\u001b[0;32m    100\u001b[0m     \u001b[38;5;28mprint\u001b[39m(\u001b[38;5;124m\"\u001b[39m\u001b[38;5;124mTraining function finished.\u001b[39m\u001b[38;5;124m\"\u001b[39m)\n\u001b[0;32m    102\u001b[0m     end_time \u001b[38;5;241m=\u001b[39m time\u001b[38;5;241m.\u001b[39mtime()\n",
      "File \u001b[1;32mc:\\Users\\abdul\\Desktop\\YoloV8_New_Attempt\\.venv\\lib\\site-packages\\ultralytics\\engine\\model.py:791\u001b[0m, in \u001b[0;36mModel.train\u001b[1;34m(self, trainer, **kwargs)\u001b[0m\n\u001b[0;32m    788\u001b[0m     \u001b[38;5;28mself\u001b[39m\u001b[38;5;241m.\u001b[39mmodel \u001b[38;5;241m=\u001b[39m \u001b[38;5;28mself\u001b[39m\u001b[38;5;241m.\u001b[39mtrainer\u001b[38;5;241m.\u001b[39mmodel\n\u001b[0;32m    790\u001b[0m \u001b[38;5;28mself\u001b[39m\u001b[38;5;241m.\u001b[39mtrainer\u001b[38;5;241m.\u001b[39mhub_session \u001b[38;5;241m=\u001b[39m \u001b[38;5;28mself\u001b[39m\u001b[38;5;241m.\u001b[39msession  \u001b[38;5;66;03m# attach optional HUB session\u001b[39;00m\n\u001b[1;32m--> 791\u001b[0m \u001b[38;5;28;43mself\u001b[39;49m\u001b[38;5;241;43m.\u001b[39;49m\u001b[43mtrainer\u001b[49m\u001b[38;5;241;43m.\u001b[39;49m\u001b[43mtrain\u001b[49m\u001b[43m(\u001b[49m\u001b[43m)\u001b[49m\n\u001b[0;32m    792\u001b[0m \u001b[38;5;66;03m# Update model and cfg after training\u001b[39;00m\n\u001b[0;32m    793\u001b[0m \u001b[38;5;28;01mif\u001b[39;00m RANK \u001b[38;5;129;01min\u001b[39;00m {\u001b[38;5;241m-\u001b[39m\u001b[38;5;241m1\u001b[39m, \u001b[38;5;241m0\u001b[39m}:\n",
      "File \u001b[1;32mc:\\Users\\abdul\\Desktop\\YoloV8_New_Attempt\\.venv\\lib\\site-packages\\ultralytics\\engine\\trainer.py:211\u001b[0m, in \u001b[0;36mBaseTrainer.train\u001b[1;34m(self)\u001b[0m\n\u001b[0;32m    208\u001b[0m         ddp_cleanup(\u001b[38;5;28mself\u001b[39m, \u001b[38;5;28mstr\u001b[39m(file))\n\u001b[0;32m    210\u001b[0m \u001b[38;5;28;01melse\u001b[39;00m:\n\u001b[1;32m--> 211\u001b[0m     \u001b[38;5;28;43mself\u001b[39;49m\u001b[38;5;241;43m.\u001b[39;49m\u001b[43m_do_train\u001b[49m\u001b[43m(\u001b[49m\u001b[43mworld_size\u001b[49m\u001b[43m)\u001b[49m\n",
      "File \u001b[1;32mc:\\Users\\abdul\\Desktop\\YoloV8_New_Attempt\\.venv\\lib\\site-packages\\ultralytics\\engine\\trainer.py:414\u001b[0m, in \u001b[0;36mBaseTrainer._do_train\u001b[1;34m(self, world_size)\u001b[0m\n\u001b[0;32m    412\u001b[0m \u001b[38;5;28;01mif\u001b[39;00m RANK \u001b[38;5;129;01min\u001b[39;00m {\u001b[38;5;241m-\u001b[39m\u001b[38;5;241m1\u001b[39m, \u001b[38;5;241m0\u001b[39m}:\n\u001b[0;32m    413\u001b[0m     loss_length \u001b[38;5;241m=\u001b[39m \u001b[38;5;28mself\u001b[39m\u001b[38;5;241m.\u001b[39mtloss\u001b[38;5;241m.\u001b[39mshape[\u001b[38;5;241m0\u001b[39m] \u001b[38;5;28;01mif\u001b[39;00m \u001b[38;5;28mlen\u001b[39m(\u001b[38;5;28mself\u001b[39m\u001b[38;5;241m.\u001b[39mtloss\u001b[38;5;241m.\u001b[39mshape) \u001b[38;5;28;01melse\u001b[39;00m \u001b[38;5;241m1\u001b[39m\n\u001b[1;32m--> 414\u001b[0m     \u001b[43mpbar\u001b[49m\u001b[38;5;241;43m.\u001b[39;49m\u001b[43mset_description\u001b[49m\u001b[43m(\u001b[49m\n\u001b[0;32m    415\u001b[0m \u001b[43m        \u001b[49m\u001b[43m(\u001b[49m\u001b[38;5;124;43m\"\u001b[39;49m\u001b[38;5;132;43;01m%11s\u001b[39;49;00m\u001b[38;5;124;43m\"\u001b[39;49m\u001b[43m \u001b[49m\u001b[38;5;241;43m*\u001b[39;49m\u001b[43m \u001b[49m\u001b[38;5;241;43m2\u001b[39;49m\u001b[43m \u001b[49m\u001b[38;5;241;43m+\u001b[39;49m\u001b[43m \u001b[49m\u001b[38;5;124;43m\"\u001b[39;49m\u001b[38;5;132;43;01m%11.4g\u001b[39;49;00m\u001b[38;5;124;43m\"\u001b[39;49m\u001b[43m \u001b[49m\u001b[38;5;241;43m*\u001b[39;49m\u001b[43m \u001b[49m\u001b[43m(\u001b[49m\u001b[38;5;241;43m2\u001b[39;49m\u001b[43m \u001b[49m\u001b[38;5;241;43m+\u001b[39;49m\u001b[43m \u001b[49m\u001b[43mloss_length\u001b[49m\u001b[43m)\u001b[49m\u001b[43m)\u001b[49m\n\u001b[0;32m    416\u001b[0m \u001b[43m        \u001b[49m\u001b[38;5;241;43m%\u001b[39;49m\u001b[43m \u001b[49m\u001b[43m(\u001b[49m\n\u001b[0;32m    417\u001b[0m \u001b[43m            \u001b[49m\u001b[38;5;124;43mf\u001b[39;49m\u001b[38;5;124;43m\"\u001b[39;49m\u001b[38;5;132;43;01m{\u001b[39;49;00m\u001b[43mepoch\u001b[49m\u001b[38;5;250;43m \u001b[39;49m\u001b[38;5;241;43m+\u001b[39;49m\u001b[38;5;250;43m \u001b[39;49m\u001b[38;5;241;43m1\u001b[39;49m\u001b[38;5;132;43;01m}\u001b[39;49;00m\u001b[38;5;124;43m/\u001b[39;49m\u001b[38;5;132;43;01m{\u001b[39;49;00m\u001b[38;5;28;43mself\u001b[39;49m\u001b[38;5;241;43m.\u001b[39;49m\u001b[43mepochs\u001b[49m\u001b[38;5;132;43;01m}\u001b[39;49;00m\u001b[38;5;124;43m\"\u001b[39;49m\u001b[43m,\u001b[49m\n\u001b[0;32m    418\u001b[0m \u001b[43m            \u001b[49m\u001b[38;5;124;43mf\u001b[39;49m\u001b[38;5;124;43m\"\u001b[39;49m\u001b[38;5;132;43;01m{\u001b[39;49;00m\u001b[38;5;28;43mself\u001b[39;49m\u001b[38;5;241;43m.\u001b[39;49m\u001b[43m_get_memory\u001b[49m\u001b[43m(\u001b[49m\u001b[43m)\u001b[49m\u001b[38;5;132;43;01m:\u001b[39;49;00m\u001b[38;5;124;43m.3g\u001b[39;49m\u001b[38;5;132;43;01m}\u001b[39;49;00m\u001b[38;5;124;43mG\u001b[39;49m\u001b[38;5;124;43m\"\u001b[39;49m\u001b[43m,\u001b[49m\u001b[43m  \u001b[49m\u001b[38;5;66;43;03m# (GB) GPU memory util\u001b[39;49;00m\n\u001b[0;32m    419\u001b[0m \u001b[43m            \u001b[49m\u001b[38;5;241;43m*\u001b[39;49m\u001b[43m(\u001b[49m\u001b[38;5;28;43mself\u001b[39;49m\u001b[38;5;241;43m.\u001b[39;49m\u001b[43mtloss\u001b[49m\u001b[43m \u001b[49m\u001b[38;5;28;43;01mif\u001b[39;49;00m\u001b[43m \u001b[49m\u001b[43mloss_length\u001b[49m\u001b[43m \u001b[49m\u001b[38;5;241;43m>\u001b[39;49m\u001b[43m \u001b[49m\u001b[38;5;241;43m1\u001b[39;49m\u001b[43m \u001b[49m\u001b[38;5;28;43;01melse\u001b[39;49;00m\u001b[43m \u001b[49m\u001b[43mtorch\u001b[49m\u001b[38;5;241;43m.\u001b[39;49m\u001b[43munsqueeze\u001b[49m\u001b[43m(\u001b[49m\u001b[38;5;28;43mself\u001b[39;49m\u001b[38;5;241;43m.\u001b[39;49m\u001b[43mtloss\u001b[49m\u001b[43m,\u001b[49m\u001b[43m \u001b[49m\u001b[38;5;241;43m0\u001b[39;49m\u001b[43m)\u001b[49m\u001b[43m)\u001b[49m\u001b[43m,\u001b[49m\u001b[43m  \u001b[49m\u001b[38;5;66;43;03m# losses\u001b[39;49;00m\n\u001b[0;32m    420\u001b[0m \u001b[43m            \u001b[49m\u001b[43mbatch\u001b[49m\u001b[43m[\u001b[49m\u001b[38;5;124;43m\"\u001b[39;49m\u001b[38;5;124;43mcls\u001b[39;49m\u001b[38;5;124;43m\"\u001b[39;49m\u001b[43m]\u001b[49m\u001b[38;5;241;43m.\u001b[39;49m\u001b[43mshape\u001b[49m\u001b[43m[\u001b[49m\u001b[38;5;241;43m0\u001b[39;49m\u001b[43m]\u001b[49m\u001b[43m,\u001b[49m\u001b[43m  \u001b[49m\u001b[38;5;66;43;03m# batch size, i.e. 8\u001b[39;49;00m\n\u001b[0;32m    421\u001b[0m \u001b[43m            \u001b[49m\u001b[43mbatch\u001b[49m\u001b[43m[\u001b[49m\u001b[38;5;124;43m\"\u001b[39;49m\u001b[38;5;124;43mimg\u001b[39;49m\u001b[38;5;124;43m\"\u001b[39;49m\u001b[43m]\u001b[49m\u001b[38;5;241;43m.\u001b[39;49m\u001b[43mshape\u001b[49m\u001b[43m[\u001b[49m\u001b[38;5;241;43m-\u001b[39;49m\u001b[38;5;241;43m1\u001b[39;49m\u001b[43m]\u001b[49m\u001b[43m,\u001b[49m\u001b[43m  \u001b[49m\u001b[38;5;66;43;03m# imgsz, i.e 640\u001b[39;49;00m\n\u001b[0;32m    422\u001b[0m \u001b[43m        \u001b[49m\u001b[43m)\u001b[49m\n\u001b[0;32m    423\u001b[0m \u001b[43m    \u001b[49m\u001b[43m)\u001b[49m\n\u001b[0;32m    424\u001b[0m     \u001b[38;5;28mself\u001b[39m\u001b[38;5;241m.\u001b[39mrun_callbacks(\u001b[38;5;124m\"\u001b[39m\u001b[38;5;124mon_batch_end\u001b[39m\u001b[38;5;124m\"\u001b[39m)\n\u001b[0;32m    425\u001b[0m     \u001b[38;5;28;01mif\u001b[39;00m \u001b[38;5;28mself\u001b[39m\u001b[38;5;241m.\u001b[39margs\u001b[38;5;241m.\u001b[39mplots \u001b[38;5;129;01mand\u001b[39;00m ni \u001b[38;5;129;01min\u001b[39;00m \u001b[38;5;28mself\u001b[39m\u001b[38;5;241m.\u001b[39mplot_idx:\n",
      "File \u001b[1;32mc:\\Users\\abdul\\Desktop\\YoloV8_New_Attempt\\.venv\\lib\\site-packages\\tqdm\\std.py:1382\u001b[0m, in \u001b[0;36mtqdm.set_description\u001b[1;34m(self, desc, refresh)\u001b[0m\n\u001b[0;32m   1379\u001b[0m     \u001b[38;5;28mself\u001b[39m\u001b[38;5;241m.\u001b[39m_ema_miniters \u001b[38;5;241m=\u001b[39m EMA(\u001b[38;5;28mself\u001b[39m\u001b[38;5;241m.\u001b[39msmoothing)\n\u001b[0;32m   1380\u001b[0m     \u001b[38;5;28mself\u001b[39m\u001b[38;5;241m.\u001b[39mrefresh()\n\u001b[1;32m-> 1382\u001b[0m \u001b[38;5;28;01mdef\u001b[39;00m\u001b[38;5;250m \u001b[39m\u001b[38;5;21mset_description\u001b[39m(\u001b[38;5;28mself\u001b[39m, desc\u001b[38;5;241m=\u001b[39m\u001b[38;5;28;01mNone\u001b[39;00m, refresh\u001b[38;5;241m=\u001b[39m\u001b[38;5;28;01mTrue\u001b[39;00m):\n\u001b[0;32m   1383\u001b[0m \u001b[38;5;250m    \u001b[39m\u001b[38;5;124;03m\"\"\"\u001b[39;00m\n\u001b[0;32m   1384\u001b[0m \u001b[38;5;124;03m    Set/modify description of the progress bar.\u001b[39;00m\n\u001b[0;32m   1385\u001b[0m \n\u001b[1;32m   (...)\u001b[0m\n\u001b[0;32m   1390\u001b[0m \u001b[38;5;124;03m        Forces refresh [default: True].\u001b[39;00m\n\u001b[0;32m   1391\u001b[0m \u001b[38;5;124;03m    \"\"\"\u001b[39;00m\n\u001b[0;32m   1392\u001b[0m     \u001b[38;5;28mself\u001b[39m\u001b[38;5;241m.\u001b[39mdesc \u001b[38;5;241m=\u001b[39m desc \u001b[38;5;241m+\u001b[39m \u001b[38;5;124m'\u001b[39m\u001b[38;5;124m: \u001b[39m\u001b[38;5;124m'\u001b[39m \u001b[38;5;28;01mif\u001b[39;00m desc \u001b[38;5;28;01melse\u001b[39;00m \u001b[38;5;124m'\u001b[39m\u001b[38;5;124m'\u001b[39m\n",
      "\u001b[1;31mKeyboardInterrupt\u001b[0m: "
     ]
    }
   ],
   "source": [
    "import torch\n",
    "from ultralytics import YOLO\n",
    "import time\n",
    "import datetime\n",
    "import collections \n",
    "\n",
    "def train_pitch_pose_model():\n",
    "    \"\"\"YOLOv8-Pose augmentation.\"\"\"\n",
    "    start_time = time.time()\n",
    "    print(f\"Training started at: {datetime.datetime.now()}\")\n",
    "\n",
    "    # مسار ملف data.yaml\n",
    "    DATA_YAML_PATH = r\"data.yaml\" \n",
    "\n",
    "    # النموذج\n",
    "    MODEL_WEIGHTS = \"yolov8m-pose.pt\"\n",
    "\n",
    "    # إعدادات التدريب\n",
    "    EPOCHS = 250\n",
    "    IMG_SIZE = 960 \n",
    "    BATCH_SIZE = 8\n",
    "    DEVICE = 0\n",
    "    OPTIMIZER = \"AdamW\"\n",
    "    LR = 1e-3\n",
    "    PATIENCE = 50\n",
    "    WARMUP_EPOCHS = 5\n",
    "    WEIGHT_DECAY = 0.0005\n",
    "    LRF = 0.01\n",
    "\n",
    "    # Augmentations (فقط اللونية مفعلة)\n",
    "    MOSAIC = 0.0         # <-- تعطيل\n",
    "    MIXUP = 0.0          # <-- تعطيل (كان معطلاً)\n",
    "    DEGREES = 0.0        # <-- تعطيل\n",
    "    TRANSLATE = 0.0      # <-- تعطيل\n",
    "    SCALE = 0.0          # <-- تعطيل\n",
    "    SHEAR = 0.0          # <-- تعطيل\n",
    "    PERSPECTIVE = 0.0    # <-- تعطيل\n",
    "    FLIPUD = 0.0         # <-- تعطيل (كان معطلاً)\n",
    "    FLIPLR = 0.0         # <-- تعطيل (مهم جدًا لتجنب تأثير flip_idx الخاطئ)\n",
    "    # --- الإبقاء على اللونية ---\n",
    "    HSV_H = 0.015\n",
    "    HSV_S = 0.7\n",
    "    HSV_V = 0.4\n",
    "\n",
    "    PROJECT_NAME = \"Pitch_Pose_Project_ColorAugOnly\" # تغيير اسم المشروع لتمييزه\n",
    "    RUN_NAME = f\"pose_e{EPOCHS}_img{IMG_SIZE}_clrAug_{int(time.time())}\"\n",
    "\n",
    "    # التحقق من وجود CUDA\n",
    "    if not torch.cuda.is_available():\n",
    "        print(\"CUDA is not available. Training on CPU (بطيء جدًا).\")\n",
    "        DEVICE = \"cpu\" # تغيير الجهاز إلى CPU إذا لم تكن CUDA متاحة\n",
    "\n",
    "    # إنشاء نموذج YOLO\n",
    "    try:\n",
    "        model = YOLO(MODEL_WEIGHTS)\n",
    "        print(f\"Model {MODEL_WEIGHTS} loaded successfully.\")\n",
    "    except Exception as e:\n",
    "        print(f\"Error loading model {MODEL_WEIGHTS}: {e}\")\n",
    "        return # الخروج إذا لم يتم تحميل النموذج\n",
    "\n",
    "    # تنفيذ التدريب\n",
    "    try:\n",
    "        print(\"Starting model training...\")\n",
    "        results = model.train(\n",
    "            data=DATA_YAML_PATH,\n",
    "            epochs=EPOCHS,\n",
    "            imgsz=IMG_SIZE,\n",
    "            batch=BATCH_SIZE,\n",
    "            device=DEVICE,\n",
    "            optimizer=OPTIMIZER,\n",
    "            lr0=LR,\n",
    "            patience=PATIENCE,\n",
    "            warmup_epochs=WARMUP_EPOCHS,\n",
    "            weight_decay=WEIGHT_DECAY,\n",
    "            lrf=LRF,\n",
    "            # --- تمرير قيم Augmentation المعدلة ---\n",
    "            mosaic=MOSAIC,\n",
    "            mixup=MIXUP,\n",
    "            degrees=DEGREES,\n",
    "            translate=TRANSLATE,\n",
    "            scale=SCALE,\n",
    "            shear=SHEAR,\n",
    "            perspective=PERSPECTIVE,\n",
    "            flipud=FLIPUD,\n",
    "            fliplr=FLIPLR, # <-- القيمة أصبحت 0.0\n",
    "            hsv_h=HSV_H,\n",
    "            hsv_s=HSV_S,\n",
    "            hsv_v=HSV_V,\n",
    "            # إعدادات أخرى\n",
    "            project=PROJECT_NAME,\n",
    "            name=RUN_NAME,\n",
    "            cache=\"ram\",\n",
    "            workers=0,\n",
    "            exist_ok=True,\n",
    "            save=True,\n",
    "            save_period=-1,\n",
    "            val=True,\n",
    "            plots=True\n",
    "        )\n",
    "        print(\"Training function finished.\")\n",
    "\n",
    "        end_time = time.time()\n",
    "        duration_sec = end_time - start_time\n",
    "        duration_str = str(datetime.timedelta(seconds=duration_sec))\n",
    "        # التحقق من وجود results قبل محاولة الوصول إلى save_dir\n",
    "        if results and hasattr(results, 'save_dir'):\n",
    "             print(f\"\\n=== Training Finished ===\\nBest model path: {results.save_dir / 'weights' / 'best.pt'}\")\n",
    "        else:\n",
    "             print(\"\\n=== Training Finished (Results object might be empty or missing save_dir) ===\")\n",
    "        print(f\"Total duration: {duration_str}\")\n",
    "\n",
    "    except Exception as e:\n",
    "        print(f\"\\nAn error occurred during training: {e}\")\n",
    "        import traceback\n",
    "        traceback.print_exc() # لطباعة تتبع الخطأ الكامل\n",
    "\n",
    "if __name__ == \"__main__\":\n",
    "    train_pitch_pose_model()"
   ]
  },
  {
   "cell_type": "code",
   "execution_count": null,
   "id": "23eae4ff",
   "metadata": {},
   "outputs": [
    {
     "name": "stdout",
     "output_type": "stream",
     "text": [
      "✅ تم حفظ الصورة بنجاح: combined_results.png\n"
     ]
    }
   ],
   "source": [
    "import matplotlib.pyplot as plt\n",
    "import matplotlib.image as mpimg\n",
    "import os\n",
    "\n",
    "# مسارات الصور (غيّر المسارات حسب موقعك الفعلي إذا اختلفت)\n",
    "paths = {\n",
    "    \"BoxP\": r\"BoxF1_curve.png\",\n",
    "    \"BoxF1\": r\"BoxP_curve.png\",\n",
    "    \"BoxPR\": r\"BoxPR_curve.png\",\n",
    "    \"BoxR\": r\"BoxR_curve.png\",\n",
    "    \"Confusion Matrix\": r\"confusion_matrix.png\",\n",
    "    \"Confusion Matrix (Normalized)\": r\"confusion_matrix_normalized.png\",\n",
    "    \"PoseF1\": r\"PoseF1_curve.png\",\n",
    "    \"PoseP\": r\"PosePR_curve.png\",\n",
    "    \"PosePR\": r\"PoseR_curve.png\"\n",
    "}\n",
    "\n",
    "fig, axs = plt.subplots(3, 3, figsize=(18, 12))\n",
    "fig.suptitle(\"YOLOv8 Pose Model Evaluation Results\", fontsize=20)\n",
    "\n",
    "for i, (title, path) in enumerate(paths.items()):\n",
    "    row = i // 3\n",
    "    col = i % 3\n",
    "    if os.path.exists(path):\n",
    "        img = mpimg.imread(path)\n",
    "        axs[row, col].imshow(img)\n",
    "        axs[row, col].axis('off')\n",
    "        axs[row, col].set_title(title, fontsize=14)\n",
    "    else:\n",
    "        axs[row, col].axis('off')\n",
    "        axs[row, col].set_title(f\"{title}\\n[Missing]\", fontsize=14, color='red')\n",
    "\n",
    "plt.tight_layout(rect=[0, 0.03, 1, 0.95])\n",
    "plt.savefig(\"combined_results.png\", dpi=300)\n",
    "print(\"combined_results.png\")"
   ]
  },
  {
   "cell_type": "code",
   "execution_count": null,
   "id": "588552a7",
   "metadata": {},
   "outputs": [
    {
     "name": "stdout",
     "output_type": "stream",
     "text": [
      "Attempting to load data config from: C:\\Users\\abdul\\Desktop\\YoloV8_New_Attempt\\data.yaml\n",
      "YAML directory: C:\\Users\\abdul\\Desktop\\YoloV8_New_Attempt\n",
      "Found 'test' path in YAML: C:\\Users\\abdul\\Desktop\\YoloV8_New_Attempt\\datasets\\football_pitch\\images\\test\n",
      "Checking relative path: C:\\Users\\abdul\\Desktop\\YoloV8_New_Attempt\\datasets\\football_pitch\\images\\test\n",
      "Using TEST image path (relative): C:\\Users\\abdul\\Desktop\\YoloV8_New_Attempt\\datasets\\football_pitch\\images\\test\n",
      "Loaded 14 keypoint indices as labels.\n",
      "\n",
      "Loading model from: C:\\Users\\abdul\\Desktop\\YoloV8_New_Attempt\\datasets\\labels\\validation\\Pitch_Pose_Project_ColorAugOnly\\pose_e250_img960_clrAug_1744196576\\weights\\best.pt\n",
      "Model loaded.\n",
      "Using image size: 960\n",
      "\n",
      "--- Running Quantitative Validation on TEST set ---\n",
      "Ultralytics 8.3.103  Python-3.10.9 torch-2.6.0+cu118 CUDA:0 (NVIDIA GeForce RTX 4060, 8188MiB)\n",
      "YOLOv8m-pose summary (fused): 101 layers, 26,406,673 parameters, 0 gradients, 80.9 GFLOPs\n"
     ]
    },
    {
     "name": "stderr",
     "output_type": "stream",
     "text": [
      "\u001b[34m\u001b[1mval: \u001b[0mScanning C:\\Users\\abdul\\Desktop\\YoloV8_New_Attempt\\datasets\\football_pitch\\labels\\test.cache... 86 images, 0 backgrounds, 0 corrupt: 100%|██████████| 86/86 [00:00<?, ?it/s]\n",
      "                 Class     Images  Instances      Box(P          R      mAP50  mAP50-95)     Pose(P          R      mAP50  mAP50-95): 100%|██████████| 6/6 [00:43<00:00,  7.32s/it]\n"
     ]
    },
    {
     "name": "stdout",
     "output_type": "stream",
     "text": [
      "                   all         86         86      0.885       0.93      0.955      0.805      0.808      0.779       0.83      0.563\n",
      "Speed: 3.4ms preprocess, 421.8ms inference, 0.0ms loss, 1.0ms postprocess per image\n",
      "Results saved to \u001b[1mruns\\pose\\val6\u001b[0m\n",
      "\n",
      "Test Set Metrics Summary:\n",
      "Box mAP50 (Test): 0.9548\n",
      "Box mAP50-95 (Test): 0.8050\n",
      "Pose mAP50 (OKS? Test): 0.8299 (May be misleading)\n",
      "Pose mAP50-95 (OKS? Test): 0.5627 (May be misleading)\n",
      "\n",
      "--- Running Visual Evaluation using TEST images from: C:\\Users\\abdul\\Desktop\\YoloV8_New_Attempt\\datasets\\football_pitch\\images\\test ---\n",
      "Visual results will be saved to: c:\\Users\\abdul\\Desktop\\YoloV8_New_Attempt\\datasets\\labels\\validation\\evaluation_visuals_TEST_set_final\n",
      "Starting prediction using source='C:\\Users\\abdul\\Desktop\\YoloV8_New_Attempt\\datasets\\football_pitch\\images\\test'...\n",
      "Iterating through prediction results...\n",
      "\n",
      "image 1/86 C:\\Users\\abdul\\Desktop\\YoloV8_New_Attempt\\datasets\\football_pitch\\images\\test\\frame_000025.PNG: 544x960 1 pitch_layout, 47.7ms\n",
      "Processing (1): frame_000025.PNG\n",
      "image 2/86 C:\\Users\\abdul\\Desktop\\YoloV8_New_Attempt\\datasets\\football_pitch\\images\\test\\frame_000210.PNG: 544x960 (no detections), 70.5ms\n",
      "Processing (2): frame_000210.PNG\n",
      "image 3/86 C:\\Users\\abdul\\Desktop\\YoloV8_New_Attempt\\datasets\\football_pitch\\images\\test\\frame_000220.PNG: 544x960 1 pitch_layout, 40.4ms\n",
      "Processing (3): frame_000220.PNG\n",
      "image 4/86 C:\\Users\\abdul\\Desktop\\YoloV8_New_Attempt\\datasets\\football_pitch\\images\\test\\frame_000230.PNG: 544x960 1 pitch_layout, 59.6ms\n",
      "Processing (4): frame_000230.PNG\n",
      "image 5/86 C:\\Users\\abdul\\Desktop\\YoloV8_New_Attempt\\datasets\\football_pitch\\images\\test\\frame_000235.PNG: 544x960 1 pitch_layout, 868.3ms\n",
      "Processing (5): frame_000235.PNG\n",
      "image 6/86 C:\\Users\\abdul\\Desktop\\YoloV8_New_Attempt\\datasets\\football_pitch\\images\\test\\frame_000245.PNG: 544x960 (no detections), 47.5ms\n",
      "image 7/86 C:\\Users\\abdul\\Desktop\\YoloV8_New_Attempt\\datasets\\football_pitch\\images\\test\\frame_000265.PNG: 544x960 1 pitch_layout, 56.0ms\n",
      "image 8/86 C:\\Users\\abdul\\Desktop\\YoloV8_New_Attempt\\datasets\\football_pitch\\images\\test\\frame_000870.PNG: 544x960 (no detections), 52.2ms\n",
      "image 9/86 C:\\Users\\abdul\\Desktop\\YoloV8_New_Attempt\\datasets\\football_pitch\\images\\test\\frame_000925.PNG: 544x960 2 pitch_layouts, 65.9ms\n",
      "image 10/86 C:\\Users\\abdul\\Desktop\\YoloV8_New_Attempt\\datasets\\football_pitch\\images\\test\\frame_000940.PNG: 544x960 1 pitch_layout, 60.4ms\n",
      "Processing (10): frame_000940.PNG\n",
      "image 11/86 C:\\Users\\abdul\\Desktop\\YoloV8_New_Attempt\\datasets\\football_pitch\\images\\test\\frame_000969.PNG: 544x960 1 pitch_layout, 63.0ms\n",
      "image 12/86 C:\\Users\\abdul\\Desktop\\YoloV8_New_Attempt\\datasets\\football_pitch\\images\\test\\frame_000987.PNG: 544x960 1 pitch_layout, 62.1ms\n",
      "image 13/86 C:\\Users\\abdul\\Desktop\\YoloV8_New_Attempt\\datasets\\football_pitch\\images\\test\\frame_000999.PNG: 544x960 2 pitch_layouts, 42.1ms\n",
      "image 14/86 C:\\Users\\abdul\\Desktop\\YoloV8_New_Attempt\\datasets\\football_pitch\\images\\test\\frame_001011.PNG: 544x960 1 pitch_layout, 43.8ms\n",
      "image 15/86 C:\\Users\\abdul\\Desktop\\YoloV8_New_Attempt\\datasets\\football_pitch\\images\\test\\frame_001753.PNG: 544x960 1 pitch_layout, 40.2ms\n",
      "Processing (15): frame_001753.PNG\n",
      "image 16/86 C:\\Users\\abdul\\Desktop\\YoloV8_New_Attempt\\datasets\\football_pitch\\images\\test\\frame_002033.PNG: 544x960 2 pitch_layouts, 51.1ms\n",
      "image 17/86 C:\\Users\\abdul\\Desktop\\YoloV8_New_Attempt\\datasets\\football_pitch\\images\\test\\frame_002363.PNG: 544x960 1 pitch_layout, 46.2ms\n",
      "image 18/86 C:\\Users\\abdul\\Desktop\\YoloV8_New_Attempt\\datasets\\football_pitch\\images\\test\\frame_002711.PNG: 544x960 1 pitch_layout, 82.4ms\n",
      "image 19/86 C:\\Users\\abdul\\Desktop\\YoloV8_New_Attempt\\datasets\\football_pitch\\images\\test\\frame_002928.PNG: 544x960 1 pitch_layout, 46.1ms\n",
      "image 20/86 C:\\Users\\abdul\\Desktop\\YoloV8_New_Attempt\\datasets\\football_pitch\\images\\test\\frame_002959.PNG: 544x960 1 pitch_layout, 54.7ms\n",
      "Processing (20): frame_002959.PNG\n",
      "image 21/86 C:\\Users\\abdul\\Desktop\\YoloV8_New_Attempt\\datasets\\football_pitch\\images\\test\\frame_003052.PNG: 544x960 1 pitch_layout, 43.7ms\n",
      "image 22/86 C:\\Users\\abdul\\Desktop\\YoloV8_New_Attempt\\datasets\\football_pitch\\images\\test\\frame_003331.PNG: 544x960 1 pitch_layout, 68.5ms\n",
      "image 23/86 C:\\Users\\abdul\\Desktop\\YoloV8_New_Attempt\\datasets\\football_pitch\\images\\test\\frame_003362.PNG: 544x960 1 pitch_layout, 45.7ms\n",
      "image 24/86 C:\\Users\\abdul\\Desktop\\YoloV8_New_Attempt\\datasets\\football_pitch\\images\\test\\frame_003393.PNG: 544x960 1 pitch_layout, 50.0ms\n",
      "image 25/86 C:\\Users\\abdul\\Desktop\\YoloV8_New_Attempt\\datasets\\football_pitch\\images\\test\\frame_003455.PNG: 544x960 1 pitch_layout, 51.3ms\n",
      "Processing (25): frame_003455.PNG\n",
      "image 26/86 C:\\Users\\abdul\\Desktop\\YoloV8_New_Attempt\\datasets\\football_pitch\\images\\test\\frame_003517.PNG: 544x960 1 pitch_layout, 34.4ms\n",
      "image 27/86 C:\\Users\\abdul\\Desktop\\YoloV8_New_Attempt\\datasets\\football_pitch\\images\\test\\frame_003610.PNG: 544x960 1 pitch_layout, 76.1ms\n",
      "image 28/86 C:\\Users\\abdul\\Desktop\\YoloV8_New_Attempt\\datasets\\football_pitch\\images\\test\\frame_003796.PNG: 544x960 1 pitch_layout, 57.1ms\n",
      "image 29/86 C:\\Users\\abdul\\Desktop\\YoloV8_New_Attempt\\datasets\\football_pitch\\images\\test\\frame_003951.PNG: 544x960 1 pitch_layout, 63.4ms\n",
      "image 30/86 C:\\Users\\abdul\\Desktop\\YoloV8_New_Attempt\\datasets\\football_pitch\\images\\test\\frame_004044.PNG: 544x960 (no detections), 54.1ms\n",
      "Processing (30): frame_004044.PNG\n",
      "image 31/86 C:\\Users\\abdul\\Desktop\\YoloV8_New_Attempt\\datasets\\football_pitch\\images\\test\\frame_004106.PNG: 544x960 1 pitch_layout, 63.0ms\n",
      "image 32/86 C:\\Users\\abdul\\Desktop\\YoloV8_New_Attempt\\datasets\\football_pitch\\images\\test\\frame_004261.PNG: 544x960 1 pitch_layout, 75.9ms\n",
      "image 33/86 C:\\Users\\abdul\\Desktop\\YoloV8_New_Attempt\\datasets\\football_pitch\\images\\test\\frame_004323.PNG: 544x960 1 pitch_layout, 57.6ms\n",
      "image 34/86 C:\\Users\\abdul\\Desktop\\YoloV8_New_Attempt\\datasets\\football_pitch\\images\\test\\frame_004855.PNG: 544x960 1 pitch_layout, 57.4ms\n",
      "image 35/86 C:\\Users\\abdul\\Desktop\\YoloV8_New_Attempt\\datasets\\football_pitch\\images\\test\\frame_004979.PNG: 544x960 1 pitch_layout, 49.2ms\n",
      "Processing (35): frame_004979.PNG\n",
      "image 36/86 C:\\Users\\abdul\\Desktop\\YoloV8_New_Attempt\\datasets\\football_pitch\\images\\test\\frame_005227.PNG: 544x960 1 pitch_layout, 57.2ms\n",
      "image 37/86 C:\\Users\\abdul\\Desktop\\YoloV8_New_Attempt\\datasets\\football_pitch\\images\\test\\frame_005258.PNG: 544x960 1 pitch_layout, 44.7ms\n",
      "image 38/86 C:\\Users\\abdul\\Desktop\\YoloV8_New_Attempt\\datasets\\football_pitch\\images\\test\\frame_005351.PNG: 544x960 1 pitch_layout, 50.0ms\n",
      "image 39/86 C:\\Users\\abdul\\Desktop\\YoloV8_New_Attempt\\datasets\\football_pitch\\images\\test\\frame_005413.PNG: 544x960 1 pitch_layout, 53.7ms\n",
      "image 40/86 C:\\Users\\abdul\\Desktop\\YoloV8_New_Attempt\\datasets\\football_pitch\\images\\test\\frame_005475.PNG: 544x960 1 pitch_layout, 55.4ms\n",
      "Processing (40): frame_005475.PNG\n",
      "image 41/86 C:\\Users\\abdul\\Desktop\\YoloV8_New_Attempt\\datasets\\football_pitch\\images\\test\\frame_005568.PNG: 544x960 1 pitch_layout, 52.8ms\n",
      "image 42/86 C:\\Users\\abdul\\Desktop\\YoloV8_New_Attempt\\datasets\\football_pitch\\images\\test\\frame_006188.PNG: 544x960 1 pitch_layout, 39.1ms\n",
      "image 43/86 C:\\Users\\abdul\\Desktop\\YoloV8_New_Attempt\\datasets\\football_pitch\\images\\test\\frame_006405.PNG: 544x960 1 pitch_layout, 61.9ms\n",
      "image 44/86 C:\\Users\\abdul\\Desktop\\YoloV8_New_Attempt\\datasets\\football_pitch\\images\\test\\frame_006878.PNG: 544x960 1 pitch_layout, 48.8ms\n",
      "image 45/86 C:\\Users\\abdul\\Desktop\\YoloV8_New_Attempt\\datasets\\football_pitch\\images\\test\\frame_006940.PNG: 544x960 1 pitch_layout, 45.1ms\n",
      "Processing (45): frame_006940.PNG\n",
      "image 46/86 C:\\Users\\abdul\\Desktop\\YoloV8_New_Attempt\\datasets\\football_pitch\\images\\test\\frame_007188.PNG: 544x960 1 pitch_layout, 66.5ms\n",
      "image 47/86 C:\\Users\\abdul\\Desktop\\YoloV8_New_Attempt\\datasets\\football_pitch\\images\\test\\frame_007219.PNG: 544x960 1 pitch_layout, 54.7ms\n",
      "image 48/86 C:\\Users\\abdul\\Desktop\\YoloV8_New_Attempt\\datasets\\football_pitch\\images\\test\\frame_007405.PNG: 544x960 (no detections), 117.1ms\n",
      "image 49/86 C:\\Users\\abdul\\Desktop\\YoloV8_New_Attempt\\datasets\\football_pitch\\images\\test\\frame_008366.PNG: 544x960 1 pitch_layout, 40.3ms\n",
      "image 50/86 C:\\Users\\abdul\\Desktop\\YoloV8_New_Attempt\\datasets\\football_pitch\\images\\test\\frame_008428.PNG: 544x960 1 pitch_layout, 58.5ms\n",
      "Processing (50): frame_008428.PNG\n",
      "image 51/86 C:\\Users\\abdul\\Desktop\\YoloV8_New_Attempt\\datasets\\football_pitch\\images\\test\\frame_008459.PNG: 544x960 1 pitch_layout, 63.3ms\n",
      "image 52/86 C:\\Users\\abdul\\Desktop\\YoloV8_New_Attempt\\datasets\\football_pitch\\images\\test\\frame_008774.PNG: 544x960 1 pitch_layout, 47.5ms\n",
      "image 53/86 C:\\Users\\abdul\\Desktop\\YoloV8_New_Attempt\\datasets\\football_pitch\\images\\test\\frame_008874.PNG: 544x960 1 pitch_layout, 38.8ms\n",
      "image 54/86 C:\\Users\\abdul\\Desktop\\YoloV8_New_Attempt\\datasets\\football_pitch\\images\\test\\frame_009354.PNG: 544x960 1 pitch_layout, 38.9ms\n",
      "image 55/86 C:\\Users\\abdul\\Desktop\\YoloV8_New_Attempt\\datasets\\football_pitch\\images\\test\\frame_009394.PNG: 544x960 1 pitch_layout, 51.2ms\n",
      "Processing (55): frame_009394.PNG\n",
      "image 56/86 C:\\Users\\abdul\\Desktop\\YoloV8_New_Attempt\\datasets\\football_pitch\\images\\test\\frame_009414.PNG: 544x960 2 pitch_layouts, 45.6ms\n",
      "image 57/86 C:\\Users\\abdul\\Desktop\\YoloV8_New_Attempt\\datasets\\football_pitch\\images\\test\\frame_009534.PNG: 544x960 2 pitch_layouts, 43.5ms\n",
      "image 58/86 C:\\Users\\abdul\\Desktop\\YoloV8_New_Attempt\\datasets\\football_pitch\\images\\test\\frame_009554.PNG: 544x960 2 pitch_layouts, 37.6ms\n",
      "image 59/86 C:\\Users\\abdul\\Desktop\\YoloV8_New_Attempt\\datasets\\football_pitch\\images\\test\\frame_009654.PNG: 544x960 1 pitch_layout, 44.4ms\n",
      "image 60/86 C:\\Users\\abdul\\Desktop\\YoloV8_New_Attempt\\datasets\\football_pitch\\images\\test\\frame_009954.PNG: 544x960 1 pitch_layout, 76.7ms\n",
      "Processing (60): frame_009954.PNG\n",
      "image 61/86 C:\\Users\\abdul\\Desktop\\YoloV8_New_Attempt\\datasets\\football_pitch\\images\\test\\frame_010074.PNG: 544x960 1 pitch_layout, 52.0ms\n",
      "image 62/86 C:\\Users\\abdul\\Desktop\\YoloV8_New_Attempt\\datasets\\football_pitch\\images\\test\\frame_010274.PNG: 544x960 (no detections), 47.0ms\n",
      "image 63/86 C:\\Users\\abdul\\Desktop\\YoloV8_New_Attempt\\datasets\\football_pitch\\images\\test\\frame_010534.PNG: 544x960 1 pitch_layout, 52.9ms\n",
      "image 64/86 C:\\Users\\abdul\\Desktop\\YoloV8_New_Attempt\\datasets\\football_pitch\\images\\test\\frame_010715.PNG: 544x960 (no detections), 41.9ms\n",
      "image 65/86 C:\\Users\\abdul\\Desktop\\YoloV8_New_Attempt\\datasets\\football_pitch\\images\\test\\frame_011321.PNG: 544x960 1 pitch_layout, 57.0ms\n",
      "Processing (65): frame_011321.PNG\n",
      "image 66/86 C:\\Users\\abdul\\Desktop\\YoloV8_New_Attempt\\datasets\\football_pitch\\images\\test\\frame_011523.PNG: 544x960 1 pitch_layout, 67.8ms\n",
      "image 67/86 C:\\Users\\abdul\\Desktop\\YoloV8_New_Attempt\\datasets\\football_pitch\\images\\test\\frame_012230.PNG: 544x960 1 pitch_layout, 50.7ms\n",
      "image 68/86 C:\\Users\\abdul\\Desktop\\YoloV8_New_Attempt\\datasets\\football_pitch\\images\\test\\frame_013341.PNG: 544x960 1 pitch_layout, 55.2ms\n",
      "image 69/86 C:\\Users\\abdul\\Desktop\\YoloV8_New_Attempt\\datasets\\football_pitch\\images\\test\\frame_013543.PNG: 544x960 1 pitch_layout, 48.5ms\n",
      "image 70/86 C:\\Users\\abdul\\Desktop\\YoloV8_New_Attempt\\datasets\\football_pitch\\images\\test\\frame_017490.PNG: 544x960 2 pitch_layouts, 63.1ms\n",
      "Processing (70): frame_017490.PNG\n",
      "image 71/86 C:\\Users\\abdul\\Desktop\\YoloV8_New_Attempt\\datasets\\football_pitch\\images\\test\\frame_017692.PNG: 544x960 1 pitch_layout, 51.4ms\n",
      "image 72/86 C:\\Users\\abdul\\Desktop\\YoloV8_New_Attempt\\datasets\\football_pitch\\images\\test\\frame_018601.PNG: 544x960 1 pitch_layout, 51.1ms\n",
      "image 73/86 C:\\Users\\abdul\\Desktop\\YoloV8_New_Attempt\\datasets\\football_pitch\\images\\test\\frame_019308.PNG: 544x960 1 pitch_layout, 54.6ms\n",
      "image 74/86 C:\\Users\\abdul\\Desktop\\YoloV8_New_Attempt\\datasets\\football_pitch\\images\\test\\frame_019813.PNG: 544x960 2 pitch_layouts, 49.6ms\n",
      "image 75/86 C:\\Users\\abdul\\Desktop\\YoloV8_New_Attempt\\datasets\\football_pitch\\images\\test\\frame_025990.PNG: 544x960 2 pitch_layouts, 44.9ms\n",
      "Processing (75): frame_025990.PNG\n",
      "image 76/86 C:\\Users\\abdul\\Desktop\\YoloV8_New_Attempt\\datasets\\football_pitch\\images\\test\\frame_026192.PNG: 544x960 1 pitch_layout, 68.6ms\n",
      "image 77/86 C:\\Users\\abdul\\Desktop\\YoloV8_New_Attempt\\datasets\\football_pitch\\images\\test\\frame_027202.PNG: 544x960 1 pitch_layout, 38.6ms\n",
      "image 78/86 C:\\Users\\abdul\\Desktop\\YoloV8_New_Attempt\\datasets\\football_pitch\\images\\test\\frame_027909.PNG: 544x960 1 pitch_layout, 35.6ms\n",
      "image 79/86 C:\\Users\\abdul\\Desktop\\YoloV8_New_Attempt\\datasets\\football_pitch\\images\\test\\frame_028313.PNG: 544x960 1 pitch_layout, 44.7ms\n",
      "image 80/86 C:\\Users\\abdul\\Desktop\\YoloV8_New_Attempt\\datasets\\football_pitch\\images\\test\\frame_028717.PNG: 544x960 1 pitch_layout, 52.6ms\n",
      "Processing (80): frame_028717.PNG\n",
      "image 81/86 C:\\Users\\abdul\\Desktop\\YoloV8_New_Attempt\\datasets\\football_pitch\\images\\test\\frame_038638.PNG: 544x960 1 pitch_layout, 68.2ms\n",
      "image 82/86 C:\\Users\\abdul\\Desktop\\YoloV8_New_Attempt\\datasets\\football_pitch\\images\\test\\frame_039042.PNG: 544x960 1 pitch_layout, 40.9ms\n",
      "image 83/86 C:\\Users\\abdul\\Desktop\\YoloV8_New_Attempt\\datasets\\football_pitch\\images\\test\\frame_039345.PNG: 544x960 1 pitch_layout, 67.8ms\n",
      "image 84/86 C:\\Users\\abdul\\Desktop\\YoloV8_New_Attempt\\datasets\\football_pitch\\images\\test\\frame_039951.PNG: 544x960 1 pitch_layout, 51.6ms\n",
      "image 85/86 C:\\Users\\abdul\\Desktop\\YoloV8_New_Attempt\\datasets\\football_pitch\\images\\test\\frame_040961.PNG: 544x960 1 pitch_layout, 69.9ms\n",
      "Processing (85): frame_040961.PNG\n",
      "image 86/86 C:\\Users\\abdul\\Desktop\\YoloV8_New_Attempt\\datasets\\football_pitch\\images\\test\\frame_041264.PNG: 544x960 2 pitch_layouts, 49.1ms\n",
      "Speed: 3.7ms preprocess, 63.4ms inference, 2.2ms postprocess per image at shape (1, 3, 544, 960)\n",
      "\n",
      "Finished processing 86 test images.\n",
      "Annotated test images saved in: c:\\Users\\abdul\\Desktop\\YoloV8_New_Attempt\\datasets\\labels\\validation\\evaluation_visuals_TEST_set_final\n",
      "\n",
      "Evaluation & Visualization task duration: 0:01:12.274806\n"
     ]
    }
   ],
   "source": [
    "import cv2\n",
    "import os\n",
    "# import random\n",
    "import numpy as np\n",
    "from ultralytics import YOLO\n",
    "import yaml # لقراءة ملف data.yaml\n",
    "import time\n",
    "import datetime\n",
    "import collections\n",
    "import traceback # لطباعة الأخطاء بشكل أفضل\n",
    "\n",
    "# --- الإعدادات الرئيسية ---\n",
    "\n",
    "# !!!!!!!!!! تحديث ضروري !!!!!!!!!!\n",
    "# 1. ضع المسار الصحيح لنموذجك 'best.pt'\n",
    "MODEL_PATH = r'C:\\Users\\abdul\\Desktop\\YoloV8_New_Attempt\\datasets\\labels\\validation\\Pitch_Pose_Project_ColorAugOnly\\pose_e250_img960_clrAug_1744196576\\weights\\best.pt' # <--- تأكد منه\n",
    "\n",
    "# 2. تأكد من صحة مسار ملف data.yaml\n",
    "DATA_YAML_PATH = r'C:\\Users\\abdul\\Desktop\\YoloV8_New_Attempt\\data.yaml' # <--- تأكد منه\n",
    "\n",
    "# 3. (مهم للعرض) عرف قائمة SKELETON بناءً على فهارس نقاطك الـ 14\n",
    "SKELETON = [\n",
    "    # أضف الوصلات هنا، مثال: [[0, 1], [1, 3], ...]\n",
    "] # <--- عدّل هذه القائمة\n",
    "\n",
    "# --- إعدادات أخرى ---\n",
    "OUTPUT_FOLDER = 'evaluation_visuals_TEST_set_final' # اسم مجلد جديد للمخرجات\n",
    "CONF_THRESHOLD = 0.5\n",
    "KPT_CONF_THRESHOLD = 0.5\n",
    "TRAINING_IMG_SIZE = 960 # حجم الصور المستخدم في التدريب\n",
    "\n",
    "# --- تحميل معلومات المسار والنقاط من data.yaml ---\n",
    "test_image_path = None # المسار لمجلد صور الاختبار\n",
    "keypoint_labels = []\n",
    "num_keypoints = 14\n",
    "data_yaml_dir = None\n",
    "data_config = None\n",
    "\n",
    "print(f\"Attempting to load data config from: {DATA_YAML_PATH}\")\n",
    "try:\n",
    "    if not os.path.exists(DATA_YAML_PATH):\n",
    "        print(f\"ERROR: data.yaml file not found at '{DATA_YAML_PATH}'\")\n",
    "    else:\n",
    "        data_yaml_dir = os.path.dirname(DATA_YAML_PATH)\n",
    "        print(f\"YAML directory: {data_yaml_dir}\")\n",
    "        with open(DATA_YAML_PATH, 'r', encoding='utf-8') as f:\n",
    "            data_config = yaml.safe_load(f)\n",
    "\n",
    "        if data_config:\n",
    "            # --- استخراج مسار الاختبار (test) ---\n",
    "            if 'test' in data_config:\n",
    "                 test_relative_path = data_config['test']\n",
    "                 print(f\"Found 'test' path in YAML: {test_relative_path}\")\n",
    "                 potential_path = os.path.join(data_yaml_dir, test_relative_path)\n",
    "                 print(f\"Checking relative path: {potential_path}\")\n",
    "                 if os.path.isdir(potential_path):\n",
    "                      test_image_path = os.path.abspath(potential_path)\n",
    "                      print(f\"Using TEST image path (relative): {test_image_path}\")\n",
    "                 elif os.path.isdir(test_relative_path):\n",
    "                      test_image_path = os.path.abspath(test_relative_path)\n",
    "                      print(f\"Using TEST image path (absolute): {test_image_path}\")\n",
    "                 else:\n",
    "                      print(f\"ERROR: Test path specified in YAML ('{test_relative_path}') not found relative to YAML ('{potential_path}') or as absolute path.\")\n",
    "            else:\n",
    "                print(f\"ERROR: 'test' key not found in {DATA_YAML_PATH}\")\n",
    "\n",
    "            # --- تحميل معلومات النقاط الرئيسية ---\n",
    "            if 'kpt_shape' in data_config:\n",
    "                 num_keypoints = data_config.get('kpt_shape', [14])[0]\n",
    "                 keypoint_labels = [str(i) for i in range(num_keypoints)]\n",
    "                 print(f\"Loaded {num_keypoints} keypoint indices as labels.\")\n",
    "            else: print(f\"Warning: 'kpt_shape' not found. Using default {num_keypoints}.\"); keypoint_labels = [str(i) for i in range(num_keypoints)]\n",
    "        else: print(\"ERROR: Failed to load data from YAML file.\")\n",
    "\n",
    "except Exception as e: print(f\"Error loading or parsing {DATA_YAML_PATH}: {e}\")\n",
    "\n",
    "# --- توليد ألوان مميزة للنقاط ---\n",
    "rng = np.random.default_rng(1); keypoint_colors = rng.uniform(50, 255, size=(len(keypoint_labels), 3)).astype(np.uint8)\n",
    "\n",
    "# ========== دالة حساب التقاطع فوق الاتحاد (IoU) ==========\n",
    "def calculate_iou(boxA, boxB):\n",
    "    xA = max(boxA[0], boxB[0]); yA = max(boxA[1], boxB[1]); xB = min(boxA[2], boxB[2]); yB = min(boxA[3], boxB[3])\n",
    "    interArea = max(0, xB - xA) * max(0, yB - yA)\n",
    "    boxAArea = (boxA[2] - boxA[0]) * (boxA[3] - boxA[1]); boxBArea = (boxB[2] - boxB[0]) * (boxB[3] - boxB[1])\n",
    "    unionArea = float(boxAArea + boxBArea - interArea); iou = interArea / unionArea if unionArea > 0 else 0\n",
    "    return iou\n",
    "\n",
    "# ========== الدالة الرئيسية للتقييم والعرض ==========\n",
    "def evaluate_and_visualize(model_path, data_yaml, test_img_path, output_folder, imgsz_eval, conf_thresh=0.5, kpt_thresh=0.5):\n",
    "    \"\"\"يحمل النموذج، يقيمه على مجموعة الاختبار، ويرسم التنبؤات على مجموعة الاختبار.\"\"\"\n",
    "\n",
    "    print(f\"\\nLoading model from: {model_path}\")\n",
    "    try: model = YOLO(model_path); print(\"Model loaded.\"); print(f\"Using image size: {imgsz_eval}\")\n",
    "    except Exception as e: print(f\"Error loading model: {e}\"); return\n",
    "\n",
    "    # --- 1. التقييم الرقمي (Quantitative Evaluation) على مجموعة الاختبار ---\n",
    "    print(\"\\n--- Running Quantitative Validation on TEST set ---\")\n",
    "    try:\n",
    "        # ***** استخدام split='test' هنا *****\n",
    "        metrics = model.val(data=data_yaml, imgsz=imgsz_eval, conf=conf_thresh, split='test')\n",
    "        print(\"\\nTest Set Metrics Summary:\")\n",
    "        print(f\"Box mAP50 (Test): {metrics.box.map50:.4f}\"); print(f\"Box mAP50-95 (Test): {metrics.box.map:.4f}\")\n",
    "        print(f\"Pose mAP50 (OKS? Test): {metrics.pose.map50:.4f} (May be misleading)\"); print(f\"Pose mAP50-95 (OKS? Test): {metrics.pose.map:.4f} (May be misleading)\")\n",
    "    except KeyError as e: print(f\"Error running validation on test set: Missing key {e}. YAML missing 'test' path?\")\n",
    "    except Exception as e: print(f\"Error running validation on test set: {e}.\")\n",
    "\n",
    "    # --- 2. التقييم البصري (Visual Evaluation) على مجموعة الاختبار ---\n",
    "    # التأكد من أن مسار صور الاختبار صحيح وموجود\n",
    "    if not test_img_path or not os.path.isdir(test_img_path):\n",
    "         print(f\"\\nERROR: Skipping visual evaluation because test image path is invalid or not found: '{test_img_path}'\")\n",
    "         print(\"Please ensure the 'test:' path in your data.yaml points to the correct image directory.\")\n",
    "         return\n",
    "\n",
    "    print(f\"\\n--- Running Visual Evaluation using TEST images from: {test_img_path} ---\")\n",
    "    os.makedirs(output_folder, exist_ok=True)\n",
    "    print(f\"Visual results will be saved to: {os.path.abspath(output_folder)}\")\n",
    "\n",
    "    try:\n",
    "        # ***** تغيير هنا: استخدام source=test_img_path وإزالة data و split *****\n",
    "        print(f\"Starting prediction using source='{test_img_path}'...\")\n",
    "        results_generator = model.predict(source=test_img_path, conf=conf_thresh, imgsz=imgsz_eval, stream=True, save=False)\n",
    "\n",
    "        processed_count = 0\n",
    "        total_images_estimated = '?'\n",
    "        print(f\"Iterating through prediction results...\")\n",
    "\n",
    "        for result in results_generator:\n",
    "            processed_count += 1\n",
    "            image_path = getattr(result, 'path', f'image_{processed_count}')\n",
    "            filename = os.path.basename(image_path)\n",
    "            if processed_count % 5 == 0 or processed_count <= 5: # طباعة كل 5 صور أو أول 5\n",
    "                 print(f\"Processing ({processed_count}): {filename}\")\n",
    "\n",
    "            # --- كود الرسم والحفظ (لا تغيير هنا) ---\n",
    "            try:\n",
    "                img = result.orig_img if hasattr(result, 'orig_img') and result.orig_img is not None else cv2.imread(image_path)\n",
    "                if img is None: print(f\"  Warning: Could not get image for {filename}\"); continue\n",
    "                annotated_img = img.copy()\n",
    "                if not hasattr(result, 'boxes') or result.boxes is None or len(result.boxes) == 0:\n",
    "                    output_path = os.path.join(output_folder, f\"annotated_{filename}\"); cv2.imwrite(output_path, annotated_img); continue # حفظ الصورة الأصلية\n",
    "\n",
    "                box = result.boxes[0]; class_id = int(box.cls[0]); class_name = model.names[class_id] if class_id in model.names else f\"ID_{class_id}\"\n",
    "                x1, y1, x2, y2 = map(int, box.xyxy[0].cpu().numpy()); cv2.rectangle(annotated_img, (x1, y1), (x2, y2), (0, 255, 0), 2); cv2.putText(annotated_img, f\"{class_name} {box.conf[0]:.2f}\", (x1, y1 - 10), cv2.FONT_HERSHEY_SIMPLEX, 0.7, (0, 255, 0), 2)\n",
    "\n",
    "                if hasattr(result, 'keypoints') and result.keypoints is not None and result.keypoints.shape[1] > 0:\n",
    "                    keypoints = result.keypoints; points_xy = keypoints.xy[0].cpu().numpy() if keypoints.xy is not None else None; points_conf = None\n",
    "                    if hasattr(keypoints, 'conf') and keypoints.conf is not None and keypoints.conf.shape[1] > 0: points_conf = keypoints.conf[0].cpu().numpy()\n",
    "                    if points_xy is not None:\n",
    "                        num_kpts_detected = points_xy.shape[0]\n",
    "                        for i in range(num_kpts_detected):\n",
    "                           kpt_visible = True\n",
    "                           if points_conf is not None and i < len(points_conf):\n",
    "                               if points_conf[i] < kpt_thresh: kpt_visible = False\n",
    "                           if kpt_visible:\n",
    "                               px, py = int(points_xy[i, 0]), int(points_xy[i, 1])\n",
    "                               if 0 <= px < annotated_img.shape[1] and 0 <= py < annotated_img.shape[0]:\n",
    "                                   color = tuple(map(int, keypoint_colors[i % len(keypoint_colors)])); label = keypoint_labels[i] if i < len(keypoint_labels) else str(i)\n",
    "                                   cv2.circle(annotated_img, (px, py), 5, color, -1); cv2.circle(annotated_img, (px, py), 7, (255, 255, 255), 1); cv2.putText(annotated_img, label, (px + 6, py - 6), cv2.FONT_HERSHEY_SIMPLEX, 0.5, color, 1, cv2.LINE_AA)\n",
    "                        if SKELETON:\n",
    "                           for ki, kj in SKELETON:\n",
    "                               pt1_visible = False; pt2_visible = False\n",
    "                               if ki < num_kpts_detected: pt1_visible = (points_conf is None or (ki < len(points_conf) and points_conf[ki] >= kpt_thresh))\n",
    "                               if kj < num_kpts_detected: pt2_visible = (points_conf is None or (kj < len(points_conf) and points_conf[kj] >= kpt_thresh))\n",
    "                               if pt1_visible and pt2_visible:\n",
    "                                    pt1 = tuple(map(int, points_xy[ki])); pt2 = tuple(map(int, points_xy[kj]))\n",
    "                                    if 0 <= pt1[0] < annotated_img.shape[1] and 0 <= pt1[1] < annotated_img.shape[0] and 0 <= pt2[0] < annotated_img.shape[1] and 0 <= pt2[1] < annotated_img.shape[0]:\n",
    "                                         color = tuple(map(int, keypoint_colors[ki % len(keypoint_colors)])); cv2.line(annotated_img, pt1, pt2, color, 2)\n",
    "\n",
    "                output_path = os.path.join(output_folder, f\"annotated_{filename}\")\n",
    "                cv2.imwrite(output_path, annotated_img)\n",
    "\n",
    "            except KeyboardInterrupt: print(\"Visualization interrupted.\"); raise\n",
    "            except Exception as e: print(f\"  Error processing {filename}: {e}\"); traceback.print_exc()\n",
    "\n",
    "        print(f\"\\nFinished processing {processed_count} test images.\")\n",
    "        print(f\"Annotated test images saved in: {os.path.abspath(output_folder)}\")\n",
    "\n",
    "    except KeyboardInterrupt: print(\"\\nPrediction loop interrupted.\")\n",
    "    except Exception as e: print(f\"An error occurred: {e}\"); traceback.print_exc()\n",
    "\n",
    "\n",
    "if __name__ == \"__main__\":\n",
    "    # التحقق من تحميل مسار الاختبار قبل المتابعة\n",
    "    if test_image_path and os.path.isdir(test_image_path):\n",
    "        start_vis_time = time.time()\n",
    "        evaluate_and_visualize(\n",
    "            model_path=MODEL_PATH,\n",
    "            data_yaml=DATA_YAML_PATH, # لا يزال مطلوبًا لـ .val()\n",
    "            test_img_path=test_image_path, # <-- تمرير المسار الصحيح\n",
    "            output_folder=OUTPUT_FOLDER,\n",
    "            imgsz_eval=TRAINING_IMG_SIZE, # <-- استخدام حجم الصورة الصحيح\n",
    "            conf_thresh=CONF_THRESHOLD,\n",
    "            kpt_thresh=KPT_CONF_THRESHOLD\n",
    "        )\n",
    "        end_vis_time = time.time(); duration_vis_sec = end_vis_time - start_vis_time; duration_vis_str = str(datetime.timedelta(seconds=duration_vis_sec))\n",
    "        print(f\"\\nEvaluation & Visualization task duration: {duration_vis_str}\")\n",
    "    else:\n",
    "        print(\"\\nCould not run evaluation/visualization because the 'test' image path was not determined or found.\")\n",
    "        print(f\"Please check the 'test:' path in '{DATA_YAML_PATH}' and ensure the directory exists.\")"
   ]
  },
  {
   "cell_type": "code",
   "execution_count": null,
   "id": "384954fa",
   "metadata": {},
   "outputs": [
    {
     "name": "stdout",
     "output_type": "stream",
     "text": [
      "Model loaded from: C:\\Users\\abdul\\Desktop\\YoloV8_New_Attempt\\datasets\\labels\\validation\\Pitch_Pose_Project_ColorAugOnly\\pose_e250_img960_clrAug_1744196576\\weights\\best.pt\n",
      "\n",
      "0: 544x960 1 pitch_layout, 280.8ms\n",
      "Speed: 33.6ms preprocess, 280.8ms inference, 97.3ms postprocess per image at shape (1, 3, 544, 960)\n",
      "\n",
      "0: 544x960 1 pitch_layout, 187.3ms\n",
      "Speed: 10.0ms preprocess, 187.3ms inference, 2.5ms postprocess per image at shape (1, 3, 544, 960)\n",
      "\n",
      "0: 544x960 1 pitch_layout, 182.7ms\n",
      "Speed: 6.8ms preprocess, 182.7ms inference, 2.4ms postprocess per image at shape (1, 3, 544, 960)\n",
      "\n",
      "0: 544x960 1 pitch_layout, 183.9ms\n",
      "Speed: 7.1ms preprocess, 183.9ms inference, 2.8ms postprocess per image at shape (1, 3, 544, 960)\n",
      "\n",
      "0: 544x960 1 pitch_layout, 206.6ms\n",
      "Speed: 7.2ms preprocess, 206.6ms inference, 4.6ms postprocess per image at shape (1, 3, 544, 960)\n",
      "\n",
      "0: 544x960 1 pitch_layout, 185.5ms\n",
      "Speed: 7.0ms preprocess, 185.5ms inference, 4.5ms postprocess per image at shape (1, 3, 544, 960)\n",
      "\n",
      "0: 544x960 1 pitch_layout, 245.7ms\n",
      "Speed: 6.8ms preprocess, 245.7ms inference, 2.2ms postprocess per image at shape (1, 3, 544, 960)\n",
      "\n",
      "0: 544x960 1 pitch_layout, 226.9ms\n",
      "Speed: 7.8ms preprocess, 226.9ms inference, 2.0ms postprocess per image at shape (1, 3, 544, 960)\n",
      "\n",
      "0: 544x960 1 pitch_layout, 205.2ms\n",
      "Speed: 15.4ms preprocess, 205.2ms inference, 2.1ms postprocess per image at shape (1, 3, 544, 960)\n",
      "\n",
      "0: 544x960 1 pitch_layout, 195.2ms\n",
      "Speed: 8.9ms preprocess, 195.2ms inference, 2.1ms postprocess per image at shape (1, 3, 544, 960)\n",
      "\n",
      "0: 544x960 1 pitch_layout, 204.2ms\n",
      "Speed: 6.5ms preprocess, 204.2ms inference, 2.2ms postprocess per image at shape (1, 3, 544, 960)\n",
      "\n",
      "0: 544x960 1 pitch_layout, 226.9ms\n",
      "Speed: 7.2ms preprocess, 226.9ms inference, 2.6ms postprocess per image at shape (1, 3, 544, 960)\n",
      "\n",
      "0: 544x960 1 pitch_layout, 162.4ms\n",
      "Speed: 9.8ms preprocess, 162.4ms inference, 2.0ms postprocess per image at shape (1, 3, 544, 960)\n",
      "\n",
      "0: 544x960 1 pitch_layout, 194.5ms\n",
      "Speed: 6.7ms preprocess, 194.5ms inference, 2.0ms postprocess per image at shape (1, 3, 544, 960)\n",
      "\n",
      "0: 544x960 1 pitch_layout, 161.7ms\n",
      "Speed: 23.4ms preprocess, 161.7ms inference, 3.4ms postprocess per image at shape (1, 3, 544, 960)\n",
      "\n",
      "0: 544x960 1 pitch_layout, 216.6ms\n",
      "Speed: 14.2ms preprocess, 216.6ms inference, 2.2ms postprocess per image at shape (1, 3, 544, 960)\n",
      "\n",
      "0: 544x960 1 pitch_layout, 206.7ms\n",
      "Speed: 20.2ms preprocess, 206.7ms inference, 2.3ms postprocess per image at shape (1, 3, 544, 960)\n",
      "\n",
      "0: 544x960 1 pitch_layout, 122.8ms\n",
      "Speed: 15.0ms preprocess, 122.8ms inference, 3.7ms postprocess per image at shape (1, 3, 544, 960)\n",
      "\n",
      "0: 544x960 1 pitch_layout, 189.3ms\n",
      "Speed: 14.7ms preprocess, 189.3ms inference, 2.7ms postprocess per image at shape (1, 3, 544, 960)\n",
      "\n",
      "0: 544x960 1 pitch_layout, 157.7ms\n",
      "Speed: 22.1ms preprocess, 157.7ms inference, 2.5ms postprocess per image at shape (1, 3, 544, 960)\n",
      "\n",
      "0: 544x960 1 pitch_layout, 200.6ms\n",
      "Speed: 9.2ms preprocess, 200.6ms inference, 2.1ms postprocess per image at shape (1, 3, 544, 960)\n",
      "\n",
      "0: 544x960 1 pitch_layout, 180.4ms\n",
      "Speed: 15.7ms preprocess, 180.4ms inference, 2.0ms postprocess per image at shape (1, 3, 544, 960)\n",
      "\n",
      "0: 544x960 1 pitch_layout, 240.2ms\n",
      "Speed: 6.8ms preprocess, 240.2ms inference, 2.0ms postprocess per image at shape (1, 3, 544, 960)\n",
      "\n",
      "0: 544x960 1 pitch_layout, 147.8ms\n",
      "Speed: 6.9ms preprocess, 147.8ms inference, 2.0ms postprocess per image at shape (1, 3, 544, 960)\n",
      "\n",
      "0: 544x960 1 pitch_layout, 222.5ms\n",
      "Speed: 6.5ms preprocess, 222.5ms inference, 2.5ms postprocess per image at shape (1, 3, 544, 960)\n",
      "\n",
      "0: 544x960 1 pitch_layout, 185.7ms\n",
      "Speed: 14.8ms preprocess, 185.7ms inference, 3.8ms postprocess per image at shape (1, 3, 544, 960)\n",
      "\n",
      "0: 544x960 1 pitch_layout, 213.6ms\n",
      "Speed: 13.2ms preprocess, 213.6ms inference, 2.1ms postprocess per image at shape (1, 3, 544, 960)\n",
      "\n",
      "0: 544x960 1 pitch_layout, 196.4ms\n",
      "Speed: 6.6ms preprocess, 196.4ms inference, 2.1ms postprocess per image at shape (1, 3, 544, 960)\n",
      "\n",
      "0: 544x960 1 pitch_layout, 201.0ms\n",
      "Speed: 25.3ms preprocess, 201.0ms inference, 2.0ms postprocess per image at shape (1, 3, 544, 960)\n",
      "\n",
      "0: 544x960 1 pitch_layout, 195.7ms\n",
      "Speed: 6.6ms preprocess, 195.7ms inference, 2.0ms postprocess per image at shape (1, 3, 544, 960)\n",
      "\n",
      "0: 544x960 1 pitch_layout, 180.9ms\n",
      "Speed: 22.2ms preprocess, 180.9ms inference, 2.0ms postprocess per image at shape (1, 3, 544, 960)\n",
      "\n",
      "0: 544x960 1 pitch_layout, 200.6ms\n",
      "Speed: 6.4ms preprocess, 200.6ms inference, 2.5ms postprocess per image at shape (1, 3, 544, 960)\n",
      "\n",
      "0: 544x960 2 pitch_layouts, 221.5ms\n",
      "Speed: 6.8ms preprocess, 221.5ms inference, 2.1ms postprocess per image at shape (1, 3, 544, 960)\n",
      "\n",
      "0: 544x960 2 pitch_layouts, 200.9ms\n",
      "Speed: 6.9ms preprocess, 200.9ms inference, 2.0ms postprocess per image at shape (1, 3, 544, 960)\n",
      "\n",
      "0: 544x960 1 pitch_layout, 206.6ms\n",
      "Speed: 22.4ms preprocess, 206.6ms inference, 1.9ms postprocess per image at shape (1, 3, 544, 960)\n",
      "\n",
      "0: 544x960 1 pitch_layout, 196.1ms\n",
      "Speed: 6.4ms preprocess, 196.1ms inference, 2.0ms postprocess per image at shape (1, 3, 544, 960)\n",
      "\n",
      "0: 544x960 1 pitch_layout, 207.4ms\n",
      "Speed: 6.9ms preprocess, 207.4ms inference, 2.3ms postprocess per image at shape (1, 3, 544, 960)\n",
      "\n",
      "0: 544x960 1 pitch_layout, 200.2ms\n",
      "Speed: 6.6ms preprocess, 200.2ms inference, 2.5ms postprocess per image at shape (1, 3, 544, 960)\n",
      "\n",
      "0: 544x960 1 pitch_layout, 220.8ms\n",
      "Speed: 6.8ms preprocess, 220.8ms inference, 2.2ms postprocess per image at shape (1, 3, 544, 960)\n",
      "\n",
      "0: 544x960 1 pitch_layout, 178.0ms\n",
      "Speed: 6.6ms preprocess, 178.0ms inference, 2.3ms postprocess per image at shape (1, 3, 544, 960)\n",
      "\n",
      "0: 544x960 1 pitch_layout, 144.2ms\n",
      "Speed: 6.7ms preprocess, 144.2ms inference, 2.1ms postprocess per image at shape (1, 3, 544, 960)\n",
      "\n",
      "0: 544x960 1 pitch_layout, 167.0ms\n",
      "Speed: 13.2ms preprocess, 167.0ms inference, 3.2ms postprocess per image at shape (1, 3, 544, 960)\n",
      "\n",
      "0: 544x960 1 pitch_layout, 234.5ms\n",
      "Speed: 7.1ms preprocess, 234.5ms inference, 6.0ms postprocess per image at shape (1, 3, 544, 960)\n",
      "\n",
      "0: 544x960 1 pitch_layout, 257.2ms\n",
      "Speed: 8.4ms preprocess, 257.2ms inference, 2.6ms postprocess per image at shape (1, 3, 544, 960)\n",
      "\n",
      "0: 544x960 1 pitch_layout, 236.3ms\n",
      "Speed: 6.5ms preprocess, 236.3ms inference, 2.5ms postprocess per image at shape (1, 3, 544, 960)\n",
      "\n",
      "0: 544x960 1 pitch_layout, 160.3ms\n",
      "Speed: 6.4ms preprocess, 160.3ms inference, 2.0ms postprocess per image at shape (1, 3, 544, 960)\n",
      "\n",
      "0: 544x960 1 pitch_layout, 159.6ms\n",
      "Speed: 17.3ms preprocess, 159.6ms inference, 3.6ms postprocess per image at shape (1, 3, 544, 960)\n",
      "\n",
      "0: 544x960 1 pitch_layout, 228.0ms\n",
      "Speed: 6.9ms preprocess, 228.0ms inference, 2.0ms postprocess per image at shape (1, 3, 544, 960)\n",
      "\n",
      "0: 544x960 1 pitch_layout, 176.2ms\n",
      "Speed: 17.0ms preprocess, 176.2ms inference, 3.8ms postprocess per image at shape (1, 3, 544, 960)\n",
      "\n",
      "0: 544x960 1 pitch_layout, 168.2ms\n",
      "Speed: 6.7ms preprocess, 168.2ms inference, 2.0ms postprocess per image at shape (1, 3, 544, 960)\n",
      "\n",
      "0: 544x960 1 pitch_layout, 205.1ms\n",
      "Speed: 6.8ms preprocess, 205.1ms inference, 2.3ms postprocess per image at shape (1, 3, 544, 960)\n",
      "\n",
      "0: 544x960 1 pitch_layout, 145.5ms\n",
      "Speed: 29.7ms preprocess, 145.5ms inference, 2.1ms postprocess per image at shape (1, 3, 544, 960)\n",
      "\n",
      "0: 544x960 1 pitch_layout, 170.1ms\n",
      "Speed: 6.7ms preprocess, 170.1ms inference, 2.9ms postprocess per image at shape (1, 3, 544, 960)\n",
      "\n",
      "0: 544x960 1 pitch_layout, 178.0ms\n",
      "Speed: 6.6ms preprocess, 178.0ms inference, 2.0ms postprocess per image at shape (1, 3, 544, 960)\n",
      "\n",
      "0: 544x960 1 pitch_layout, 163.4ms\n",
      "Speed: 6.9ms preprocess, 163.4ms inference, 3.9ms postprocess per image at shape (1, 3, 544, 960)\n",
      "\n",
      "0: 544x960 1 pitch_layout, 174.7ms\n",
      "Speed: 6.9ms preprocess, 174.7ms inference, 2.4ms postprocess per image at shape (1, 3, 544, 960)\n",
      "\n",
      "0: 544x960 1 pitch_layout, 238.9ms\n",
      "Speed: 6.6ms preprocess, 238.9ms inference, 2.1ms postprocess per image at shape (1, 3, 544, 960)\n",
      "\n",
      "0: 544x960 1 pitch_layout, 220.9ms\n",
      "Speed: 6.5ms preprocess, 220.9ms inference, 2.2ms postprocess per image at shape (1, 3, 544, 960)\n",
      "\n",
      "0: 544x960 1 pitch_layout, 190.8ms\n",
      "Speed: 7.1ms preprocess, 190.8ms inference, 2.0ms postprocess per image at shape (1, 3, 544, 960)\n",
      "\n",
      "0: 544x960 1 pitch_layout, 170.9ms\n",
      "Speed: 7.1ms preprocess, 170.9ms inference, 2.1ms postprocess per image at shape (1, 3, 544, 960)\n",
      "\n",
      "0: 544x960 1 pitch_layout, 226.8ms\n",
      "Speed: 7.2ms preprocess, 226.8ms inference, 2.0ms postprocess per image at shape (1, 3, 544, 960)\n",
      "\n",
      "0: 544x960 1 pitch_layout, 215.6ms\n",
      "Speed: 8.1ms preprocess, 215.6ms inference, 2.9ms postprocess per image at shape (1, 3, 544, 960)\n",
      "\n",
      "0: 544x960 1 pitch_layout, 220.7ms\n",
      "Speed: 6.8ms preprocess, 220.7ms inference, 2.2ms postprocess per image at shape (1, 3, 544, 960)\n",
      "\n",
      "0: 544x960 1 pitch_layout, 154.8ms\n",
      "Speed: 22.7ms preprocess, 154.8ms inference, 1.9ms postprocess per image at shape (1, 3, 544, 960)\n",
      "\n",
      "0: 544x960 1 pitch_layout, 197.2ms\n",
      "Speed: 6.9ms preprocess, 197.2ms inference, 2.0ms postprocess per image at shape (1, 3, 544, 960)\n",
      "\n",
      "0: 544x960 1 pitch_layout, 168.5ms\n",
      "Speed: 6.9ms preprocess, 168.5ms inference, 2.6ms postprocess per image at shape (1, 3, 544, 960)\n",
      "\n",
      "0: 544x960 1 pitch_layout, 184.9ms\n",
      "Speed: 7.0ms preprocess, 184.9ms inference, 2.0ms postprocess per image at shape (1, 3, 544, 960)\n",
      "\n",
      "0: 544x960 1 pitch_layout, 150.7ms\n",
      "Speed: 14.7ms preprocess, 150.7ms inference, 2.5ms postprocess per image at shape (1, 3, 544, 960)\n",
      "\n",
      "0: 544x960 1 pitch_layout, 200.6ms\n",
      "Speed: 6.8ms preprocess, 200.6ms inference, 2.1ms postprocess per image at shape (1, 3, 544, 960)\n",
      "\n",
      "0: 544x960 1 pitch_layout, 212.0ms\n",
      "Speed: 8.7ms preprocess, 212.0ms inference, 2.0ms postprocess per image at shape (1, 3, 544, 960)\n",
      "\n",
      "0: 544x960 1 pitch_layout, 229.7ms\n",
      "Speed: 6.6ms preprocess, 229.7ms inference, 2.0ms postprocess per image at shape (1, 3, 544, 960)\n",
      "\n",
      "0: 544x960 1 pitch_layout, 216.8ms\n",
      "Speed: 18.8ms preprocess, 216.8ms inference, 2.3ms postprocess per image at shape (1, 3, 544, 960)\n",
      "\n",
      "0: 544x960 1 pitch_layout, 202.7ms\n",
      "Speed: 18.4ms preprocess, 202.7ms inference, 2.1ms postprocess per image at shape (1, 3, 544, 960)\n",
      "\n",
      "0: 544x960 1 pitch_layout, 186.3ms\n",
      "Speed: 6.8ms preprocess, 186.3ms inference, 6.5ms postprocess per image at shape (1, 3, 544, 960)\n",
      "\n",
      "0: 544x960 1 pitch_layout, 185.6ms\n",
      "Speed: 37.8ms preprocess, 185.6ms inference, 3.9ms postprocess per image at shape (1, 3, 544, 960)\n",
      "\n",
      "0: 544x960 1 pitch_layout, 185.0ms\n",
      "Speed: 6.5ms preprocess, 185.0ms inference, 2.0ms postprocess per image at shape (1, 3, 544, 960)\n",
      "\n",
      "0: 544x960 1 pitch_layout, 205.5ms\n",
      "Speed: 6.9ms preprocess, 205.5ms inference, 2.1ms postprocess per image at shape (1, 3, 544, 960)\n",
      "\n",
      "0: 544x960 1 pitch_layout, 172.5ms\n",
      "Speed: 6.8ms preprocess, 172.5ms inference, 2.1ms postprocess per image at shape (1, 3, 544, 960)\n",
      "\n",
      "0: 544x960 1 pitch_layout, 251.9ms\n",
      "Speed: 6.8ms preprocess, 251.9ms inference, 2.2ms postprocess per image at shape (1, 3, 544, 960)\n",
      "\n",
      "0: 544x960 1 pitch_layout, 258.9ms\n",
      "Speed: 6.8ms preprocess, 258.9ms inference, 3.8ms postprocess per image at shape (1, 3, 544, 960)\n",
      "\n",
      "0: 544x960 1 pitch_layout, 203.6ms\n",
      "Speed: 6.7ms preprocess, 203.6ms inference, 3.8ms postprocess per image at shape (1, 3, 544, 960)\n",
      "\n",
      "0: 544x960 1 pitch_layout, 184.9ms\n",
      "Speed: 13.6ms preprocess, 184.9ms inference, 2.5ms postprocess per image at shape (1, 3, 544, 960)\n",
      "\n",
      "0: 544x960 1 pitch_layout, 190.0ms\n",
      "Speed: 6.7ms preprocess, 190.0ms inference, 1.9ms postprocess per image at shape (1, 3, 544, 960)\n",
      "\n",
      "0: 544x960 1 pitch_layout, 198.8ms\n",
      "Speed: 6.7ms preprocess, 198.8ms inference, 2.1ms postprocess per image at shape (1, 3, 544, 960)\n",
      "\n",
      "0: 544x960 1 pitch_layout, 200.4ms\n",
      "Speed: 6.9ms preprocess, 200.4ms inference, 1.9ms postprocess per image at shape (1, 3, 544, 960)\n",
      "\n",
      "0: 544x960 1 pitch_layout, 240.9ms\n",
      "Speed: 8.7ms preprocess, 240.9ms inference, 2.0ms postprocess per image at shape (1, 3, 544, 960)\n",
      "\n",
      "0: 544x960 1 pitch_layout, 240.2ms\n",
      "Speed: 6.7ms preprocess, 240.2ms inference, 2.2ms postprocess per image at shape (1, 3, 544, 960)\n",
      "\n",
      "0: 544x960 1 pitch_layout, 171.9ms\n",
      "Speed: 7.8ms preprocess, 171.9ms inference, 2.6ms postprocess per image at shape (1, 3, 544, 960)\n",
      "\n",
      "0: 544x960 1 pitch_layout, 203.6ms\n",
      "Speed: 6.8ms preprocess, 203.6ms inference, 2.1ms postprocess per image at shape (1, 3, 544, 960)\n",
      "\n",
      "0: 544x960 1 pitch_layout, 231.2ms\n",
      "Speed: 15.5ms preprocess, 231.2ms inference, 2.4ms postprocess per image at shape (1, 3, 544, 960)\n",
      "\n",
      "0: 544x960 1 pitch_layout, 183.8ms\n",
      "Speed: 6.7ms preprocess, 183.8ms inference, 3.7ms postprocess per image at shape (1, 3, 544, 960)\n",
      "\n",
      "0: 544x960 1 pitch_layout, 216.0ms\n",
      "Speed: 6.6ms preprocess, 216.0ms inference, 2.2ms postprocess per image at shape (1, 3, 544, 960)\n",
      "\n",
      "0: 544x960 1 pitch_layout, 174.2ms\n",
      "Speed: 15.0ms preprocess, 174.2ms inference, 2.2ms postprocess per image at shape (1, 3, 544, 960)\n",
      "\n",
      "0: 544x960 2 pitch_layouts, 211.9ms\n",
      "Speed: 6.5ms preprocess, 211.9ms inference, 3.7ms postprocess per image at shape (1, 3, 544, 960)\n",
      "\n",
      "0: 544x960 2 pitch_layouts, 209.1ms\n",
      "Speed: 8.7ms preprocess, 209.1ms inference, 2.0ms postprocess per image at shape (1, 3, 544, 960)\n",
      "\n",
      "0: 544x960 2 pitch_layouts, 200.5ms\n",
      "Speed: 38.1ms preprocess, 200.5ms inference, 2.1ms postprocess per image at shape (1, 3, 544, 960)\n",
      "\n",
      "0: 544x960 2 pitch_layouts, 213.7ms\n",
      "Speed: 6.8ms preprocess, 213.7ms inference, 2.1ms postprocess per image at shape (1, 3, 544, 960)\n",
      "\n",
      "0: 544x960 2 pitch_layouts, 224.4ms\n",
      "Speed: 7.0ms preprocess, 224.4ms inference, 1.9ms postprocess per image at shape (1, 3, 544, 960)\n",
      "\n",
      "0: 544x960 2 pitch_layouts, 177.3ms\n",
      "Speed: 14.7ms preprocess, 177.3ms inference, 2.0ms postprocess per image at shape (1, 3, 544, 960)\n",
      "\n",
      "0: 544x960 2 pitch_layouts, 239.1ms\n",
      "Speed: 6.6ms preprocess, 239.1ms inference, 2.7ms postprocess per image at shape (1, 3, 544, 960)\n",
      "\n",
      "0: 544x960 2 pitch_layouts, 202.7ms\n",
      "Speed: 6.7ms preprocess, 202.7ms inference, 2.1ms postprocess per image at shape (1, 3, 544, 960)\n",
      "\n",
      "0: 544x960 2 pitch_layouts, 162.0ms\n",
      "Speed: 42.0ms preprocess, 162.0ms inference, 2.4ms postprocess per image at shape (1, 3, 544, 960)\n",
      "\n",
      "0: 544x960 2 pitch_layouts, 176.2ms\n",
      "Speed: 7.1ms preprocess, 176.2ms inference, 2.1ms postprocess per image at shape (1, 3, 544, 960)\n",
      "\n",
      "0: 544x960 2 pitch_layouts, 167.2ms\n",
      "Speed: 6.9ms preprocess, 167.2ms inference, 2.4ms postprocess per image at shape (1, 3, 544, 960)\n",
      "\n",
      "0: 544x960 1 pitch_layout, 223.5ms\n",
      "Speed: 7.0ms preprocess, 223.5ms inference, 1.9ms postprocess per image at shape (1, 3, 544, 960)\n",
      "\n",
      "0: 544x960 1 pitch_layout, 210.3ms\n",
      "Speed: 6.7ms preprocess, 210.3ms inference, 2.1ms postprocess per image at shape (1, 3, 544, 960)\n",
      "\n",
      "0: 544x960 2 pitch_layouts, 246.5ms\n",
      "Speed: 6.6ms preprocess, 246.5ms inference, 2.1ms postprocess per image at shape (1, 3, 544, 960)\n",
      "\n",
      "0: 544x960 2 pitch_layouts, 193.0ms\n",
      "Speed: 7.5ms preprocess, 193.0ms inference, 2.3ms postprocess per image at shape (1, 3, 544, 960)\n",
      "\n",
      "0: 544x960 2 pitch_layouts, 223.6ms\n",
      "Speed: 6.7ms preprocess, 223.6ms inference, 7.0ms postprocess per image at shape (1, 3, 544, 960)\n",
      "\n",
      "0: 544x960 2 pitch_layouts, 210.0ms\n",
      "Speed: 15.8ms preprocess, 210.0ms inference, 2.0ms postprocess per image at shape (1, 3, 544, 960)\n",
      "\n",
      "0: 544x960 2 pitch_layouts, 209.2ms\n",
      "Speed: 6.5ms preprocess, 209.2ms inference, 2.0ms postprocess per image at shape (1, 3, 544, 960)\n",
      "\n",
      "0: 544x960 2 pitch_layouts, 209.8ms\n",
      "Speed: 6.6ms preprocess, 209.8ms inference, 2.5ms postprocess per image at shape (1, 3, 544, 960)\n",
      "\n",
      "0: 544x960 2 pitch_layouts, 210.6ms\n",
      "Speed: 7.0ms preprocess, 210.6ms inference, 3.3ms postprocess per image at shape (1, 3, 544, 960)\n",
      "\n",
      "0: 544x960 2 pitch_layouts, 201.8ms\n",
      "Speed: 6.7ms preprocess, 201.8ms inference, 2.2ms postprocess per image at shape (1, 3, 544, 960)\n",
      "\n",
      "0: 544x960 2 pitch_layouts, 173.5ms\n",
      "Speed: 41.8ms preprocess, 173.5ms inference, 2.2ms postprocess per image at shape (1, 3, 544, 960)\n",
      "\n",
      "0: 544x960 2 pitch_layouts, 203.5ms\n",
      "Speed: 6.7ms preprocess, 203.5ms inference, 2.9ms postprocess per image at shape (1, 3, 544, 960)\n",
      "\n",
      "0: 544x960 2 pitch_layouts, 180.6ms\n",
      "Speed: 7.3ms preprocess, 180.6ms inference, 2.0ms postprocess per image at shape (1, 3, 544, 960)\n",
      "\n",
      "0: 544x960 2 pitch_layouts, 202.6ms\n",
      "Speed: 15.1ms preprocess, 202.6ms inference, 2.0ms postprocess per image at shape (1, 3, 544, 960)\n",
      "\n",
      "0: 544x960 2 pitch_layouts, 154.0ms\n",
      "Speed: 34.1ms preprocess, 154.0ms inference, 2.1ms postprocess per image at shape (1, 3, 544, 960)\n",
      "\n",
      "0: 544x960 2 pitch_layouts, 202.8ms\n",
      "Speed: 6.6ms preprocess, 202.8ms inference, 2.5ms postprocess per image at shape (1, 3, 544, 960)\n",
      "\n",
      "0: 544x960 2 pitch_layouts, 222.5ms\n",
      "Speed: 6.7ms preprocess, 222.5ms inference, 2.2ms postprocess per image at shape (1, 3, 544, 960)\n",
      "\n",
      "0: 544x960 2 pitch_layouts, 208.8ms\n",
      "Speed: 35.4ms preprocess, 208.8ms inference, 4.6ms postprocess per image at shape (1, 3, 544, 960)\n",
      "\n",
      "0: 544x960 2 pitch_layouts, 191.1ms\n",
      "Speed: 6.6ms preprocess, 191.1ms inference, 2.2ms postprocess per image at shape (1, 3, 544, 960)\n",
      "\n",
      "0: 544x960 2 pitch_layouts, 239.0ms\n",
      "Speed: 6.7ms preprocess, 239.0ms inference, 2.0ms postprocess per image at shape (1, 3, 544, 960)\n",
      "\n",
      "0: 544x960 2 pitch_layouts, 274.1ms\n",
      "Speed: 6.6ms preprocess, 274.1ms inference, 2.0ms postprocess per image at shape (1, 3, 544, 960)\n",
      "\n",
      "0: 544x960 1 pitch_layout, 256.7ms\n",
      "Speed: 18.5ms preprocess, 256.7ms inference, 2.0ms postprocess per image at shape (1, 3, 544, 960)\n",
      "\n",
      "0: 544x960 1 pitch_layout, 178.9ms\n",
      "Speed: 6.6ms preprocess, 178.9ms inference, 2.4ms postprocess per image at shape (1, 3, 544, 960)\n",
      "\n",
      "0: 544x960 1 pitch_layout, 163.6ms\n",
      "Speed: 7.5ms preprocess, 163.6ms inference, 2.1ms postprocess per image at shape (1, 3, 544, 960)\n",
      "\n",
      "0: 544x960 2 pitch_layouts, 201.0ms\n",
      "Speed: 6.8ms preprocess, 201.0ms inference, 2.0ms postprocess per image at shape (1, 3, 544, 960)\n",
      "\n",
      "0: 544x960 1 pitch_layout, 192.2ms\n",
      "Speed: 7.1ms preprocess, 192.2ms inference, 2.9ms postprocess per image at shape (1, 3, 544, 960)\n",
      "\n",
      "0: 544x960 2 pitch_layouts, 199.5ms\n",
      "Speed: 6.5ms preprocess, 199.5ms inference, 2.4ms postprocess per image at shape (1, 3, 544, 960)\n",
      "\n",
      "0: 544x960 1 pitch_layout, 213.3ms\n",
      "Speed: 6.7ms preprocess, 213.3ms inference, 2.0ms postprocess per image at shape (1, 3, 544, 960)\n",
      "\n",
      "0: 544x960 1 pitch_layout, 206.2ms\n",
      "Speed: 6.8ms preprocess, 206.2ms inference, 2.0ms postprocess per image at shape (1, 3, 544, 960)\n",
      "\n",
      "0: 544x960 2 pitch_layouts, 206.3ms\n",
      "Speed: 6.7ms preprocess, 206.3ms inference, 2.1ms postprocess per image at shape (1, 3, 544, 960)\n",
      "\n",
      "0: 544x960 1 pitch_layout, 162.4ms\n",
      "Speed: 50.9ms preprocess, 162.4ms inference, 2.0ms postprocess per image at shape (1, 3, 544, 960)\n",
      "\n",
      "0: 544x960 1 pitch_layout, 186.0ms\n",
      "Speed: 18.2ms preprocess, 186.0ms inference, 2.5ms postprocess per image at shape (1, 3, 544, 960)\n",
      "\n",
      "0: 544x960 1 pitch_layout, 176.7ms\n",
      "Speed: 6.6ms preprocess, 176.7ms inference, 3.8ms postprocess per image at shape (1, 3, 544, 960)\n",
      "\n",
      "0: 544x960 1 pitch_layout, 216.7ms\n",
      "Speed: 6.7ms preprocess, 216.7ms inference, 3.7ms postprocess per image at shape (1, 3, 544, 960)\n",
      "\n",
      "0: 544x960 1 pitch_layout, 206.4ms\n",
      "Speed: 6.8ms preprocess, 206.4ms inference, 3.7ms postprocess per image at shape (1, 3, 544, 960)\n",
      "\n",
      "0: 544x960 2 pitch_layouts, 240.1ms\n",
      "Speed: 6.5ms preprocess, 240.1ms inference, 2.9ms postprocess per image at shape (1, 3, 544, 960)\n",
      "\n",
      "0: 544x960 1 pitch_layout, 216.7ms\n",
      "Speed: 14.6ms preprocess, 216.7ms inference, 1.9ms postprocess per image at shape (1, 3, 544, 960)\n",
      "\n",
      "0: 544x960 1 pitch_layout, 211.9ms\n",
      "Speed: 18.5ms preprocess, 211.9ms inference, 2.1ms postprocess per image at shape (1, 3, 544, 960)\n",
      "\n",
      "0: 544x960 2 pitch_layouts, 170.7ms\n",
      "Speed: 6.8ms preprocess, 170.7ms inference, 3.5ms postprocess per image at shape (1, 3, 544, 960)\n",
      "\n",
      "0: 544x960 2 pitch_layouts, 237.1ms\n",
      "Speed: 18.4ms preprocess, 237.1ms inference, 2.1ms postprocess per image at shape (1, 3, 544, 960)\n",
      "\n",
      "0: 544x960 2 pitch_layouts, 155.9ms\n",
      "Speed: 6.6ms preprocess, 155.9ms inference, 2.1ms postprocess per image at shape (1, 3, 544, 960)\n",
      "\n",
      "0: 544x960 1 pitch_layout, 234.9ms\n",
      "Speed: 6.7ms preprocess, 234.9ms inference, 3.5ms postprocess per image at shape (1, 3, 544, 960)\n",
      "\n",
      "0: 544x960 2 pitch_layouts, 195.1ms\n",
      "Speed: 6.6ms preprocess, 195.1ms inference, 2.0ms postprocess per image at shape (1, 3, 544, 960)\n",
      "\n",
      "0: 544x960 2 pitch_layouts, 213.3ms\n",
      "Speed: 6.7ms preprocess, 213.3ms inference, 2.4ms postprocess per image at shape (1, 3, 544, 960)\n",
      "\n",
      "0: 544x960 2 pitch_layouts, 252.1ms\n",
      "Speed: 6.7ms preprocess, 252.1ms inference, 1.9ms postprocess per image at shape (1, 3, 544, 960)\n",
      "\n",
      "0: 544x960 2 pitch_layouts, 195.1ms\n",
      "Speed: 6.5ms preprocess, 195.1ms inference, 2.2ms postprocess per image at shape (1, 3, 544, 960)\n",
      "\n",
      "0: 544x960 2 pitch_layouts, 196.3ms\n",
      "Speed: 7.0ms preprocess, 196.3ms inference, 2.0ms postprocess per image at shape (1, 3, 544, 960)\n",
      "\n",
      "0: 544x960 2 pitch_layouts, 199.5ms\n",
      "Speed: 6.6ms preprocess, 199.5ms inference, 2.0ms postprocess per image at shape (1, 3, 544, 960)\n",
      "\n",
      "0: 544x960 2 pitch_layouts, 190.6ms\n",
      "Speed: 6.6ms preprocess, 190.6ms inference, 2.0ms postprocess per image at shape (1, 3, 544, 960)\n",
      "\n",
      "0: 544x960 2 pitch_layouts, 181.4ms\n",
      "Speed: 6.7ms preprocess, 181.4ms inference, 2.0ms postprocess per image at shape (1, 3, 544, 960)\n",
      "\n",
      "0: 544x960 2 pitch_layouts, 217.3ms\n",
      "Speed: 6.9ms preprocess, 217.3ms inference, 3.8ms postprocess per image at shape (1, 3, 544, 960)\n",
      "\n",
      "0: 544x960 1 pitch_layout, 209.9ms\n",
      "Speed: 15.1ms preprocess, 209.9ms inference, 2.4ms postprocess per image at shape (1, 3, 544, 960)\n",
      "\n",
      "0: 544x960 1 pitch_layout, 166.4ms\n",
      "Speed: 7.1ms preprocess, 166.4ms inference, 1.9ms postprocess per image at shape (1, 3, 544, 960)\n",
      "\n",
      "0: 544x960 2 pitch_layouts, 170.5ms\n",
      "Speed: 6.7ms preprocess, 170.5ms inference, 2.0ms postprocess per image at shape (1, 3, 544, 960)\n",
      "\n",
      "0: 544x960 2 pitch_layouts, 241.4ms\n",
      "Speed: 6.9ms preprocess, 241.4ms inference, 2.1ms postprocess per image at shape (1, 3, 544, 960)\n",
      "\n",
      "0: 544x960 2 pitch_layouts, 188.4ms\n",
      "Speed: 14.6ms preprocess, 188.4ms inference, 2.3ms postprocess per image at shape (1, 3, 544, 960)\n",
      "\n",
      "0: 544x960 2 pitch_layouts, 199.5ms\n",
      "Speed: 18.3ms preprocess, 199.5ms inference, 2.2ms postprocess per image at shape (1, 3, 544, 960)\n",
      "\n",
      "0: 544x960 2 pitch_layouts, 189.3ms\n",
      "Speed: 6.9ms preprocess, 189.3ms inference, 1.9ms postprocess per image at shape (1, 3, 544, 960)\n",
      "\n",
      "0: 544x960 2 pitch_layouts, 201.6ms\n",
      "Speed: 6.6ms preprocess, 201.6ms inference, 2.1ms postprocess per image at shape (1, 3, 544, 960)\n",
      "\n",
      "0: 544x960 1 pitch_layout, 223.1ms\n",
      "Speed: 6.9ms preprocess, 223.1ms inference, 2.4ms postprocess per image at shape (1, 3, 544, 960)\n",
      "\n",
      "0: 544x960 2 pitch_layouts, 202.8ms\n",
      "Speed: 7.0ms preprocess, 202.8ms inference, 2.1ms postprocess per image at shape (1, 3, 544, 960)\n",
      "\n",
      "0: 544x960 2 pitch_layouts, 237.0ms\n",
      "Speed: 7.1ms preprocess, 237.0ms inference, 2.2ms postprocess per image at shape (1, 3, 544, 960)\n",
      "\n",
      "0: 544x960 2 pitch_layouts, 202.9ms\n",
      "Speed: 6.7ms preprocess, 202.9ms inference, 2.6ms postprocess per image at shape (1, 3, 544, 960)\n",
      "\n",
      "0: 544x960 1 pitch_layout, 200.3ms\n",
      "Speed: 22.6ms preprocess, 200.3ms inference, 2.2ms postprocess per image at shape (1, 3, 544, 960)\n",
      "\n",
      "0: 544x960 1 pitch_layout, 217.2ms\n",
      "Speed: 6.5ms preprocess, 217.2ms inference, 2.1ms postprocess per image at shape (1, 3, 544, 960)\n",
      "\n",
      "0: 544x960 2 pitch_layouts, 194.0ms\n",
      "Speed: 6.6ms preprocess, 194.0ms inference, 2.0ms postprocess per image at shape (1, 3, 544, 960)\n",
      "\n",
      "0: 544x960 2 pitch_layouts, 202.8ms\n",
      "Speed: 13.0ms preprocess, 202.8ms inference, 3.7ms postprocess per image at shape (1, 3, 544, 960)\n",
      "\n",
      "0: 544x960 2 pitch_layouts, 132.5ms\n",
      "Speed: 7.2ms preprocess, 132.5ms inference, 2.4ms postprocess per image at shape (1, 3, 544, 960)\n",
      "\n",
      "0: 544x960 2 pitch_layouts, 169.9ms\n",
      "Speed: 7.0ms preprocess, 169.9ms inference, 2.8ms postprocess per image at shape (1, 3, 544, 960)\n",
      "\n",
      "0: 544x960 2 pitch_layouts, 207.1ms\n",
      "Speed: 6.7ms preprocess, 207.1ms inference, 2.5ms postprocess per image at shape (1, 3, 544, 960)\n",
      "\n",
      "0: 544x960 2 pitch_layouts, 201.4ms\n",
      "Speed: 6.8ms preprocess, 201.4ms inference, 2.0ms postprocess per image at shape (1, 3, 544, 960)\n",
      "\n",
      "0: 544x960 1 pitch_layout, 254.2ms\n",
      "Speed: 6.8ms preprocess, 254.2ms inference, 2.0ms postprocess per image at shape (1, 3, 544, 960)\n",
      "\n",
      "0: 544x960 1 pitch_layout, 193.9ms\n",
      "Speed: 6.9ms preprocess, 193.9ms inference, 1.9ms postprocess per image at shape (1, 3, 544, 960)\n",
      "\n",
      "0: 544x960 1 pitch_layout, 199.5ms\n",
      "Speed: 7.2ms preprocess, 199.5ms inference, 2.1ms postprocess per image at shape (1, 3, 544, 960)\n",
      "\n",
      "0: 544x960 1 pitch_layout, 174.7ms\n",
      "Speed: 7.0ms preprocess, 174.7ms inference, 2.4ms postprocess per image at shape (1, 3, 544, 960)\n",
      "\n",
      "0: 544x960 1 pitch_layout, 218.5ms\n",
      "Speed: 6.7ms preprocess, 218.5ms inference, 2.1ms postprocess per image at shape (1, 3, 544, 960)\n",
      "\n",
      "0: 544x960 1 pitch_layout, 168.9ms\n",
      "Speed: 6.5ms preprocess, 168.9ms inference, 2.0ms postprocess per image at shape (1, 3, 544, 960)\n",
      "\n",
      "0: 544x960 1 pitch_layout, 151.5ms\n",
      "Speed: 6.6ms preprocess, 151.5ms inference, 2.5ms postprocess per image at shape (1, 3, 544, 960)\n",
      "\n",
      "0: 544x960 1 pitch_layout, 204.8ms\n",
      "Speed: 6.6ms preprocess, 204.8ms inference, 2.3ms postprocess per image at shape (1, 3, 544, 960)\n",
      "\n",
      "0: 544x960 1 pitch_layout, 249.5ms\n",
      "Speed: 6.8ms preprocess, 249.5ms inference, 2.2ms postprocess per image at shape (1, 3, 544, 960)\n",
      "\n",
      "0: 544x960 1 pitch_layout, 207.3ms\n",
      "Speed: 6.9ms preprocess, 207.3ms inference, 2.1ms postprocess per image at shape (1, 3, 544, 960)\n",
      "\n",
      "0: 544x960 1 pitch_layout, 175.2ms\n",
      "Speed: 6.6ms preprocess, 175.2ms inference, 2.2ms postprocess per image at shape (1, 3, 544, 960)\n",
      "\n",
      "0: 544x960 1 pitch_layout, 237.6ms\n",
      "Speed: 11.0ms preprocess, 237.6ms inference, 2.0ms postprocess per image at shape (1, 3, 544, 960)\n",
      "\n",
      "0: 544x960 1 pitch_layout, 177.8ms\n",
      "Speed: 7.0ms preprocess, 177.8ms inference, 2.4ms postprocess per image at shape (1, 3, 544, 960)\n",
      "\n",
      "0: 544x960 1 pitch_layout, 166.3ms\n",
      "Speed: 8.6ms preprocess, 166.3ms inference, 2.0ms postprocess per image at shape (1, 3, 544, 960)\n",
      "\n",
      "0: 544x960 1 pitch_layout, 173.6ms\n",
      "Speed: 22.1ms preprocess, 173.6ms inference, 2.0ms postprocess per image at shape (1, 3, 544, 960)\n",
      "\n",
      "0: 544x960 1 pitch_layout, 226.9ms\n",
      "Speed: 7.0ms preprocess, 226.9ms inference, 2.0ms postprocess per image at shape (1, 3, 544, 960)\n",
      "\n",
      "0: 544x960 1 pitch_layout, 203.5ms\n",
      "Speed: 16.4ms preprocess, 203.5ms inference, 1.9ms postprocess per image at shape (1, 3, 544, 960)\n",
      "\n",
      "0: 544x960 1 pitch_layout, 177.5ms\n",
      "Speed: 6.8ms preprocess, 177.5ms inference, 3.6ms postprocess per image at shape (1, 3, 544, 960)\n",
      "\n",
      "0: 544x960 1 pitch_layout, 174.8ms\n",
      "Speed: 6.8ms preprocess, 174.8ms inference, 1.9ms postprocess per image at shape (1, 3, 544, 960)\n",
      "\n",
      "0: 544x960 1 pitch_layout, 154.9ms\n",
      "Speed: 6.7ms preprocess, 154.9ms inference, 2.1ms postprocess per image at shape (1, 3, 544, 960)\n",
      "\n",
      "0: 544x960 1 pitch_layout, 190.2ms\n",
      "Speed: 6.7ms preprocess, 190.2ms inference, 2.3ms postprocess per image at shape (1, 3, 544, 960)\n",
      "\n",
      "0: 544x960 1 pitch_layout, 201.9ms\n",
      "Speed: 18.3ms preprocess, 201.9ms inference, 2.0ms postprocess per image at shape (1, 3, 544, 960)\n",
      "\n",
      "0: 544x960 1 pitch_layout, 223.3ms\n",
      "Speed: 6.5ms preprocess, 223.3ms inference, 2.0ms postprocess per image at shape (1, 3, 544, 960)\n",
      "\n",
      "0: 544x960 1 pitch_layout, 201.6ms\n",
      "Speed: 6.7ms preprocess, 201.6ms inference, 2.4ms postprocess per image at shape (1, 3, 544, 960)\n",
      "\n",
      "0: 544x960 1 pitch_layout, 180.8ms\n",
      "Speed: 33.8ms preprocess, 180.8ms inference, 2.4ms postprocess per image at shape (1, 3, 544, 960)\n",
      "\n",
      "0: 544x960 1 pitch_layout, 208.3ms\n",
      "Speed: 7.3ms preprocess, 208.3ms inference, 2.3ms postprocess per image at shape (1, 3, 544, 960)\n",
      "\n",
      "0: 544x960 1 pitch_layout, 229.4ms\n",
      "Speed: 14.8ms preprocess, 229.4ms inference, 2.3ms postprocess per image at shape (1, 3, 544, 960)\n",
      "\n",
      "0: 544x960 1 pitch_layout, 184.8ms\n",
      "Speed: 6.7ms preprocess, 184.8ms inference, 2.1ms postprocess per image at shape (1, 3, 544, 960)\n",
      "\n",
      "0: 544x960 2 pitch_layouts, 202.3ms\n",
      "Speed: 37.8ms preprocess, 202.3ms inference, 2.4ms postprocess per image at shape (1, 3, 544, 960)\n",
      "\n",
      "0: 544x960 2 pitch_layouts, 203.9ms\n",
      "Speed: 6.8ms preprocess, 203.9ms inference, 2.0ms postprocess per image at shape (1, 3, 544, 960)\n",
      "\n",
      "0: 544x960 2 pitch_layouts, 179.0ms\n",
      "Speed: 6.6ms preprocess, 179.0ms inference, 2.0ms postprocess per image at shape (1, 3, 544, 960)\n",
      "\n",
      "0: 544x960 1 pitch_layout, 176.5ms\n",
      "Speed: 6.8ms preprocess, 176.5ms inference, 2.0ms postprocess per image at shape (1, 3, 544, 960)\n",
      "\n",
      "0: 544x960 1 pitch_layout, 214.5ms\n",
      "Speed: 6.5ms preprocess, 214.5ms inference, 2.0ms postprocess per image at shape (1, 3, 544, 960)\n",
      "\n",
      "0: 544x960 1 pitch_layout, 224.1ms\n",
      "Speed: 7.1ms preprocess, 224.1ms inference, 2.1ms postprocess per image at shape (1, 3, 544, 960)\n",
      "\n",
      "0: 544x960 1 pitch_layout, 163.5ms\n",
      "Speed: 6.7ms preprocess, 163.5ms inference, 2.1ms postprocess per image at shape (1, 3, 544, 960)\n",
      "\n",
      "0: 544x960 1 pitch_layout, 224.6ms\n",
      "Speed: 9.4ms preprocess, 224.6ms inference, 1.9ms postprocess per image at shape (1, 3, 544, 960)\n",
      "\n",
      "0: 544x960 1 pitch_layout, 264.0ms\n",
      "Speed: 18.6ms preprocess, 264.0ms inference, 4.0ms postprocess per image at shape (1, 3, 544, 960)\n",
      "\n",
      "0: 544x960 2 pitch_layouts, 206.6ms\n",
      "Speed: 6.7ms preprocess, 206.6ms inference, 3.0ms postprocess per image at shape (1, 3, 544, 960)\n",
      "\n",
      "0: 544x960 2 pitch_layouts, 197.7ms\n",
      "Speed: 34.3ms preprocess, 197.7ms inference, 1.9ms postprocess per image at shape (1, 3, 544, 960)\n",
      "\n",
      "0: 544x960 2 pitch_layouts, 243.3ms\n",
      "Speed: 19.7ms preprocess, 243.3ms inference, 2.0ms postprocess per image at shape (1, 3, 544, 960)\n",
      "\n",
      "0: 544x960 2 pitch_layouts, 193.4ms\n",
      "Speed: 7.2ms preprocess, 193.4ms inference, 2.2ms postprocess per image at shape (1, 3, 544, 960)\n",
      "\n",
      "0: 544x960 2 pitch_layouts, 181.0ms\n",
      "Speed: 6.9ms preprocess, 181.0ms inference, 2.0ms postprocess per image at shape (1, 3, 544, 960)\n",
      "\n",
      "0: 544x960 1 pitch_layout, 228.6ms\n",
      "Speed: 15.0ms preprocess, 228.6ms inference, 2.0ms postprocess per image at shape (1, 3, 544, 960)\n",
      "\n",
      "0: 544x960 1 pitch_layout, 203.4ms\n",
      "Speed: 23.4ms preprocess, 203.4ms inference, 2.3ms postprocess per image at shape (1, 3, 544, 960)\n",
      "\n",
      "0: 544x960 1 pitch_layout, 212.2ms\n",
      "Speed: 18.7ms preprocess, 212.2ms inference, 2.0ms postprocess per image at shape (1, 3, 544, 960)\n",
      "\n",
      "0: 544x960 2 pitch_layouts, 215.0ms\n",
      "Speed: 6.8ms preprocess, 215.0ms inference, 1.9ms postprocess per image at shape (1, 3, 544, 960)\n",
      "\n",
      "0: 544x960 1 pitch_layout, 221.4ms\n",
      "Speed: 7.0ms preprocess, 221.4ms inference, 2.0ms postprocess per image at shape (1, 3, 544, 960)\n",
      "\n",
      "0: 544x960 1 pitch_layout, 200.3ms\n",
      "Speed: 22.2ms preprocess, 200.3ms inference, 4.0ms postprocess per image at shape (1, 3, 544, 960)\n",
      "\n",
      "0: 544x960 1 pitch_layout, 186.7ms\n",
      "Speed: 18.2ms preprocess, 186.7ms inference, 2.8ms postprocess per image at shape (1, 3, 544, 960)\n",
      "\n",
      "0: 544x960 1 pitch_layout, 226.8ms\n",
      "Speed: 6.6ms preprocess, 226.8ms inference, 2.0ms postprocess per image at shape (1, 3, 544, 960)\n",
      "\n",
      "0: 544x960 2 pitch_layouts, 239.9ms\n",
      "Speed: 7.3ms preprocess, 239.9ms inference, 2.1ms postprocess per image at shape (1, 3, 544, 960)\n",
      "\n",
      "0: 544x960 1 pitch_layout, 218.8ms\n",
      "Speed: 6.6ms preprocess, 218.8ms inference, 2.1ms postprocess per image at shape (1, 3, 544, 960)\n",
      "\n",
      "0: 544x960 2 pitch_layouts, 218.6ms\n",
      "Speed: 6.4ms preprocess, 218.6ms inference, 2.5ms postprocess per image at shape (1, 3, 544, 960)\n",
      "\n",
      "0: 544x960 2 pitch_layouts, 202.6ms\n",
      "Speed: 6.7ms preprocess, 202.6ms inference, 1.9ms postprocess per image at shape (1, 3, 544, 960)\n",
      "\n",
      "0: 544x960 2 pitch_layouts, 235.1ms\n",
      "Speed: 6.9ms preprocess, 235.1ms inference, 2.4ms postprocess per image at shape (1, 3, 544, 960)\n",
      "\n",
      "0: 544x960 2 pitch_layouts, 224.9ms\n",
      "Speed: 6.9ms preprocess, 224.9ms inference, 1.9ms postprocess per image at shape (1, 3, 544, 960)\n",
      "\n",
      "0: 544x960 2 pitch_layouts, 204.0ms\n",
      "Speed: 14.8ms preprocess, 204.0ms inference, 1.9ms postprocess per image at shape (1, 3, 544, 960)\n",
      "\n",
      "0: 544x960 1 pitch_layout, 201.0ms\n",
      "Speed: 30.0ms preprocess, 201.0ms inference, 2.0ms postprocess per image at shape (1, 3, 544, 960)\n",
      "\n",
      "0: 544x960 1 pitch_layout, 196.9ms\n",
      "Speed: 6.9ms preprocess, 196.9ms inference, 2.1ms postprocess per image at shape (1, 3, 544, 960)\n",
      "\n",
      "0: 544x960 1 pitch_layout, 172.4ms\n",
      "Speed: 6.7ms preprocess, 172.4ms inference, 2.1ms postprocess per image at shape (1, 3, 544, 960)\n",
      "\n",
      "0: 544x960 2 pitch_layouts, 165.4ms\n",
      "Speed: 6.8ms preprocess, 165.4ms inference, 2.4ms postprocess per image at shape (1, 3, 544, 960)\n",
      "\n",
      "0: 544x960 2 pitch_layouts, 229.9ms\n",
      "Speed: 6.5ms preprocess, 229.9ms inference, 2.6ms postprocess per image at shape (1, 3, 544, 960)\n",
      "\n",
      "0: 544x960 2 pitch_layouts, 191.5ms\n",
      "Speed: 7.5ms preprocess, 191.5ms inference, 2.1ms postprocess per image at shape (1, 3, 544, 960)\n",
      "\n",
      "0: 544x960 2 pitch_layouts, 177.6ms\n",
      "Speed: 26.5ms preprocess, 177.6ms inference, 2.3ms postprocess per image at shape (1, 3, 544, 960)\n",
      "\n",
      "0: 544x960 2 pitch_layouts, 170.0ms\n",
      "Speed: 6.7ms preprocess, 170.0ms inference, 4.1ms postprocess per image at shape (1, 3, 544, 960)\n",
      "\n",
      "0: 544x960 2 pitch_layouts, 205.0ms\n",
      "Speed: 6.7ms preprocess, 205.0ms inference, 2.1ms postprocess per image at shape (1, 3, 544, 960)\n",
      "\n",
      "0: 544x960 (no detections), 169.7ms\n",
      "Speed: 6.9ms preprocess, 169.7ms inference, 1.9ms postprocess per image at shape (1, 3, 544, 960)\n",
      "\n",
      "0: 544x960 (no detections), 209.6ms\n",
      "Speed: 6.8ms preprocess, 209.6ms inference, 0.7ms postprocess per image at shape (1, 3, 544, 960)\n",
      "\n",
      "0: 544x960 (no detections), 177.8ms\n",
      "Speed: 17.6ms preprocess, 177.8ms inference, 0.7ms postprocess per image at shape (1, 3, 544, 960)\n",
      "\n",
      "0: 544x960 (no detections), 200.8ms\n",
      "Speed: 14.9ms preprocess, 200.8ms inference, 0.7ms postprocess per image at shape (1, 3, 544, 960)\n",
      "\n",
      "0: 544x960 1 pitch_layout, 239.5ms\n",
      "Speed: 26.1ms preprocess, 239.5ms inference, 2.7ms postprocess per image at shape (1, 3, 544, 960)\n",
      "\n",
      "0: 544x960 1 pitch_layout, 222.0ms\n",
      "Speed: 6.8ms preprocess, 222.0ms inference, 2.1ms postprocess per image at shape (1, 3, 544, 960)\n",
      "\n",
      "0: 544x960 1 pitch_layout, 174.0ms\n",
      "Speed: 6.8ms preprocess, 174.0ms inference, 2.0ms postprocess per image at shape (1, 3, 544, 960)\n",
      "\n",
      "0: 544x960 (no detections), 252.1ms\n",
      "Speed: 22.2ms preprocess, 252.1ms inference, 0.9ms postprocess per image at shape (1, 3, 544, 960)\n",
      "\n",
      "0: 544x960 (no detections), 189.1ms\n",
      "Speed: 6.6ms preprocess, 189.1ms inference, 1.3ms postprocess per image at shape (1, 3, 544, 960)\n",
      "\n",
      "0: 544x960 (no detections), 221.3ms\n",
      "Speed: 6.6ms preprocess, 221.3ms inference, 1.0ms postprocess per image at shape (1, 3, 544, 960)\n",
      "\n",
      "0: 544x960 (no detections), 167.5ms\n",
      "Speed: 7.0ms preprocess, 167.5ms inference, 0.7ms postprocess per image at shape (1, 3, 544, 960)\n",
      "\n",
      "0: 544x960 (no detections), 204.4ms\n",
      "Speed: 9.2ms preprocess, 204.4ms inference, 1.1ms postprocess per image at shape (1, 3, 544, 960)\n",
      "\n",
      "0: 544x960 (no detections), 180.4ms\n",
      "Speed: 7.4ms preprocess, 180.4ms inference, 0.9ms postprocess per image at shape (1, 3, 544, 960)\n",
      "\n",
      "0: 544x960 (no detections), 231.6ms\n",
      "Speed: 15.4ms preprocess, 231.6ms inference, 0.7ms postprocess per image at shape (1, 3, 544, 960)\n",
      "\n",
      "0: 544x960 (no detections), 236.4ms\n",
      "Speed: 8.9ms preprocess, 236.4ms inference, 0.8ms postprocess per image at shape (1, 3, 544, 960)\n",
      "\n",
      "0: 544x960 (no detections), 173.1ms\n",
      "Speed: 7.0ms preprocess, 173.1ms inference, 0.8ms postprocess per image at shape (1, 3, 544, 960)\n",
      "\n",
      "0: 544x960 (no detections), 171.7ms\n",
      "Speed: 7.1ms preprocess, 171.7ms inference, 0.8ms postprocess per image at shape (1, 3, 544, 960)\n",
      "\n",
      "0: 544x960 (no detections), 165.1ms\n",
      "Speed: 6.8ms preprocess, 165.1ms inference, 0.7ms postprocess per image at shape (1, 3, 544, 960)\n",
      "\n",
      "0: 544x960 (no detections), 213.7ms\n",
      "Speed: 6.8ms preprocess, 213.7ms inference, 0.8ms postprocess per image at shape (1, 3, 544, 960)\n",
      "\n",
      "0: 544x960 (no detections), 194.9ms\n",
      "Speed: 6.6ms preprocess, 194.9ms inference, 1.0ms postprocess per image at shape (1, 3, 544, 960)\n",
      "\n",
      "0: 544x960 (no detections), 229.8ms\n",
      "Speed: 7.2ms preprocess, 229.8ms inference, 1.3ms postprocess per image at shape (1, 3, 544, 960)\n",
      "\n",
      "0: 544x960 1 pitch_layout, 209.2ms\n",
      "Speed: 9.1ms preprocess, 209.2ms inference, 3.7ms postprocess per image at shape (1, 3, 544, 960)\n",
      "\n",
      "0: 544x960 1 pitch_layout, 195.6ms\n",
      "Speed: 14.9ms preprocess, 195.6ms inference, 3.8ms postprocess per image at shape (1, 3, 544, 960)\n",
      "\n",
      "0: 544x960 1 pitch_layout, 148.0ms\n",
      "Speed: 6.8ms preprocess, 148.0ms inference, 2.1ms postprocess per image at shape (1, 3, 544, 960)\n",
      "\n",
      "0: 544x960 (no detections), 247.0ms\n",
      "Speed: 6.7ms preprocess, 247.0ms inference, 1.2ms postprocess per image at shape (1, 3, 544, 960)\n",
      "\n",
      "0: 544x960 1 pitch_layout, 215.0ms\n",
      "Speed: 6.6ms preprocess, 215.0ms inference, 4.0ms postprocess per image at shape (1, 3, 544, 960)\n",
      "\n",
      "0: 544x960 (no detections), 206.6ms\n",
      "Speed: 23.2ms preprocess, 206.6ms inference, 0.8ms postprocess per image at shape (1, 3, 544, 960)\n",
      "\n",
      "0: 544x960 (no detections), 176.7ms\n",
      "Speed: 18.6ms preprocess, 176.7ms inference, 0.7ms postprocess per image at shape (1, 3, 544, 960)\n",
      "\n",
      "0: 544x960 (no detections), 197.4ms\n",
      "Speed: 6.7ms preprocess, 197.4ms inference, 0.9ms postprocess per image at shape (1, 3, 544, 960)\n",
      "\n",
      "0: 544x960 (no detections), 186.6ms\n",
      "Speed: 7.1ms preprocess, 186.6ms inference, 0.7ms postprocess per image at shape (1, 3, 544, 960)\n",
      "\n",
      "0: 544x960 (no detections), 206.3ms\n",
      "Speed: 15.8ms preprocess, 206.3ms inference, 0.7ms postprocess per image at shape (1, 3, 544, 960)\n",
      "\n",
      "0: 544x960 (no detections), 187.6ms\n",
      "Speed: 20.4ms preprocess, 187.6ms inference, 0.8ms postprocess per image at shape (1, 3, 544, 960)\n",
      "\n",
      "0: 544x960 1 pitch_layout, 193.7ms\n",
      "Speed: 6.6ms preprocess, 193.7ms inference, 2.0ms postprocess per image at shape (1, 3, 544, 960)\n",
      "\n",
      "0: 544x960 (no detections), 203.9ms\n",
      "Speed: 12.1ms preprocess, 203.9ms inference, 0.8ms postprocess per image at shape (1, 3, 544, 960)\n",
      "\n",
      "0: 544x960 (no detections), 183.1ms\n",
      "Speed: 6.9ms preprocess, 183.1ms inference, 0.8ms postprocess per image at shape (1, 3, 544, 960)\n",
      "\n",
      "0: 544x960 (no detections), 170.6ms\n",
      "Speed: 6.5ms preprocess, 170.6ms inference, 0.8ms postprocess per image at shape (1, 3, 544, 960)\n",
      "\n",
      "0: 544x960 (no detections), 220.2ms\n",
      "Speed: 9.2ms preprocess, 220.2ms inference, 1.2ms postprocess per image at shape (1, 3, 544, 960)\n",
      "\n",
      "0: 544x960 (no detections), 214.8ms\n",
      "Speed: 16.0ms preprocess, 214.8ms inference, 1.1ms postprocess per image at shape (1, 3, 544, 960)\n",
      "\n",
      "0: 544x960 (no detections), 203.6ms\n",
      "Speed: 6.5ms preprocess, 203.6ms inference, 0.7ms postprocess per image at shape (1, 3, 544, 960)\n",
      "\n",
      "0: 544x960 1 pitch_layout, 168.7ms\n",
      "Speed: 7.1ms preprocess, 168.7ms inference, 3.8ms postprocess per image at shape (1, 3, 544, 960)\n",
      "\n",
      "0: 544x960 1 pitch_layout, 227.0ms\n",
      "Speed: 6.6ms preprocess, 227.0ms inference, 4.0ms postprocess per image at shape (1, 3, 544, 960)\n",
      "\n",
      "0: 544x960 1 pitch_layout, 218.2ms\n",
      "Speed: 6.6ms preprocess, 218.2ms inference, 2.0ms postprocess per image at shape (1, 3, 544, 960)\n",
      "\n",
      "0: 544x960 1 pitch_layout, 219.1ms\n",
      "Speed: 7.0ms preprocess, 219.1ms inference, 2.0ms postprocess per image at shape (1, 3, 544, 960)\n",
      "\n",
      "0: 544x960 1 pitch_layout, 212.2ms\n",
      "Speed: 6.7ms preprocess, 212.2ms inference, 3.5ms postprocess per image at shape (1, 3, 544, 960)\n",
      "\n",
      "0: 544x960 (no detections), 175.5ms\n",
      "Speed: 9.9ms preprocess, 175.5ms inference, 0.8ms postprocess per image at shape (1, 3, 544, 960)\n",
      "\n",
      "0: 544x960 (no detections), 198.7ms\n",
      "Speed: 13.6ms preprocess, 198.7ms inference, 0.7ms postprocess per image at shape (1, 3, 544, 960)\n",
      "\n",
      "0: 544x960 (no detections), 184.6ms\n",
      "Speed: 7.0ms preprocess, 184.6ms inference, 0.7ms postprocess per image at shape (1, 3, 544, 960)\n",
      "\n",
      "0: 544x960 (no detections), 224.1ms\n",
      "Speed: 6.7ms preprocess, 224.1ms inference, 0.9ms postprocess per image at shape (1, 3, 544, 960)\n",
      "\n",
      "0: 544x960 (no detections), 225.0ms\n",
      "Speed: 7.0ms preprocess, 225.0ms inference, 0.7ms postprocess per image at shape (1, 3, 544, 960)\n",
      "\n",
      "0: 544x960 (no detections), 186.9ms\n",
      "Speed: 6.5ms preprocess, 186.9ms inference, 0.9ms postprocess per image at shape (1, 3, 544, 960)\n",
      "\n",
      "0: 544x960 1 pitch_layout, 184.0ms\n",
      "Speed: 7.7ms preprocess, 184.0ms inference, 2.3ms postprocess per image at shape (1, 3, 544, 960)\n",
      "\n",
      "0: 544x960 1 pitch_layout, 188.3ms\n",
      "Speed: 6.6ms preprocess, 188.3ms inference, 2.2ms postprocess per image at shape (1, 3, 544, 960)\n",
      "\n",
      "0: 544x960 1 pitch_layout, 191.7ms\n",
      "Speed: 7.3ms preprocess, 191.7ms inference, 3.3ms postprocess per image at shape (1, 3, 544, 960)\n",
      "\n",
      "0: 544x960 1 pitch_layout, 182.9ms\n",
      "Speed: 6.9ms preprocess, 182.9ms inference, 2.1ms postprocess per image at shape (1, 3, 544, 960)\n",
      "\n",
      "0: 544x960 1 pitch_layout, 208.1ms\n",
      "Speed: 8.7ms preprocess, 208.1ms inference, 1.9ms postprocess per image at shape (1, 3, 544, 960)\n",
      "\n",
      "0: 544x960 (no detections), 205.2ms\n",
      "Speed: 15.6ms preprocess, 205.2ms inference, 0.7ms postprocess per image at shape (1, 3, 544, 960)\n",
      "\n",
      "0: 544x960 1 pitch_layout, 244.3ms\n",
      "Speed: 7.0ms preprocess, 244.3ms inference, 1.9ms postprocess per image at shape (1, 3, 544, 960)\n",
      "\n",
      "0: 544x960 1 pitch_layout, 241.2ms\n",
      "Speed: 6.5ms preprocess, 241.2ms inference, 2.0ms postprocess per image at shape (1, 3, 544, 960)\n",
      "\n",
      "0: 544x960 1 pitch_layout, 183.9ms\n",
      "Speed: 6.7ms preprocess, 183.9ms inference, 2.1ms postprocess per image at shape (1, 3, 544, 960)\n",
      "\n",
      "0: 544x960 1 pitch_layout, 203.6ms\n",
      "Speed: 6.7ms preprocess, 203.6ms inference, 2.6ms postprocess per image at shape (1, 3, 544, 960)\n",
      "\n",
      "0: 544x960 (no detections), 201.8ms\n",
      "Speed: 22.5ms preprocess, 201.8ms inference, 0.8ms postprocess per image at shape (1, 3, 544, 960)\n",
      "\n",
      "0: 544x960 1 pitch_layout, 217.9ms\n",
      "Speed: 11.3ms preprocess, 217.9ms inference, 2.1ms postprocess per image at shape (1, 3, 544, 960)\n",
      "\n",
      "0: 544x960 1 pitch_layout, 188.1ms\n",
      "Speed: 34.9ms preprocess, 188.1ms inference, 1.9ms postprocess per image at shape (1, 3, 544, 960)\n",
      "\n",
      "0: 544x960 1 pitch_layout, 189.9ms\n",
      "Speed: 6.7ms preprocess, 189.9ms inference, 2.2ms postprocess per image at shape (1, 3, 544, 960)\n",
      "\n",
      "0: 544x960 (no detections), 216.1ms\n",
      "Speed: 6.4ms preprocess, 216.1ms inference, 0.7ms postprocess per image at shape (1, 3, 544, 960)\n",
      "\n",
      "0: 544x960 (no detections), 218.9ms\n",
      "Speed: 6.5ms preprocess, 218.9ms inference, 0.8ms postprocess per image at shape (1, 3, 544, 960)\n",
      "\n",
      "0: 544x960 1 pitch_layout, 210.5ms\n",
      "Speed: 10.8ms preprocess, 210.5ms inference, 2.6ms postprocess per image at shape (1, 3, 544, 960)\n",
      "\n",
      "0: 544x960 1 pitch_layout, 185.2ms\n",
      "Speed: 16.7ms preprocess, 185.2ms inference, 2.4ms postprocess per image at shape (1, 3, 544, 960)\n",
      "\n",
      "0: 544x960 1 pitch_layout, 162.1ms\n",
      "Speed: 6.7ms preprocess, 162.1ms inference, 2.0ms postprocess per image at shape (1, 3, 544, 960)\n",
      "\n",
      "0: 544x960 (no detections), 154.6ms\n",
      "Speed: 6.9ms preprocess, 154.6ms inference, 0.7ms postprocess per image at shape (1, 3, 544, 960)\n",
      "\n",
      "0: 544x960 1 pitch_layout, 206.3ms\n",
      "Speed: 6.9ms preprocess, 206.3ms inference, 2.3ms postprocess per image at shape (1, 3, 544, 960)\n",
      "\n",
      "0: 544x960 1 pitch_layout, 189.5ms\n",
      "Speed: 6.7ms preprocess, 189.5ms inference, 2.3ms postprocess per image at shape (1, 3, 544, 960)\n",
      "\n",
      "0: 544x960 (no detections), 212.9ms\n",
      "Speed: 6.6ms preprocess, 212.9ms inference, 1.0ms postprocess per image at shape (1, 3, 544, 960)\n",
      "\n",
      "0: 544x960 (no detections), 207.9ms\n",
      "Speed: 7.0ms preprocess, 207.9ms inference, 0.8ms postprocess per image at shape (1, 3, 544, 960)\n",
      "\n",
      "0: 544x960 (no detections), 204.3ms\n",
      "Speed: 10.9ms preprocess, 204.3ms inference, 1.1ms postprocess per image at shape (1, 3, 544, 960)\n",
      "\n",
      "0: 544x960 (no detections), 230.7ms\n",
      "Speed: 6.7ms preprocess, 230.7ms inference, 0.8ms postprocess per image at shape (1, 3, 544, 960)\n",
      "\n",
      "0: 544x960 1 pitch_layout, 241.0ms\n",
      "Speed: 7.2ms preprocess, 241.0ms inference, 2.5ms postprocess per image at shape (1, 3, 544, 960)\n",
      "\n",
      "0: 544x960 1 pitch_layout, 209.0ms\n",
      "Speed: 14.1ms preprocess, 209.0ms inference, 2.2ms postprocess per image at shape (1, 3, 544, 960)\n",
      "\n",
      "0: 544x960 (no detections), 183.7ms\n",
      "Speed: 6.8ms preprocess, 183.7ms inference, 0.7ms postprocess per image at shape (1, 3, 544, 960)\n",
      "\n",
      "0: 544x960 (no detections), 195.2ms\n",
      "Speed: 8.8ms preprocess, 195.2ms inference, 0.8ms postprocess per image at shape (1, 3, 544, 960)\n",
      "\n",
      "0: 544x960 2 pitch_layouts, 167.7ms\n",
      "Speed: 6.8ms preprocess, 167.7ms inference, 2.4ms postprocess per image at shape (1, 3, 544, 960)\n",
      "\n",
      "0: 544x960 (no detections), 168.8ms\n",
      "Speed: 6.6ms preprocess, 168.8ms inference, 0.7ms postprocess per image at shape (1, 3, 544, 960)\n",
      "\n",
      "0: 544x960 (no detections), 257.2ms\n",
      "Speed: 6.8ms preprocess, 257.2ms inference, 0.8ms postprocess per image at shape (1, 3, 544, 960)\n",
      "\n",
      "0: 544x960 (no detections), 237.9ms\n",
      "Speed: 7.0ms preprocess, 237.9ms inference, 0.8ms postprocess per image at shape (1, 3, 544, 960)\n",
      "\n",
      "0: 544x960 (no detections), 184.8ms\n",
      "Speed: 18.5ms preprocess, 184.8ms inference, 0.8ms postprocess per image at shape (1, 3, 544, 960)\n",
      "\n",
      "0: 544x960 (no detections), 189.1ms\n",
      "Speed: 6.6ms preprocess, 189.1ms inference, 0.8ms postprocess per image at shape (1, 3, 544, 960)\n",
      "\n",
      "0: 544x960 (no detections), 204.5ms\n",
      "Speed: 14.9ms preprocess, 204.5ms inference, 0.9ms postprocess per image at shape (1, 3, 544, 960)\n",
      "\n",
      "0: 544x960 (no detections), 167.6ms\n",
      "Speed: 7.0ms preprocess, 167.6ms inference, 0.7ms postprocess per image at shape (1, 3, 544, 960)\n",
      "\n",
      "0: 544x960 (no detections), 183.5ms\n",
      "Speed: 6.7ms preprocess, 183.5ms inference, 0.7ms postprocess per image at shape (1, 3, 544, 960)\n",
      "\n",
      "0: 544x960 (no detections), 212.8ms\n",
      "Speed: 6.9ms preprocess, 212.8ms inference, 0.9ms postprocess per image at shape (1, 3, 544, 960)\n",
      "\n",
      "0: 544x960 1 pitch_layout, 213.7ms\n",
      "Speed: 6.9ms preprocess, 213.7ms inference, 2.1ms postprocess per image at shape (1, 3, 544, 960)\n",
      "\n",
      "0: 544x960 1 pitch_layout, 199.8ms\n",
      "Speed: 7.0ms preprocess, 199.8ms inference, 2.1ms postprocess per image at shape (1, 3, 544, 960)\n",
      "\n",
      "0: 544x960 1 pitch_layout, 152.9ms\n",
      "Speed: 51.0ms preprocess, 152.9ms inference, 2.1ms postprocess per image at shape (1, 3, 544, 960)\n",
      "\n",
      "0: 544x960 2 pitch_layouts, 221.1ms\n",
      "Speed: 6.6ms preprocess, 221.1ms inference, 2.0ms postprocess per image at shape (1, 3, 544, 960)\n",
      "\n",
      "0: 544x960 1 pitch_layout, 203.7ms\n",
      "Speed: 6.7ms preprocess, 203.7ms inference, 2.1ms postprocess per image at shape (1, 3, 544, 960)\n",
      "\n",
      "0: 544x960 1 pitch_layout, 222.8ms\n",
      "Speed: 6.8ms preprocess, 222.8ms inference, 1.9ms postprocess per image at shape (1, 3, 544, 960)\n",
      "\n",
      "0: 544x960 4 pitch_layouts, 199.7ms\n",
      "Speed: 14.9ms preprocess, 199.7ms inference, 3.3ms postprocess per image at shape (1, 3, 544, 960)\n",
      "\n",
      "0: 544x960 5 pitch_layouts, 202.2ms\n",
      "Speed: 14.6ms preprocess, 202.2ms inference, 2.0ms postprocess per image at shape (1, 3, 544, 960)\n",
      "\n",
      "0: 544x960 1 pitch_layout, 220.5ms\n",
      "Speed: 6.9ms preprocess, 220.5ms inference, 3.6ms postprocess per image at shape (1, 3, 544, 960)\n",
      "\n",
      "0: 544x960 1 pitch_layout, 169.6ms\n",
      "Speed: 18.2ms preprocess, 169.6ms inference, 2.2ms postprocess per image at shape (1, 3, 544, 960)\n",
      "\n",
      "0: 544x960 1 pitch_layout, 229.6ms\n",
      "Speed: 6.6ms preprocess, 229.6ms inference, 3.8ms postprocess per image at shape (1, 3, 544, 960)\n",
      "\n",
      "0: 544x960 1 pitch_layout, 220.0ms\n",
      "Speed: 12.5ms preprocess, 220.0ms inference, 2.2ms postprocess per image at shape (1, 3, 544, 960)\n",
      "\n",
      "0: 544x960 1 pitch_layout, 206.9ms\n",
      "Speed: 6.7ms preprocess, 206.9ms inference, 2.0ms postprocess per image at shape (1, 3, 544, 960)\n",
      "\n",
      "0: 544x960 1 pitch_layout, 209.6ms\n",
      "Speed: 6.8ms preprocess, 209.6ms inference, 2.0ms postprocess per image at shape (1, 3, 544, 960)\n",
      "\n",
      "0: 544x960 1 pitch_layout, 186.7ms\n",
      "Speed: 6.4ms preprocess, 186.7ms inference, 2.3ms postprocess per image at shape (1, 3, 544, 960)\n",
      "\n",
      "0: 544x960 1 pitch_layout, 272.5ms\n",
      "Speed: 11.0ms preprocess, 272.5ms inference, 2.1ms postprocess per image at shape (1, 3, 544, 960)\n",
      "\n",
      "0: 544x960 1 pitch_layout, 213.8ms\n",
      "Speed: 14.0ms preprocess, 213.8ms inference, 2.0ms postprocess per image at shape (1, 3, 544, 960)\n",
      "\n",
      "0: 544x960 1 pitch_layout, 219.1ms\n",
      "Speed: 6.8ms preprocess, 219.1ms inference, 2.0ms postprocess per image at shape (1, 3, 544, 960)\n",
      "\n",
      "0: 544x960 1 pitch_layout, 214.0ms\n",
      "Speed: 8.7ms preprocess, 214.0ms inference, 2.5ms postprocess per image at shape (1, 3, 544, 960)\n",
      "\n",
      "0: 544x960 1 pitch_layout, 233.1ms\n",
      "Speed: 6.8ms preprocess, 233.1ms inference, 2.3ms postprocess per image at shape (1, 3, 544, 960)\n",
      "\n",
      "0: 544x960 1 pitch_layout, 262.7ms\n",
      "Speed: 6.9ms preprocess, 262.7ms inference, 2.1ms postprocess per image at shape (1, 3, 544, 960)\n",
      "\n",
      "0: 544x960 1 pitch_layout, 173.3ms\n",
      "Speed: 8.6ms preprocess, 173.3ms inference, 1.9ms postprocess per image at shape (1, 3, 544, 960)\n",
      "\n",
      "0: 544x960 1 pitch_layout, 171.1ms\n",
      "Speed: 6.7ms preprocess, 171.1ms inference, 2.1ms postprocess per image at shape (1, 3, 544, 960)\n",
      "\n",
      "0: 544x960 1 pitch_layout, 171.3ms\n",
      "Speed: 6.8ms preprocess, 171.3ms inference, 2.4ms postprocess per image at shape (1, 3, 544, 960)\n",
      "\n",
      "0: 544x960 1 pitch_layout, 173.2ms\n",
      "Speed: 6.6ms preprocess, 173.2ms inference, 2.5ms postprocess per image at shape (1, 3, 544, 960)\n",
      "\n",
      "0: 544x960 1 pitch_layout, 181.7ms\n",
      "Speed: 6.5ms preprocess, 181.7ms inference, 2.4ms postprocess per image at shape (1, 3, 544, 960)\n",
      "\n",
      "0: 544x960 1 pitch_layout, 206.1ms\n",
      "Speed: 36.6ms preprocess, 206.1ms inference, 2.2ms postprocess per image at shape (1, 3, 544, 960)\n",
      "\n",
      "0: 544x960 1 pitch_layout, 225.9ms\n",
      "Speed: 6.9ms preprocess, 225.9ms inference, 1.9ms postprocess per image at shape (1, 3, 544, 960)\n",
      "\n",
      "0: 544x960 1 pitch_layout, 199.8ms\n",
      "Speed: 17.4ms preprocess, 199.8ms inference, 2.1ms postprocess per image at shape (1, 3, 544, 960)\n",
      "\n",
      "0: 544x960 1 pitch_layout, 184.4ms\n",
      "Speed: 6.7ms preprocess, 184.4ms inference, 2.0ms postprocess per image at shape (1, 3, 544, 960)\n",
      "\n",
      "0: 544x960 1 pitch_layout, 208.8ms\n",
      "Speed: 15.8ms preprocess, 208.8ms inference, 1.9ms postprocess per image at shape (1, 3, 544, 960)\n",
      "\n",
      "0: 544x960 1 pitch_layout, 220.1ms\n",
      "Speed: 15.2ms preprocess, 220.1ms inference, 2.1ms postprocess per image at shape (1, 3, 544, 960)\n",
      "\n",
      "0: 544x960 1 pitch_layout, 206.3ms\n",
      "Speed: 7.0ms preprocess, 206.3ms inference, 3.7ms postprocess per image at shape (1, 3, 544, 960)\n",
      "\n",
      "0: 544x960 1 pitch_layout, 182.8ms\n",
      "Speed: 6.8ms preprocess, 182.8ms inference, 2.2ms postprocess per image at shape (1, 3, 544, 960)\n",
      "\n",
      "0: 544x960 1 pitch_layout, 236.4ms\n",
      "Speed: 6.7ms preprocess, 236.4ms inference, 2.9ms postprocess per image at shape (1, 3, 544, 960)\n",
      "\n",
      "0: 544x960 1 pitch_layout, 175.9ms\n",
      "Speed: 28.0ms preprocess, 175.9ms inference, 2.4ms postprocess per image at shape (1, 3, 544, 960)\n",
      "\n",
      "0: 544x960 1 pitch_layout, 232.8ms\n",
      "Speed: 6.7ms preprocess, 232.8ms inference, 2.0ms postprocess per image at shape (1, 3, 544, 960)\n",
      "\n",
      "0: 544x960 1 pitch_layout, 225.3ms\n",
      "Speed: 41.2ms preprocess, 225.3ms inference, 2.1ms postprocess per image at shape (1, 3, 544, 960)\n",
      "\n",
      "0: 544x960 1 pitch_layout, 244.3ms\n",
      "Speed: 6.8ms preprocess, 244.3ms inference, 3.6ms postprocess per image at shape (1, 3, 544, 960)\n",
      "\n",
      "0: 544x960 1 pitch_layout, 192.9ms\n",
      "Speed: 6.7ms preprocess, 192.9ms inference, 2.2ms postprocess per image at shape (1, 3, 544, 960)\n",
      "\n",
      "0: 544x960 1 pitch_layout, 168.3ms\n",
      "Speed: 6.7ms preprocess, 168.3ms inference, 4.0ms postprocess per image at shape (1, 3, 544, 960)\n",
      "\n",
      "0: 544x960 1 pitch_layout, 197.0ms\n",
      "Speed: 6.5ms preprocess, 197.0ms inference, 2.2ms postprocess per image at shape (1, 3, 544, 960)\n",
      "\n",
      "0: 544x960 1 pitch_layout, 192.9ms\n",
      "Speed: 6.9ms preprocess, 192.9ms inference, 1.9ms postprocess per image at shape (1, 3, 544, 960)\n",
      "\n",
      "0: 544x960 1 pitch_layout, 235.1ms\n",
      "Speed: 14.6ms preprocess, 235.1ms inference, 2.1ms postprocess per image at shape (1, 3, 544, 960)\n",
      "\n",
      "0: 544x960 1 pitch_layout, 216.0ms\n",
      "Speed: 26.3ms preprocess, 216.0ms inference, 2.1ms postprocess per image at shape (1, 3, 544, 960)\n",
      "\n",
      "0: 544x960 1 pitch_layout, 234.3ms\n",
      "Speed: 7.0ms preprocess, 234.3ms inference, 2.3ms postprocess per image at shape (1, 3, 544, 960)\n",
      "\n",
      "0: 544x960 1 pitch_layout, 207.2ms\n",
      "Speed: 6.7ms preprocess, 207.2ms inference, 2.4ms postprocess per image at shape (1, 3, 544, 960)\n",
      "\n",
      "0: 544x960 1 pitch_layout, 203.0ms\n",
      "Speed: 7.1ms preprocess, 203.0ms inference, 2.0ms postprocess per image at shape (1, 3, 544, 960)\n",
      "\n",
      "0: 544x960 1 pitch_layout, 182.5ms\n",
      "Speed: 6.7ms preprocess, 182.5ms inference, 2.1ms postprocess per image at shape (1, 3, 544, 960)\n",
      "\n",
      "0: 544x960 1 pitch_layout, 201.1ms\n",
      "Speed: 26.1ms preprocess, 201.1ms inference, 2.0ms postprocess per image at shape (1, 3, 544, 960)\n",
      "\n",
      "0: 544x960 1 pitch_layout, 180.1ms\n",
      "Speed: 19.3ms preprocess, 180.1ms inference, 2.2ms postprocess per image at shape (1, 3, 544, 960)\n",
      "\n",
      "0: 544x960 1 pitch_layout, 243.1ms\n",
      "Speed: 7.7ms preprocess, 243.1ms inference, 2.0ms postprocess per image at shape (1, 3, 544, 960)\n",
      "\n",
      "0: 544x960 1 pitch_layout, 215.4ms\n",
      "Speed: 7.9ms preprocess, 215.4ms inference, 2.6ms postprocess per image at shape (1, 3, 544, 960)\n",
      "\n",
      "0: 544x960 1 pitch_layout, 204.8ms\n",
      "Speed: 30.0ms preprocess, 204.8ms inference, 1.9ms postprocess per image at shape (1, 3, 544, 960)\n",
      "\n",
      "0: 544x960 1 pitch_layout, 208.7ms\n",
      "Speed: 6.7ms preprocess, 208.7ms inference, 2.8ms postprocess per image at shape (1, 3, 544, 960)\n",
      "\n",
      "0: 544x960 1 pitch_layout, 243.8ms\n",
      "Speed: 6.8ms preprocess, 243.8ms inference, 2.2ms postprocess per image at shape (1, 3, 544, 960)\n",
      "\n",
      "0: 544x960 1 pitch_layout, 185.6ms\n",
      "Speed: 7.2ms preprocess, 185.6ms inference, 2.0ms postprocess per image at shape (1, 3, 544, 960)\n",
      "\n",
      "0: 544x960 1 pitch_layout, 178.7ms\n",
      "Speed: 6.8ms preprocess, 178.7ms inference, 2.2ms postprocess per image at shape (1, 3, 544, 960)\n",
      "\n",
      "0: 544x960 1 pitch_layout, 195.8ms\n",
      "Speed: 18.4ms preprocess, 195.8ms inference, 2.0ms postprocess per image at shape (1, 3, 544, 960)\n",
      "\n",
      "0: 544x960 1 pitch_layout, 196.9ms\n",
      "Speed: 33.9ms preprocess, 196.9ms inference, 2.1ms postprocess per image at shape (1, 3, 544, 960)\n",
      "\n",
      "0: 544x960 1 pitch_layout, 175.8ms\n",
      "Speed: 23.8ms preprocess, 175.8ms inference, 2.0ms postprocess per image at shape (1, 3, 544, 960)\n",
      "\n",
      "0: 544x960 1 pitch_layout, 170.7ms\n",
      "Speed: 6.5ms preprocess, 170.7ms inference, 2.0ms postprocess per image at shape (1, 3, 544, 960)\n",
      "\n",
      "0: 544x960 1 pitch_layout, 229.4ms\n",
      "Speed: 6.5ms preprocess, 229.4ms inference, 2.0ms postprocess per image at shape (1, 3, 544, 960)\n",
      "\n",
      "0: 544x960 1 pitch_layout, 206.8ms\n",
      "Speed: 6.6ms preprocess, 206.8ms inference, 2.2ms postprocess per image at shape (1, 3, 544, 960)\n",
      "\n",
      "0: 544x960 1 pitch_layout, 158.2ms\n",
      "Speed: 6.9ms preprocess, 158.2ms inference, 2.1ms postprocess per image at shape (1, 3, 544, 960)\n",
      "\n",
      "0: 544x960 1 pitch_layout, 212.8ms\n",
      "Speed: 19.5ms preprocess, 212.8ms inference, 2.0ms postprocess per image at shape (1, 3, 544, 960)\n",
      "\n",
      "0: 544x960 1 pitch_layout, 182.8ms\n",
      "Speed: 7.0ms preprocess, 182.8ms inference, 2.2ms postprocess per image at shape (1, 3, 544, 960)\n",
      "\n",
      "0: 544x960 1 pitch_layout, 256.2ms\n",
      "Speed: 6.5ms preprocess, 256.2ms inference, 1.9ms postprocess per image at shape (1, 3, 544, 960)\n",
      "\n",
      "0: 544x960 1 pitch_layout, 276.1ms\n",
      "Speed: 7.1ms preprocess, 276.1ms inference, 2.5ms postprocess per image at shape (1, 3, 544, 960)\n",
      "\n",
      "0: 544x960 1 pitch_layout, 204.0ms\n",
      "Speed: 9.0ms preprocess, 204.0ms inference, 2.1ms postprocess per image at shape (1, 3, 544, 960)\n",
      "\n",
      "0: 544x960 1 pitch_layout, 184.7ms\n",
      "Speed: 6.6ms preprocess, 184.7ms inference, 2.5ms postprocess per image at shape (1, 3, 544, 960)\n",
      "\n",
      "0: 544x960 1 pitch_layout, 167.2ms\n",
      "Speed: 14.5ms preprocess, 167.2ms inference, 2.0ms postprocess per image at shape (1, 3, 544, 960)\n",
      "\n",
      "0: 544x960 1 pitch_layout, 206.2ms\n",
      "Speed: 18.3ms preprocess, 206.2ms inference, 2.4ms postprocess per image at shape (1, 3, 544, 960)\n",
      "\n",
      "0: 544x960 1 pitch_layout, 169.0ms\n",
      "Speed: 7.0ms preprocess, 169.0ms inference, 2.9ms postprocess per image at shape (1, 3, 544, 960)\n",
      "\n",
      "0: 544x960 1 pitch_layout, 247.4ms\n",
      "Speed: 6.8ms preprocess, 247.4ms inference, 2.0ms postprocess per image at shape (1, 3, 544, 960)\n",
      "\n",
      "0: 544x960 1 pitch_layout, 187.1ms\n",
      "Speed: 6.8ms preprocess, 187.1ms inference, 2.0ms postprocess per image at shape (1, 3, 544, 960)\n",
      "\n",
      "0: 544x960 1 pitch_layout, 254.3ms\n",
      "Speed: 6.6ms preprocess, 254.3ms inference, 2.2ms postprocess per image at shape (1, 3, 544, 960)\n",
      "\n",
      "0: 544x960 1 pitch_layout, 221.5ms\n",
      "Speed: 6.8ms preprocess, 221.5ms inference, 2.0ms postprocess per image at shape (1, 3, 544, 960)\n",
      "\n",
      "0: 544x960 2 pitch_layouts, 205.1ms\n",
      "Speed: 35.6ms preprocess, 205.1ms inference, 2.2ms postprocess per image at shape (1, 3, 544, 960)\n",
      "\n",
      "0: 544x960 2 pitch_layouts, 166.8ms\n",
      "Speed: 6.7ms preprocess, 166.8ms inference, 1.9ms postprocess per image at shape (1, 3, 544, 960)\n",
      "\n",
      "0: 544x960 2 pitch_layouts, 185.3ms\n",
      "Speed: 9.0ms preprocess, 185.3ms inference, 3.0ms postprocess per image at shape (1, 3, 544, 960)\n",
      "\n",
      "0: 544x960 1 pitch_layout, 180.5ms\n",
      "Speed: 19.1ms preprocess, 180.5ms inference, 2.1ms postprocess per image at shape (1, 3, 544, 960)\n",
      "\n",
      "0: 544x960 2 pitch_layouts, 152.3ms\n",
      "Speed: 30.2ms preprocess, 152.3ms inference, 2.0ms postprocess per image at shape (1, 3, 544, 960)\n",
      "\n",
      "0: 544x960 2 pitch_layouts, 216.5ms\n",
      "Speed: 6.6ms preprocess, 216.5ms inference, 2.6ms postprocess per image at shape (1, 3, 544, 960)\n",
      "\n",
      "0: 544x960 2 pitch_layouts, 272.0ms\n",
      "Speed: 6.6ms preprocess, 272.0ms inference, 2.0ms postprocess per image at shape (1, 3, 544, 960)\n",
      "\n",
      "0: 544x960 1 pitch_layout, 198.6ms\n",
      "Speed: 7.5ms preprocess, 198.6ms inference, 3.0ms postprocess per image at shape (1, 3, 544, 960)\n",
      "\n",
      "0: 544x960 1 pitch_layout, 243.8ms\n",
      "Speed: 6.8ms preprocess, 243.8ms inference, 1.9ms postprocess per image at shape (1, 3, 544, 960)\n",
      "\n",
      "0: 544x960 2 pitch_layouts, 187.6ms\n",
      "Speed: 7.0ms preprocess, 187.6ms inference, 2.0ms postprocess per image at shape (1, 3, 544, 960)\n",
      "\n",
      "0: 544x960 1 pitch_layout, 194.0ms\n",
      "Speed: 7.0ms preprocess, 194.0ms inference, 2.3ms postprocess per image at shape (1, 3, 544, 960)\n",
      "\n",
      "0: 544x960 1 pitch_layout, 174.8ms\n",
      "Speed: 15.7ms preprocess, 174.8ms inference, 2.3ms postprocess per image at shape (1, 3, 544, 960)\n",
      "\n",
      "0: 544x960 2 pitch_layouts, 207.1ms\n",
      "Speed: 18.3ms preprocess, 207.1ms inference, 2.5ms postprocess per image at shape (1, 3, 544, 960)\n",
      "\n",
      "0: 544x960 1 pitch_layout, 156.2ms\n",
      "Speed: 7.1ms preprocess, 156.2ms inference, 2.0ms postprocess per image at shape (1, 3, 544, 960)\n",
      "\n",
      "0: 544x960 2 pitch_layouts, 178.0ms\n",
      "Speed: 7.2ms preprocess, 178.0ms inference, 2.0ms postprocess per image at shape (1, 3, 544, 960)\n",
      "\n",
      "0: 544x960 2 pitch_layouts, 203.7ms\n",
      "Speed: 6.7ms preprocess, 203.7ms inference, 2.0ms postprocess per image at shape (1, 3, 544, 960)\n",
      "\n",
      "0: 544x960 1 pitch_layout, 165.2ms\n",
      "Speed: 22.4ms preprocess, 165.2ms inference, 2.1ms postprocess per image at shape (1, 3, 544, 960)\n",
      "\n",
      "0: 544x960 1 pitch_layout, 164.1ms\n",
      "Speed: 6.5ms preprocess, 164.1ms inference, 2.2ms postprocess per image at shape (1, 3, 544, 960)\n",
      "\n",
      "0: 544x960 1 pitch_layout, 245.2ms\n",
      "Speed: 22.5ms preprocess, 245.2ms inference, 2.1ms postprocess per image at shape (1, 3, 544, 960)\n",
      "\n",
      "0: 544x960 1 pitch_layout, 233.2ms\n",
      "Speed: 30.2ms preprocess, 233.2ms inference, 2.3ms postprocess per image at shape (1, 3, 544, 960)\n",
      "\n",
      "0: 544x960 1 pitch_layout, 186.6ms\n",
      "Speed: 7.1ms preprocess, 186.6ms inference, 2.1ms postprocess per image at shape (1, 3, 544, 960)\n",
      "\n",
      "0: 544x960 1 pitch_layout, 218.9ms\n",
      "Speed: 6.4ms preprocess, 218.9ms inference, 2.2ms postprocess per image at shape (1, 3, 544, 960)\n",
      "\n",
      "0: 544x960 1 pitch_layout, 216.7ms\n",
      "Speed: 7.9ms preprocess, 216.7ms inference, 2.1ms postprocess per image at shape (1, 3, 544, 960)\n",
      "\n",
      "0: 544x960 1 pitch_layout, 203.0ms\n",
      "Speed: 30.0ms preprocess, 203.0ms inference, 3.6ms postprocess per image at shape (1, 3, 544, 960)\n",
      "\n",
      "0: 544x960 1 pitch_layout, 206.2ms\n",
      "Speed: 13.6ms preprocess, 206.2ms inference, 1.9ms postprocess per image at shape (1, 3, 544, 960)\n",
      "\n",
      "0: 544x960 1 pitch_layout, 170.5ms\n",
      "Speed: 6.5ms preprocess, 170.5ms inference, 2.0ms postprocess per image at shape (1, 3, 544, 960)\n",
      "\n",
      "0: 544x960 1 pitch_layout, 222.7ms\n",
      "Speed: 6.8ms preprocess, 222.7ms inference, 2.1ms postprocess per image at shape (1, 3, 544, 960)\n",
      "\n",
      "0: 544x960 1 pitch_layout, 208.9ms\n",
      "Speed: 7.1ms preprocess, 208.9ms inference, 2.1ms postprocess per image at shape (1, 3, 544, 960)\n",
      "\n",
      "0: 544x960 1 pitch_layout, 155.7ms\n",
      "Speed: 8.7ms preprocess, 155.7ms inference, 7.5ms postprocess per image at shape (1, 3, 544, 960)\n",
      "\n",
      "0: 544x960 1 pitch_layout, 255.7ms\n",
      "Speed: 7.7ms preprocess, 255.7ms inference, 2.1ms postprocess per image at shape (1, 3, 544, 960)\n",
      "\n",
      "0: 544x960 1 pitch_layout, 169.0ms\n",
      "Speed: 35.8ms preprocess, 169.0ms inference, 2.3ms postprocess per image at shape (1, 3, 544, 960)\n",
      "\n",
      "0: 544x960 1 pitch_layout, 189.8ms\n",
      "Speed: 6.7ms preprocess, 189.8ms inference, 3.6ms postprocess per image at shape (1, 3, 544, 960)\n",
      "\n",
      "0: 544x960 1 pitch_layout, 185.0ms\n",
      "Speed: 6.8ms preprocess, 185.0ms inference, 2.0ms postprocess per image at shape (1, 3, 544, 960)\n",
      "\n",
      "0: 544x960 1 pitch_layout, 198.7ms\n",
      "Speed: 6.7ms preprocess, 198.7ms inference, 2.0ms postprocess per image at shape (1, 3, 544, 960)\n",
      "\n",
      "0: 544x960 1 pitch_layout, 217.8ms\n",
      "Speed: 30.4ms preprocess, 217.8ms inference, 2.1ms postprocess per image at shape (1, 3, 544, 960)\n",
      "\n",
      "0: 544x960 1 pitch_layout, 180.6ms\n",
      "Speed: 6.7ms preprocess, 180.6ms inference, 2.1ms postprocess per image at shape (1, 3, 544, 960)\n",
      "\n",
      "0: 544x960 1 pitch_layout, 196.4ms\n",
      "Speed: 6.6ms preprocess, 196.4ms inference, 1.9ms postprocess per image at shape (1, 3, 544, 960)\n",
      "\n",
      "0: 544x960 1 pitch_layout, 176.1ms\n",
      "Speed: 22.5ms preprocess, 176.1ms inference, 2.2ms postprocess per image at shape (1, 3, 544, 960)\n",
      "\n",
      "0: 544x960 1 pitch_layout, 199.9ms\n",
      "Speed: 6.5ms preprocess, 199.9ms inference, 2.0ms postprocess per image at shape (1, 3, 544, 960)\n",
      "\n",
      "0: 544x960 1 pitch_layout, 205.8ms\n",
      "Speed: 22.3ms preprocess, 205.8ms inference, 2.6ms postprocess per image at shape (1, 3, 544, 960)\n",
      "\n",
      "0: 544x960 1 pitch_layout, 166.8ms\n",
      "Speed: 7.1ms preprocess, 166.8ms inference, 3.8ms postprocess per image at shape (1, 3, 544, 960)\n",
      "\n",
      "0: 544x960 1 pitch_layout, 171.4ms\n",
      "Speed: 7.0ms preprocess, 171.4ms inference, 3.8ms postprocess per image at shape (1, 3, 544, 960)\n",
      "\n",
      "0: 544x960 1 pitch_layout, 206.9ms\n",
      "Speed: 8.7ms preprocess, 206.9ms inference, 2.2ms postprocess per image at shape (1, 3, 544, 960)\n",
      "\n",
      "0: 544x960 1 pitch_layout, 201.8ms\n",
      "Speed: 6.8ms preprocess, 201.8ms inference, 2.6ms postprocess per image at shape (1, 3, 544, 960)\n",
      "\n",
      "0: 544x960 1 pitch_layout, 219.8ms\n",
      "Speed: 6.6ms preprocess, 219.8ms inference, 2.0ms postprocess per image at shape (1, 3, 544, 960)\n",
      "\n",
      "0: 544x960 1 pitch_layout, 199.7ms\n",
      "Speed: 6.8ms preprocess, 199.7ms inference, 2.0ms postprocess per image at shape (1, 3, 544, 960)\n",
      "\n",
      "0: 544x960 1 pitch_layout, 218.6ms\n",
      "Speed: 19.0ms preprocess, 218.6ms inference, 2.1ms postprocess per image at shape (1, 3, 544, 960)\n",
      "\n",
      "0: 544x960 1 pitch_layout, 168.2ms\n",
      "Speed: 7.5ms preprocess, 168.2ms inference, 1.9ms postprocess per image at shape (1, 3, 544, 960)\n",
      "\n",
      "0: 544x960 1 pitch_layout, 248.9ms\n",
      "Speed: 18.4ms preprocess, 248.9ms inference, 2.0ms postprocess per image at shape (1, 3, 544, 960)\n",
      "\n",
      "0: 544x960 1 pitch_layout, 178.2ms\n",
      "Speed: 6.7ms preprocess, 178.2ms inference, 1.9ms postprocess per image at shape (1, 3, 544, 960)\n",
      "\n",
      "0: 544x960 1 pitch_layout, 215.7ms\n",
      "Speed: 18.3ms preprocess, 215.7ms inference, 2.1ms postprocess per image at shape (1, 3, 544, 960)\n",
      "\n",
      "0: 544x960 1 pitch_layout, 194.4ms\n",
      "Speed: 15.2ms preprocess, 194.4ms inference, 1.9ms postprocess per image at shape (1, 3, 544, 960)\n",
      "\n",
      "0: 544x960 1 pitch_layout, 183.1ms\n",
      "Speed: 6.5ms preprocess, 183.1ms inference, 2.0ms postprocess per image at shape (1, 3, 544, 960)\n",
      "\n",
      "0: 544x960 1 pitch_layout, 219.4ms\n",
      "Speed: 14.3ms preprocess, 219.4ms inference, 2.2ms postprocess per image at shape (1, 3, 544, 960)\n",
      "\n",
      "0: 544x960 1 pitch_layout, 209.3ms\n",
      "Speed: 14.8ms preprocess, 209.3ms inference, 2.4ms postprocess per image at shape (1, 3, 544, 960)\n",
      "\n",
      "0: 544x960 1 pitch_layout, 202.6ms\n",
      "Speed: 6.8ms preprocess, 202.6ms inference, 1.9ms postprocess per image at shape (1, 3, 544, 960)\n",
      "\n",
      "0: 544x960 1 pitch_layout, 186.3ms\n",
      "Speed: 9.2ms preprocess, 186.3ms inference, 2.1ms postprocess per image at shape (1, 3, 544, 960)\n",
      "\n",
      "0: 544x960 1 pitch_layout, 190.2ms\n",
      "Speed: 6.7ms preprocess, 190.2ms inference, 2.0ms postprocess per image at shape (1, 3, 544, 960)\n",
      "\n",
      "0: 544x960 1 pitch_layout, 214.6ms\n",
      "Speed: 19.6ms preprocess, 214.6ms inference, 1.9ms postprocess per image at shape (1, 3, 544, 960)\n",
      "\n",
      "0: 544x960 1 pitch_layout, 215.7ms\n",
      "Speed: 18.0ms preprocess, 215.7ms inference, 2.3ms postprocess per image at shape (1, 3, 544, 960)\n",
      "\n",
      "0: 544x960 1 pitch_layout, 196.0ms\n",
      "Speed: 8.6ms preprocess, 196.0ms inference, 2.4ms postprocess per image at shape (1, 3, 544, 960)\n",
      "\n",
      "0: 544x960 1 pitch_layout, 199.9ms\n",
      "Speed: 6.6ms preprocess, 199.9ms inference, 2.0ms postprocess per image at shape (1, 3, 544, 960)\n",
      "\n",
      "0: 544x960 1 pitch_layout, 239.8ms\n",
      "Speed: 6.8ms preprocess, 239.8ms inference, 2.4ms postprocess per image at shape (1, 3, 544, 960)\n",
      "\n",
      "0: 544x960 1 pitch_layout, 187.3ms\n",
      "Speed: 6.8ms preprocess, 187.3ms inference, 3.8ms postprocess per image at shape (1, 3, 544, 960)\n",
      "\n",
      "0: 544x960 1 pitch_layout, 180.3ms\n",
      "Speed: 6.8ms preprocess, 180.3ms inference, 2.0ms postprocess per image at shape (1, 3, 544, 960)\n",
      "\n",
      "0: 544x960 1 pitch_layout, 173.3ms\n",
      "Speed: 41.9ms preprocess, 173.3ms inference, 2.3ms postprocess per image at shape (1, 3, 544, 960)\n",
      "\n",
      "0: 544x960 1 pitch_layout, 197.9ms\n",
      "Speed: 6.4ms preprocess, 197.9ms inference, 2.0ms postprocess per image at shape (1, 3, 544, 960)\n",
      "\n",
      "0: 544x960 1 pitch_layout, 174.2ms\n",
      "Speed: 8.1ms preprocess, 174.2ms inference, 1.9ms postprocess per image at shape (1, 3, 544, 960)\n",
      "\n",
      "0: 544x960 1 pitch_layout, 186.1ms\n",
      "Speed: 6.6ms preprocess, 186.1ms inference, 2.7ms postprocess per image at shape (1, 3, 544, 960)\n",
      "\n",
      "0: 544x960 1 pitch_layout, 168.3ms\n",
      "Speed: 6.6ms preprocess, 168.3ms inference, 2.3ms postprocess per image at shape (1, 3, 544, 960)\n",
      "\n",
      "0: 544x960 1 pitch_layout, 208.0ms\n",
      "Speed: 6.7ms preprocess, 208.0ms inference, 2.1ms postprocess per image at shape (1, 3, 544, 960)\n",
      "\n",
      "0: 544x960 1 pitch_layout, 219.4ms\n",
      "Speed: 14.8ms preprocess, 219.4ms inference, 2.1ms postprocess per image at shape (1, 3, 544, 960)\n",
      "\n",
      "0: 544x960 1 pitch_layout, 185.9ms\n",
      "Speed: 7.1ms preprocess, 185.9ms inference, 2.0ms postprocess per image at shape (1, 3, 544, 960)\n",
      "\n",
      "0: 544x960 1 pitch_layout, 184.6ms\n",
      "Speed: 41.9ms preprocess, 184.6ms inference, 2.0ms postprocess per image at shape (1, 3, 544, 960)\n",
      "\n",
      "0: 544x960 1 pitch_layout, 199.2ms\n",
      "Speed: 6.8ms preprocess, 199.2ms inference, 2.1ms postprocess per image at shape (1, 3, 544, 960)\n",
      "\n",
      "0: 544x960 1 pitch_layout, 201.1ms\n",
      "Speed: 18.8ms preprocess, 201.1ms inference, 1.9ms postprocess per image at shape (1, 3, 544, 960)\n",
      "\n",
      "0: 544x960 1 pitch_layout, 205.7ms\n",
      "Speed: 29.5ms preprocess, 205.7ms inference, 2.2ms postprocess per image at shape (1, 3, 544, 960)\n",
      "\n",
      "0: 544x960 1 pitch_layout, 212.3ms\n",
      "Speed: 18.6ms preprocess, 212.3ms inference, 3.3ms postprocess per image at shape (1, 3, 544, 960)\n",
      "\n",
      "0: 544x960 1 pitch_layout, 162.2ms\n",
      "Speed: 6.7ms preprocess, 162.2ms inference, 2.0ms postprocess per image at shape (1, 3, 544, 960)\n",
      "\n",
      "0: 544x960 1 pitch_layout, 165.2ms\n",
      "Speed: 32.5ms preprocess, 165.2ms inference, 3.7ms postprocess per image at shape (1, 3, 544, 960)\n",
      "\n",
      "0: 544x960 1 pitch_layout, 163.9ms\n",
      "Speed: 6.8ms preprocess, 163.9ms inference, 1.9ms postprocess per image at shape (1, 3, 544, 960)\n",
      "\n",
      "0: 544x960 1 pitch_layout, 187.8ms\n",
      "Speed: 6.7ms preprocess, 187.8ms inference, 3.8ms postprocess per image at shape (1, 3, 544, 960)\n",
      "\n",
      "0: 544x960 1 pitch_layout, 229.0ms\n",
      "Speed: 7.4ms preprocess, 229.0ms inference, 2.7ms postprocess per image at shape (1, 3, 544, 960)\n",
      "\n",
      "0: 544x960 1 pitch_layout, 201.3ms\n",
      "Speed: 18.9ms preprocess, 201.3ms inference, 2.4ms postprocess per image at shape (1, 3, 544, 960)\n",
      "\n",
      "0: 544x960 1 pitch_layout, 187.1ms\n",
      "Speed: 6.7ms preprocess, 187.1ms inference, 1.9ms postprocess per image at shape (1, 3, 544, 960)\n",
      "\n",
      "0: 544x960 1 pitch_layout, 188.9ms\n",
      "Speed: 6.8ms preprocess, 188.9ms inference, 2.3ms postprocess per image at shape (1, 3, 544, 960)\n",
      "\n",
      "0: 544x960 1 pitch_layout, 210.8ms\n",
      "Speed: 7.0ms preprocess, 210.8ms inference, 2.1ms postprocess per image at shape (1, 3, 544, 960)\n",
      "\n",
      "0: 544x960 1 pitch_layout, 162.5ms\n",
      "Speed: 7.3ms preprocess, 162.5ms inference, 2.0ms postprocess per image at shape (1, 3, 544, 960)\n",
      "\n",
      "0: 544x960 1 pitch_layout, 198.0ms\n",
      "Speed: 6.8ms preprocess, 198.0ms inference, 2.1ms postprocess per image at shape (1, 3, 544, 960)\n",
      "\n",
      "0: 544x960 1 pitch_layout, 206.6ms\n",
      "Speed: 6.7ms preprocess, 206.6ms inference, 2.0ms postprocess per image at shape (1, 3, 544, 960)\n",
      "\n",
      "0: 544x960 1 pitch_layout, 178.4ms\n",
      "Speed: 22.0ms preprocess, 178.4ms inference, 1.9ms postprocess per image at shape (1, 3, 544, 960)\n",
      "\n",
      "0: 544x960 1 pitch_layout, 209.7ms\n",
      "Speed: 22.5ms preprocess, 209.7ms inference, 3.8ms postprocess per image at shape (1, 3, 544, 960)\n",
      "\n",
      "0: 544x960 1 pitch_layout, 203.4ms\n",
      "Speed: 11.3ms preprocess, 203.4ms inference, 2.1ms postprocess per image at shape (1, 3, 544, 960)\n",
      "\n",
      "0: 544x960 2 pitch_layouts, 230.4ms\n",
      "Speed: 6.7ms preprocess, 230.4ms inference, 2.1ms postprocess per image at shape (1, 3, 544, 960)\n",
      "\n",
      "0: 544x960 2 pitch_layouts, 213.7ms\n",
      "Speed: 7.1ms preprocess, 213.7ms inference, 3.6ms postprocess per image at shape (1, 3, 544, 960)\n",
      "\n",
      "0: 544x960 2 pitch_layouts, 205.2ms\n",
      "Speed: 27.2ms preprocess, 205.2ms inference, 3.6ms postprocess per image at shape (1, 3, 544, 960)\n",
      "\n",
      "0: 544x960 1 pitch_layout, 172.7ms\n",
      "Speed: 6.9ms preprocess, 172.7ms inference, 2.1ms postprocess per image at shape (1, 3, 544, 960)\n",
      "\n",
      "0: 544x960 1 pitch_layout, 186.8ms\n",
      "Speed: 6.6ms preprocess, 186.8ms inference, 2.6ms postprocess per image at shape (1, 3, 544, 960)\n",
      "\n",
      "0: 544x960 1 pitch_layout, 236.9ms\n",
      "Speed: 38.3ms preprocess, 236.9ms inference, 2.1ms postprocess per image at shape (1, 3, 544, 960)\n",
      "\n",
      "0: 544x960 1 pitch_layout, 205.9ms\n",
      "Speed: 6.8ms preprocess, 205.9ms inference, 2.1ms postprocess per image at shape (1, 3, 544, 960)\n",
      "\n",
      "0: 544x960 1 pitch_layout, 216.2ms\n",
      "Speed: 6.7ms preprocess, 216.2ms inference, 1.9ms postprocess per image at shape (1, 3, 544, 960)\n",
      "\n",
      "0: 544x960 1 pitch_layout, 183.2ms\n",
      "Speed: 6.8ms preprocess, 183.2ms inference, 2.6ms postprocess per image at shape (1, 3, 544, 960)\n",
      "\n",
      "0: 544x960 1 pitch_layout, 192.6ms\n",
      "Speed: 7.5ms preprocess, 192.6ms inference, 2.0ms postprocess per image at shape (1, 3, 544, 960)\n",
      "\n",
      "0: 544x960 1 pitch_layout, 156.8ms\n",
      "Speed: 9.8ms preprocess, 156.8ms inference, 2.1ms postprocess per image at shape (1, 3, 544, 960)\n",
      "\n",
      "0: 544x960 2 pitch_layouts, 159.2ms\n",
      "Speed: 23.9ms preprocess, 159.2ms inference, 2.1ms postprocess per image at shape (1, 3, 544, 960)\n",
      "\n",
      "0: 544x960 1 pitch_layout, 302.7ms\n",
      "Speed: 38.0ms preprocess, 302.7ms inference, 2.3ms postprocess per image at shape (1, 3, 544, 960)\n",
      "\n",
      "0: 544x960 1 pitch_layout, 203.7ms\n",
      "Speed: 6.7ms preprocess, 203.7ms inference, 2.2ms postprocess per image at shape (1, 3, 544, 960)\n",
      "\n",
      "0: 544x960 1 pitch_layout, 196.3ms\n",
      "Speed: 15.7ms preprocess, 196.3ms inference, 2.0ms postprocess per image at shape (1, 3, 544, 960)\n",
      "\n",
      "0: 544x960 2 pitch_layouts, 225.2ms\n",
      "Speed: 6.7ms preprocess, 225.2ms inference, 2.1ms postprocess per image at shape (1, 3, 544, 960)\n",
      "\n",
      "0: 544x960 2 pitch_layouts, 175.1ms\n",
      "Speed: 7.1ms preprocess, 175.1ms inference, 2.0ms postprocess per image at shape (1, 3, 544, 960)\n",
      "\n",
      "0: 544x960 1 pitch_layout, 151.2ms\n",
      "Speed: 8.6ms preprocess, 151.2ms inference, 2.1ms postprocess per image at shape (1, 3, 544, 960)\n",
      "\n",
      "0: 544x960 2 pitch_layouts, 229.6ms\n",
      "Speed: 8.9ms preprocess, 229.6ms inference, 2.2ms postprocess per image at shape (1, 3, 544, 960)\n",
      "\n",
      "0: 544x960 1 pitch_layout, 204.1ms\n",
      "Speed: 6.7ms preprocess, 204.1ms inference, 2.0ms postprocess per image at shape (1, 3, 544, 960)\n",
      "\n",
      "0: 544x960 1 pitch_layout, 212.5ms\n",
      "Speed: 22.5ms preprocess, 212.5ms inference, 2.0ms postprocess per image at shape (1, 3, 544, 960)\n",
      "\n",
      "0: 544x960 2 pitch_layouts, 221.4ms\n",
      "Speed: 6.7ms preprocess, 221.4ms inference, 2.0ms postprocess per image at shape (1, 3, 544, 960)\n",
      "\n",
      "0: 544x960 1 pitch_layout, 171.7ms\n",
      "Speed: 14.4ms preprocess, 171.7ms inference, 2.2ms postprocess per image at shape (1, 3, 544, 960)\n",
      "\n",
      "0: 544x960 1 pitch_layout, 209.1ms\n",
      "Speed: 8.5ms preprocess, 209.1ms inference, 2.1ms postprocess per image at shape (1, 3, 544, 960)\n",
      "\n",
      "0: 544x960 1 pitch_layout, 237.9ms\n",
      "Speed: 22.4ms preprocess, 237.9ms inference, 2.1ms postprocess per image at shape (1, 3, 544, 960)\n",
      "\n",
      "0: 544x960 1 pitch_layout, 188.3ms\n",
      "Speed: 7.3ms preprocess, 188.3ms inference, 2.0ms postprocess per image at shape (1, 3, 544, 960)\n",
      "\n",
      "0: 544x960 1 pitch_layout, 173.9ms\n",
      "Speed: 6.6ms preprocess, 173.9ms inference, 2.1ms postprocess per image at shape (1, 3, 544, 960)\n",
      "\n",
      "0: 544x960 1 pitch_layout, 181.9ms\n",
      "Speed: 7.1ms preprocess, 181.9ms inference, 2.0ms postprocess per image at shape (1, 3, 544, 960)\n",
      "\n",
      "0: 544x960 1 pitch_layout, 224.3ms\n",
      "Speed: 43.8ms preprocess, 224.3ms inference, 2.4ms postprocess per image at shape (1, 3, 544, 960)\n",
      "\n",
      "0: 544x960 1 pitch_layout, 178.8ms\n",
      "Speed: 6.6ms preprocess, 178.8ms inference, 2.0ms postprocess per image at shape (1, 3, 544, 960)\n",
      "\n",
      "0: 544x960 1 pitch_layout, 203.0ms\n",
      "Speed: 14.8ms preprocess, 203.0ms inference, 2.4ms postprocess per image at shape (1, 3, 544, 960)\n",
      "\n",
      "0: 544x960 1 pitch_layout, 201.4ms\n",
      "Speed: 14.6ms preprocess, 201.4ms inference, 2.0ms postprocess per image at shape (1, 3, 544, 960)\n",
      "\n",
      "0: 544x960 1 pitch_layout, 190.0ms\n",
      "Speed: 8.7ms preprocess, 190.0ms inference, 2.3ms postprocess per image at shape (1, 3, 544, 960)\n",
      "\n",
      "0: 544x960 1 pitch_layout, 192.9ms\n",
      "Speed: 6.6ms preprocess, 192.9ms inference, 1.9ms postprocess per image at shape (1, 3, 544, 960)\n",
      "\n",
      "0: 544x960 1 pitch_layout, 194.5ms\n",
      "Speed: 6.7ms preprocess, 194.5ms inference, 2.1ms postprocess per image at shape (1, 3, 544, 960)\n",
      "\n",
      "0: 544x960 1 pitch_layout, 178.3ms\n",
      "Speed: 6.7ms preprocess, 178.3ms inference, 2.1ms postprocess per image at shape (1, 3, 544, 960)\n",
      "\n",
      "0: 544x960 1 pitch_layout, 218.9ms\n",
      "Speed: 6.7ms preprocess, 218.9ms inference, 4.0ms postprocess per image at shape (1, 3, 544, 960)\n",
      "\n",
      "0: 544x960 1 pitch_layout, 227.3ms\n",
      "Speed: 6.5ms preprocess, 227.3ms inference, 4.1ms postprocess per image at shape (1, 3, 544, 960)\n",
      "\n",
      "0: 544x960 1 pitch_layout, 205.6ms\n",
      "Speed: 7.6ms preprocess, 205.6ms inference, 2.1ms postprocess per image at shape (1, 3, 544, 960)\n",
      "\n",
      "0: 544x960 1 pitch_layout, 164.7ms\n",
      "Speed: 9.9ms preprocess, 164.7ms inference, 2.0ms postprocess per image at shape (1, 3, 544, 960)\n",
      "\n",
      "0: 544x960 1 pitch_layout, 148.5ms\n",
      "Speed: 9.8ms preprocess, 148.5ms inference, 2.4ms postprocess per image at shape (1, 3, 544, 960)\n",
      "\n",
      "0: 544x960 1 pitch_layout, 244.9ms\n",
      "Speed: 6.8ms preprocess, 244.9ms inference, 2.1ms postprocess per image at shape (1, 3, 544, 960)\n",
      "\n",
      "0: 544x960 1 pitch_layout, 205.9ms\n",
      "Speed: 7.3ms preprocess, 205.9ms inference, 2.2ms postprocess per image at shape (1, 3, 544, 960)\n",
      "\n",
      "0: 544x960 1 pitch_layout, 158.4ms\n",
      "Speed: 22.0ms preprocess, 158.4ms inference, 3.8ms postprocess per image at shape (1, 3, 544, 960)\n",
      "\n",
      "0: 544x960 1 pitch_layout, 208.7ms\n",
      "Speed: 7.4ms preprocess, 208.7ms inference, 2.0ms postprocess per image at shape (1, 3, 544, 960)\n",
      "\n",
      "0: 544x960 1 pitch_layout, 203.2ms\n",
      "Speed: 13.4ms preprocess, 203.2ms inference, 2.3ms postprocess per image at shape (1, 3, 544, 960)\n",
      "\n",
      "0: 544x960 1 pitch_layout, 205.9ms\n",
      "Speed: 7.1ms preprocess, 205.9ms inference, 2.5ms postprocess per image at shape (1, 3, 544, 960)\n",
      "\n",
      "0: 544x960 1 pitch_layout, 199.8ms\n",
      "Speed: 17.4ms preprocess, 199.8ms inference, 3.2ms postprocess per image at shape (1, 3, 544, 960)\n",
      "\n",
      "0: 544x960 2 pitch_layouts, 251.8ms\n",
      "Speed: 7.2ms preprocess, 251.8ms inference, 2.3ms postprocess per image at shape (1, 3, 544, 960)\n",
      "\n",
      "0: 544x960 1 pitch_layout, 185.3ms\n",
      "Speed: 6.8ms preprocess, 185.3ms inference, 2.3ms postprocess per image at shape (1, 3, 544, 960)\n",
      "\n",
      "0: 544x960 1 pitch_layout, 184.1ms\n",
      "Speed: 7.5ms preprocess, 184.1ms inference, 2.0ms postprocess per image at shape (1, 3, 544, 960)\n",
      "\n",
      "0: 544x960 1 pitch_layout, 180.6ms\n",
      "Speed: 6.7ms preprocess, 180.6ms inference, 2.3ms postprocess per image at shape (1, 3, 544, 960)\n",
      "\n",
      "0: 544x960 1 pitch_layout, 155.0ms\n",
      "Speed: 7.1ms preprocess, 155.0ms inference, 2.1ms postprocess per image at shape (1, 3, 544, 960)\n",
      "\n",
      "0: 544x960 2 pitch_layouts, 179.1ms\n",
      "Speed: 7.0ms preprocess, 179.1ms inference, 1.9ms postprocess per image at shape (1, 3, 544, 960)\n",
      "\n",
      "0: 544x960 1 pitch_layout, 211.1ms\n",
      "Speed: 20.4ms preprocess, 211.1ms inference, 2.1ms postprocess per image at shape (1, 3, 544, 960)\n",
      "\n",
      "0: 544x960 1 pitch_layout, 203.7ms\n",
      "Speed: 19.0ms preprocess, 203.7ms inference, 1.9ms postprocess per image at shape (1, 3, 544, 960)\n",
      "\n",
      "0: 544x960 1 pitch_layout, 233.2ms\n",
      "Speed: 6.5ms preprocess, 233.2ms inference, 2.1ms postprocess per image at shape (1, 3, 544, 960)\n",
      "\n",
      "0: 544x960 1 pitch_layout, 216.1ms\n",
      "Speed: 6.8ms preprocess, 216.1ms inference, 2.1ms postprocess per image at shape (1, 3, 544, 960)\n",
      "\n",
      "0: 544x960 1 pitch_layout, 163.6ms\n",
      "Speed: 7.4ms preprocess, 163.6ms inference, 2.3ms postprocess per image at shape (1, 3, 544, 960)\n",
      "\n",
      "0: 544x960 1 pitch_layout, 150.9ms\n",
      "Speed: 28.9ms preprocess, 150.9ms inference, 2.1ms postprocess per image at shape (1, 3, 544, 960)\n",
      "\n",
      "0: 544x960 1 pitch_layout, 177.6ms\n",
      "Speed: 7.3ms preprocess, 177.6ms inference, 2.3ms postprocess per image at shape (1, 3, 544, 960)\n",
      "\n",
      "0: 544x960 2 pitch_layouts, 202.6ms\n",
      "Speed: 18.3ms preprocess, 202.6ms inference, 4.0ms postprocess per image at shape (1, 3, 544, 960)\n",
      "\n",
      "0: 544x960 2 pitch_layouts, 170.1ms\n",
      "Speed: 6.9ms preprocess, 170.1ms inference, 2.2ms postprocess per image at shape (1, 3, 544, 960)\n",
      "\n",
      "0: 544x960 1 pitch_layout, 202.0ms\n",
      "Speed: 7.0ms preprocess, 202.0ms inference, 3.9ms postprocess per image at shape (1, 3, 544, 960)\n",
      "\n",
      "0: 544x960 1 pitch_layout, 234.8ms\n",
      "Speed: 19.3ms preprocess, 234.8ms inference, 2.3ms postprocess per image at shape (1, 3, 544, 960)\n",
      "\n",
      "0: 544x960 2 pitch_layouts, 204.5ms\n",
      "Speed: 7.8ms preprocess, 204.5ms inference, 2.2ms postprocess per image at shape (1, 3, 544, 960)\n",
      "\n",
      "0: 544x960 2 pitch_layouts, 215.5ms\n",
      "Speed: 6.5ms preprocess, 215.5ms inference, 2.1ms postprocess per image at shape (1, 3, 544, 960)\n",
      "\n",
      "0: 544x960 1 pitch_layout, 205.4ms\n",
      "Speed: 6.6ms preprocess, 205.4ms inference, 2.8ms postprocess per image at shape (1, 3, 544, 960)\n",
      "\n",
      "0: 544x960 1 pitch_layout, 160.0ms\n",
      "Speed: 22.5ms preprocess, 160.0ms inference, 3.0ms postprocess per image at shape (1, 3, 544, 960)\n",
      "\n",
      "0: 544x960 1 pitch_layout, 210.3ms\n",
      "Speed: 6.7ms preprocess, 210.3ms inference, 2.1ms postprocess per image at shape (1, 3, 544, 960)\n",
      "\n",
      "0: 544x960 1 pitch_layout, 149.2ms\n",
      "Speed: 6.8ms preprocess, 149.2ms inference, 2.0ms postprocess per image at shape (1, 3, 544, 960)\n",
      "\n",
      "0: 544x960 2 pitch_layouts, 200.4ms\n",
      "Speed: 6.5ms preprocess, 200.4ms inference, 2.0ms postprocess per image at shape (1, 3, 544, 960)\n",
      "\n",
      "0: 544x960 2 pitch_layouts, 206.1ms\n",
      "Speed: 16.1ms preprocess, 206.1ms inference, 2.1ms postprocess per image at shape (1, 3, 544, 960)\n",
      "\n",
      "0: 544x960 2 pitch_layouts, 212.9ms\n",
      "Speed: 19.3ms preprocess, 212.9ms inference, 2.7ms postprocess per image at shape (1, 3, 544, 960)\n",
      "\n",
      "0: 544x960 2 pitch_layouts, 216.5ms\n",
      "Speed: 15.0ms preprocess, 216.5ms inference, 2.3ms postprocess per image at shape (1, 3, 544, 960)\n",
      "\n",
      "0: 544x960 2 pitch_layouts, 212.8ms\n",
      "Speed: 6.7ms preprocess, 212.8ms inference, 2.1ms postprocess per image at shape (1, 3, 544, 960)\n",
      "\n",
      "0: 544x960 2 pitch_layouts, 211.9ms\n",
      "Speed: 16.0ms preprocess, 211.9ms inference, 2.1ms postprocess per image at shape (1, 3, 544, 960)\n",
      "\n",
      "0: 544x960 2 pitch_layouts, 234.3ms\n",
      "Speed: 7.1ms preprocess, 234.3ms inference, 1.9ms postprocess per image at shape (1, 3, 544, 960)\n",
      "\n",
      "0: 544x960 3 pitch_layouts, 219.0ms\n",
      "Speed: 6.7ms preprocess, 219.0ms inference, 2.0ms postprocess per image at shape (1, 3, 544, 960)\n",
      "\n",
      "0: 544x960 3 pitch_layouts, 151.0ms\n",
      "Speed: 6.8ms preprocess, 151.0ms inference, 2.4ms postprocess per image at shape (1, 3, 544, 960)\n",
      "\n",
      "0: 544x960 3 pitch_layouts, 176.3ms\n",
      "Speed: 19.1ms preprocess, 176.3ms inference, 2.1ms postprocess per image at shape (1, 3, 544, 960)\n",
      "\n",
      "0: 544x960 1 pitch_layout, 201.2ms\n",
      "Speed: 14.3ms preprocess, 201.2ms inference, 2.1ms postprocess per image at shape (1, 3, 544, 960)\n",
      "\n",
      "0: 544x960 1 pitch_layout, 198.9ms\n",
      "Speed: 7.3ms preprocess, 198.9ms inference, 2.1ms postprocess per image at shape (1, 3, 544, 960)\n",
      "\n",
      "0: 544x960 2 pitch_layouts, 172.0ms\n",
      "Speed: 30.5ms preprocess, 172.0ms inference, 2.1ms postprocess per image at shape (1, 3, 544, 960)\n",
      "\n",
      "0: 544x960 1 pitch_layout, 211.2ms\n",
      "Speed: 11.5ms preprocess, 211.2ms inference, 2.0ms postprocess per image at shape (1, 3, 544, 960)\n",
      "\n",
      "0: 544x960 1 pitch_layout, 204.5ms\n",
      "Speed: 6.8ms preprocess, 204.5ms inference, 1.9ms postprocess per image at shape (1, 3, 544, 960)\n",
      "\n",
      "0: 544x960 1 pitch_layout, 144.9ms\n",
      "Speed: 33.1ms preprocess, 144.9ms inference, 2.0ms postprocess per image at shape (1, 3, 544, 960)\n",
      "\n",
      "0: 544x960 1 pitch_layout, 219.7ms\n",
      "Speed: 34.0ms preprocess, 219.7ms inference, 2.0ms postprocess per image at shape (1, 3, 544, 960)\n",
      "\n",
      "0: 544x960 1 pitch_layout, 181.2ms\n",
      "Speed: 23.7ms preprocess, 181.2ms inference, 3.6ms postprocess per image at shape (1, 3, 544, 960)\n",
      "\n",
      "0: 544x960 1 pitch_layout, 168.4ms\n",
      "Speed: 7.1ms preprocess, 168.4ms inference, 2.2ms postprocess per image at shape (1, 3, 544, 960)\n",
      "\n",
      "0: 544x960 2 pitch_layouts, 160.5ms\n",
      "Speed: 7.3ms preprocess, 160.5ms inference, 1.9ms postprocess per image at shape (1, 3, 544, 960)\n",
      "\n",
      "0: 544x960 1 pitch_layout, 215.5ms\n",
      "Speed: 6.7ms preprocess, 215.5ms inference, 2.3ms postprocess per image at shape (1, 3, 544, 960)\n",
      "\n",
      "0: 544x960 1 pitch_layout, 203.4ms\n",
      "Speed: 7.2ms preprocess, 203.4ms inference, 5.4ms postprocess per image at shape (1, 3, 544, 960)\n",
      "\n",
      "0: 544x960 1 pitch_layout, 254.6ms\n",
      "Speed: 6.6ms preprocess, 254.6ms inference, 2.0ms postprocess per image at shape (1, 3, 544, 960)\n",
      "\n",
      "0: 544x960 1 pitch_layout, 196.6ms\n",
      "Speed: 7.1ms preprocess, 196.6ms inference, 2.4ms postprocess per image at shape (1, 3, 544, 960)\n",
      "\n",
      "0: 544x960 1 pitch_layout, 240.9ms\n",
      "Speed: 30.0ms preprocess, 240.9ms inference, 2.1ms postprocess per image at shape (1, 3, 544, 960)\n",
      "\n",
      "0: 544x960 1 pitch_layout, 185.7ms\n",
      "Speed: 7.1ms preprocess, 185.7ms inference, 3.9ms postprocess per image at shape (1, 3, 544, 960)\n",
      "\n",
      "0: 544x960 1 pitch_layout, 153.6ms\n",
      "Speed: 6.6ms preprocess, 153.6ms inference, 2.4ms postprocess per image at shape (1, 3, 544, 960)\n",
      "\n",
      "0: 544x960 1 pitch_layout, 176.3ms\n",
      "Speed: 10.7ms preprocess, 176.3ms inference, 2.5ms postprocess per image at shape (1, 3, 544, 960)\n",
      "\n",
      "0: 544x960 1 pitch_layout, 192.4ms\n",
      "Speed: 9.4ms preprocess, 192.4ms inference, 2.0ms postprocess per image at shape (1, 3, 544, 960)\n",
      "\n",
      "0: 544x960 1 pitch_layout, 205.7ms\n",
      "Speed: 7.1ms preprocess, 205.7ms inference, 2.2ms postprocess per image at shape (1, 3, 544, 960)\n",
      "\n",
      "0: 544x960 1 pitch_layout, 214.3ms\n",
      "Speed: 30.1ms preprocess, 214.3ms inference, 2.1ms postprocess per image at shape (1, 3, 544, 960)\n",
      "\n",
      "0: 544x960 1 pitch_layout, 178.1ms\n",
      "Speed: 8.4ms preprocess, 178.1ms inference, 2.2ms postprocess per image at shape (1, 3, 544, 960)\n",
      "\n",
      "0: 544x960 1 pitch_layout, 205.9ms\n",
      "Speed: 6.6ms preprocess, 205.9ms inference, 2.2ms postprocess per image at shape (1, 3, 544, 960)\n",
      "\n",
      "0: 544x960 1 pitch_layout, 171.2ms\n",
      "Speed: 12.7ms preprocess, 171.2ms inference, 2.0ms postprocess per image at shape (1, 3, 544, 960)\n",
      "\n",
      "0: 544x960 1 pitch_layout, 226.5ms\n",
      "Speed: 11.0ms preprocess, 226.5ms inference, 1.9ms postprocess per image at shape (1, 3, 544, 960)\n",
      "\n",
      "0: 544x960 1 pitch_layout, 202.7ms\n",
      "Speed: 7.1ms preprocess, 202.7ms inference, 2.4ms postprocess per image at shape (1, 3, 544, 960)\n",
      "\n",
      "0: 544x960 1 pitch_layout, 223.8ms\n",
      "Speed: 6.9ms preprocess, 223.8ms inference, 1.9ms postprocess per image at shape (1, 3, 544, 960)\n",
      "\n",
      "0: 544x960 1 pitch_layout, 207.0ms\n",
      "Speed: 7.1ms preprocess, 207.0ms inference, 2.1ms postprocess per image at shape (1, 3, 544, 960)\n",
      "\n",
      "0: 544x960 1 pitch_layout, 175.2ms\n",
      "Speed: 7.0ms preprocess, 175.2ms inference, 2.1ms postprocess per image at shape (1, 3, 544, 960)\n",
      "\n",
      "0: 544x960 1 pitch_layout, 199.1ms\n",
      "Speed: 30.0ms preprocess, 199.1ms inference, 2.0ms postprocess per image at shape (1, 3, 544, 960)\n",
      "\n",
      "0: 544x960 1 pitch_layout, 252.0ms\n",
      "Speed: 35.2ms preprocess, 252.0ms inference, 3.9ms postprocess per image at shape (1, 3, 544, 960)\n",
      "\n",
      "0: 544x960 1 pitch_layout, 261.7ms\n",
      "Speed: 6.6ms preprocess, 261.7ms inference, 2.0ms postprocess per image at shape (1, 3, 544, 960)\n",
      "\n",
      "0: 544x960 1 pitch_layout, 169.7ms\n",
      "Speed: 11.6ms preprocess, 169.7ms inference, 2.5ms postprocess per image at shape (1, 3, 544, 960)\n",
      "\n",
      "0: 544x960 1 pitch_layout, 195.8ms\n",
      "Speed: 6.7ms preprocess, 195.8ms inference, 1.9ms postprocess per image at shape (1, 3, 544, 960)\n",
      "\n",
      "0: 544x960 1 pitch_layout, 221.4ms\n",
      "Speed: 30.1ms preprocess, 221.4ms inference, 2.4ms postprocess per image at shape (1, 3, 544, 960)\n",
      "\n",
      "0: 544x960 1 pitch_layout, 170.3ms\n",
      "Speed: 6.7ms preprocess, 170.3ms inference, 2.3ms postprocess per image at shape (1, 3, 544, 960)\n",
      "\n",
      "0: 544x960 1 pitch_layout, 226.2ms\n",
      "Speed: 6.8ms preprocess, 226.2ms inference, 2.0ms postprocess per image at shape (1, 3, 544, 960)\n",
      "\n",
      "0: 544x960 1 pitch_layout, 252.3ms\n",
      "Speed: 14.5ms preprocess, 252.3ms inference, 6.0ms postprocess per image at shape (1, 3, 544, 960)\n",
      "\n",
      "0: 544x960 1 pitch_layout, 198.1ms\n",
      "Speed: 18.2ms preprocess, 198.1ms inference, 2.1ms postprocess per image at shape (1, 3, 544, 960)\n",
      "\n",
      "0: 544x960 1 pitch_layout, 185.5ms\n",
      "Speed: 6.8ms preprocess, 185.5ms inference, 2.3ms postprocess per image at shape (1, 3, 544, 960)\n",
      "\n",
      "0: 544x960 1 pitch_layout, 154.1ms\n",
      "Speed: 18.3ms preprocess, 154.1ms inference, 2.4ms postprocess per image at shape (1, 3, 544, 960)\n",
      "\n",
      "0: 544x960 1 pitch_layout, 189.5ms\n",
      "Speed: 12.9ms preprocess, 189.5ms inference, 2.3ms postprocess per image at shape (1, 3, 544, 960)\n",
      "\n",
      "0: 544x960 1 pitch_layout, 169.4ms\n",
      "Speed: 7.2ms preprocess, 169.4ms inference, 2.5ms postprocess per image at shape (1, 3, 544, 960)\n",
      "\n",
      "0: 544x960 1 pitch_layout, 157.8ms\n",
      "Speed: 7.7ms preprocess, 157.8ms inference, 2.0ms postprocess per image at shape (1, 3, 544, 960)\n",
      "\n",
      "0: 544x960 1 pitch_layout, 178.7ms\n",
      "Speed: 6.7ms preprocess, 178.7ms inference, 1.9ms postprocess per image at shape (1, 3, 544, 960)\n",
      "\n",
      "0: 544x960 1 pitch_layout, 208.6ms\n",
      "Speed: 27.4ms preprocess, 208.6ms inference, 2.1ms postprocess per image at shape (1, 3, 544, 960)\n",
      "\n",
      "0: 544x960 1 pitch_layout, 262.7ms\n",
      "Speed: 6.7ms preprocess, 262.7ms inference, 2.1ms postprocess per image at shape (1, 3, 544, 960)\n",
      "\n",
      "0: 544x960 1 pitch_layout, 217.5ms\n",
      "Speed: 20.5ms preprocess, 217.5ms inference, 2.3ms postprocess per image at shape (1, 3, 544, 960)\n",
      "\n",
      "0: 544x960 1 pitch_layout, 153.5ms\n",
      "Speed: 11.7ms preprocess, 153.5ms inference, 2.5ms postprocess per image at shape (1, 3, 544, 960)\n",
      "\n",
      "0: 544x960 1 pitch_layout, 147.1ms\n",
      "Speed: 7.4ms preprocess, 147.1ms inference, 1.9ms postprocess per image at shape (1, 3, 544, 960)\n",
      "\n",
      "0: 544x960 2 pitch_layouts, 190.8ms\n",
      "Speed: 6.9ms preprocess, 190.8ms inference, 3.4ms postprocess per image at shape (1, 3, 544, 960)\n",
      "\n",
      "0: 544x960 1 pitch_layout, 160.7ms\n",
      "Speed: 7.4ms preprocess, 160.7ms inference, 1.9ms postprocess per image at shape (1, 3, 544, 960)\n",
      "\n",
      "0: 544x960 1 pitch_layout, 211.8ms\n",
      "Speed: 22.6ms preprocess, 211.8ms inference, 1.9ms postprocess per image at shape (1, 3, 544, 960)\n",
      "\n",
      "0: 544x960 1 pitch_layout, 184.5ms\n",
      "Speed: 6.6ms preprocess, 184.5ms inference, 2.0ms postprocess per image at shape (1, 3, 544, 960)\n",
      "\n",
      "0: 544x960 1 pitch_layout, 215.0ms\n",
      "Speed: 45.5ms preprocess, 215.0ms inference, 2.1ms postprocess per image at shape (1, 3, 544, 960)\n",
      "\n",
      "0: 544x960 1 pitch_layout, 250.1ms\n",
      "Speed: 7.2ms preprocess, 250.1ms inference, 1.9ms postprocess per image at shape (1, 3, 544, 960)\n",
      "\n",
      "0: 544x960 1 pitch_layout, 202.4ms\n",
      "Speed: 7.3ms preprocess, 202.4ms inference, 1.9ms postprocess per image at shape (1, 3, 544, 960)\n",
      "\n",
      "0: 544x960 1 pitch_layout, 173.5ms\n",
      "Speed: 24.6ms preprocess, 173.5ms inference, 1.9ms postprocess per image at shape (1, 3, 544, 960)\n",
      "\n",
      "0: 544x960 1 pitch_layout, 168.6ms\n",
      "Speed: 34.5ms preprocess, 168.6ms inference, 2.1ms postprocess per image at shape (1, 3, 544, 960)\n",
      "\n",
      "0: 544x960 1 pitch_layout, 170.4ms\n",
      "Speed: 6.9ms preprocess, 170.4ms inference, 2.1ms postprocess per image at shape (1, 3, 544, 960)\n",
      "\n",
      "0: 544x960 1 pitch_layout, 189.4ms\n",
      "Speed: 7.1ms preprocess, 189.4ms inference, 2.1ms postprocess per image at shape (1, 3, 544, 960)\n",
      "\n",
      "0: 544x960 1 pitch_layout, 206.7ms\n",
      "Speed: 6.9ms preprocess, 206.7ms inference, 2.2ms postprocess per image at shape (1, 3, 544, 960)\n",
      "\n",
      "0: 544x960 1 pitch_layout, 241.8ms\n",
      "Speed: 13.2ms preprocess, 241.8ms inference, 1.9ms postprocess per image at shape (1, 3, 544, 960)\n",
      "\n",
      "0: 544x960 1 pitch_layout, 202.7ms\n",
      "Speed: 7.1ms preprocess, 202.7ms inference, 2.0ms postprocess per image at shape (1, 3, 544, 960)\n",
      "\n",
      "0: 544x960 2 pitch_layouts, 229.0ms\n",
      "Speed: 7.2ms preprocess, 229.0ms inference, 3.8ms postprocess per image at shape (1, 3, 544, 960)\n",
      "\n",
      "0: 544x960 2 pitch_layouts, 204.6ms\n",
      "Speed: 7.5ms preprocess, 204.6ms inference, 2.9ms postprocess per image at shape (1, 3, 544, 960)\n",
      "\n",
      "0: 544x960 1 pitch_layout, 184.4ms\n",
      "Speed: 7.4ms preprocess, 184.4ms inference, 2.0ms postprocess per image at shape (1, 3, 544, 960)\n",
      "\n",
      "0: 544x960 1 pitch_layout, 186.8ms\n",
      "Speed: 7.4ms preprocess, 186.8ms inference, 2.0ms postprocess per image at shape (1, 3, 544, 960)\n",
      "\n",
      "0: 544x960 1 pitch_layout, 190.2ms\n",
      "Speed: 6.8ms preprocess, 190.2ms inference, 2.1ms postprocess per image at shape (1, 3, 544, 960)\n",
      "\n",
      "0: 544x960 1 pitch_layout, 235.3ms\n",
      "Speed: 7.2ms preprocess, 235.3ms inference, 2.1ms postprocess per image at shape (1, 3, 544, 960)\n",
      "\n",
      "0: 544x960 1 pitch_layout, 200.0ms\n",
      "Speed: 6.9ms preprocess, 200.0ms inference, 2.1ms postprocess per image at shape (1, 3, 544, 960)\n",
      "\n",
      "0: 544x960 1 pitch_layout, 207.5ms\n",
      "Speed: 7.5ms preprocess, 207.5ms inference, 2.2ms postprocess per image at shape (1, 3, 544, 960)\n",
      "\n",
      "0: 544x960 2 pitch_layouts, 193.5ms\n",
      "Speed: 6.7ms preprocess, 193.5ms inference, 2.1ms postprocess per image at shape (1, 3, 544, 960)\n",
      "\n",
      "0: 544x960 1 pitch_layout, 228.8ms\n",
      "Speed: 6.8ms preprocess, 228.8ms inference, 1.9ms postprocess per image at shape (1, 3, 544, 960)\n",
      "\n",
      "0: 544x960 2 pitch_layouts, 232.1ms\n",
      "Speed: 26.0ms preprocess, 232.1ms inference, 2.0ms postprocess per image at shape (1, 3, 544, 960)\n",
      "\n",
      "0: 544x960 2 pitch_layouts, 215.7ms\n",
      "Speed: 7.4ms preprocess, 215.7ms inference, 2.9ms postprocess per image at shape (1, 3, 544, 960)\n",
      "\n",
      "0: 544x960 1 pitch_layout, 163.1ms\n",
      "Speed: 7.2ms preprocess, 163.1ms inference, 2.0ms postprocess per image at shape (1, 3, 544, 960)\n",
      "\n",
      "0: 544x960 1 pitch_layout, 196.7ms\n",
      "Speed: 27.7ms preprocess, 196.7ms inference, 2.0ms postprocess per image at shape (1, 3, 544, 960)\n",
      "\n",
      "0: 544x960 1 pitch_layout, 283.1ms\n",
      "Speed: 6.7ms preprocess, 283.1ms inference, 2.5ms postprocess per image at shape (1, 3, 544, 960)\n",
      "\n",
      "0: 544x960 2 pitch_layouts, 203.1ms\n",
      "Speed: 7.5ms preprocess, 203.1ms inference, 2.0ms postprocess per image at shape (1, 3, 544, 960)\n",
      "\n",
      "0: 544x960 2 pitch_layouts, 188.2ms\n",
      "Speed: 6.6ms preprocess, 188.2ms inference, 6.9ms postprocess per image at shape (1, 3, 544, 960)\n",
      "\n",
      "0: 544x960 2 pitch_layouts, 208.1ms\n",
      "Speed: 9.4ms preprocess, 208.1ms inference, 2.0ms postprocess per image at shape (1, 3, 544, 960)\n",
      "\n",
      "0: 544x960 2 pitch_layouts, 232.2ms\n",
      "Speed: 7.1ms preprocess, 232.2ms inference, 2.2ms postprocess per image at shape (1, 3, 544, 960)\n",
      "\n",
      "0: 544x960 2 pitch_layouts, 187.2ms\n",
      "Speed: 7.1ms preprocess, 187.2ms inference, 1.9ms postprocess per image at shape (1, 3, 544, 960)\n",
      "\n",
      "0: 544x960 1 pitch_layout, 200.6ms\n",
      "Speed: 15.8ms preprocess, 200.6ms inference, 2.5ms postprocess per image at shape (1, 3, 544, 960)\n",
      "\n",
      "0: 544x960 2 pitch_layouts, 234.5ms\n",
      "Speed: 6.7ms preprocess, 234.5ms inference, 2.3ms postprocess per image at shape (1, 3, 544, 960)\n",
      "\n",
      "0: 544x960 1 pitch_layout, 199.3ms\n",
      "Speed: 7.3ms preprocess, 199.3ms inference, 2.1ms postprocess per image at shape (1, 3, 544, 960)\n",
      "\n",
      "0: 544x960 2 pitch_layouts, 205.9ms\n",
      "Speed: 6.7ms preprocess, 205.9ms inference, 2.4ms postprocess per image at shape (1, 3, 544, 960)\n",
      "\n",
      "0: 544x960 2 pitch_layouts, 240.9ms\n",
      "Speed: 6.7ms preprocess, 240.9ms inference, 2.4ms postprocess per image at shape (1, 3, 544, 960)\n",
      "\n",
      "0: 544x960 2 pitch_layouts, 194.1ms\n",
      "Speed: 8.9ms preprocess, 194.1ms inference, 2.1ms postprocess per image at shape (1, 3, 544, 960)\n",
      "\n",
      "0: 544x960 2 pitch_layouts, 194.3ms\n",
      "Speed: 29.7ms preprocess, 194.3ms inference, 2.1ms postprocess per image at shape (1, 3, 544, 960)\n",
      "\n",
      "0: 544x960 1 pitch_layout, 228.9ms\n",
      "Speed: 8.7ms preprocess, 228.9ms inference, 3.7ms postprocess per image at shape (1, 3, 544, 960)\n",
      "\n",
      "0: 544x960 2 pitch_layouts, 198.6ms\n",
      "Speed: 22.4ms preprocess, 198.6ms inference, 2.0ms postprocess per image at shape (1, 3, 544, 960)\n",
      "\n",
      "0: 544x960 2 pitch_layouts, 188.8ms\n",
      "Speed: 22.2ms preprocess, 188.8ms inference, 6.0ms postprocess per image at shape (1, 3, 544, 960)\n",
      "\n",
      "0: 544x960 1 pitch_layout, 203.4ms\n",
      "Speed: 16.7ms preprocess, 203.4ms inference, 2.0ms postprocess per image at shape (1, 3, 544, 960)\n",
      "\n",
      "0: 544x960 1 pitch_layout, 228.8ms\n",
      "Speed: 7.2ms preprocess, 228.8ms inference, 3.7ms postprocess per image at shape (1, 3, 544, 960)\n",
      "\n",
      "0: 544x960 1 pitch_layout, 245.4ms\n",
      "Speed: 18.6ms preprocess, 245.4ms inference, 2.4ms postprocess per image at shape (1, 3, 544, 960)\n",
      "\n",
      "0: 544x960 1 pitch_layout, 205.2ms\n",
      "Speed: 6.9ms preprocess, 205.2ms inference, 2.1ms postprocess per image at shape (1, 3, 544, 960)\n",
      "\n",
      "0: 544x960 1 pitch_layout, 234.7ms\n",
      "Speed: 6.9ms preprocess, 234.7ms inference, 4.2ms postprocess per image at shape (1, 3, 544, 960)\n",
      "\n",
      "0: 544x960 1 pitch_layout, 259.1ms\n",
      "Speed: 7.2ms preprocess, 259.1ms inference, 2.2ms postprocess per image at shape (1, 3, 544, 960)\n",
      "\n",
      "0: 544x960 1 pitch_layout, 192.8ms\n",
      "Speed: 6.9ms preprocess, 192.8ms inference, 2.5ms postprocess per image at shape (1, 3, 544, 960)\n",
      "\n",
      "0: 544x960 1 pitch_layout, 197.6ms\n",
      "Speed: 6.9ms preprocess, 197.6ms inference, 2.1ms postprocess per image at shape (1, 3, 544, 960)\n",
      "\n",
      "0: 544x960 1 pitch_layout, 190.2ms\n",
      "Speed: 7.4ms preprocess, 190.2ms inference, 2.4ms postprocess per image at shape (1, 3, 544, 960)\n",
      "\n",
      "0: 544x960 1 pitch_layout, 210.9ms\n",
      "Speed: 14.4ms preprocess, 210.9ms inference, 2.2ms postprocess per image at shape (1, 3, 544, 960)\n",
      "\n",
      "0: 544x960 1 pitch_layout, 201.4ms\n",
      "Speed: 6.8ms preprocess, 201.4ms inference, 1.9ms postprocess per image at shape (1, 3, 544, 960)\n",
      "\n",
      "0: 544x960 1 pitch_layout, 218.0ms\n",
      "Speed: 22.5ms preprocess, 218.0ms inference, 2.5ms postprocess per image at shape (1, 3, 544, 960)\n",
      "\n",
      "0: 544x960 2 pitch_layouts, 208.2ms\n",
      "Speed: 7.3ms preprocess, 208.2ms inference, 2.6ms postprocess per image at shape (1, 3, 544, 960)\n",
      "\n",
      "0: 544x960 2 pitch_layouts, 162.7ms\n",
      "Speed: 7.8ms preprocess, 162.7ms inference, 3.8ms postprocess per image at shape (1, 3, 544, 960)\n",
      "\n",
      "0: 544x960 1 pitch_layout, 153.1ms\n",
      "Speed: 28.4ms preprocess, 153.1ms inference, 2.1ms postprocess per image at shape (1, 3, 544, 960)\n",
      "\n",
      "0: 544x960 1 pitch_layout, 204.3ms\n",
      "Speed: 7.7ms preprocess, 204.3ms inference, 2.4ms postprocess per image at shape (1, 3, 544, 960)\n",
      "\n",
      "0: 544x960 1 pitch_layout, 186.1ms\n",
      "Speed: 7.5ms preprocess, 186.1ms inference, 2.6ms postprocess per image at shape (1, 3, 544, 960)\n",
      "\n",
      "0: 544x960 1 pitch_layout, 209.9ms\n",
      "Speed: 7.1ms preprocess, 209.9ms inference, 2.2ms postprocess per image at shape (1, 3, 544, 960)\n",
      "\n",
      "0: 544x960 1 pitch_layout, 218.3ms\n",
      "Speed: 7.7ms preprocess, 218.3ms inference, 2.2ms postprocess per image at shape (1, 3, 544, 960)\n",
      "\n",
      "0: 544x960 1 pitch_layout, 268.2ms\n",
      "Speed: 9.6ms preprocess, 268.2ms inference, 1.9ms postprocess per image at shape (1, 3, 544, 960)\n",
      "\n",
      "0: 544x960 1 pitch_layout, 214.9ms\n",
      "Speed: 9.7ms preprocess, 214.9ms inference, 2.2ms postprocess per image at shape (1, 3, 544, 960)\n",
      "\n",
      "0: 544x960 2 pitch_layouts, 211.3ms\n",
      "Speed: 8.7ms preprocess, 211.3ms inference, 2.7ms postprocess per image at shape (1, 3, 544, 960)\n",
      "\n",
      "0: 544x960 2 pitch_layouts, 247.8ms\n",
      "Speed: 18.4ms preprocess, 247.8ms inference, 2.3ms postprocess per image at shape (1, 3, 544, 960)\n",
      "\n",
      "0: 544x960 1 pitch_layout, 201.8ms\n",
      "Speed: 7.2ms preprocess, 201.8ms inference, 2.4ms postprocess per image at shape (1, 3, 544, 960)\n",
      "\n",
      "0: 544x960 1 pitch_layout, 204.8ms\n",
      "Speed: 7.4ms preprocess, 204.8ms inference, 7.1ms postprocess per image at shape (1, 3, 544, 960)\n",
      "\n",
      "0: 544x960 1 pitch_layout, 181.8ms\n",
      "Speed: 6.7ms preprocess, 181.8ms inference, 3.8ms postprocess per image at shape (1, 3, 544, 960)\n",
      "\n",
      "0: 544x960 1 pitch_layout, 213.0ms\n",
      "Speed: 19.2ms preprocess, 213.0ms inference, 2.0ms postprocess per image at shape (1, 3, 544, 960)\n",
      "\n",
      "0: 544x960 2 pitch_layouts, 169.1ms\n",
      "Speed: 6.6ms preprocess, 169.1ms inference, 1.9ms postprocess per image at shape (1, 3, 544, 960)\n",
      "\n",
      "0: 544x960 1 pitch_layout, 181.9ms\n",
      "Speed: 6.6ms preprocess, 181.9ms inference, 2.1ms postprocess per image at shape (1, 3, 544, 960)\n",
      "\n",
      "0: 544x960 2 pitch_layouts, 169.0ms\n",
      "Speed: 7.0ms preprocess, 169.0ms inference, 2.0ms postprocess per image at shape (1, 3, 544, 960)\n",
      "\n",
      "0: 544x960 1 pitch_layout, 225.4ms\n",
      "Speed: 7.3ms preprocess, 225.4ms inference, 2.4ms postprocess per image at shape (1, 3, 544, 960)\n",
      "\n",
      "0: 544x960 1 pitch_layout, 169.1ms\n",
      "Speed: 7.0ms preprocess, 169.1ms inference, 2.5ms postprocess per image at shape (1, 3, 544, 960)\n",
      "\n",
      "0: 544x960 2 pitch_layouts, 185.6ms\n",
      "Speed: 7.4ms preprocess, 185.6ms inference, 2.0ms postprocess per image at shape (1, 3, 544, 960)\n",
      "\n",
      "0: 544x960 1 pitch_layout, 226.9ms\n",
      "Speed: 7.2ms preprocess, 226.9ms inference, 1.9ms postprocess per image at shape (1, 3, 544, 960)\n",
      "\n",
      "0: 544x960 2 pitch_layouts, 177.8ms\n",
      "Speed: 18.8ms preprocess, 177.8ms inference, 2.0ms postprocess per image at shape (1, 3, 544, 960)\n",
      "\n",
      "0: 544x960 1 pitch_layout, 192.5ms\n",
      "Speed: 6.9ms preprocess, 192.5ms inference, 2.0ms postprocess per image at shape (1, 3, 544, 960)\n",
      "\n",
      "0: 544x960 1 pitch_layout, 198.9ms\n",
      "Speed: 22.4ms preprocess, 198.9ms inference, 2.3ms postprocess per image at shape (1, 3, 544, 960)\n",
      "\n",
      "0: 544x960 1 pitch_layout, 190.9ms\n",
      "Speed: 7.0ms preprocess, 190.9ms inference, 2.2ms postprocess per image at shape (1, 3, 544, 960)\n",
      "\n",
      "0: 544x960 1 pitch_layout, 207.9ms\n",
      "Speed: 7.0ms preprocess, 207.9ms inference, 2.1ms postprocess per image at shape (1, 3, 544, 960)\n",
      "\n",
      "0: 544x960 1 pitch_layout, 216.4ms\n",
      "Speed: 7.6ms preprocess, 216.4ms inference, 3.9ms postprocess per image at shape (1, 3, 544, 960)\n",
      "\n",
      "0: 544x960 1 pitch_layout, 197.0ms\n",
      "Speed: 6.7ms preprocess, 197.0ms inference, 2.2ms postprocess per image at shape (1, 3, 544, 960)\n",
      "\n",
      "0: 544x960 1 pitch_layout, 243.9ms\n",
      "Speed: 6.8ms preprocess, 243.9ms inference, 1.9ms postprocess per image at shape (1, 3, 544, 960)\n",
      "\n",
      "0: 544x960 1 pitch_layout, 184.7ms\n",
      "Speed: 7.0ms preprocess, 184.7ms inference, 3.9ms postprocess per image at shape (1, 3, 544, 960)\n",
      "\n",
      "0: 544x960 1 pitch_layout, 162.5ms\n",
      "Speed: 6.7ms preprocess, 162.5ms inference, 1.9ms postprocess per image at shape (1, 3, 544, 960)\n",
      "\n",
      "0: 544x960 1 pitch_layout, 172.9ms\n",
      "Speed: 7.0ms preprocess, 172.9ms inference, 2.0ms postprocess per image at shape (1, 3, 544, 960)\n",
      "\n",
      "0: 544x960 1 pitch_layout, 173.2ms\n",
      "Speed: 7.0ms preprocess, 173.2ms inference, 2.2ms postprocess per image at shape (1, 3, 544, 960)\n",
      "\n",
      "0: 544x960 1 pitch_layout, 220.4ms\n",
      "Speed: 6.9ms preprocess, 220.4ms inference, 2.0ms postprocess per image at shape (1, 3, 544, 960)\n",
      "\n",
      "0: 544x960 1 pitch_layout, 203.6ms\n",
      "Speed: 18.3ms preprocess, 203.6ms inference, 2.8ms postprocess per image at shape (1, 3, 544, 960)\n",
      "\n",
      "0: 544x960 1 pitch_layout, 185.7ms\n",
      "Speed: 6.6ms preprocess, 185.7ms inference, 2.4ms postprocess per image at shape (1, 3, 544, 960)\n",
      "\n",
      "0: 544x960 1 pitch_layout, 191.3ms\n",
      "Speed: 34.6ms preprocess, 191.3ms inference, 2.3ms postprocess per image at shape (1, 3, 544, 960)\n",
      "\n",
      "0: 544x960 1 pitch_layout, 201.7ms\n",
      "Speed: 6.7ms preprocess, 201.7ms inference, 2.1ms postprocess per image at shape (1, 3, 544, 960)\n",
      "\n",
      "0: 544x960 1 pitch_layout, 202.4ms\n",
      "Speed: 18.3ms preprocess, 202.4ms inference, 2.0ms postprocess per image at shape (1, 3, 544, 960)\n",
      "\n",
      "0: 544x960 1 pitch_layout, 214.7ms\n",
      "Speed: 16.0ms preprocess, 214.7ms inference, 1.9ms postprocess per image at shape (1, 3, 544, 960)\n",
      "\n",
      "0: 544x960 1 pitch_layout, 190.2ms\n",
      "Speed: 19.0ms preprocess, 190.2ms inference, 2.1ms postprocess per image at shape (1, 3, 544, 960)\n",
      "\n",
      "0: 544x960 1 pitch_layout, 160.8ms\n",
      "Speed: 45.9ms preprocess, 160.8ms inference, 4.1ms postprocess per image at shape (1, 3, 544, 960)\n",
      "\n",
      "0: 544x960 1 pitch_layout, 209.3ms\n",
      "Speed: 7.2ms preprocess, 209.3ms inference, 1.9ms postprocess per image at shape (1, 3, 544, 960)\n",
      "\n",
      "0: 544x960 1 pitch_layout, 189.4ms\n",
      "Speed: 8.5ms preprocess, 189.4ms inference, 2.3ms postprocess per image at shape (1, 3, 544, 960)\n",
      "\n",
      "0: 544x960 1 pitch_layout, 209.9ms\n",
      "Speed: 7.4ms preprocess, 209.9ms inference, 2.2ms postprocess per image at shape (1, 3, 544, 960)\n",
      "\n",
      "0: 544x960 1 pitch_layout, 202.6ms\n",
      "Speed: 7.3ms preprocess, 202.6ms inference, 2.0ms postprocess per image at shape (1, 3, 544, 960)\n",
      "\n",
      "0: 544x960 1 pitch_layout, 210.5ms\n",
      "Speed: 8.9ms preprocess, 210.5ms inference, 2.4ms postprocess per image at shape (1, 3, 544, 960)\n",
      "\n",
      "0: 544x960 1 pitch_layout, 182.5ms\n",
      "Speed: 21.2ms preprocess, 182.5ms inference, 2.0ms postprocess per image at shape (1, 3, 544, 960)\n",
      "\n",
      "0: 544x960 1 pitch_layout, 188.5ms\n",
      "Speed: 7.0ms preprocess, 188.5ms inference, 2.3ms postprocess per image at shape (1, 3, 544, 960)\n",
      "\n",
      "0: 544x960 1 pitch_layout, 198.4ms\n",
      "Speed: 6.5ms preprocess, 198.4ms inference, 2.3ms postprocess per image at shape (1, 3, 544, 960)\n",
      "\n",
      "0: 544x960 1 pitch_layout, 182.9ms\n",
      "Speed: 6.8ms preprocess, 182.9ms inference, 2.3ms postprocess per image at shape (1, 3, 544, 960)\n",
      "\n",
      "0: 544x960 1 pitch_layout, 241.4ms\n",
      "Speed: 7.1ms preprocess, 241.4ms inference, 3.8ms postprocess per image at shape (1, 3, 544, 960)\n",
      "\n",
      "0: 544x960 1 pitch_layout, 198.0ms\n",
      "Speed: 22.3ms preprocess, 198.0ms inference, 2.0ms postprocess per image at shape (1, 3, 544, 960)\n",
      "\n",
      "0: 544x960 1 pitch_layout, 175.9ms\n",
      "Speed: 9.1ms preprocess, 175.9ms inference, 2.3ms postprocess per image at shape (1, 3, 544, 960)\n",
      "\n",
      "0: 544x960 1 pitch_layout, 185.9ms\n",
      "Speed: 9.8ms preprocess, 185.9ms inference, 2.0ms postprocess per image at shape (1, 3, 544, 960)\n",
      "\n",
      "0: 544x960 1 pitch_layout, 156.6ms\n",
      "Speed: 6.6ms preprocess, 156.6ms inference, 2.0ms postprocess per image at shape (1, 3, 544, 960)\n",
      "\n",
      "0: 544x960 1 pitch_layout, 184.3ms\n",
      "Speed: 6.9ms preprocess, 184.3ms inference, 2.4ms postprocess per image at shape (1, 3, 544, 960)\n",
      "\n",
      "0: 544x960 1 pitch_layout, 185.1ms\n",
      "Speed: 6.5ms preprocess, 185.1ms inference, 2.0ms postprocess per image at shape (1, 3, 544, 960)\n",
      "\n",
      "0: 544x960 1 pitch_layout, 204.9ms\n",
      "Speed: 6.7ms preprocess, 204.9ms inference, 2.0ms postprocess per image at shape (1, 3, 544, 960)\n",
      "\n",
      "0: 544x960 1 pitch_layout, 250.5ms\n",
      "Speed: 7.3ms preprocess, 250.5ms inference, 2.1ms postprocess per image at shape (1, 3, 544, 960)\n",
      "\n",
      "0: 544x960 1 pitch_layout, 208.7ms\n",
      "Speed: 15.0ms preprocess, 208.7ms inference, 2.5ms postprocess per image at shape (1, 3, 544, 960)\n",
      "\n",
      "0: 544x960 1 pitch_layout, 207.6ms\n",
      "Speed: 6.7ms preprocess, 207.6ms inference, 1.9ms postprocess per image at shape (1, 3, 544, 960)\n",
      "\n",
      "0: 544x960 1 pitch_layout, 216.5ms\n",
      "Speed: 21.0ms preprocess, 216.5ms inference, 2.2ms postprocess per image at shape (1, 3, 544, 960)\n",
      "\n",
      "0: 544x960 1 pitch_layout, 194.3ms\n",
      "Speed: 11.6ms preprocess, 194.3ms inference, 2.4ms postprocess per image at shape (1, 3, 544, 960)\n",
      "\n",
      "0: 544x960 1 pitch_layout, 198.8ms\n",
      "Speed: 6.7ms preprocess, 198.8ms inference, 1.9ms postprocess per image at shape (1, 3, 544, 960)\n",
      "\n",
      "0: 544x960 1 pitch_layout, 208.5ms\n",
      "Speed: 6.5ms preprocess, 208.5ms inference, 2.1ms postprocess per image at shape (1, 3, 544, 960)\n",
      "\n",
      "0: 544x960 1 pitch_layout, 224.0ms\n",
      "Speed: 7.4ms preprocess, 224.0ms inference, 7.0ms postprocess per image at shape (1, 3, 544, 960)\n",
      "\n",
      "0: 544x960 1 pitch_layout, 177.6ms\n",
      "Speed: 8.6ms preprocess, 177.6ms inference, 2.0ms postprocess per image at shape (1, 3, 544, 960)\n",
      "\n",
      "0: 544x960 1 pitch_layout, 218.6ms\n",
      "Speed: 18.7ms preprocess, 218.6ms inference, 2.0ms postprocess per image at shape (1, 3, 544, 960)\n",
      "\n",
      "0: 544x960 1 pitch_layout, 171.0ms\n",
      "Speed: 11.3ms preprocess, 171.0ms inference, 2.1ms postprocess per image at shape (1, 3, 544, 960)\n",
      "\n",
      "0: 544x960 1 pitch_layout, 184.5ms\n",
      "Speed: 6.8ms preprocess, 184.5ms inference, 2.5ms postprocess per image at shape (1, 3, 544, 960)\n",
      "\n",
      "0: 544x960 1 pitch_layout, 232.8ms\n",
      "Speed: 6.9ms preprocess, 232.8ms inference, 4.0ms postprocess per image at shape (1, 3, 544, 960)\n",
      "\n",
      "0: 544x960 1 pitch_layout, 224.5ms\n",
      "Speed: 6.8ms preprocess, 224.5ms inference, 2.1ms postprocess per image at shape (1, 3, 544, 960)\n",
      "\n",
      "0: 544x960 1 pitch_layout, 201.2ms\n",
      "Speed: 6.5ms preprocess, 201.2ms inference, 2.5ms postprocess per image at shape (1, 3, 544, 960)\n",
      "\n",
      "0: 544x960 1 pitch_layout, 180.3ms\n",
      "Speed: 7.2ms preprocess, 180.3ms inference, 2.0ms postprocess per image at shape (1, 3, 544, 960)\n",
      "\n",
      "0: 544x960 1 pitch_layout, 264.2ms\n",
      "Speed: 18.7ms preprocess, 264.2ms inference, 3.7ms postprocess per image at shape (1, 3, 544, 960)\n",
      "\n",
      "0: 544x960 1 pitch_layout, 202.6ms\n",
      "Speed: 6.8ms preprocess, 202.6ms inference, 2.0ms postprocess per image at shape (1, 3, 544, 960)\n",
      "\n",
      "0: 544x960 1 pitch_layout, 253.3ms\n",
      "Speed: 6.7ms preprocess, 253.3ms inference, 2.0ms postprocess per image at shape (1, 3, 544, 960)\n",
      "\n",
      "0: 544x960 1 pitch_layout, 204.2ms\n",
      "Speed: 14.5ms preprocess, 204.2ms inference, 1.9ms postprocess per image at shape (1, 3, 544, 960)\n",
      "\n",
      "0: 544x960 1 pitch_layout, 234.2ms\n",
      "Speed: 7.0ms preprocess, 234.2ms inference, 2.0ms postprocess per image at shape (1, 3, 544, 960)\n",
      "\n",
      "0: 544x960 1 pitch_layout, 247.4ms\n",
      "Speed: 7.3ms preprocess, 247.4ms inference, 2.1ms postprocess per image at shape (1, 3, 544, 960)\n",
      "\n",
      "0: 544x960 1 pitch_layout, 191.8ms\n",
      "Speed: 9.4ms preprocess, 191.8ms inference, 2.0ms postprocess per image at shape (1, 3, 544, 960)\n",
      "\n",
      "0: 544x960 1 pitch_layout, 180.2ms\n",
      "Speed: 6.8ms preprocess, 180.2ms inference, 2.1ms postprocess per image at shape (1, 3, 544, 960)\n",
      "\n",
      "0: 544x960 1 pitch_layout, 194.3ms\n",
      "Speed: 6.6ms preprocess, 194.3ms inference, 2.0ms postprocess per image at shape (1, 3, 544, 960)\n",
      "\n",
      "0: 544x960 1 pitch_layout, 170.0ms\n",
      "Speed: 6.7ms preprocess, 170.0ms inference, 1.9ms postprocess per image at shape (1, 3, 544, 960)\n",
      "\n",
      "0: 544x960 1 pitch_layout, 233.8ms\n",
      "Speed: 6.9ms preprocess, 233.8ms inference, 2.0ms postprocess per image at shape (1, 3, 544, 960)\n",
      "\n",
      "0: 544x960 1 pitch_layout, 180.8ms\n",
      "Speed: 7.1ms preprocess, 180.8ms inference, 2.3ms postprocess per image at shape (1, 3, 544, 960)\n",
      "\n",
      "0: 544x960 1 pitch_layout, 205.4ms\n",
      "Speed: 6.6ms preprocess, 205.4ms inference, 3.8ms postprocess per image at shape (1, 3, 544, 960)\n",
      "\n",
      "0: 544x960 1 pitch_layout, 168.9ms\n",
      "Speed: 7.0ms preprocess, 168.9ms inference, 2.1ms postprocess per image at shape (1, 3, 544, 960)\n",
      "\n",
      "0: 544x960 1 pitch_layout, 215.6ms\n",
      "Speed: 19.5ms preprocess, 215.6ms inference, 2.0ms postprocess per image at shape (1, 3, 544, 960)\n",
      "\n",
      "0: 544x960 1 pitch_layout, 220.1ms\n",
      "Speed: 6.6ms preprocess, 220.1ms inference, 2.0ms postprocess per image at shape (1, 3, 544, 960)\n",
      "\n",
      "0: 544x960 1 pitch_layout, 185.3ms\n",
      "Speed: 7.8ms preprocess, 185.3ms inference, 2.2ms postprocess per image at shape (1, 3, 544, 960)\n",
      "\n",
      "0: 544x960 1 pitch_layout, 208.1ms\n",
      "Speed: 6.7ms preprocess, 208.1ms inference, 3.1ms postprocess per image at shape (1, 3, 544, 960)\n",
      "\n",
      "0: 544x960 1 pitch_layout, 206.9ms\n",
      "Speed: 6.7ms preprocess, 206.9ms inference, 2.1ms postprocess per image at shape (1, 3, 544, 960)\n",
      "\n",
      "0: 544x960 2 pitch_layouts, 213.9ms\n",
      "Speed: 6.6ms preprocess, 213.9ms inference, 2.1ms postprocess per image at shape (1, 3, 544, 960)\n",
      "\n",
      "0: 544x960 2 pitch_layouts, 188.8ms\n",
      "Speed: 7.1ms preprocess, 188.8ms inference, 2.1ms postprocess per image at shape (1, 3, 544, 960)\n",
      "\n",
      "0: 544x960 2 pitch_layouts, 204.5ms\n",
      "Speed: 7.4ms preprocess, 204.5ms inference, 2.0ms postprocess per image at shape (1, 3, 544, 960)\n",
      "\n",
      "0: 544x960 1 pitch_layout, 175.7ms\n",
      "Speed: 6.6ms preprocess, 175.7ms inference, 1.9ms postprocess per image at shape (1, 3, 544, 960)\n",
      "\n",
      "0: 544x960 2 pitch_layouts, 223.5ms\n",
      "Speed: 7.3ms preprocess, 223.5ms inference, 2.0ms postprocess per image at shape (1, 3, 544, 960)\n",
      "\n",
      "0: 544x960 1 pitch_layout, 195.0ms\n",
      "Speed: 7.1ms preprocess, 195.0ms inference, 2.3ms postprocess per image at shape (1, 3, 544, 960)\n",
      "\n",
      "0: 544x960 1 pitch_layout, 207.2ms\n",
      "Speed: 6.7ms preprocess, 207.2ms inference, 1.9ms postprocess per image at shape (1, 3, 544, 960)\n",
      "\n",
      "0: 544x960 1 pitch_layout, 152.5ms\n",
      "Speed: 7.2ms preprocess, 152.5ms inference, 2.8ms postprocess per image at shape (1, 3, 544, 960)\n",
      "\n",
      "0: 544x960 1 pitch_layout, 185.2ms\n",
      "Speed: 7.2ms preprocess, 185.2ms inference, 3.8ms postprocess per image at shape (1, 3, 544, 960)\n",
      "\n",
      "0: 544x960 1 pitch_layout, 14550.9ms\n",
      "Speed: 466.3ms preprocess, 14550.9ms inference, 2.2ms postprocess per image at shape (1, 3, 544, 960)\n",
      "\n",
      "0: 544x960 1 pitch_layout, 350.0ms\n",
      "Speed: 7.3ms preprocess, 350.0ms inference, 3.9ms postprocess per image at shape (1, 3, 544, 960)\n",
      "\n",
      "0: 544x960 1 pitch_layout, 320.4ms\n",
      "Speed: 6.6ms preprocess, 320.4ms inference, 2.0ms postprocess per image at shape (1, 3, 544, 960)\n",
      "\n",
      "0: 544x960 1 pitch_layout, 428.1ms\n",
      "Speed: 33.3ms preprocess, 428.1ms inference, 2.0ms postprocess per image at shape (1, 3, 544, 960)\n",
      "\n",
      "0: 544x960 1 pitch_layout, 343.1ms\n",
      "Speed: 50.6ms preprocess, 343.1ms inference, 1.9ms postprocess per image at shape (1, 3, 544, 960)\n",
      "\n",
      "0: 544x960 1 pitch_layout, 222.8ms\n",
      "Speed: 34.1ms preprocess, 222.8ms inference, 3.0ms postprocess per image at shape (1, 3, 544, 960)\n",
      "\n",
      "0: 544x960 1 pitch_layout, 260.9ms\n",
      "Speed: 38.4ms preprocess, 260.9ms inference, 3.7ms postprocess per image at shape (1, 3, 544, 960)\n",
      "\n",
      "0: 544x960 1 pitch_layout, 324.4ms\n",
      "Speed: 27.8ms preprocess, 324.4ms inference, 1.9ms postprocess per image at shape (1, 3, 544, 960)\n",
      "\n",
      "0: 544x960 1 pitch_layout, 390.9ms\n",
      "Speed: 9.7ms preprocess, 390.9ms inference, 2.3ms postprocess per image at shape (1, 3, 544, 960)\n",
      "\n",
      "0: 544x960 1 pitch_layout, 359.9ms\n",
      "Speed: 10.3ms preprocess, 359.9ms inference, 3.7ms postprocess per image at shape (1, 3, 544, 960)\n",
      "\n",
      "0: 544x960 1 pitch_layout, 367.8ms\n",
      "Speed: 7.2ms preprocess, 367.8ms inference, 2.0ms postprocess per image at shape (1, 3, 544, 960)\n",
      "\n",
      "0: 544x960 1 pitch_layout, 336.6ms\n",
      "Speed: 26.2ms preprocess, 336.6ms inference, 2.5ms postprocess per image at shape (1, 3, 544, 960)\n",
      "\n",
      "0: 544x960 1 pitch_layout, 204.3ms\n",
      "Speed: 38.9ms preprocess, 204.3ms inference, 6.9ms postprocess per image at shape (1, 3, 544, 960)\n",
      "\n",
      "0: 544x960 1 pitch_layout, 300.0ms\n",
      "Speed: 58.9ms preprocess, 300.0ms inference, 2.0ms postprocess per image at shape (1, 3, 544, 960)\n",
      "\n",
      "0: 544x960 1 pitch_layout, 261.0ms\n",
      "Speed: 12.6ms preprocess, 261.0ms inference, 1.9ms postprocess per image at shape (1, 3, 544, 960)\n",
      "\n",
      "0: 544x960 1 pitch_layout, 358.7ms\n",
      "Speed: 22.5ms preprocess, 358.7ms inference, 2.2ms postprocess per image at shape (1, 3, 544, 960)\n",
      "\n",
      "0: 544x960 1 pitch_layout, 297.9ms\n",
      "Speed: 15.0ms preprocess, 297.9ms inference, 2.0ms postprocess per image at shape (1, 3, 544, 960)\n",
      "\n",
      "0: 544x960 1 pitch_layout, 275.9ms\n",
      "Speed: 7.0ms preprocess, 275.9ms inference, 2.0ms postprocess per image at shape (1, 3, 544, 960)\n",
      "\n",
      "0: 544x960 1 pitch_layout, 304.0ms\n",
      "Speed: 20.6ms preprocess, 304.0ms inference, 2.0ms postprocess per image at shape (1, 3, 544, 960)\n",
      "\n",
      "0: 544x960 1 pitch_layout, 382.8ms\n",
      "Speed: 13.5ms preprocess, 382.8ms inference, 2.3ms postprocess per image at shape (1, 3, 544, 960)\n",
      "\n",
      "0: 544x960 1 pitch_layout, 277.8ms\n",
      "Speed: 6.7ms preprocess, 277.8ms inference, 2.6ms postprocess per image at shape (1, 3, 544, 960)\n",
      "\n",
      "0: 544x960 1 pitch_layout, 288.6ms\n",
      "Speed: 18.6ms preprocess, 288.6ms inference, 2.5ms postprocess per image at shape (1, 3, 544, 960)\n",
      "\n",
      "0: 544x960 1 pitch_layout, 297.9ms\n",
      "Speed: 53.7ms preprocess, 297.9ms inference, 2.6ms postprocess per image at shape (1, 3, 544, 960)\n",
      "\n",
      "0: 544x960 1 pitch_layout, 290.4ms\n",
      "Speed: 6.9ms preprocess, 290.4ms inference, 2.1ms postprocess per image at shape (1, 3, 544, 960)\n",
      "\n",
      "0: 544x960 1 pitch_layout, 346.6ms\n",
      "Speed: 9.2ms preprocess, 346.6ms inference, 2.3ms postprocess per image at shape (1, 3, 544, 960)\n",
      "\n",
      "0: 544x960 1 pitch_layout, 304.4ms\n",
      "Speed: 6.9ms preprocess, 304.4ms inference, 2.1ms postprocess per image at shape (1, 3, 544, 960)\n",
      "\n",
      "0: 544x960 1 pitch_layout, 297.3ms\n",
      "Speed: 6.9ms preprocess, 297.3ms inference, 2.1ms postprocess per image at shape (1, 3, 544, 960)\n",
      "\n",
      "0: 544x960 1 pitch_layout, 304.8ms\n",
      "Speed: 34.3ms preprocess, 304.8ms inference, 2.2ms postprocess per image at shape (1, 3, 544, 960)\n",
      "\n",
      "0: 544x960 1 pitch_layout, 521.9ms\n",
      "Speed: 18.4ms preprocess, 521.9ms inference, 1.9ms postprocess per image at shape (1, 3, 544, 960)\n",
      "\n",
      "0: 544x960 1 pitch_layout, 219.2ms\n",
      "Speed: 53.2ms preprocess, 219.2ms inference, 2.1ms postprocess per image at shape (1, 3, 544, 960)\n",
      "\n",
      "0: 544x960 1 pitch_layout, 259.5ms\n",
      "Speed: 46.6ms preprocess, 259.5ms inference, 3.4ms postprocess per image at shape (1, 3, 544, 960)\n",
      "\n",
      "0: 544x960 1 pitch_layout, 276.9ms\n",
      "Speed: 53.8ms preprocess, 276.9ms inference, 2.9ms postprocess per image at shape (1, 3, 544, 960)\n",
      "\n",
      "0: 544x960 1 pitch_layout, 293.8ms\n",
      "Speed: 21.7ms preprocess, 293.8ms inference, 2.0ms postprocess per image at shape (1, 3, 544, 960)\n",
      "\n",
      "0: 544x960 1 pitch_layout, 252.5ms\n",
      "Speed: 27.1ms preprocess, 252.5ms inference, 2.1ms postprocess per image at shape (1, 3, 544, 960)\n",
      "\n",
      "0: 544x960 1 pitch_layout, 251.4ms\n",
      "Speed: 7.1ms preprocess, 251.4ms inference, 2.0ms postprocess per image at shape (1, 3, 544, 960)\n",
      "\n",
      "0: 544x960 1 pitch_layout, 162.7ms\n",
      "Speed: 38.6ms preprocess, 162.7ms inference, 2.2ms postprocess per image at shape (1, 3, 544, 960)\n",
      "\n",
      "0: 544x960 1 pitch_layout, 254.8ms\n",
      "Speed: 15.5ms preprocess, 254.8ms inference, 3.9ms postprocess per image at shape (1, 3, 544, 960)\n",
      "\n",
      "0: 544x960 1 pitch_layout, 356.3ms\n",
      "Speed: 15.3ms preprocess, 356.3ms inference, 3.9ms postprocess per image at shape (1, 3, 544, 960)\n",
      "\n",
      "0: 544x960 1 pitch_layout, 258.2ms\n",
      "Speed: 20.3ms preprocess, 258.2ms inference, 2.0ms postprocess per image at shape (1, 3, 544, 960)\n",
      "\n",
      "0: 544x960 1 pitch_layout, 348.3ms\n",
      "Speed: 30.7ms preprocess, 348.3ms inference, 2.1ms postprocess per image at shape (1, 3, 544, 960)\n",
      "\n",
      "0: 544x960 1 pitch_layout, 323.4ms\n",
      "Speed: 8.0ms preprocess, 323.4ms inference, 2.1ms postprocess per image at shape (1, 3, 544, 960)\n",
      "\n",
      "0: 544x960 1 pitch_layout, 269.6ms\n",
      "Speed: 7.0ms preprocess, 269.6ms inference, 2.2ms postprocess per image at shape (1, 3, 544, 960)\n",
      "\n",
      "0: 544x960 1 pitch_layout, 356.6ms\n",
      "Speed: 20.8ms preprocess, 356.6ms inference, 2.0ms postprocess per image at shape (1, 3, 544, 960)\n",
      "\n",
      "0: 544x960 1 pitch_layout, 331.4ms\n",
      "Speed: 21.5ms preprocess, 331.4ms inference, 2.3ms postprocess per image at shape (1, 3, 544, 960)\n",
      "\n",
      "0: 544x960 1 pitch_layout, 338.5ms\n",
      "Speed: 39.3ms preprocess, 338.5ms inference, 2.9ms postprocess per image at shape (1, 3, 544, 960)\n",
      "\n",
      "0: 544x960 1 pitch_layout, 322.9ms\n",
      "Speed: 19.9ms preprocess, 322.9ms inference, 2.0ms postprocess per image at shape (1, 3, 544, 960)\n",
      "\n",
      "0: 544x960 1 pitch_layout, 305.4ms\n",
      "Speed: 58.3ms preprocess, 305.4ms inference, 2.1ms postprocess per image at shape (1, 3, 544, 960)\n",
      "\n",
      "0: 544x960 1 pitch_layout, 289.7ms\n",
      "Speed: 6.7ms preprocess, 289.7ms inference, 3.9ms postprocess per image at shape (1, 3, 544, 960)\n",
      "\n",
      "0: 544x960 1 pitch_layout, 337.6ms\n",
      "Speed: 6.7ms preprocess, 337.6ms inference, 2.1ms postprocess per image at shape (1, 3, 544, 960)\n",
      "\n",
      "0: 544x960 1 pitch_layout, 296.3ms\n",
      "Speed: 11.2ms preprocess, 296.3ms inference, 2.3ms postprocess per image at shape (1, 3, 544, 960)\n",
      "\n",
      "0: 544x960 1 pitch_layout, 245.1ms\n",
      "Speed: 7.1ms preprocess, 245.1ms inference, 2.0ms postprocess per image at shape (1, 3, 544, 960)\n",
      "\n",
      "0: 544x960 1 pitch_layout, 412.6ms\n",
      "Speed: 38.0ms preprocess, 412.6ms inference, 2.0ms postprocess per image at shape (1, 3, 544, 960)\n",
      "\n",
      "0: 544x960 1 pitch_layout, 303.8ms\n",
      "Speed: 15.5ms preprocess, 303.8ms inference, 3.8ms postprocess per image at shape (1, 3, 544, 960)\n",
      "\n",
      "0: 544x960 1 pitch_layout, 298.2ms\n",
      "Speed: 18.6ms preprocess, 298.2ms inference, 2.0ms postprocess per image at shape (1, 3, 544, 960)\n",
      "\n",
      "0: 544x960 1 pitch_layout, 370.9ms\n",
      "Speed: 15.4ms preprocess, 370.9ms inference, 10.7ms postprocess per image at shape (1, 3, 544, 960)\n",
      "\n",
      "0: 544x960 1 pitch_layout, 335.8ms\n",
      "Speed: 44.0ms preprocess, 335.8ms inference, 2.1ms postprocess per image at shape (1, 3, 544, 960)\n",
      "\n",
      "0: 544x960 1 pitch_layout, 235.8ms\n",
      "Speed: 59.6ms preprocess, 235.8ms inference, 2.0ms postprocess per image at shape (1, 3, 544, 960)\n",
      "\n",
      "0: 544x960 1 pitch_layout, 355.6ms\n",
      "Speed: 6.8ms preprocess, 355.6ms inference, 2.4ms postprocess per image at shape (1, 3, 544, 960)\n",
      "\n",
      "0: 544x960 1 pitch_layout, 324.2ms\n",
      "Speed: 50.3ms preprocess, 324.2ms inference, 2.0ms postprocess per image at shape (1, 3, 544, 960)\n",
      "\n",
      "0: 544x960 1 pitch_layout, 222.8ms\n",
      "Speed: 41.3ms preprocess, 222.8ms inference, 1.9ms postprocess per image at shape (1, 3, 544, 960)\n",
      "\n",
      "0: 544x960 1 pitch_layout, 283.8ms\n",
      "Speed: 26.2ms preprocess, 283.8ms inference, 3.8ms postprocess per image at shape (1, 3, 544, 960)\n",
      "\n",
      "0: 544x960 1 pitch_layout, 307.5ms\n",
      "Speed: 10.8ms preprocess, 307.5ms inference, 2.0ms postprocess per image at shape (1, 3, 544, 960)\n",
      "\n",
      "0: 544x960 1 pitch_layout, 309.9ms\n",
      "Speed: 27.1ms preprocess, 309.9ms inference, 2.0ms postprocess per image at shape (1, 3, 544, 960)\n",
      "\n",
      "0: 544x960 1 pitch_layout, 321.1ms\n",
      "Speed: 6.8ms preprocess, 321.1ms inference, 2.1ms postprocess per image at shape (1, 3, 544, 960)\n",
      "\n",
      "0: 544x960 1 pitch_layout, 252.3ms\n",
      "Speed: 29.4ms preprocess, 252.3ms inference, 2.9ms postprocess per image at shape (1, 3, 544, 960)\n",
      "\n",
      "0: 544x960 1 pitch_layout, 387.8ms\n",
      "Speed: 10.0ms preprocess, 387.8ms inference, 2.3ms postprocess per image at shape (1, 3, 544, 960)\n",
      "\n",
      "0: 544x960 1 pitch_layout, 336.6ms\n",
      "Speed: 7.7ms preprocess, 336.6ms inference, 2.3ms postprocess per image at shape (1, 3, 544, 960)\n",
      "\n",
      "0: 544x960 1 pitch_layout, 318.0ms\n",
      "Speed: 14.4ms preprocess, 318.0ms inference, 2.0ms postprocess per image at shape (1, 3, 544, 960)\n",
      "\n",
      "0: 544x960 1 pitch_layout, 342.0ms\n",
      "Speed: 33.2ms preprocess, 342.0ms inference, 3.7ms postprocess per image at shape (1, 3, 544, 960)\n",
      "\n",
      "0: 544x960 1 pitch_layout, 261.6ms\n",
      "Speed: 7.1ms preprocess, 261.6ms inference, 2.1ms postprocess per image at shape (1, 3, 544, 960)\n",
      "\n",
      "0: 544x960 1 pitch_layout, 303.2ms\n",
      "Speed: 26.7ms preprocess, 303.2ms inference, 2.3ms postprocess per image at shape (1, 3, 544, 960)\n",
      "\n",
      "0: 544x960 1 pitch_layout, 284.6ms\n",
      "Speed: 6.7ms preprocess, 284.6ms inference, 2.7ms postprocess per image at shape (1, 3, 544, 960)\n",
      "\n",
      "0: 544x960 1 pitch_layout, 294.2ms\n",
      "Speed: 18.6ms preprocess, 294.2ms inference, 2.2ms postprocess per image at shape (1, 3, 544, 960)\n",
      "\n",
      "0: 544x960 2 pitch_layouts, 378.2ms\n",
      "Speed: 57.2ms preprocess, 378.2ms inference, 1.9ms postprocess per image at shape (1, 3, 544, 960)\n",
      "\n",
      "0: 544x960 1 pitch_layout, 310.0ms\n",
      "Speed: 13.8ms preprocess, 310.0ms inference, 2.4ms postprocess per image at shape (1, 3, 544, 960)\n",
      "\n",
      "0: 544x960 1 pitch_layout, 321.2ms\n",
      "Speed: 8.9ms preprocess, 321.2ms inference, 4.6ms postprocess per image at shape (1, 3, 544, 960)\n",
      "\n",
      "0: 544x960 1 pitch_layout, 309.1ms\n",
      "Speed: 6.8ms preprocess, 309.1ms inference, 2.5ms postprocess per image at shape (1, 3, 544, 960)\n",
      "\n",
      "0: 544x960 1 pitch_layout, 322.2ms\n",
      "Speed: 14.8ms preprocess, 322.2ms inference, 2.0ms postprocess per image at shape (1, 3, 544, 960)\n",
      "\n",
      "0: 544x960 1 pitch_layout, 408.5ms\n",
      "Speed: 15.2ms preprocess, 408.5ms inference, 2.1ms postprocess per image at shape (1, 3, 544, 960)\n",
      "\n",
      "0: 544x960 1 pitch_layout, 254.4ms\n",
      "Speed: 14.8ms preprocess, 254.4ms inference, 2.2ms postprocess per image at shape (1, 3, 544, 960)\n",
      "\n",
      "0: 544x960 (no detections), 354.7ms\n",
      "Speed: 21.8ms preprocess, 354.7ms inference, 0.7ms postprocess per image at shape (1, 3, 544, 960)\n",
      "\n",
      "0: 544x960 1 pitch_layout, 333.4ms\n",
      "Speed: 6.5ms preprocess, 333.4ms inference, 2.7ms postprocess per image at shape (1, 3, 544, 960)\n",
      "\n",
      "0: 544x960 1 pitch_layout, 265.5ms\n",
      "Speed: 6.8ms preprocess, 265.5ms inference, 2.0ms postprocess per image at shape (1, 3, 544, 960)\n",
      "\n",
      "0: 544x960 1 pitch_layout, 406.8ms\n",
      "Speed: 16.8ms preprocess, 406.8ms inference, 2.0ms postprocess per image at shape (1, 3, 544, 960)\n",
      "\n",
      "0: 544x960 1 pitch_layout, 226.6ms\n",
      "Speed: 48.9ms preprocess, 226.6ms inference, 2.0ms postprocess per image at shape (1, 3, 544, 960)\n",
      "\n",
      "0: 544x960 1 pitch_layout, 347.0ms\n",
      "Speed: 6.7ms preprocess, 347.0ms inference, 3.8ms postprocess per image at shape (1, 3, 544, 960)\n",
      "\n",
      "0: 544x960 1 pitch_layout, 304.9ms\n",
      "Speed: 17.6ms preprocess, 304.9ms inference, 2.2ms postprocess per image at shape (1, 3, 544, 960)\n",
      "\n",
      "0: 544x960 1 pitch_layout, 241.3ms\n",
      "Speed: 36.4ms preprocess, 241.3ms inference, 2.3ms postprocess per image at shape (1, 3, 544, 960)\n",
      "\n",
      "0: 544x960 1 pitch_layout, 358.5ms\n",
      "Speed: 30.1ms preprocess, 358.5ms inference, 2.2ms postprocess per image at shape (1, 3, 544, 960)\n",
      "\n",
      "0: 544x960 1 pitch_layout, 363.5ms\n",
      "Speed: 22.2ms preprocess, 363.5ms inference, 2.2ms postprocess per image at shape (1, 3, 544, 960)\n",
      "\n",
      "0: 544x960 1 pitch_layout, 277.0ms\n",
      "Speed: 15.1ms preprocess, 277.0ms inference, 1.9ms postprocess per image at shape (1, 3, 544, 960)\n",
      "\n",
      "0: 544x960 1 pitch_layout, 202.9ms\n",
      "Speed: 43.9ms preprocess, 202.9ms inference, 2.2ms postprocess per image at shape (1, 3, 544, 960)\n",
      "\n",
      "0: 544x960 1 pitch_layout, 300.7ms\n",
      "Speed: 30.4ms preprocess, 300.7ms inference, 2.0ms postprocess per image at shape (1, 3, 544, 960)\n",
      "\n",
      "0: 544x960 1 pitch_layout, 375.0ms\n",
      "Speed: 6.8ms preprocess, 375.0ms inference, 2.0ms postprocess per image at shape (1, 3, 544, 960)\n",
      "\n",
      "0: 544x960 2 pitch_layouts, 286.8ms\n",
      "Speed: 33.4ms preprocess, 286.8ms inference, 1.9ms postprocess per image at shape (1, 3, 544, 960)\n",
      "\n",
      "0: 544x960 2 pitch_layouts, 230.0ms\n",
      "Speed: 6.8ms preprocess, 230.0ms inference, 2.2ms postprocess per image at shape (1, 3, 544, 960)\n",
      "\n",
      "0: 544x960 3 pitch_layouts, 427.4ms\n",
      "Speed: 7.0ms preprocess, 427.4ms inference, 2.5ms postprocess per image at shape (1, 3, 544, 960)\n",
      "\n",
      "0: 544x960 3 pitch_layouts, 309.5ms\n",
      "Speed: 8.9ms preprocess, 309.5ms inference, 3.7ms postprocess per image at shape (1, 3, 544, 960)\n",
      "\n",
      "0: 544x960 2 pitch_layouts, 318.1ms\n",
      "Speed: 16.2ms preprocess, 318.1ms inference, 2.1ms postprocess per image at shape (1, 3, 544, 960)\n",
      "\n",
      "0: 544x960 (no detections), 268.9ms\n",
      "Speed: 9.6ms preprocess, 268.9ms inference, 0.9ms postprocess per image at shape (1, 3, 544, 960)\n",
      "\n",
      "0: 544x960 1 pitch_layout, 360.1ms\n",
      "Speed: 16.0ms preprocess, 360.1ms inference, 2.0ms postprocess per image at shape (1, 3, 544, 960)\n",
      "\n",
      "0: 544x960 1 pitch_layout, 493.2ms\n",
      "Speed: 7.0ms preprocess, 493.2ms inference, 2.1ms postprocess per image at shape (1, 3, 544, 960)\n",
      "\n",
      "0: 544x960 2 pitch_layouts, 264.5ms\n",
      "Speed: 40.6ms preprocess, 264.5ms inference, 2.2ms postprocess per image at shape (1, 3, 544, 960)\n",
      "\n",
      "0: 544x960 1 pitch_layout, 258.2ms\n",
      "Speed: 8.5ms preprocess, 258.2ms inference, 2.0ms postprocess per image at shape (1, 3, 544, 960)\n",
      "\n",
      "0: 544x960 2 pitch_layouts, 226.2ms\n",
      "Speed: 57.8ms preprocess, 226.2ms inference, 2.0ms postprocess per image at shape (1, 3, 544, 960)\n",
      "\n",
      "0: 544x960 1 pitch_layout, 173.3ms\n",
      "Speed: 20.8ms preprocess, 173.3ms inference, 2.5ms postprocess per image at shape (1, 3, 544, 960)\n",
      "\n",
      "0: 544x960 2 pitch_layouts, 320.6ms\n",
      "Speed: 15.8ms preprocess, 320.6ms inference, 2.0ms postprocess per image at shape (1, 3, 544, 960)\n",
      "\n",
      "0: 544x960 2 pitch_layouts, 289.9ms\n",
      "Speed: 6.8ms preprocess, 289.9ms inference, 2.2ms postprocess per image at shape (1, 3, 544, 960)\n",
      "\n",
      "0: 544x960 1 pitch_layout, 335.8ms\n",
      "Speed: 18.1ms preprocess, 335.8ms inference, 2.1ms postprocess per image at shape (1, 3, 544, 960)\n",
      "\n",
      "0: 544x960 1 pitch_layout, 337.3ms\n",
      "Speed: 6.9ms preprocess, 337.3ms inference, 2.5ms postprocess per image at shape (1, 3, 544, 960)\n",
      "\n",
      "0: 544x960 1 pitch_layout, 288.0ms\n",
      "Speed: 7.9ms preprocess, 288.0ms inference, 3.0ms postprocess per image at shape (1, 3, 544, 960)\n",
      "\n",
      "0: 544x960 1 pitch_layout, 358.8ms\n",
      "Speed: 6.9ms preprocess, 358.8ms inference, 1.9ms postprocess per image at shape (1, 3, 544, 960)\n",
      "\n",
      "0: 544x960 2 pitch_layouts, 271.3ms\n",
      "Speed: 10.3ms preprocess, 271.3ms inference, 2.1ms postprocess per image at shape (1, 3, 544, 960)\n",
      "\n",
      "0: 544x960 2 pitch_layouts, 364.0ms\n",
      "Speed: 58.1ms preprocess, 364.0ms inference, 2.5ms postprocess per image at shape (1, 3, 544, 960)\n",
      "\n",
      "0: 544x960 2 pitch_layouts, 302.6ms\n",
      "Speed: 15.2ms preprocess, 302.6ms inference, 2.5ms postprocess per image at shape (1, 3, 544, 960)\n",
      "\n",
      "0: 544x960 2 pitch_layouts, 320.5ms\n",
      "Speed: 20.9ms preprocess, 320.5ms inference, 2.1ms postprocess per image at shape (1, 3, 544, 960)\n",
      "\n",
      "0: 544x960 3 pitch_layouts, 300.2ms\n",
      "Speed: 26.6ms preprocess, 300.2ms inference, 2.0ms postprocess per image at shape (1, 3, 544, 960)\n",
      "\n",
      "0: 544x960 2 pitch_layouts, 354.9ms\n",
      "Speed: 26.1ms preprocess, 354.9ms inference, 2.0ms postprocess per image at shape (1, 3, 544, 960)\n",
      "\n",
      "0: 544x960 3 pitch_layouts, 321.7ms\n",
      "Speed: 10.0ms preprocess, 321.7ms inference, 2.1ms postprocess per image at shape (1, 3, 544, 960)\n",
      "\n",
      "0: 544x960 3 pitch_layouts, 256.7ms\n",
      "Speed: 19.3ms preprocess, 256.7ms inference, 2.0ms postprocess per image at shape (1, 3, 544, 960)\n",
      "\n",
      "0: 544x960 2 pitch_layouts, 394.2ms\n",
      "Speed: 27.4ms preprocess, 394.2ms inference, 3.7ms postprocess per image at shape (1, 3, 544, 960)\n",
      "\n",
      "0: 544x960 1 pitch_layout, 310.7ms\n",
      "Speed: 7.1ms preprocess, 310.7ms inference, 2.2ms postprocess per image at shape (1, 3, 544, 960)\n",
      "\n",
      "0: 544x960 1 pitch_layout, 257.9ms\n",
      "Speed: 12.5ms preprocess, 257.9ms inference, 2.0ms postprocess per image at shape (1, 3, 544, 960)\n",
      "\n",
      "0: 544x960 2 pitch_layouts, 204.5ms\n",
      "Speed: 20.4ms preprocess, 204.5ms inference, 2.5ms postprocess per image at shape (1, 3, 544, 960)\n",
      "\n",
      "0: 544x960 1 pitch_layout, 435.0ms\n",
      "Speed: 8.2ms preprocess, 435.0ms inference, 2.2ms postprocess per image at shape (1, 3, 544, 960)\n",
      "\n",
      "0: 544x960 1 pitch_layout, 300.4ms\n",
      "Speed: 25.8ms preprocess, 300.4ms inference, 1.9ms postprocess per image at shape (1, 3, 544, 960)\n",
      "\n",
      "0: 544x960 1 pitch_layout, 296.0ms\n",
      "Speed: 41.6ms preprocess, 296.0ms inference, 2.1ms postprocess per image at shape (1, 3, 544, 960)\n",
      "\n",
      "0: 544x960 1 pitch_layout, 291.9ms\n",
      "Speed: 22.3ms preprocess, 291.9ms inference, 2.1ms postprocess per image at shape (1, 3, 544, 960)\n",
      "\n",
      "0: 544x960 1 pitch_layout, 277.5ms\n",
      "Speed: 11.0ms preprocess, 277.5ms inference, 2.6ms postprocess per image at shape (1, 3, 544, 960)\n",
      "\n",
      "0: 544x960 1 pitch_layout, 352.1ms\n",
      "Speed: 22.2ms preprocess, 352.1ms inference, 3.7ms postprocess per image at shape (1, 3, 544, 960)\n",
      "\n",
      "0: 544x960 1 pitch_layout, 243.9ms\n",
      "Speed: 31.6ms preprocess, 243.9ms inference, 2.0ms postprocess per image at shape (1, 3, 544, 960)\n",
      "\n",
      "0: 544x960 1 pitch_layout, 321.9ms\n",
      "Speed: 19.3ms preprocess, 321.9ms inference, 2.4ms postprocess per image at shape (1, 3, 544, 960)\n",
      "\n",
      "0: 544x960 2 pitch_layouts, 307.7ms\n",
      "Speed: 15.7ms preprocess, 307.7ms inference, 3.8ms postprocess per image at shape (1, 3, 544, 960)\n",
      "\n",
      "0: 544x960 1 pitch_layout, 346.2ms\n",
      "Speed: 30.4ms preprocess, 346.2ms inference, 2.6ms postprocess per image at shape (1, 3, 544, 960)\n",
      "\n",
      "0: 544x960 2 pitch_layouts, 346.1ms\n",
      "Speed: 6.7ms preprocess, 346.1ms inference, 2.9ms postprocess per image at shape (1, 3, 544, 960)\n",
      "\n",
      "0: 544x960 1 pitch_layout, 485.9ms\n",
      "Speed: 9.8ms preprocess, 485.9ms inference, 2.1ms postprocess per image at shape (1, 3, 544, 960)\n",
      "\n",
      "0: 544x960 1 pitch_layout, 258.0ms\n",
      "Speed: 22.4ms preprocess, 258.0ms inference, 2.4ms postprocess per image at shape (1, 3, 544, 960)\n",
      "\n",
      "0: 544x960 1 pitch_layout, 314.8ms\n",
      "Speed: 53.8ms preprocess, 314.8ms inference, 2.0ms postprocess per image at shape (1, 3, 544, 960)\n",
      "\n",
      "0: 544x960 1 pitch_layout, 239.2ms\n",
      "Speed: 32.4ms preprocess, 239.2ms inference, 2.3ms postprocess per image at shape (1, 3, 544, 960)\n",
      "\n",
      "0: 544x960 1 pitch_layout, 313.3ms\n",
      "Speed: 38.7ms preprocess, 313.3ms inference, 2.3ms postprocess per image at shape (1, 3, 544, 960)\n",
      "\n",
      "0: 544x960 1 pitch_layout, 295.3ms\n",
      "Speed: 19.9ms preprocess, 295.3ms inference, 2.0ms postprocess per image at shape (1, 3, 544, 960)\n",
      "\n",
      "0: 544x960 2 pitch_layouts, 254.3ms\n",
      "Speed: 25.8ms preprocess, 254.3ms inference, 3.6ms postprocess per image at shape (1, 3, 544, 960)\n",
      "\n",
      "0: 544x960 2 pitch_layouts, 289.2ms\n",
      "Speed: 27.3ms preprocess, 289.2ms inference, 2.1ms postprocess per image at shape (1, 3, 544, 960)\n",
      "\n",
      "0: 544x960 2 pitch_layouts, 320.5ms\n",
      "Speed: 15.6ms preprocess, 320.5ms inference, 2.0ms postprocess per image at shape (1, 3, 544, 960)\n",
      "\n",
      "0: 544x960 1 pitch_layout, 348.4ms\n",
      "Speed: 34.5ms preprocess, 348.4ms inference, 2.5ms postprocess per image at shape (1, 3, 544, 960)\n",
      "\n",
      "0: 544x960 1 pitch_layout, 313.7ms\n",
      "Speed: 15.4ms preprocess, 313.7ms inference, 2.1ms postprocess per image at shape (1, 3, 544, 960)\n",
      "\n",
      "0: 544x960 2 pitch_layouts, 389.1ms\n",
      "Speed: 8.9ms preprocess, 389.1ms inference, 2.0ms postprocess per image at shape (1, 3, 544, 960)\n",
      "\n",
      "0: 544x960 2 pitch_layouts, 367.3ms\n",
      "Speed: 77.3ms preprocess, 367.3ms inference, 2.2ms postprocess per image at shape (1, 3, 544, 960)\n",
      "\n",
      "0: 544x960 1 pitch_layout, 301.8ms\n",
      "Speed: 6.8ms preprocess, 301.8ms inference, 2.0ms postprocess per image at shape (1, 3, 544, 960)\n",
      "\n",
      "0: 544x960 1 pitch_layout, 275.4ms\n",
      "Speed: 6.9ms preprocess, 275.4ms inference, 2.4ms postprocess per image at shape (1, 3, 544, 960)\n",
      "\n",
      "0: 544x960 2 pitch_layouts, 345.4ms\n",
      "Speed: 54.3ms preprocess, 345.4ms inference, 2.1ms postprocess per image at shape (1, 3, 544, 960)\n",
      "\n",
      "0: 544x960 2 pitch_layouts, 301.3ms\n",
      "Speed: 53.2ms preprocess, 301.3ms inference, 2.4ms postprocess per image at shape (1, 3, 544, 960)\n",
      "\n",
      "0: 544x960 (no detections), 443.5ms\n",
      "Speed: 6.7ms preprocess, 443.5ms inference, 0.8ms postprocess per image at shape (1, 3, 544, 960)\n",
      "\n",
      "0: 544x960 1 pitch_layout, 300.2ms\n",
      "Speed: 18.7ms preprocess, 300.2ms inference, 2.1ms postprocess per image at shape (1, 3, 544, 960)\n",
      "\n",
      "0: 544x960 2 pitch_layouts, 322.4ms\n",
      "Speed: 42.3ms preprocess, 322.4ms inference, 2.5ms postprocess per image at shape (1, 3, 544, 960)\n",
      "\n",
      "0: 544x960 2 pitch_layouts, 365.1ms\n",
      "Speed: 30.4ms preprocess, 365.1ms inference, 2.1ms postprocess per image at shape (1, 3, 544, 960)\n",
      "\n",
      "0: 544x960 1 pitch_layout, 331.2ms\n",
      "Speed: 6.9ms preprocess, 331.2ms inference, 2.6ms postprocess per image at shape (1, 3, 544, 960)\n",
      "\n",
      "0: 544x960 1 pitch_layout, 303.6ms\n",
      "Speed: 18.4ms preprocess, 303.6ms inference, 2.1ms postprocess per image at shape (1, 3, 544, 960)\n",
      "\n",
      "0: 544x960 1 pitch_layout, 346.2ms\n",
      "Speed: 10.0ms preprocess, 346.2ms inference, 1.9ms postprocess per image at shape (1, 3, 544, 960)\n",
      "\n",
      "0: 544x960 (no detections), 448.8ms\n",
      "Speed: 7.0ms preprocess, 448.8ms inference, 1.2ms postprocess per image at shape (1, 3, 544, 960)\n",
      "\n",
      "0: 544x960 (no detections), 234.0ms\n",
      "Speed: 46.3ms preprocess, 234.0ms inference, 0.8ms postprocess per image at shape (1, 3, 544, 960)\n",
      "\n",
      "0: 544x960 (no detections), 354.0ms\n",
      "Speed: 28.6ms preprocess, 354.0ms inference, 0.8ms postprocess per image at shape (1, 3, 544, 960)\n",
      "\n",
      "0: 544x960 1 pitch_layout, 308.8ms\n",
      "Speed: 37.6ms preprocess, 308.8ms inference, 2.0ms postprocess per image at shape (1, 3, 544, 960)\n",
      "\n",
      "0: 544x960 1 pitch_layout, 400.2ms\n",
      "Speed: 8.7ms preprocess, 400.2ms inference, 2.1ms postprocess per image at shape (1, 3, 544, 960)\n",
      "\n",
      "0: 544x960 1 pitch_layout, 322.4ms\n",
      "Speed: 17.7ms preprocess, 322.4ms inference, 2.1ms postprocess per image at shape (1, 3, 544, 960)\n",
      "\n",
      "0: 544x960 1 pitch_layout, 427.7ms\n",
      "Speed: 8.6ms preprocess, 427.7ms inference, 2.1ms postprocess per image at shape (1, 3, 544, 960)\n",
      "\n",
      "0: 544x960 (no detections), 345.0ms\n",
      "Speed: 38.2ms preprocess, 345.0ms inference, 0.8ms postprocess per image at shape (1, 3, 544, 960)\n",
      "\n",
      "0: 544x960 (no detections), 382.5ms\n",
      "Speed: 45.5ms preprocess, 382.5ms inference, 0.7ms postprocess per image at shape (1, 3, 544, 960)\n",
      "\n",
      "0: 544x960 1 pitch_layout, 415.0ms\n",
      "Speed: 6.6ms preprocess, 415.0ms inference, 1.9ms postprocess per image at shape (1, 3, 544, 960)\n",
      "\n",
      "0: 544x960 1 pitch_layout, 259.7ms\n",
      "Speed: 23.1ms preprocess, 259.7ms inference, 2.5ms postprocess per image at shape (1, 3, 544, 960)\n",
      "\n",
      "0: 544x960 1 pitch_layout, 224.2ms\n",
      "Speed: 7.6ms preprocess, 224.2ms inference, 2.2ms postprocess per image at shape (1, 3, 544, 960)\n",
      "\n",
      "0: 544x960 1 pitch_layout, 381.4ms\n",
      "Speed: 14.8ms preprocess, 381.4ms inference, 3.3ms postprocess per image at shape (1, 3, 544, 960)\n",
      "\n",
      "0: 544x960 1 pitch_layout, 386.8ms\n",
      "Speed: 9.8ms preprocess, 386.8ms inference, 2.1ms postprocess per image at shape (1, 3, 544, 960)\n",
      "\n",
      "0: 544x960 1 pitch_layout, 414.1ms\n",
      "Speed: 21.2ms preprocess, 414.1ms inference, 3.0ms postprocess per image at shape (1, 3, 544, 960)\n",
      "\n",
      "0: 544x960 2 pitch_layouts, 302.4ms\n",
      "Speed: 20.5ms preprocess, 302.4ms inference, 2.1ms postprocess per image at shape (1, 3, 544, 960)\n",
      "\n",
      "0: 544x960 1 pitch_layout, 242.9ms\n",
      "Speed: 34.1ms preprocess, 242.9ms inference, 2.1ms postprocess per image at shape (1, 3, 544, 960)\n",
      "\n",
      "0: 544x960 2 pitch_layouts, 302.9ms\n",
      "Speed: 30.7ms preprocess, 302.9ms inference, 1.9ms postprocess per image at shape (1, 3, 544, 960)\n",
      "\n",
      "0: 544x960 1 pitch_layout, 303.5ms\n",
      "Speed: 14.2ms preprocess, 303.5ms inference, 2.0ms postprocess per image at shape (1, 3, 544, 960)\n",
      "\n",
      "0: 544x960 2 pitch_layouts, 422.5ms\n",
      "Speed: 20.7ms preprocess, 422.5ms inference, 2.0ms postprocess per image at shape (1, 3, 544, 960)\n",
      "\n",
      "0: 544x960 2 pitch_layouts, 501.6ms\n",
      "Speed: 58.0ms preprocess, 501.6ms inference, 2.2ms postprocess per image at shape (1, 3, 544, 960)\n",
      "\n",
      "0: 544x960 2 pitch_layouts, 275.0ms\n",
      "Speed: 15.6ms preprocess, 275.0ms inference, 2.4ms postprocess per image at shape (1, 3, 544, 960)\n",
      "\n",
      "0: 544x960 2 pitch_layouts, 384.5ms\n",
      "Speed: 17.5ms preprocess, 384.5ms inference, 3.3ms postprocess per image at shape (1, 3, 544, 960)\n",
      "\n",
      "0: 544x960 1 pitch_layout, 385.0ms\n",
      "Speed: 9.1ms preprocess, 385.0ms inference, 3.6ms postprocess per image at shape (1, 3, 544, 960)\n",
      "\n",
      "0: 544x960 1 pitch_layout, 314.7ms\n",
      "Speed: 51.6ms preprocess, 314.7ms inference, 3.6ms postprocess per image at shape (1, 3, 544, 960)\n",
      "\n",
      "0: 544x960 (no detections), 384.1ms\n",
      "Speed: 34.1ms preprocess, 384.1ms inference, 0.8ms postprocess per image at shape (1, 3, 544, 960)\n",
      "\n",
      "0: 544x960 (no detections), 291.2ms\n",
      "Speed: 39.1ms preprocess, 291.2ms inference, 0.8ms postprocess per image at shape (1, 3, 544, 960)\n",
      "\n",
      "0: 544x960 (no detections), 242.5ms\n",
      "Speed: 50.1ms preprocess, 242.5ms inference, 0.7ms postprocess per image at shape (1, 3, 544, 960)\n",
      "\n",
      "0: 544x960 (no detections), 345.0ms\n",
      "Speed: 34.1ms preprocess, 345.0ms inference, 0.8ms postprocess per image at shape (1, 3, 544, 960)\n",
      "\n",
      "0: 544x960 1 pitch_layout, 261.4ms\n",
      "Speed: 17.7ms preprocess, 261.4ms inference, 2.0ms postprocess per image at shape (1, 3, 544, 960)\n",
      "\n",
      "0: 544x960 (no detections), 259.0ms\n",
      "Speed: 18.2ms preprocess, 259.0ms inference, 0.7ms postprocess per image at shape (1, 3, 544, 960)\n",
      "\n",
      "0: 544x960 (no detections), 403.9ms\n",
      "Speed: 58.4ms preprocess, 403.9ms inference, 0.7ms postprocess per image at shape (1, 3, 544, 960)\n",
      "\n",
      "0: 544x960 (no detections), 215.5ms\n",
      "Speed: 73.8ms preprocess, 215.5ms inference, 0.7ms postprocess per image at shape (1, 3, 544, 960)\n",
      "\n",
      "0: 544x960 (no detections), 251.4ms\n",
      "Speed: 30.5ms preprocess, 251.4ms inference, 0.8ms postprocess per image at shape (1, 3, 544, 960)\n",
      "\n",
      "0: 544x960 (no detections), 384.2ms\n",
      "Speed: 7.0ms preprocess, 384.2ms inference, 0.8ms postprocess per image at shape (1, 3, 544, 960)\n",
      "\n",
      "0: 544x960 (no detections), 365.9ms\n",
      "Speed: 7.0ms preprocess, 365.9ms inference, 0.8ms postprocess per image at shape (1, 3, 544, 960)\n",
      "\n",
      "0: 544x960 1 pitch_layout, 399.0ms\n",
      "Speed: 39.6ms preprocess, 399.0ms inference, 2.0ms postprocess per image at shape (1, 3, 544, 960)\n",
      "\n",
      "0: 544x960 (no detections), 349.8ms\n",
      "Speed: 22.9ms preprocess, 349.8ms inference, 0.8ms postprocess per image at shape (1, 3, 544, 960)\n",
      "\n",
      "0: 544x960 (no detections), 364.6ms\n",
      "Speed: 9.9ms preprocess, 364.6ms inference, 0.8ms postprocess per image at shape (1, 3, 544, 960)\n",
      "\n",
      "0: 544x960 1 pitch_layout, 316.3ms\n",
      "Speed: 20.7ms preprocess, 316.3ms inference, 2.1ms postprocess per image at shape (1, 3, 544, 960)\n",
      "\n",
      "0: 544x960 (no detections), 234.8ms\n",
      "Speed: 21.1ms preprocess, 234.8ms inference, 0.7ms postprocess per image at shape (1, 3, 544, 960)\n",
      "\n",
      "0: 544x960 (no detections), 373.3ms\n",
      "Speed: 45.8ms preprocess, 373.3ms inference, 0.7ms postprocess per image at shape (1, 3, 544, 960)\n",
      "\n",
      "0: 544x960 (no detections), 321.3ms\n",
      "Speed: 21.4ms preprocess, 321.3ms inference, 0.7ms postprocess per image at shape (1, 3, 544, 960)\n",
      "\n",
      "0: 544x960 (no detections), 240.2ms\n",
      "Speed: 48.1ms preprocess, 240.2ms inference, 0.7ms postprocess per image at shape (1, 3, 544, 960)\n",
      "\n",
      "0: 544x960 (no detections), 290.9ms\n",
      "Speed: 7.3ms preprocess, 290.9ms inference, 0.7ms postprocess per image at shape (1, 3, 544, 960)\n",
      "\n",
      "0: 544x960 (no detections), 250.7ms\n",
      "Speed: 28.5ms preprocess, 250.7ms inference, 0.8ms postprocess per image at shape (1, 3, 544, 960)\n",
      "\n",
      "0: 544x960 1 pitch_layout, 246.9ms\n",
      "Speed: 42.8ms preprocess, 246.9ms inference, 2.0ms postprocess per image at shape (1, 3, 544, 960)\n",
      "\n",
      "0: 544x960 (no detections), 222.3ms\n",
      "Speed: 6.8ms preprocess, 222.3ms inference, 0.9ms postprocess per image at shape (1, 3, 544, 960)\n",
      "\n",
      "0: 544x960 1 pitch_layout, 282.3ms\n",
      "Speed: 19.3ms preprocess, 282.3ms inference, 2.0ms postprocess per image at shape (1, 3, 544, 960)\n",
      "\n",
      "0: 544x960 1 pitch_layout, 431.5ms\n",
      "Speed: 10.9ms preprocess, 431.5ms inference, 1.9ms postprocess per image at shape (1, 3, 544, 960)\n",
      "\n",
      "0: 544x960 1 pitch_layout, 361.4ms\n",
      "Speed: 13.6ms preprocess, 361.4ms inference, 2.1ms postprocess per image at shape (1, 3, 544, 960)\n",
      "\n",
      "0: 544x960 2 pitch_layouts, 296.7ms\n",
      "Speed: 30.2ms preprocess, 296.7ms inference, 1.9ms postprocess per image at shape (1, 3, 544, 960)\n",
      "\n",
      "0: 544x960 1 pitch_layout, 258.0ms\n",
      "Speed: 50.8ms preprocess, 258.0ms inference, 1.9ms postprocess per image at shape (1, 3, 544, 960)\n",
      "\n",
      "0: 544x960 1 pitch_layout, 384.5ms\n",
      "Speed: 6.7ms preprocess, 384.5ms inference, 2.2ms postprocess per image at shape (1, 3, 544, 960)\n",
      "\n",
      "0: 544x960 1 pitch_layout, 404.3ms\n",
      "Speed: 6.7ms preprocess, 404.3ms inference, 2.4ms postprocess per image at shape (1, 3, 544, 960)\n",
      "\n",
      "0: 544x960 1 pitch_layout, 331.0ms\n",
      "Speed: 18.9ms preprocess, 331.0ms inference, 4.1ms postprocess per image at shape (1, 3, 544, 960)\n",
      "\n",
      "0: 544x960 1 pitch_layout, 256.3ms\n",
      "Speed: 15.6ms preprocess, 256.3ms inference, 2.1ms postprocess per image at shape (1, 3, 544, 960)\n",
      "\n",
      "0: 544x960 1 pitch_layout, 308.9ms\n",
      "Speed: 7.5ms preprocess, 308.9ms inference, 3.7ms postprocess per image at shape (1, 3, 544, 960)\n",
      "\n",
      "0: 544x960 1 pitch_layout, 432.6ms\n",
      "Speed: 7.1ms preprocess, 432.6ms inference, 2.0ms postprocess per image at shape (1, 3, 544, 960)\n",
      "\n",
      "0: 544x960 1 pitch_layout, 360.8ms\n",
      "Speed: 18.7ms preprocess, 360.8ms inference, 2.3ms postprocess per image at shape (1, 3, 544, 960)\n",
      "\n",
      "0: 544x960 1 pitch_layout, 306.3ms\n",
      "Speed: 12.0ms preprocess, 306.3ms inference, 2.0ms postprocess per image at shape (1, 3, 544, 960)\n",
      "\n",
      "0: 544x960 1 pitch_layout, 323.2ms\n",
      "Speed: 19.1ms preprocess, 323.2ms inference, 2.7ms postprocess per image at shape (1, 3, 544, 960)\n",
      "\n",
      "0: 544x960 1 pitch_layout, 297.0ms\n",
      "Speed: 65.5ms preprocess, 297.0ms inference, 1.9ms postprocess per image at shape (1, 3, 544, 960)\n",
      "\n",
      "0: 544x960 1 pitch_layout, 496.3ms\n",
      "Speed: 6.9ms preprocess, 496.3ms inference, 1.9ms postprocess per image at shape (1, 3, 544, 960)\n",
      "\n",
      "0: 544x960 1 pitch_layout, 235.7ms\n",
      "Speed: 41.3ms preprocess, 235.7ms inference, 2.1ms postprocess per image at shape (1, 3, 544, 960)\n",
      "\n",
      "0: 544x960 1 pitch_layout, 274.1ms\n",
      "Speed: 7.4ms preprocess, 274.1ms inference, 2.2ms postprocess per image at shape (1, 3, 544, 960)\n",
      "\n",
      "0: 544x960 1 pitch_layout, 257.8ms\n",
      "Speed: 20.6ms preprocess, 257.8ms inference, 1.9ms postprocess per image at shape (1, 3, 544, 960)\n",
      "\n",
      "0: 544x960 1 pitch_layout, 276.1ms\n",
      "Speed: 9.1ms preprocess, 276.1ms inference, 1.9ms postprocess per image at shape (1, 3, 544, 960)\n",
      "\n",
      "0: 544x960 1 pitch_layout, 258.4ms\n",
      "Speed: 27.2ms preprocess, 258.4ms inference, 2.1ms postprocess per image at shape (1, 3, 544, 960)\n",
      "\n",
      "0: 544x960 1 pitch_layout, 235.0ms\n",
      "Speed: 15.7ms preprocess, 235.0ms inference, 1.9ms postprocess per image at shape (1, 3, 544, 960)\n",
      "\n",
      "0: 544x960 1 pitch_layout, 341.4ms\n",
      "Speed: 52.1ms preprocess, 341.4ms inference, 2.1ms postprocess per image at shape (1, 3, 544, 960)\n",
      "\n",
      "0: 544x960 1 pitch_layout, 284.7ms\n",
      "Speed: 37.7ms preprocess, 284.7ms inference, 2.2ms postprocess per image at shape (1, 3, 544, 960)\n",
      "\n",
      "0: 544x960 (no detections), 486.6ms\n",
      "Speed: 7.2ms preprocess, 486.6ms inference, 0.9ms postprocess per image at shape (1, 3, 544, 960)\n",
      "\n",
      "0: 544x960 1 pitch_layout, 322.7ms\n",
      "Speed: 77.9ms preprocess, 322.7ms inference, 2.3ms postprocess per image at shape (1, 3, 544, 960)\n",
      "\n",
      "0: 544x960 1 pitch_layout, 231.6ms\n",
      "Speed: 9.4ms preprocess, 231.6ms inference, 2.1ms postprocess per image at shape (1, 3, 544, 960)\n",
      "\n",
      "0: 544x960 1 pitch_layout, 305.0ms\n",
      "Speed: 15.3ms preprocess, 305.0ms inference, 6.6ms postprocess per image at shape (1, 3, 544, 960)\n",
      "\n",
      "0: 544x960 1 pitch_layout, 367.6ms\n",
      "Speed: 50.0ms preprocess, 367.6ms inference, 2.3ms postprocess per image at shape (1, 3, 544, 960)\n",
      "\n",
      "0: 544x960 1 pitch_layout, 304.4ms\n",
      "Speed: 7.8ms preprocess, 304.4ms inference, 3.6ms postprocess per image at shape (1, 3, 544, 960)\n",
      "\n",
      "0: 544x960 1 pitch_layout, 369.2ms\n",
      "Speed: 7.1ms preprocess, 369.2ms inference, 2.1ms postprocess per image at shape (1, 3, 544, 960)\n",
      "\n",
      "0: 544x960 1 pitch_layout, 284.0ms\n",
      "Speed: 7.0ms preprocess, 284.0ms inference, 3.7ms postprocess per image at shape (1, 3, 544, 960)\n",
      "\n",
      "0: 544x960 1 pitch_layout, 230.4ms\n",
      "Speed: 22.4ms preprocess, 230.4ms inference, 2.0ms postprocess per image at shape (1, 3, 544, 960)\n",
      "\n",
      "0: 544x960 1 pitch_layout, 286.5ms\n",
      "Speed: 19.9ms preprocess, 286.5ms inference, 2.2ms postprocess per image at shape (1, 3, 544, 960)\n",
      "\n",
      "0: 544x960 1 pitch_layout, 357.0ms\n",
      "Speed: 8.9ms preprocess, 357.0ms inference, 2.0ms postprocess per image at shape (1, 3, 544, 960)\n",
      "\n",
      "0: 544x960 1 pitch_layout, 312.1ms\n",
      "Speed: 24.2ms preprocess, 312.1ms inference, 1.9ms postprocess per image at shape (1, 3, 544, 960)\n",
      "\n",
      "0: 544x960 1 pitch_layout, 371.6ms\n",
      "Speed: 7.3ms preprocess, 371.6ms inference, 2.1ms postprocess per image at shape (1, 3, 544, 960)\n",
      "\n",
      "0: 544x960 1 pitch_layout, 271.3ms\n",
      "Speed: 7.9ms preprocess, 271.3ms inference, 2.3ms postprocess per image at shape (1, 3, 544, 960)\n",
      "\n",
      "0: 544x960 1 pitch_layout, 310.6ms\n",
      "Speed: 7.2ms preprocess, 310.6ms inference, 2.3ms postprocess per image at shape (1, 3, 544, 960)\n",
      "\n",
      "0: 544x960 1 pitch_layout, 326.0ms\n",
      "Speed: 9.1ms preprocess, 326.0ms inference, 2.0ms postprocess per image at shape (1, 3, 544, 960)\n",
      "\n",
      "0: 544x960 1 pitch_layout, 289.3ms\n",
      "Speed: 63.9ms preprocess, 289.3ms inference, 2.7ms postprocess per image at shape (1, 3, 544, 960)\n",
      "\n",
      "0: 544x960 1 pitch_layout, 237.3ms\n",
      "Speed: 6.6ms preprocess, 237.3ms inference, 2.0ms postprocess per image at shape (1, 3, 544, 960)\n",
      "\n",
      "0: 544x960 2 pitch_layouts, 270.1ms\n",
      "Speed: 7.4ms preprocess, 270.1ms inference, 1.9ms postprocess per image at shape (1, 3, 544, 960)\n",
      "\n",
      "0: 544x960 2 pitch_layouts, 307.6ms\n",
      "Speed: 53.8ms preprocess, 307.6ms inference, 2.0ms postprocess per image at shape (1, 3, 544, 960)\n",
      "\n",
      "0: 544x960 2 pitch_layouts, 473.8ms\n",
      "Speed: 6.8ms preprocess, 473.8ms inference, 2.1ms postprocess per image at shape (1, 3, 544, 960)\n",
      "\n",
      "0: 544x960 1 pitch_layout, 314.6ms\n",
      "Speed: 26.9ms preprocess, 314.6ms inference, 3.7ms postprocess per image at shape (1, 3, 544, 960)\n",
      "\n",
      "0: 544x960 1 pitch_layout, 251.4ms\n",
      "Speed: 55.0ms preprocess, 251.4ms inference, 2.1ms postprocess per image at shape (1, 3, 544, 960)\n",
      "\n",
      "0: 544x960 1 pitch_layout, 403.5ms\n",
      "Speed: 22.4ms preprocess, 403.5ms inference, 2.0ms postprocess per image at shape (1, 3, 544, 960)\n",
      "\n",
      "0: 544x960 1 pitch_layout, 414.4ms\n",
      "Speed: 7.2ms preprocess, 414.4ms inference, 2.0ms postprocess per image at shape (1, 3, 544, 960)\n",
      "\n",
      "0: 544x960 1 pitch_layout, 246.8ms\n",
      "Speed: 6.6ms preprocess, 246.8ms inference, 2.9ms postprocess per image at shape (1, 3, 544, 960)\n",
      "\n",
      "0: 544x960 1 pitch_layout, 445.9ms\n",
      "Speed: 49.3ms preprocess, 445.9ms inference, 2.1ms postprocess per image at shape (1, 3, 544, 960)\n",
      "\n",
      "0: 544x960 1 pitch_layout, 313.3ms\n",
      "Speed: 23.8ms preprocess, 313.3ms inference, 2.3ms postprocess per image at shape (1, 3, 544, 960)\n",
      "\n",
      "0: 544x960 2 pitch_layouts, 410.8ms\n",
      "Speed: 9.1ms preprocess, 410.8ms inference, 2.1ms postprocess per image at shape (1, 3, 544, 960)\n",
      "\n",
      "0: 544x960 1 pitch_layout, 321.0ms\n",
      "Speed: 50.2ms preprocess, 321.0ms inference, 2.1ms postprocess per image at shape (1, 3, 544, 960)\n",
      "\n",
      "0: 544x960 (no detections), 355.9ms\n",
      "Speed: 20.6ms preprocess, 355.9ms inference, 0.8ms postprocess per image at shape (1, 3, 544, 960)\n",
      "\n",
      "0: 544x960 1 pitch_layout, 352.6ms\n",
      "Speed: 27.3ms preprocess, 352.6ms inference, 2.0ms postprocess per image at shape (1, 3, 544, 960)\n",
      "\n",
      "0: 544x960 1 pitch_layout, 323.2ms\n",
      "Speed: 36.0ms preprocess, 323.2ms inference, 2.2ms postprocess per image at shape (1, 3, 544, 960)\n",
      "\n",
      "0: 544x960 1 pitch_layout, 314.3ms\n",
      "Speed: 36.7ms preprocess, 314.3ms inference, 2.1ms postprocess per image at shape (1, 3, 544, 960)\n",
      "\n",
      "0: 544x960 1 pitch_layout, 408.0ms\n",
      "Speed: 9.0ms preprocess, 408.0ms inference, 3.8ms postprocess per image at shape (1, 3, 544, 960)\n",
      "\n",
      "0: 544x960 1 pitch_layout, 285.2ms\n",
      "Speed: 34.2ms preprocess, 285.2ms inference, 2.1ms postprocess per image at shape (1, 3, 544, 960)\n",
      "\n",
      "0: 544x960 2 pitch_layouts, 303.4ms\n",
      "Speed: 7.5ms preprocess, 303.4ms inference, 2.0ms postprocess per image at shape (1, 3, 544, 960)\n",
      "\n",
      "0: 544x960 1 pitch_layout, 343.6ms\n",
      "Speed: 9.1ms preprocess, 343.6ms inference, 2.0ms postprocess per image at shape (1, 3, 544, 960)\n",
      "\n",
      "0: 544x960 1 pitch_layout, 271.7ms\n",
      "Speed: 6.7ms preprocess, 271.7ms inference, 2.0ms postprocess per image at shape (1, 3, 544, 960)\n",
      "\n",
      "0: 544x960 1 pitch_layout, 387.1ms\n",
      "Speed: 62.0ms preprocess, 387.1ms inference, 2.0ms postprocess per image at shape (1, 3, 544, 960)\n",
      "\n",
      "0: 544x960 1 pitch_layout, 355.7ms\n",
      "Speed: 36.5ms preprocess, 355.7ms inference, 2.4ms postprocess per image at shape (1, 3, 544, 960)\n",
      "\n",
      "0: 544x960 1 pitch_layout, 306.7ms\n",
      "Speed: 9.0ms preprocess, 306.7ms inference, 2.1ms postprocess per image at shape (1, 3, 544, 960)\n",
      "\n",
      "0: 544x960 1 pitch_layout, 306.6ms\n",
      "Speed: 20.2ms preprocess, 306.6ms inference, 2.0ms postprocess per image at shape (1, 3, 544, 960)\n",
      "\n",
      "0: 544x960 2 pitch_layouts, 378.1ms\n",
      "Speed: 30.9ms preprocess, 378.1ms inference, 3.1ms postprocess per image at shape (1, 3, 544, 960)\n",
      "\n",
      "0: 544x960 2 pitch_layouts, 330.8ms\n",
      "Speed: 9.0ms preprocess, 330.8ms inference, 2.2ms postprocess per image at shape (1, 3, 544, 960)\n",
      "\n",
      "0: 544x960 1 pitch_layout, 327.6ms\n",
      "Speed: 6.9ms preprocess, 327.6ms inference, 2.0ms postprocess per image at shape (1, 3, 544, 960)\n",
      "\n",
      "0: 544x960 1 pitch_layout, 244.3ms\n",
      "Speed: 33.0ms preprocess, 244.3ms inference, 2.0ms postprocess per image at shape (1, 3, 544, 960)\n",
      "\n",
      "0: 544x960 1 pitch_layout, 392.5ms\n",
      "Speed: 32.8ms preprocess, 392.5ms inference, 2.1ms postprocess per image at shape (1, 3, 544, 960)\n",
      "\n",
      "0: 544x960 1 pitch_layout, 326.8ms\n",
      "Speed: 6.7ms preprocess, 326.8ms inference, 2.2ms postprocess per image at shape (1, 3, 544, 960)\n",
      "\n",
      "0: 544x960 2 pitch_layouts, 250.6ms\n",
      "Speed: 15.6ms preprocess, 250.6ms inference, 2.1ms postprocess per image at shape (1, 3, 544, 960)\n",
      "\n",
      "0: 544x960 2 pitch_layouts, 368.9ms\n",
      "Speed: 30.1ms preprocess, 368.9ms inference, 2.1ms postprocess per image at shape (1, 3, 544, 960)\n",
      "\n",
      "0: 544x960 2 pitch_layouts, 252.0ms\n",
      "Speed: 20.8ms preprocess, 252.0ms inference, 2.7ms postprocess per image at shape (1, 3, 544, 960)\n",
      "\n",
      "0: 544x960 2 pitch_layouts, 301.2ms\n",
      "Speed: 50.1ms preprocess, 301.2ms inference, 2.0ms postprocess per image at shape (1, 3, 544, 960)\n",
      "\n",
      "0: 544x960 2 pitch_layouts, 445.7ms\n",
      "Speed: 7.0ms preprocess, 445.7ms inference, 1.9ms postprocess per image at shape (1, 3, 544, 960)\n",
      "\n",
      "0: 544x960 1 pitch_layout, 362.6ms\n",
      "Speed: 11.5ms preprocess, 362.6ms inference, 2.2ms postprocess per image at shape (1, 3, 544, 960)\n",
      "\n",
      "0: 544x960 1 pitch_layout, 360.9ms\n",
      "Speed: 20.7ms preprocess, 360.9ms inference, 2.3ms postprocess per image at shape (1, 3, 544, 960)\n",
      "\n",
      "0: 544x960 1 pitch_layout, 298.5ms\n",
      "Speed: 18.4ms preprocess, 298.5ms inference, 2.0ms postprocess per image at shape (1, 3, 544, 960)\n",
      "\n",
      "0: 544x960 1 pitch_layout, 315.1ms\n",
      "Speed: 20.3ms preprocess, 315.1ms inference, 2.0ms postprocess per image at shape (1, 3, 544, 960)\n",
      "\n",
      "0: 544x960 1 pitch_layout, 333.2ms\n",
      "Speed: 29.0ms preprocess, 333.2ms inference, 2.5ms postprocess per image at shape (1, 3, 544, 960)\n",
      "\n",
      "0: 544x960 1 pitch_layout, 417.4ms\n",
      "Speed: 15.3ms preprocess, 417.4ms inference, 2.1ms postprocess per image at shape (1, 3, 544, 960)\n",
      "\n",
      "0: 544x960 1 pitch_layout, 350.7ms\n",
      "Speed: 7.2ms preprocess, 350.7ms inference, 2.1ms postprocess per image at shape (1, 3, 544, 960)\n",
      "\n",
      "0: 544x960 1 pitch_layout, 246.3ms\n",
      "Speed: 47.4ms preprocess, 246.3ms inference, 3.8ms postprocess per image at shape (1, 3, 544, 960)\n",
      "\n",
      "0: 544x960 1 pitch_layout, 234.3ms\n",
      "Speed: 29.2ms preprocess, 234.3ms inference, 2.0ms postprocess per image at shape (1, 3, 544, 960)\n",
      "\n",
      "0: 544x960 1 pitch_layout, 258.0ms\n",
      "Speed: 31.5ms preprocess, 258.0ms inference, 2.0ms postprocess per image at shape (1, 3, 544, 960)\n",
      "\n",
      "0: 544x960 1 pitch_layout, 363.7ms\n",
      "Speed: 6.9ms preprocess, 363.7ms inference, 2.0ms postprocess per image at shape (1, 3, 544, 960)\n",
      "\n",
      "0: 544x960 1 pitch_layout, 265.8ms\n",
      "Speed: 18.1ms preprocess, 265.8ms inference, 2.7ms postprocess per image at shape (1, 3, 544, 960)\n",
      "\n",
      "0: 544x960 1 pitch_layout, 344.9ms\n",
      "Speed: 7.3ms preprocess, 344.9ms inference, 2.3ms postprocess per image at shape (1, 3, 544, 960)\n",
      "\n",
      "0: 544x960 1 pitch_layout, 392.4ms\n",
      "Speed: 6.7ms preprocess, 392.4ms inference, 2.0ms postprocess per image at shape (1, 3, 544, 960)\n",
      "\n",
      "0: 544x960 1 pitch_layout, 261.9ms\n",
      "Speed: 15.7ms preprocess, 261.9ms inference, 2.3ms postprocess per image at shape (1, 3, 544, 960)\n",
      "\n",
      "0: 544x960 1 pitch_layout, 228.1ms\n",
      "Speed: 9.2ms preprocess, 228.1ms inference, 3.7ms postprocess per image at shape (1, 3, 544, 960)\n",
      "\n",
      "0: 544x960 1 pitch_layout, 336.2ms\n",
      "Speed: 51.1ms preprocess, 336.2ms inference, 2.1ms postprocess per image at shape (1, 3, 544, 960)\n",
      "\n",
      "0: 544x960 1 pitch_layout, 303.7ms\n",
      "Speed: 50.1ms preprocess, 303.7ms inference, 2.3ms postprocess per image at shape (1, 3, 544, 960)\n",
      "\n",
      "0: 544x960 1 pitch_layout, 281.6ms\n",
      "Speed: 15.9ms preprocess, 281.6ms inference, 2.1ms postprocess per image at shape (1, 3, 544, 960)\n",
      "\n",
      "0: 544x960 1 pitch_layout, 352.4ms\n",
      "Speed: 41.7ms preprocess, 352.4ms inference, 1.9ms postprocess per image at shape (1, 3, 544, 960)\n",
      "\n",
      "0: 544x960 1 pitch_layout, 415.0ms\n",
      "Speed: 23.5ms preprocess, 415.0ms inference, 2.3ms postprocess per image at shape (1, 3, 544, 960)\n",
      "\n",
      "0: 544x960 1 pitch_layout, 347.6ms\n",
      "Speed: 17.1ms preprocess, 347.6ms inference, 1.9ms postprocess per image at shape (1, 3, 544, 960)\n",
      "\n",
      "0: 544x960 1 pitch_layout, 284.9ms\n",
      "Speed: 6.8ms preprocess, 284.9ms inference, 3.6ms postprocess per image at shape (1, 3, 544, 960)\n",
      "\n",
      "0: 544x960 1 pitch_layout, 355.3ms\n",
      "Speed: 16.0ms preprocess, 355.3ms inference, 2.0ms postprocess per image at shape (1, 3, 544, 960)\n",
      "\n",
      "0: 544x960 1 pitch_layout, 394.5ms\n",
      "Speed: 22.4ms preprocess, 394.5ms inference, 2.1ms postprocess per image at shape (1, 3, 544, 960)\n",
      "\n",
      "0: 544x960 1 pitch_layout, 299.8ms\n",
      "Speed: 38.4ms preprocess, 299.8ms inference, 3.9ms postprocess per image at shape (1, 3, 544, 960)\n",
      "\n",
      "0: 544x960 1 pitch_layout, 275.6ms\n",
      "Speed: 7.2ms preprocess, 275.6ms inference, 2.3ms postprocess per image at shape (1, 3, 544, 960)\n",
      "\n",
      "0: 544x960 1 pitch_layout, 408.6ms\n",
      "Speed: 6.8ms preprocess, 408.6ms inference, 2.2ms postprocess per image at shape (1, 3, 544, 960)\n",
      "\n",
      "0: 544x960 1 pitch_layout, 317.5ms\n",
      "Speed: 51.7ms preprocess, 317.5ms inference, 2.0ms postprocess per image at shape (1, 3, 544, 960)\n",
      "\n",
      "0: 544x960 1 pitch_layout, 247.9ms\n",
      "Speed: 23.8ms preprocess, 247.9ms inference, 3.8ms postprocess per image at shape (1, 3, 544, 960)\n",
      "\n",
      "0: 544x960 1 pitch_layout, 435.4ms\n",
      "Speed: 24.6ms preprocess, 435.4ms inference, 2.3ms postprocess per image at shape (1, 3, 544, 960)\n",
      "\n",
      "0: 544x960 1 pitch_layout, 266.6ms\n",
      "Speed: 6.8ms preprocess, 266.6ms inference, 3.8ms postprocess per image at shape (1, 3, 544, 960)\n",
      "\n",
      "0: 544x960 1 pitch_layout, 300.3ms\n",
      "Speed: 15.2ms preprocess, 300.3ms inference, 2.1ms postprocess per image at shape (1, 3, 544, 960)\n",
      "\n",
      "0: 544x960 1 pitch_layout, 305.1ms\n",
      "Speed: 33.0ms preprocess, 305.1ms inference, 2.0ms postprocess per image at shape (1, 3, 544, 960)\n",
      "\n",
      "0: 544x960 1 pitch_layout, 312.5ms\n",
      "Speed: 7.1ms preprocess, 312.5ms inference, 2.2ms postprocess per image at shape (1, 3, 544, 960)\n",
      "\n",
      "0: 544x960 1 pitch_layout, 452.8ms\n",
      "Speed: 38.4ms preprocess, 452.8ms inference, 1.9ms postprocess per image at shape (1, 3, 544, 960)\n",
      "\n",
      "0: 544x960 1 pitch_layout, 302.7ms\n",
      "Speed: 15.0ms preprocess, 302.7ms inference, 2.0ms postprocess per image at shape (1, 3, 544, 960)\n",
      "\n",
      "0: 544x960 1 pitch_layout, 340.0ms\n",
      "Speed: 34.6ms preprocess, 340.0ms inference, 2.0ms postprocess per image at shape (1, 3, 544, 960)\n",
      "\n",
      "0: 544x960 1 pitch_layout, 304.0ms\n",
      "Speed: 23.5ms preprocess, 304.0ms inference, 2.1ms postprocess per image at shape (1, 3, 544, 960)\n",
      "\n",
      "0: 544x960 1 pitch_layout, 544.0ms\n",
      "Speed: 25.1ms preprocess, 544.0ms inference, 3.7ms postprocess per image at shape (1, 3, 544, 960)\n",
      "\n",
      "0: 544x960 1 pitch_layout, 281.8ms\n",
      "Speed: 37.7ms preprocess, 281.8ms inference, 2.3ms postprocess per image at shape (1, 3, 544, 960)\n",
      "\n",
      "0: 544x960 1 pitch_layout, 328.4ms\n",
      "Speed: 45.0ms preprocess, 328.4ms inference, 2.5ms postprocess per image at shape (1, 3, 544, 960)\n",
      "\n",
      "0: 544x960 1 pitch_layout, 315.7ms\n",
      "Speed: 73.7ms preprocess, 315.7ms inference, 2.0ms postprocess per image at shape (1, 3, 544, 960)\n",
      "\n",
      "0: 544x960 1 pitch_layout, 295.0ms\n",
      "Speed: 77.4ms preprocess, 295.0ms inference, 1.9ms postprocess per image at shape (1, 3, 544, 960)\n",
      "\n",
      "0: 544x960 1 pitch_layout, 280.2ms\n",
      "Speed: 8.8ms preprocess, 280.2ms inference, 1.9ms postprocess per image at shape (1, 3, 544, 960)\n",
      "\n",
      "0: 544x960 1 pitch_layout, 325.5ms\n",
      "Speed: 34.1ms preprocess, 325.5ms inference, 2.1ms postprocess per image at shape (1, 3, 544, 960)\n",
      "\n",
      "0: 544x960 1 pitch_layout, 358.5ms\n",
      "Speed: 35.6ms preprocess, 358.5ms inference, 2.1ms postprocess per image at shape (1, 3, 544, 960)\n",
      "\n",
      "0: 544x960 1 pitch_layout, 264.7ms\n",
      "Speed: 12.3ms preprocess, 264.7ms inference, 2.7ms postprocess per image at shape (1, 3, 544, 960)\n",
      "\n",
      "0: 544x960 1 pitch_layout, 333.1ms\n",
      "Speed: 19.5ms preprocess, 333.1ms inference, 2.1ms postprocess per image at shape (1, 3, 544, 960)\n",
      "\n",
      "0: 544x960 1 pitch_layout, 256.4ms\n",
      "Speed: 45.8ms preprocess, 256.4ms inference, 2.0ms postprocess per image at shape (1, 3, 544, 960)\n",
      "\n",
      "0: 544x960 1 pitch_layout, 342.9ms\n",
      "Speed: 31.8ms preprocess, 342.9ms inference, 2.0ms postprocess per image at shape (1, 3, 544, 960)\n",
      "\n",
      "0: 544x960 1 pitch_layout, 252.3ms\n",
      "Speed: 22.8ms preprocess, 252.3ms inference, 1.9ms postprocess per image at shape (1, 3, 544, 960)\n",
      "\n",
      "0: 544x960 1 pitch_layout, 259.7ms\n",
      "Speed: 7.0ms preprocess, 259.7ms inference, 2.3ms postprocess per image at shape (1, 3, 544, 960)\n",
      "\n",
      "0: 544x960 1 pitch_layout, 215.9ms\n",
      "Speed: 36.1ms preprocess, 215.9ms inference, 3.5ms postprocess per image at shape (1, 3, 544, 960)\n",
      "\n",
      "0: 544x960 1 pitch_layout, 441.6ms\n",
      "Speed: 18.6ms preprocess, 441.6ms inference, 2.1ms postprocess per image at shape (1, 3, 544, 960)\n",
      "\n",
      "0: 544x960 1 pitch_layout, 350.5ms\n",
      "Speed: 39.4ms preprocess, 350.5ms inference, 2.0ms postprocess per image at shape (1, 3, 544, 960)\n",
      "\n",
      "0: 544x960 1 pitch_layout, 292.7ms\n",
      "Speed: 9.0ms preprocess, 292.7ms inference, 2.4ms postprocess per image at shape (1, 3, 544, 960)\n",
      "\n",
      "0: 544x960 1 pitch_layout, 391.5ms\n",
      "Speed: 8.6ms preprocess, 391.5ms inference, 2.0ms postprocess per image at shape (1, 3, 544, 960)\n",
      "\n",
      "0: 544x960 1 pitch_layout, 307.1ms\n",
      "Speed: 29.8ms preprocess, 307.1ms inference, 2.5ms postprocess per image at shape (1, 3, 544, 960)\n",
      "\n",
      "0: 544x960 1 pitch_layout, 280.0ms\n",
      "Speed: 15.0ms preprocess, 280.0ms inference, 1.9ms postprocess per image at shape (1, 3, 544, 960)\n",
      "\n",
      "0: 544x960 1 pitch_layout, 289.3ms\n",
      "Speed: 41.7ms preprocess, 289.3ms inference, 3.9ms postprocess per image at shape (1, 3, 544, 960)\n",
      "\n",
      "0: 544x960 1 pitch_layout, 337.7ms\n",
      "Speed: 42.8ms preprocess, 337.7ms inference, 1.9ms postprocess per image at shape (1, 3, 544, 960)\n",
      "\n",
      "0: 544x960 1 pitch_layout, 379.9ms\n",
      "Speed: 16.7ms preprocess, 379.9ms inference, 2.4ms postprocess per image at shape (1, 3, 544, 960)\n",
      "\n",
      "0: 544x960 1 pitch_layout, 389.5ms\n",
      "Speed: 9.4ms preprocess, 389.5ms inference, 2.0ms postprocess per image at shape (1, 3, 544, 960)\n",
      "\n",
      "0: 544x960 1 pitch_layout, 303.3ms\n",
      "Speed: 41.0ms preprocess, 303.3ms inference, 2.1ms postprocess per image at shape (1, 3, 544, 960)\n",
      "\n",
      "0: 544x960 1 pitch_layout, 345.4ms\n",
      "Speed: 26.3ms preprocess, 345.4ms inference, 2.1ms postprocess per image at shape (1, 3, 544, 960)\n",
      "\n",
      "0: 544x960 1 pitch_layout, 281.0ms\n",
      "Speed: 12.7ms preprocess, 281.0ms inference, 2.1ms postprocess per image at shape (1, 3, 544, 960)\n",
      "\n",
      "0: 544x960 1 pitch_layout, 342.5ms\n",
      "Speed: 19.0ms preprocess, 342.5ms inference, 2.0ms postprocess per image at shape (1, 3, 544, 960)\n",
      "\n",
      "0: 544x960 1 pitch_layout, 425.7ms\n",
      "Speed: 13.4ms preprocess, 425.7ms inference, 2.2ms postprocess per image at shape (1, 3, 544, 960)\n",
      "\n",
      "0: 544x960 1 pitch_layout, 318.9ms\n",
      "Speed: 53.5ms preprocess, 318.9ms inference, 2.1ms postprocess per image at shape (1, 3, 544, 960)\n",
      "\n",
      "0: 544x960 1 pitch_layout, 421.7ms\n",
      "Speed: 32.6ms preprocess, 421.7ms inference, 2.0ms postprocess per image at shape (1, 3, 544, 960)\n",
      "\n",
      "0: 544x960 1 pitch_layout, 339.7ms\n",
      "Speed: 41.5ms preprocess, 339.7ms inference, 2.2ms postprocess per image at shape (1, 3, 544, 960)\n",
      "\n",
      "0: 544x960 1 pitch_layout, 287.2ms\n",
      "Speed: 11.6ms preprocess, 287.2ms inference, 2.4ms postprocess per image at shape (1, 3, 544, 960)\n",
      "\n",
      "0: 544x960 1 pitch_layout, 252.3ms\n",
      "Speed: 17.5ms preprocess, 252.3ms inference, 1.9ms postprocess per image at shape (1, 3, 544, 960)\n",
      "\n",
      "0: 544x960 1 pitch_layout, 303.4ms\n",
      "Speed: 34.3ms preprocess, 303.4ms inference, 3.1ms postprocess per image at shape (1, 3, 544, 960)\n",
      "\n",
      "0: 544x960 1 pitch_layout, 306.4ms\n",
      "Speed: 7.1ms preprocess, 306.4ms inference, 2.0ms postprocess per image at shape (1, 3, 544, 960)\n",
      "\n",
      "0: 544x960 1 pitch_layout, 310.7ms\n",
      "Speed: 18.9ms preprocess, 310.7ms inference, 1.9ms postprocess per image at shape (1, 3, 544, 960)\n",
      "\n",
      "0: 544x960 1 pitch_layout, 229.9ms\n",
      "Speed: 64.8ms preprocess, 229.9ms inference, 2.6ms postprocess per image at shape (1, 3, 544, 960)\n",
      "\n",
      "0: 544x960 1 pitch_layout, 397.3ms\n",
      "Speed: 49.8ms preprocess, 397.3ms inference, 2.0ms postprocess per image at shape (1, 3, 544, 960)\n",
      "\n",
      "0: 544x960 1 pitch_layout, 247.1ms\n",
      "Speed: 77.8ms preprocess, 247.1ms inference, 1.9ms postprocess per image at shape (1, 3, 544, 960)\n",
      "\n",
      "0: 544x960 1 pitch_layout, 215.9ms\n",
      "Speed: 15.8ms preprocess, 215.9ms inference, 2.1ms postprocess per image at shape (1, 3, 544, 960)\n",
      "\n",
      "0: 544x960 1 pitch_layout, 256.2ms\n",
      "Speed: 27.5ms preprocess, 256.2ms inference, 2.1ms postprocess per image at shape (1, 3, 544, 960)\n",
      "\n",
      "0: 544x960 1 pitch_layout, 444.6ms\n",
      "Speed: 14.8ms preprocess, 444.6ms inference, 2.1ms postprocess per image at shape (1, 3, 544, 960)\n",
      "\n",
      "0: 544x960 1 pitch_layout, 313.0ms\n",
      "Speed: 6.6ms preprocess, 313.0ms inference, 2.0ms postprocess per image at shape (1, 3, 544, 960)\n",
      "\n",
      "0: 544x960 1 pitch_layout, 336.0ms\n",
      "Speed: 7.1ms preprocess, 336.0ms inference, 3.1ms postprocess per image at shape (1, 3, 544, 960)\n",
      "\n",
      "0: 544x960 1 pitch_layout, 392.6ms\n",
      "Speed: 7.4ms preprocess, 392.6ms inference, 1.9ms postprocess per image at shape (1, 3, 544, 960)\n",
      "\n",
      "0: 544x960 1 pitch_layout, 279.0ms\n",
      "Speed: 10.2ms preprocess, 279.0ms inference, 2.0ms postprocess per image at shape (1, 3, 544, 960)\n",
      "\n",
      "0: 544x960 1 pitch_layout, 335.6ms\n",
      "Speed: 27.9ms preprocess, 335.6ms inference, 2.5ms postprocess per image at shape (1, 3, 544, 960)\n",
      "\n",
      "0: 544x960 1 pitch_layout, 290.6ms\n",
      "Speed: 48.4ms preprocess, 290.6ms inference, 2.1ms postprocess per image at shape (1, 3, 544, 960)\n",
      "\n",
      "0: 544x960 1 pitch_layout, 364.0ms\n",
      "Speed: 25.9ms preprocess, 364.0ms inference, 2.0ms postprocess per image at shape (1, 3, 544, 960)\n",
      "\n",
      "0: 544x960 1 pitch_layout, 340.1ms\n",
      "Speed: 20.4ms preprocess, 340.1ms inference, 2.0ms postprocess per image at shape (1, 3, 544, 960)\n",
      "\n",
      "0: 544x960 1 pitch_layout, 348.8ms\n",
      "Speed: 20.1ms preprocess, 348.8ms inference, 2.5ms postprocess per image at shape (1, 3, 544, 960)\n",
      "\n",
      "0: 544x960 1 pitch_layout, 469.2ms\n",
      "Speed: 6.8ms preprocess, 469.2ms inference, 2.4ms postprocess per image at shape (1, 3, 544, 960)\n",
      "\n",
      "0: 544x960 1 pitch_layout, 284.3ms\n",
      "Speed: 10.8ms preprocess, 284.3ms inference, 2.7ms postprocess per image at shape (1, 3, 544, 960)\n",
      "\n",
      "0: 544x960 1 pitch_layout, 278.8ms\n",
      "Speed: 53.0ms preprocess, 278.8ms inference, 2.3ms postprocess per image at shape (1, 3, 544, 960)\n",
      "\n",
      "0: 544x960 1 pitch_layout, 299.4ms\n",
      "Speed: 30.6ms preprocess, 299.4ms inference, 2.0ms postprocess per image at shape (1, 3, 544, 960)\n",
      "\n",
      "0: 544x960 1 pitch_layout, 296.1ms\n",
      "Speed: 17.8ms preprocess, 296.1ms inference, 2.3ms postprocess per image at shape (1, 3, 544, 960)\n",
      "\n",
      "0: 544x960 1 pitch_layout, 309.0ms\n",
      "Speed: 7.0ms preprocess, 309.0ms inference, 2.2ms postprocess per image at shape (1, 3, 544, 960)\n",
      "\n",
      "0: 544x960 1 pitch_layout, 315.2ms\n",
      "Speed: 6.6ms preprocess, 315.2ms inference, 3.5ms postprocess per image at shape (1, 3, 544, 960)\n",
      "\n",
      "0: 544x960 1 pitch_layout, 268.0ms\n",
      "Speed: 6.9ms preprocess, 268.0ms inference, 8.5ms postprocess per image at shape (1, 3, 544, 960)\n",
      "\n",
      "0: 544x960 1 pitch_layout, 261.1ms\n",
      "Speed: 39.9ms preprocess, 261.1ms inference, 2.1ms postprocess per image at shape (1, 3, 544, 960)\n",
      "\n",
      "0: 544x960 1 pitch_layout, 363.6ms\n",
      "Speed: 10.7ms preprocess, 363.6ms inference, 2.1ms postprocess per image at shape (1, 3, 544, 960)\n",
      "\n",
      "0: 544x960 1 pitch_layout, 364.6ms\n",
      "Speed: 8.2ms preprocess, 364.6ms inference, 2.0ms postprocess per image at shape (1, 3, 544, 960)\n",
      "\n",
      "0: 544x960 1 pitch_layout, 279.6ms\n",
      "Speed: 14.1ms preprocess, 279.6ms inference, 2.1ms postprocess per image at shape (1, 3, 544, 960)\n",
      "\n",
      "0: 544x960 1 pitch_layout, 418.5ms\n",
      "Speed: 24.2ms preprocess, 418.5ms inference, 3.8ms postprocess per image at shape (1, 3, 544, 960)\n",
      "\n",
      "0: 544x960 1 pitch_layout, 298.4ms\n",
      "Speed: 13.2ms preprocess, 298.4ms inference, 2.0ms postprocess per image at shape (1, 3, 544, 960)\n",
      "\n",
      "0: 544x960 1 pitch_layout, 285.5ms\n",
      "Speed: 10.9ms preprocess, 285.5ms inference, 2.1ms postprocess per image at shape (1, 3, 544, 960)\n",
      "\n",
      "0: 544x960 1 pitch_layout, 423.8ms\n",
      "Speed: 35.0ms preprocess, 423.8ms inference, 2.1ms postprocess per image at shape (1, 3, 544, 960)\n",
      "\n",
      "0: 544x960 1 pitch_layout, 268.9ms\n",
      "Speed: 7.2ms preprocess, 268.9ms inference, 2.0ms postprocess per image at shape (1, 3, 544, 960)\n",
      "\n",
      "0: 544x960 1 pitch_layout, 335.7ms\n",
      "Speed: 37.8ms preprocess, 335.7ms inference, 2.4ms postprocess per image at shape (1, 3, 544, 960)\n",
      "\n",
      "0: 544x960 1 pitch_layout, 388.6ms\n",
      "Speed: 7.0ms preprocess, 388.6ms inference, 3.8ms postprocess per image at shape (1, 3, 544, 960)\n",
      "\n",
      "0: 544x960 1 pitch_layout, 363.0ms\n",
      "Speed: 14.7ms preprocess, 363.0ms inference, 2.2ms postprocess per image at shape (1, 3, 544, 960)\n",
      "\n",
      "0: 544x960 1 pitch_layout, 308.9ms\n",
      "Speed: 7.3ms preprocess, 308.9ms inference, 2.3ms postprocess per image at shape (1, 3, 544, 960)\n",
      "\n",
      "0: 544x960 1 pitch_layout, 218.4ms\n",
      "Speed: 7.1ms preprocess, 218.4ms inference, 2.0ms postprocess per image at shape (1, 3, 544, 960)\n",
      "\n",
      "0: 544x960 1 pitch_layout, 372.0ms\n",
      "Speed: 38.8ms preprocess, 372.0ms inference, 1.9ms postprocess per image at shape (1, 3, 544, 960)\n",
      "\n",
      "0: 544x960 1 pitch_layout, 313.7ms\n",
      "Speed: 7.2ms preprocess, 313.7ms inference, 1.9ms postprocess per image at shape (1, 3, 544, 960)\n",
      "\n",
      "0: 544x960 1 pitch_layout, 273.0ms\n",
      "Speed: 43.1ms preprocess, 273.0ms inference, 2.4ms postprocess per image at shape (1, 3, 544, 960)\n",
      "\n",
      "0: 544x960 1 pitch_layout, 308.7ms\n",
      "Speed: 38.7ms preprocess, 308.7ms inference, 2.0ms postprocess per image at shape (1, 3, 544, 960)\n",
      "\n",
      "0: 544x960 1 pitch_layout, 319.8ms\n",
      "Speed: 69.2ms preprocess, 319.8ms inference, 2.1ms postprocess per image at shape (1, 3, 544, 960)\n",
      "\n",
      "0: 544x960 1 pitch_layout, 255.0ms\n",
      "Speed: 22.4ms preprocess, 255.0ms inference, 2.0ms postprocess per image at shape (1, 3, 544, 960)\n",
      "\n",
      "0: 544x960 1 pitch_layout, 245.3ms\n",
      "Speed: 9.6ms preprocess, 245.3ms inference, 2.1ms postprocess per image at shape (1, 3, 544, 960)\n",
      "\n",
      "0: 544x960 1 pitch_layout, 412.2ms\n",
      "Speed: 43.4ms preprocess, 412.2ms inference, 2.4ms postprocess per image at shape (1, 3, 544, 960)\n",
      "\n",
      "0: 544x960 1 pitch_layout, 339.7ms\n",
      "Speed: 19.6ms preprocess, 339.7ms inference, 2.3ms postprocess per image at shape (1, 3, 544, 960)\n",
      "\n",
      "0: 544x960 1 pitch_layout, 418.2ms\n",
      "Speed: 15.1ms preprocess, 418.2ms inference, 2.0ms postprocess per image at shape (1, 3, 544, 960)\n",
      "\n",
      "0: 544x960 1 pitch_layout, 300.3ms\n",
      "Speed: 7.1ms preprocess, 300.3ms inference, 2.4ms postprocess per image at shape (1, 3, 544, 960)\n",
      "\n",
      "0: 544x960 1 pitch_layout, 266.1ms\n",
      "Speed: 7.1ms preprocess, 266.1ms inference, 2.5ms postprocess per image at shape (1, 3, 544, 960)\n",
      "\n",
      "0: 544x960 1 pitch_layout, 298.4ms\n",
      "Speed: 6.5ms preprocess, 298.4ms inference, 2.4ms postprocess per image at shape (1, 3, 544, 960)\n",
      "\n",
      "0: 544x960 1 pitch_layout, 361.8ms\n",
      "Speed: 9.2ms preprocess, 361.8ms inference, 2.0ms postprocess per image at shape (1, 3, 544, 960)\n",
      "\n",
      "0: 544x960 1 pitch_layout, 304.0ms\n",
      "Speed: 16.6ms preprocess, 304.0ms inference, 1.9ms postprocess per image at shape (1, 3, 544, 960)\n",
      "\n",
      "0: 544x960 1 pitch_layout, 275.5ms\n",
      "Speed: 9.1ms preprocess, 275.5ms inference, 2.0ms postprocess per image at shape (1, 3, 544, 960)\n",
      "\n",
      "0: 544x960 1 pitch_layout, 369.2ms\n",
      "Speed: 8.9ms preprocess, 369.2ms inference, 2.0ms postprocess per image at shape (1, 3, 544, 960)\n",
      "\n",
      "0: 544x960 1 pitch_layout, 290.5ms\n",
      "Speed: 29.1ms preprocess, 290.5ms inference, 2.3ms postprocess per image at shape (1, 3, 544, 960)\n",
      "\n",
      "0: 544x960 1 pitch_layout, 321.6ms\n",
      "Speed: 6.5ms preprocess, 321.6ms inference, 2.0ms postprocess per image at shape (1, 3, 544, 960)\n",
      "\n",
      "0: 544x960 1 pitch_layout, 356.5ms\n",
      "Speed: 14.6ms preprocess, 356.5ms inference, 1.8ms postprocess per image at shape (1, 3, 544, 960)\n",
      "\n",
      "0: 544x960 1 pitch_layout, 322.4ms\n",
      "Speed: 38.5ms preprocess, 322.4ms inference, 2.3ms postprocess per image at shape (1, 3, 544, 960)\n",
      "\n",
      "0: 544x960 1 pitch_layout, 326.0ms\n",
      "Speed: 9.1ms preprocess, 326.0ms inference, 2.5ms postprocess per image at shape (1, 3, 544, 960)\n",
      "\n",
      "0: 544x960 1 pitch_layout, 280.7ms\n",
      "Speed: 11.9ms preprocess, 280.7ms inference, 3.8ms postprocess per image at shape (1, 3, 544, 960)\n",
      "\n",
      "0: 544x960 1 pitch_layout, 387.1ms\n",
      "Speed: 7.0ms preprocess, 387.1ms inference, 2.1ms postprocess per image at shape (1, 3, 544, 960)\n",
      "\n",
      "0: 544x960 1 pitch_layout, 321.4ms\n",
      "Speed: 54.2ms preprocess, 321.4ms inference, 2.1ms postprocess per image at shape (1, 3, 544, 960)\n",
      "\n",
      "0: 544x960 1 pitch_layout, 274.4ms\n",
      "Speed: 77.6ms preprocess, 274.4ms inference, 2.0ms postprocess per image at shape (1, 3, 544, 960)\n",
      "\n",
      "0: 544x960 1 pitch_layout, 304.2ms\n",
      "Speed: 15.3ms preprocess, 304.2ms inference, 2.0ms postprocess per image at shape (1, 3, 544, 960)\n",
      "\n",
      "0: 544x960 1 pitch_layout, 257.2ms\n",
      "Speed: 6.9ms preprocess, 257.2ms inference, 2.0ms postprocess per image at shape (1, 3, 544, 960)\n",
      "\n",
      "0: 544x960 1 pitch_layout, 290.0ms\n",
      "Speed: 6.8ms preprocess, 290.0ms inference, 1.9ms postprocess per image at shape (1, 3, 544, 960)\n",
      "\n",
      "0: 544x960 1 pitch_layout, 252.4ms\n",
      "Speed: 14.8ms preprocess, 252.4ms inference, 3.7ms postprocess per image at shape (1, 3, 544, 960)\n",
      "\n",
      "0: 544x960 1 pitch_layout, 306.7ms\n",
      "Speed: 20.7ms preprocess, 306.7ms inference, 5.3ms postprocess per image at shape (1, 3, 544, 960)\n",
      "\n",
      "0: 544x960 1 pitch_layout, 252.1ms\n",
      "Speed: 49.3ms preprocess, 252.1ms inference, 2.0ms postprocess per image at shape (1, 3, 544, 960)\n",
      "\n",
      "0: 544x960 1 pitch_layout, 327.5ms\n",
      "Speed: 27.3ms preprocess, 327.5ms inference, 2.2ms postprocess per image at shape (1, 3, 544, 960)\n",
      "\n",
      "0: 544x960 1 pitch_layout, 348.5ms\n",
      "Speed: 54.2ms preprocess, 348.5ms inference, 2.0ms postprocess per image at shape (1, 3, 544, 960)\n",
      "\n",
      "0: 544x960 1 pitch_layout, 222.8ms\n",
      "Speed: 22.6ms preprocess, 222.8ms inference, 2.1ms postprocess per image at shape (1, 3, 544, 960)\n",
      "\n",
      "0: 544x960 1 pitch_layout, 337.5ms\n",
      "Speed: 25.0ms preprocess, 337.5ms inference, 2.1ms postprocess per image at shape (1, 3, 544, 960)\n",
      "\n",
      "0: 544x960 1 pitch_layout, 368.3ms\n",
      "Speed: 8.0ms preprocess, 368.3ms inference, 2.6ms postprocess per image at shape (1, 3, 544, 960)\n",
      "\n",
      "0: 544x960 1 pitch_layout, 340.5ms\n",
      "Speed: 49.2ms preprocess, 340.5ms inference, 2.1ms postprocess per image at shape (1, 3, 544, 960)\n",
      "\n",
      "0: 544x960 1 pitch_layout, 280.4ms\n",
      "Speed: 71.2ms preprocess, 280.4ms inference, 2.4ms postprocess per image at shape (1, 3, 544, 960)\n",
      "\n",
      "0: 544x960 1 pitch_layout, 217.4ms\n",
      "Speed: 6.7ms preprocess, 217.4ms inference, 3.4ms postprocess per image at shape (1, 3, 544, 960)\n",
      "\n",
      "0: 544x960 1 pitch_layout, 302.3ms\n",
      "Speed: 54.0ms preprocess, 302.3ms inference, 2.5ms postprocess per image at shape (1, 3, 544, 960)\n",
      "\n",
      "0: 544x960 1 pitch_layout, 356.8ms\n",
      "Speed: 38.5ms preprocess, 356.8ms inference, 1.9ms postprocess per image at shape (1, 3, 544, 960)\n",
      "\n",
      "0: 544x960 1 pitch_layout, 238.8ms\n",
      "Speed: 12.2ms preprocess, 238.8ms inference, 3.8ms postprocess per image at shape (1, 3, 544, 960)\n",
      "\n",
      "0: 544x960 1 pitch_layout, 384.1ms\n",
      "Speed: 8.2ms preprocess, 384.1ms inference, 2.1ms postprocess per image at shape (1, 3, 544, 960)\n",
      "\n",
      "0: 544x960 1 pitch_layout, 255.9ms\n",
      "Speed: 18.2ms preprocess, 255.9ms inference, 2.1ms postprocess per image at shape (1, 3, 544, 960)\n",
      "\n",
      "0: 544x960 1 pitch_layout, 378.6ms\n",
      "Speed: 9.3ms preprocess, 378.6ms inference, 2.5ms postprocess per image at shape (1, 3, 544, 960)\n",
      "\n",
      "0: 544x960 1 pitch_layout, 308.2ms\n",
      "Speed: 11.2ms preprocess, 308.2ms inference, 1.9ms postprocess per image at shape (1, 3, 544, 960)\n",
      "\n",
      "0: 544x960 1 pitch_layout, 448.5ms\n",
      "Speed: 29.4ms preprocess, 448.5ms inference, 2.0ms postprocess per image at shape (1, 3, 544, 960)\n",
      "\n",
      "0: 544x960 1 pitch_layout, 282.2ms\n",
      "Speed: 18.8ms preprocess, 282.2ms inference, 2.0ms postprocess per image at shape (1, 3, 544, 960)\n",
      "\n",
      "0: 544x960 1 pitch_layout, 284.6ms\n",
      "Speed: 7.5ms preprocess, 284.6ms inference, 2.1ms postprocess per image at shape (1, 3, 544, 960)\n",
      "\n",
      "0: 544x960 1 pitch_layout, 246.7ms\n",
      "Speed: 7.2ms preprocess, 246.7ms inference, 1.9ms postprocess per image at shape (1, 3, 544, 960)\n",
      "\n",
      "0: 544x960 1 pitch_layout, 298.6ms\n",
      "Speed: 6.6ms preprocess, 298.6ms inference, 2.4ms postprocess per image at shape (1, 3, 544, 960)\n",
      "\n",
      "0: 544x960 1 pitch_layout, 293.5ms\n",
      "Speed: 6.7ms preprocess, 293.5ms inference, 2.7ms postprocess per image at shape (1, 3, 544, 960)\n",
      "\n",
      "0: 544x960 1 pitch_layout, 313.2ms\n",
      "Speed: 6.6ms preprocess, 313.2ms inference, 2.0ms postprocess per image at shape (1, 3, 544, 960)\n",
      "\n",
      "0: 544x960 1 pitch_layout, 277.2ms\n",
      "Speed: 25.7ms preprocess, 277.2ms inference, 2.1ms postprocess per image at shape (1, 3, 544, 960)\n",
      "\n",
      "0: 544x960 1 pitch_layout, 335.3ms\n",
      "Speed: 15.0ms preprocess, 335.3ms inference, 3.8ms postprocess per image at shape (1, 3, 544, 960)\n",
      "\n",
      "0: 544x960 1 pitch_layout, 319.0ms\n",
      "Speed: 17.9ms preprocess, 319.0ms inference, 1.9ms postprocess per image at shape (1, 3, 544, 960)\n",
      "\n",
      "0: 544x960 1 pitch_layout, 270.6ms\n",
      "Speed: 7.8ms preprocess, 270.6ms inference, 2.2ms postprocess per image at shape (1, 3, 544, 960)\n",
      "\n",
      "0: 544x960 1 pitch_layout, 213.9ms\n",
      "Speed: 9.3ms preprocess, 213.9ms inference, 2.3ms postprocess per image at shape (1, 3, 544, 960)\n",
      "\n",
      "0: 544x960 1 pitch_layout, 308.6ms\n",
      "Speed: 7.2ms preprocess, 308.6ms inference, 3.9ms postprocess per image at shape (1, 3, 544, 960)\n",
      "\n",
      "0: 544x960 1 pitch_layout, 274.8ms\n",
      "Speed: 23.2ms preprocess, 274.8ms inference, 2.4ms postprocess per image at shape (1, 3, 544, 960)\n",
      "\n",
      "0: 544x960 1 pitch_layout, 334.1ms\n",
      "Speed: 50.6ms preprocess, 334.1ms inference, 2.0ms postprocess per image at shape (1, 3, 544, 960)\n",
      "\n",
      "0: 544x960 1 pitch_layout, 302.0ms\n",
      "Speed: 6.7ms preprocess, 302.0ms inference, 2.0ms postprocess per image at shape (1, 3, 544, 960)\n",
      "\n",
      "0: 544x960 1 pitch_layout, 315.1ms\n",
      "Speed: 15.6ms preprocess, 315.1ms inference, 2.1ms postprocess per image at shape (1, 3, 544, 960)\n",
      "\n",
      "0: 544x960 1 pitch_layout, 311.0ms\n",
      "Speed: 8.8ms preprocess, 311.0ms inference, 1.9ms postprocess per image at shape (1, 3, 544, 960)\n",
      "\n",
      "0: 544x960 1 pitch_layout, 409.2ms\n",
      "Speed: 13.2ms preprocess, 409.2ms inference, 2.0ms postprocess per image at shape (1, 3, 544, 960)\n",
      "\n",
      "0: 544x960 1 pitch_layout, 306.6ms\n",
      "Speed: 18.1ms preprocess, 306.6ms inference, 2.6ms postprocess per image at shape (1, 3, 544, 960)\n",
      "\n",
      "0: 544x960 1 pitch_layout, 384.4ms\n",
      "Speed: 30.1ms preprocess, 384.4ms inference, 2.3ms postprocess per image at shape (1, 3, 544, 960)\n",
      "\n",
      "0: 544x960 1 pitch_layout, 322.7ms\n",
      "Speed: 8.7ms preprocess, 322.7ms inference, 2.0ms postprocess per image at shape (1, 3, 544, 960)\n",
      "\n",
      "0: 544x960 1 pitch_layout, 343.0ms\n",
      "Speed: 7.4ms preprocess, 343.0ms inference, 2.1ms postprocess per image at shape (1, 3, 544, 960)\n",
      "\n",
      "0: 544x960 1 pitch_layout, 273.1ms\n",
      "Speed: 46.8ms preprocess, 273.1ms inference, 2.0ms postprocess per image at shape (1, 3, 544, 960)\n",
      "✅ Done! Video saved as: annotated_output.avi\n"
     ]
    }
   ],
   "source": [
    "import cv2\n",
    "import os\n",
    "import numpy as np\n",
    "from ultralytics import YOLO\n",
    "\n",
    "# ------------------ إعدادات أساسية ------------------\n",
    "MODEL_PATH = r\"best.pt\"  # مسار نموذجك (best.pt)\n",
    "INPUT_VIDEO = r\"Untitled video - Made with Clipchamp (6).mp4\"                       # الفيديو الأصلي\n",
    "OUTPUT_VIDEO = \"annotated_output.avi\"                             # اسم الفيديو الناتج\n",
    "CONF_THRESHOLD = 0.5\n",
    "KPT_THRESHOLD = 0.5\n",
    "IMG_SIZE = 960\n",
    "\n",
    "# ترتيب النقاط بالضبط\n",
    "KEYPOINTS_ORDER = [\n",
    "    \"Corner_Top_Left\", \"Line_Top\", \"Corner_Top_Right\", \"18_Top_Left\",\n",
    "    \"18_Bottom_Left\", \"Penalty_Spot_Left\", \"Circle_Top\", \"Circle_Bottom\",\n",
    "    \"Penalty_Spot_Right\", \"18_Top_Right\", \"18_Bottom_Right\", \"Corner_Bottom_Left\",\n",
    "    \"Line_Bottom\", \"Corner_Bottom_Right\"\n",
    "]\n",
    "num_keypoints = len(KEYPOINTS_ORDER)\n",
    "\n",
    "# وصلات (SKELETON) بين النقاط\n",
    "SKELETON = [\n",
    "    [0, 1], [1, 2],\n",
    "    [11, 12], [12, 13],\n",
    "    [0, 11], [2, 13],\n",
    "    [1, 12],\n",
    "    [3, 4],\n",
    "    [9, 10],\n",
    "    [6, 7],\n",
    "    [5, 8]\n",
    "]\n",
    "\n",
    "# توليد ألوان النقاط بشكل عشوائي\n",
    "rng = np.random.default_rng(123)\n",
    "keypoint_colors = rng.uniform(50, 255, size=(num_keypoints, 3)).astype(np.uint8)\n",
    "\n",
    "def run_pose_on_video():\n",
    "    # 1) حمل النموذج\n",
    "    model = YOLO(MODEL_PATH)\n",
    "    print(f\"Model loaded from: {MODEL_PATH}\")\n",
    "\n",
    "    # 2) افتح الفيديو للقراءة\n",
    "    cap = cv2.VideoCapture(INPUT_VIDEO)\n",
    "    if not cap.isOpened():\n",
    "        print(f\"ERROR: cannot open video {INPUT_VIDEO}\")\n",
    "        return\n",
    "\n",
    "    # خصائص الفيديو (FPS, W, H)\n",
    "    fps = cap.get(cv2.CAP_PROP_FPS)\n",
    "    width = int(cap.get(cv2.CAP_PROP_FRAME_WIDTH))\n",
    "    height = int(cap.get(cv2.CAP_PROP_FRAME_HEIGHT))\n",
    "\n",
    "    # 3) افتح فيديو للكتابة\n",
    "    fourcc = cv2.VideoWriter_fourcc(*'XVID')\n",
    "    out = cv2.VideoWriter(OUTPUT_VIDEO, fourcc, fps, (width, height))\n",
    "\n",
    "    frame_count = 0\n",
    "\n",
    "    while True:\n",
    "        ret, frame = cap.read()\n",
    "        if not ret:\n",
    "            break\n",
    "        frame_count += 1\n",
    "\n",
    "        # استدعاء النموذج على الإطار\n",
    "        results = model.predict(frame, conf=CONF_THRESHOLD, imgsz=IMG_SIZE, stream=False)\n",
    "        # غالبًا results = [Result(...)]\n",
    "\n",
    "        if len(results) > 0:\n",
    "            r = results[0]\n",
    "\n",
    "            # ---- [إخفاء الصندوق boundary] => لا نرسم box.xyxy ----\n",
    "            # => نحذف الكود الذي يرسم الـ rectangle والاسم (class_name)\n",
    "\n",
    "            # ارسم النقاط\n",
    "            if r.keypoints is not None and r.keypoints.shape[1] > 0:\n",
    "                kpts = r.keypoints\n",
    "                if kpts.xy is not None:\n",
    "                    points_xy = kpts.xy[0].cpu().numpy()  # [N,2]\n",
    "                else:\n",
    "                    points_xy = None\n",
    "\n",
    "                points_conf = None\n",
    "                if hasattr(kpts, 'conf') and kpts.conf is not None:\n",
    "                    points_conf = kpts.conf[0].cpu().numpy()  # [N]\n",
    "\n",
    "                if points_xy is not None:\n",
    "                    for i in range(points_xy.shape[0]):\n",
    "                        px, py = int(points_xy[i, 0]), int(points_xy[i, 1])\n",
    "                        c_kpt = 1.0\n",
    "                        if points_conf is not None and i < len(points_conf):\n",
    "                            c_kpt = points_conf[i]\n",
    "                        # إذا ثقة النقطة >= KPT_THRESHOLD\n",
    "                        if c_kpt >= KPT_THRESHOLD:\n",
    "                            color = tuple(map(int, keypoint_colors[i]))\n",
    "                            label = KEYPOINTS_ORDER[i]  # أو فقط str(i)\n",
    "\n",
    "                            # تكبير دائرة النقطة + زيادة الخط\n",
    "                            cv2.circle(frame, (px, py), 8, color, -1)  # دائرة مملوءة\n",
    "                            # إضافة حدود بيضاء لزيادة الوضوح\n",
    "                            cv2.circle(frame, (px, py), 10, (255, 255, 255), 2)\n",
    "\n",
    "                            # تكبير النص قليلاً + لون أسود للخلفية (shadow)\n",
    "                            cv2.putText(frame, label, (px + 10, py),\n",
    "                                        cv2.FONT_HERSHEY_SIMPLEX,\n",
    "                                        0.6,             # الحجم\n",
    "                                        (0, 0, 0),       # اللون الأسود كمصغر خلفية\n",
    "                                        4,               # السماكة =4 (للخلفية)\n",
    "                                        cv2.LINE_AA)\n",
    "                            cv2.putText(frame, label, (px + 10, py),\n",
    "                                        cv2.FONT_HERSHEY_SIMPLEX,\n",
    "                                        0.6,             # الحجم\n",
    "                                        (255, 255, 255), # لون أبيض فوق\n",
    "                                        1,\n",
    "                                        cv2.LINE_AA)\n",
    "\n",
    "                    # ارسم وصلات الملعب\n",
    "                    for (a,b) in SKELETON:\n",
    "                        if a < points_xy.shape[0] and b < points_xy.shape[0]:\n",
    "                            c1 = 1.0 if points_conf is None else points_conf[a]\n",
    "                            c2 = 1.0 if points_conf is None else points_conf[b]\n",
    "                            if c1 >= KPT_THRESHOLD and c2 >= KPT_THRESHOLD:\n",
    "                                pt1 = tuple(map(int, points_xy[a]))\n",
    "                                pt2 = tuple(map(int, points_xy[b]))\n",
    "                                color = tuple(map(int, keypoint_colors[a]))\n",
    "                                cv2.line(frame, pt1, pt2, color, 3)  # زيادة السماكة = 3\n",
    "\n",
    "        out.write(frame)\n",
    "\n",
    "    cap.release()\n",
    "    out.release()\n",
    "    print(f\"✅ Done! Video saved as: {OUTPUT_VIDEO}\")\n",
    "\n",
    "if __name__ == \"__main__\":\n",
    "    run_pose_on_video()\n"
   ]
  }
 ],
 "metadata": {
  "kernelspec": {
   "display_name": ".venv",
   "language": "python",
   "name": "python3"
  },
  "language_info": {
   "codemirror_mode": {
    "name": "ipython",
    "version": 3
   },
   "file_extension": ".py",
   "mimetype": "text/x-python",
   "name": "python",
   "nbconvert_exporter": "python",
   "pygments_lexer": "ipython3",
   "version": "3.10.9"
  }
 },
 "nbformat": 4,
 "nbformat_minor": 5
}
